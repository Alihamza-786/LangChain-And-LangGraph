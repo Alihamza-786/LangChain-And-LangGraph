{
 "cells": [
  {
   "cell_type": "code",
   "execution_count": null,
   "id": "4ac780e4-4d55-4500-a525-473ec899cb81",
   "metadata": {},
   "outputs": [],
   "source": [
    "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"
   ]
  },
  {
   "cell_type": "code",
   "execution_count": 1,
   "id": "78f52638-dbdb-49b8-80e0-5f70d802725d",
   "metadata": {},
   "outputs": [
    {
     "name": "stdout",
     "output_type": "stream",
     "text": [
      "Current project: pr-impressionable-tote-97\n",
      "Available projects: ['default']\n",
      "Hello! It's nice to meet you. I see you're using the LangSmith library in Jupyter. What can I help you with today? Are you working on a specific project or need assistance with a particular function?\n"
     ]
    }
   ],
   "source": [
    "import os\n",
    "\n",
    "# ✅ Set environment variables early\n",
    "os.environ[\"LANGCHAIN_API_KEY\"] = \"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\"\n",
    "os.environ[\"LANGCHAIN_TRACING_V2\"] = \"true\"\n",
    "os.environ[\"LANGCHAIN_ENDPOINT\"] = \"https://api.smith.langchain.com\"\n",
    "os.environ[\"LANGCHAIN_PROJECT\"] = \"pr-impressionable-tote-97\"\n",
    "\n",
    "# ✅ Imports AFTER env vars\n",
    "from langchain_ollama import ChatOllama\n",
    "from langsmith import traceable, Client\n",
    "\n",
    "# ✅ Confirm project is set\n",
    "client = Client()\n",
    "print(\"Current project:\", os.environ[\"LANGCHAIN_PROJECT\"])\n",
    "print(\"Available projects:\", [p.name for p in client.list_projects()])\n",
    "\n",
    "# ✅ Define and run a traced function\n",
    "llm = ChatOllama(model=\"llama3.2\", temperature=0.0)\n",
    "\n",
    "@traceable(name=\"Test Ollama Trace from Notebook\")\n",
    "def run_llm():\n",
    "    return llm.invoke(\"Hello from LangSmith in Jupyter!\")\n",
    "\n",
    "result = run_llm()\n",
    "print(result.content)\n"
   ]
  },
  {
   "cell_type": "code",
   "execution_count": 2,
   "id": "e9ead7b4-5b09-41e6-9a2f-5fb5b7e51e57",
   "metadata": {},
   "outputs": [],
   "source": [
    "from langsmith import traceable\n",
    "import random\n",
    "import time\n",
    "\n",
    "\n",
    "@traceable\n",
    "def generate_random_number():\n",
    "    return random.randint(0, 100)\n",
    "\n",
    "@traceable\n",
    "def generate_string_delay(input_str: str):\n",
    "    number = random.randint(1, 5)\n",
    "    time.sleep(number)\n",
    "    return f\"{input_str} ({number})\"\n",
    "\n",
    "@traceable\n",
    "def random_error():\n",
    "    number = random.randint(0, 1)\n",
    "    if number == 0:\n",
    "        raise ValueError(\"Random error\")\n",
    "    else:\n",
    "        return \"No error\"\n"
   ]
  },
  {
   "cell_type": "code",
   "execution_count": 3,
   "id": "baa0e2f1-eb99-458e-a2f5-0ff9bd75d4af",
   "metadata": {},
   "outputs": [
    {
     "data": {
      "application/vnd.jupyter.widget-view+json": {
       "model_id": "0fe60e32bd2e49a0a449bcee7b59f8a8",
       "version_major": 2,
       "version_minor": 0
      },
      "text/plain": [
       "  0%|          | 0/10 [00:00<?, ?it/s]"
      ]
     },
     "metadata": {},
     "output_type": "display_data"
    }
   ],
   "source": [
    "from tqdm.auto import tqdm\n",
    "\n",
    "for _ in tqdm(range(10)):\n",
    "    generate_random_number()\n",
    "    generate_string_delay(\"Hello\")\n",
    "    try:\n",
    "        random_error()\n",
    "    except ValueError:\n",
    "        pass\n"
   ]
  },
  {
   "cell_type": "code",
   "execution_count": 6,
   "id": "31489b89-ee02-42ee-9944-78bf4b6cad63",
   "metadata": {},
   "outputs": [],
   "source": [
    "from langsmith import traceable\n",
    "\n",
    "@traceable(name=\"Chitchat Maker\")\n",
    "def error_generation_function(question: str):\n",
    "    delay = random.randint(0, 3)\n",
    "    time.sleep(delay)\n",
    "    number = random.randint(0, 1)\n",
    "    if number == 0:\n",
    "        raise ValueError(\"Random error\")\n",
    "    else:\n",
    "        return \"I'm great how are you?\"\n"
   ]
  },
  {
   "cell_type": "code",
   "execution_count": 7,
   "id": "6b0c2832-05ac-472b-a600-af83924057d1",
   "metadata": {},
   "outputs": [
    {
     "data": {
      "application/vnd.jupyter.widget-view+json": {
       "model_id": "e7cd4b3c2ffd45ed9c7972b3a8afa27a",
       "version_major": 2,
       "version_minor": 0
      },
      "text/plain": [
       "  0%|          | 0/10 [00:00<?, ?it/s]"
      ]
     },
     "metadata": {},
     "output_type": "display_data"
    }
   ],
   "source": [
    "for _ in tqdm(range(10)):\n",
    "    try:\n",
    "        error_generation_function(\"How are you today?\")\n",
    "    except ValueError:\n",
    "        pass"
   ]
  },
  {
   "cell_type": "code",
   "execution_count": null,
   "id": "d75f7663-acc2-4e23-a74b-9c4e7b4839af",
   "metadata": {},
   "outputs": [],
   "source": []
  }
 ],
 "metadata": {
  "kernelspec": {
   "display_name": "Python 3 (ipykernel)",
   "language": "python",
   "name": "python3"
  },
  "language_info": {
   "codemirror_mode": {
    "name": "ipython",
    "version": 3
   },
   "file_extension": ".py",
   "mimetype": "text/x-python",
   "name": "python",
   "nbconvert_exporter": "python",
   "pygments_lexer": "ipython3",
   "version": "3.12.7"
  }
 },
 "nbformat": 4,
 "nbformat_minor": 5
}
