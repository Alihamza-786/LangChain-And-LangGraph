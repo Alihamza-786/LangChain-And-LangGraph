{
 "cells": [
  {
   "cell_type": "code",
   "execution_count": 1,
   "id": "b7e07ae0-c1e2-4134-9644-89b11922eece",
   "metadata": {},
   "outputs": [
    {
     "data": {
      "text/plain": [
       "True"
      ]
     },
     "execution_count": 1,
     "metadata": {},
     "output_type": "execute_result"
    }
   ],
   "source": [
    "from dotenv import load_dotenv\n",
    "load_dotenv()"
   ]
  },
  {
   "cell_type": "code",
   "execution_count": 5,
   "id": "baf536c1-2d47-4afe-9683-65ee1e6ab534",
   "metadata": {},
   "outputs": [],
   "source": [
    "from langgraph.graph import END, START, StateGraph, MessagesState\n",
    "from langchain_openai import ChatOpenAI\n",
    "from langchain_core.tools import tool\n",
    "from langgraph.prebuilt import ToolNode\n",
    "from typing import Literal"
   ]
  },
  {
   "cell_type": "code",
   "execution_count": 6,
   "id": "aef1091e-a60f-452d-8185-d2ae7979f3c2",
   "metadata": {},
   "outputs": [],
   "source": [
    "@tool\n",
    "def get_weather(location: str):\n",
    "    \"\"\"Call to get the current weather.\"\"\"\n",
    "    if location.lower() in [\"bangalore\"]:\n",
    "        return \"It's 15 degrees Celsius and cloudy.\"\n",
    "    else:\n",
    "        return \"It's 32 degrees Celsius and sunny.\"\n",
    "\n",
    "@tool\n",
    "def check_seating_availability(location: str, seating_type: str):\n",
    "    \"\"\"Call to check seating availability.\"\"\"\n",
    "    if location.lower() == \"bangalore\" and seating_type.lower() == \"outdoor\":\n",
    "        return \"Yes, we still have seats available outdoors.\"\n",
    "    elif location.lower() == \"bangalore\" and seating_type.lower() == \"indoor\":\n",
    "        return \"Yes, we have indoor seating available.\"\n",
    "    else:\n",
    "        return \"Sorry, seating information for this location is unavailable.\""
   ]
  },
  {
   "cell_type": "code",
   "execution_count": 7,
   "id": "59c5a0a3-1f70-424d-91f0-2e4f53855fbb",
   "metadata": {},
   "outputs": [
    {
     "data": {
      "text/plain": [
       "\"It's 15 degrees Celsius and cloudy.\""
      ]
     },
     "execution_count": 7,
     "metadata": {},
     "output_type": "execute_result"
    }
   ],
   "source": [
    "get_weather.invoke(input={\"location\": \"bangalore\"})"
   ]
  },
  {
   "cell_type": "code",
   "execution_count": 8,
   "id": "6eec8f51-e8de-43c6-9ab4-5ab60cf17f29",
   "metadata": {},
   "outputs": [],
   "source": [
    "tools = [get_weather]\n",
    "model = ChatOpenAI(model=\"gpt-5-mini\").bind_tools(tools)"
   ]
  },
  {
   "cell_type": "code",
   "execution_count": 9,
   "id": "21372817-a231-430a-ae35-9628fd9dd595",
   "metadata": {},
   "outputs": [
    {
     "data": {
      "text/plain": [
       "AIMessage(content='', additional_kwargs={'tool_calls': [{'id': 'call_7Tn6DSRir8QGG3qoe6tmtwXb', 'function': {'arguments': '{\"location\":\"Bengaluru, India\"}', 'name': 'get_weather'}, 'type': 'function'}], 'refusal': None}, response_metadata={'token_usage': {'completion_tokens': 92, 'prompt_tokens': 132, 'total_tokens': 224, 'completion_tokens_details': {'accepted_prediction_tokens': 0, 'audio_tokens': 0, 'reasoning_tokens': 64, 'rejected_prediction_tokens': 0}, 'prompt_tokens_details': {'audio_tokens': 0, 'cached_tokens': 0}}, 'model_name': 'gpt-5-mini-2025-08-07', 'system_fingerprint': None, 'id': 'chatcmpl-CMAnPzHnbf1bzotXr5YOuQOLxjwBR', 'service_tier': 'default', 'finish_reason': 'tool_calls', 'logprobs': None}, id='run--1455e7b3-79b7-4331-9929-179063e213d0-0', tool_calls=[{'name': 'get_weather', 'args': {'location': 'Bengaluru, India'}, 'id': 'call_7Tn6DSRir8QGG3qoe6tmtwXb', 'type': 'tool_call'}], usage_metadata={'input_tokens': 132, 'output_tokens': 92, 'total_tokens': 224, 'input_token_details': {'audio': 0, 'cache_read': 0}, 'output_token_details': {'audio': 0, 'reasoning': 64}})"
      ]
     },
     "execution_count": 9,
     "metadata": {},
     "output_type": "execute_result"
    }
   ],
   "source": [
    "model.invoke(\"How is weather in bangalore?\")"
   ]
  },
  {
   "cell_type": "code",
   "execution_count": 10,
   "id": "ade33922-937d-48fa-a231-1555ef5f37fa",
   "metadata": {},
   "outputs": [
    {
     "data": {
      "text/plain": [
       "AIMessage(content='Hi — hello! How can I help you today?', additional_kwargs={'refusal': None}, response_metadata={'token_usage': {'completion_tokens': 20, 'prompt_tokens': 126, 'total_tokens': 146, 'completion_tokens_details': {'accepted_prediction_tokens': 0, 'audio_tokens': 0, 'reasoning_tokens': 0, 'rejected_prediction_tokens': 0}, 'prompt_tokens_details': {'audio_tokens': 0, 'cached_tokens': 0}}, 'model_name': 'gpt-5-mini-2025-08-07', 'system_fingerprint': None, 'id': 'chatcmpl-CMAnrBDM3BQ5xCyp6zjWP3C3JLI1V', 'service_tier': 'default', 'finish_reason': 'stop', 'logprobs': None}, id='run--91a9f052-0b25-485a-8cbd-33d4804a7755-0', usage_metadata={'input_tokens': 126, 'output_tokens': 20, 'total_tokens': 146, 'input_token_details': {'audio': 0, 'cache_read': 0}, 'output_token_details': {'audio': 0, 'reasoning': 0}})"
      ]
     },
     "execution_count": 10,
     "metadata": {},
     "output_type": "execute_result"
    }
   ],
   "source": [
    "model.invoke(\"hello\")"
   ]
  },
  {
   "cell_type": "markdown",
   "id": "abc7ba22-384a-4e54-8565-7056b565799a",
   "metadata": {},
   "source": [
    "# Integrate tool call with Lang Graph"
   ]
  },
  {
   "cell_type": "code",
   "execution_count": 12,
   "id": "ac841781-eea1-4a24-85a6-9817bd504cd8",
   "metadata": {},
   "outputs": [],
   "source": [
    "def call_model(state: MessagesState):\n",
    "    messages = state[\"messages\"]\n",
    "    response = model.invoke(messages)\n",
    "    return {\"messages\": [response]}"
   ]
  },
  {
   "cell_type": "code",
   "execution_count": 13,
   "id": "14fe32ea-9a21-41fe-9f09-c98796e5938e",
   "metadata": {},
   "outputs": [],
   "source": [
    "def should_continue(state: MessagesState) -> Literal[\"tools\", END]:\n",
    "    messages = state[\"messages\"]\n",
    "    last_message = messages[-1]\n",
    "    if last_message.tool_calls:\n",
    "        return \"tools\"\n",
    "    return END"
   ]
  },
  {
   "cell_type": "code",
   "execution_count": 15,
   "id": "f14fa561-7a71-463b-85af-8f5916649b75",
   "metadata": {},
   "outputs": [],
   "source": [
    "workflow = StateGraph(MessagesState)\n",
    "tool_node = ToolNode(tools)\n",
    "workflow.add_node(\"agent\", call_model)\n",
    "workflow.add_node(\"tools\", tool_node)\n",
    "\n",
    "workflow.add_edge(START, \"agent\")\n",
    "workflow.add_conditional_edges(\n",
    "    \"agent\",\n",
    "    should_continue,\n",
    ")\n",
    "workflow.add_edge(\"tools\", \"agent\")\n",
    "\n",
    "graph = workflow.compile()"
   ]
  },
  {
   "cell_type": "code",
   "execution_count": 17,
   "id": "ff70ec4b-eceb-4f0e-b532-b36cf0e7f7ca",
   "metadata": {},
   "outputs": [
    {
     "data": {
      "image/png": "[encoded data removed]",
      "text/plain": [
       "<IPython.core.display.Image object>"
      ]
     },
     "metadata": {},
     "output_type": "display_data"
    }
   ],
   "source": [
    "from IPython.display import Image, display\n",
    "display(Image(graph.get_graph().draw_mermaid_png()))"
   ]
  },
  {
   "cell_type": "code",
   "execution_count": 18,
   "id": "93915ac9-0b96-4595-8603-979129b2f517",
   "metadata": {},
   "outputs": [],
   "source": [
    "from langchain_core.messages import HumanMessage\n",
    "\n",
    "message1 = [HumanMessage(content=\"Hello, how are you?\")]"
   ]
  },
  {
   "cell_type": "code",
   "execution_count": 19,
   "id": "ddc857fd-41e4-4aa9-bf66-74fe50791075",
   "metadata": {},
   "outputs": [
    {
     "data": {
      "text/plain": [
       "{'messages': [HumanMessage(content='Hello, how are you?', additional_kwargs={}, response_metadata={}, id='7637f34a-10dd-4b76-a86e-20292db47a1b'),\n",
       "  AIMessage(content=\"I'm doing well, thanks — how can I help you today?\", additional_kwargs={'refusal': None}, response_metadata={'token_usage': {'completion_tokens': 22, 'prompt_tokens': 131, 'total_tokens': 153, 'completion_tokens_details': {'accepted_prediction_tokens': 0, 'audio_tokens': 0, 'reasoning_tokens': 0, 'rejected_prediction_tokens': 0}, 'prompt_tokens_details': {'audio_tokens': 0, 'cached_tokens': 0}}, 'model_name': 'gpt-5-mini-2025-08-07', 'system_fingerprint': None, 'id': 'chatcmpl-CMBmqI1bvTKajBkVZEzXbiVn3R2Bt', 'service_tier': 'default', 'finish_reason': 'stop', 'logprobs': None}, id='run--96355c4c-17de-4399-8c31-d043b22d9453-0', usage_metadata={'input_tokens': 131, 'output_tokens': 22, 'total_tokens': 153, 'input_token_details': {'audio': 0, 'cache_read': 0}, 'output_token_details': {'audio': 0, 'reasoning': 0}})]}"
      ]
     },
     "execution_count": 19,
     "metadata": {},
     "output_type": "execute_result"
    }
   ],
   "source": [
    "graph.invoke({\"messages\": message1})"
   ]
  },
  {
   "cell_type": "code",
   "execution_count": 20,
   "id": "722fb237-842f-470a-adeb-a6556e6f1dfc",
   "metadata": {},
   "outputs": [],
   "source": [
    "message2 = [HumanMessage(content=\"How is the weather in bangalore?\")]"
   ]
  },
  {
   "cell_type": "code",
   "execution_count": 21,
   "id": "7fcdbdf7-2ac8-47ff-bb58-c4b297a854d6",
   "metadata": {},
   "outputs": [
    {
     "data": {
      "text/plain": [
       "{'messages': [HumanMessage(content='How is the weather in bangalore?', additional_kwargs={}, response_metadata={}, id='7555327d-011b-433b-8784-a63fa195eea3'),\n",
       "  AIMessage(content='', additional_kwargs={'tool_calls': [{'id': 'call_TQfwm1N8A9xM64Hpnrv78lUK', 'function': {'arguments': '{\"location\":\"Bengaluru, India\"}', 'name': 'get_weather'}, 'type': 'function'}], 'refusal': None}, response_metadata={'token_usage': {'completion_tokens': 92, 'prompt_tokens': 133, 'total_tokens': 225, 'completion_tokens_details': {'accepted_prediction_tokens': 0, 'audio_tokens': 0, 'reasoning_tokens': 64, 'rejected_prediction_tokens': 0}, 'prompt_tokens_details': {'audio_tokens': 0, 'cached_tokens': 0}}, 'model_name': 'gpt-5-mini-2025-08-07', 'system_fingerprint': None, 'id': 'chatcmpl-CMBnUqA5suMjDONcvlx4osiWS2VrJ', 'service_tier': 'default', 'finish_reason': 'tool_calls', 'logprobs': None}, id='run--386bed6a-00b8-45ab-adf8-5ef7f7fc82ab-0', tool_calls=[{'name': 'get_weather', 'args': {'location': 'Bengaluru, India'}, 'id': 'call_TQfwm1N8A9xM64Hpnrv78lUK', 'type': 'tool_call'}], usage_metadata={'input_tokens': 133, 'output_tokens': 92, 'total_tokens': 225, 'input_token_details': {'audio': 0, 'cache_read': 0}, 'output_token_details': {'audio': 0, 'reasoning': 64}}),\n",
       "  ToolMessage(content=\"It's 32 degrees Celsius and sunny.\", name='get_weather', id='d9a2e196-4ec6-4546-95f2-0e64e5707a1d', tool_call_id='call_TQfwm1N8A9xM64Hpnrv78lUK'),\n",
       "  AIMessage(content=\"Right now in Bengaluru (Bangalore) it's 32°C and sunny. \\n\\nTips: wear light clothing, stay hydrated, and use sunscreen/sunglasses if you're going outside. Would you like an hourly forecast, a multi-day forecast, or weather for another location?\", additional_kwargs={'refusal': None}, response_metadata={'token_usage': {'completion_tokens': 191, 'prompt_tokens': 174, 'total_tokens': 365, 'completion_tokens_details': {'accepted_prediction_tokens': 0, 'audio_tokens': 0, 'reasoning_tokens': 128, 'rejected_prediction_tokens': 0}, 'prompt_tokens_details': {'audio_tokens': 0, 'cached_tokens': 0}}, 'model_name': 'gpt-5-mini-2025-08-07', 'system_fingerprint': None, 'id': 'chatcmpl-CMBnWaNX008UMTMyfXgQdaEWuWDJJ', 'service_tier': 'default', 'finish_reason': 'stop', 'logprobs': None}, id='run--e3f4ae76-483f-4a44-81bc-daf3d9593743-0', usage_metadata={'input_tokens': 174, 'output_tokens': 191, 'total_tokens': 365, 'input_token_details': {'audio': 0, 'cache_read': 0}, 'output_token_details': {'audio': 0, 'reasoning': 128}})]}"
      ]
     },
     "execution_count": 21,
     "metadata": {},
     "output_type": "execute_result"
    }
   ],
   "source": [
    "graph.invoke({\"messages\": message2})"
   ]
  },
  {
   "cell_type": "code",
   "execution_count": 22,
   "id": "8bd4ad54-7f6a-4fa5-b4cf-8a4faff2eda2",
   "metadata": {},
   "outputs": [
    {
     "data": {
      "text/plain": [
       "{'messages': [HumanMessage(content='What would you recommend to do in that city than?', additional_kwargs={}, response_metadata={}, id='b5c623ad-67f9-4c16-98de-37ce4483fd86'),\n",
       "  AIMessage(content='I don’t know which city you mean — could you tell me the city (and any dates)? I can give much better suggestions if you also tell me:\\n\\n- How many days you’ll be there\\n- Your interests (food, history, outdoors, museums, nightlife, shopping, family/kids, etc.)\\n- Budget (cheap, mid, splurge)\\n- Traveling solo, as a couple, or with kids\\n- Any mobility/health constraints\\n\\nIn the meantime, here are categories and popular activity ideas you can pick from:\\n\\n- Culture & history: guided walking tour, major museum(s), historic district, landmark viewpoints, local theater or classical concert.\\n- Food & drink: food market or night market, street-food crawl, bakery/cafe hop, wine/beer tasting or vineyard visit, a recommended restaurant or cooking class.\\n- Outdoors & nature: city park or botanical garden, river/harbor walk or cruise, bike tour, nearby hike or scenic overlook, botanical or zoo visit for families.\\n- Local life & neighborhoods: wander a distinctive neighborhood, visit independent shops and galleries, morning market or flea market, neighborhood bar for people-watching.\\n- Active/adventure: kayak or paddleboard, bike rental, guided day trip (mountains, coast, lakes), rock-climbing or ropes course if available.\\n- Nightlife & entertainment: rooftop bar, live music venue, comedy club, late-night food streets, cultural festivals.\\n- Day trips: nearby towns, castles, beaches, wineries or natural parks within 1–2 hours.\\n- Budget options: free walking tours, parks, churches/cathedrals, lookouts, public markets, self-guided neighborhood walks.\\n- Family-friendly: science or children’s museums, aquariums, interactive exhibits, playgrounds, family boat rides.\\n\\nTell me the city and a few preferences and I’ll make a tailored itinerary and specific recommendations (places, opening hours, tickets, and an efficient route).', additional_kwargs={'refusal': None}, response_metadata={'token_usage': {'completion_tokens': 724, 'prompt_tokens': 136, 'total_tokens': 860, 'completion_tokens_details': {'accepted_prediction_tokens': 0, 'audio_tokens': 0, 'reasoning_tokens': 320, 'rejected_prediction_tokens': 0}, 'prompt_tokens_details': {'audio_tokens': 0, 'cached_tokens': 0}}, 'model_name': 'gpt-5-mini-2025-08-07', 'system_fingerprint': None, 'id': 'chatcmpl-CMBpsA94EzRQiPxCr47Ku6nxNfJxX', 'service_tier': 'default', 'finish_reason': 'stop', 'logprobs': None}, id='run--2eb4dafb-7d79-4022-b750-5d4c37742f3d-0', usage_metadata={'input_tokens': 136, 'output_tokens': 724, 'total_tokens': 860, 'input_token_details': {'audio': 0, 'cache_read': 0}, 'output_token_details': {'audio': 0, 'reasoning': 320}})]}"
      ]
     },
     "execution_count": 22,
     "metadata": {},
     "output_type": "execute_result"
    }
   ],
   "source": [
    "graph.invoke(\n",
    "    {\n",
    "        \"messages\": [\n",
    "            HumanMessage(content=\"What would you recommend to do in that city than?\")\n",
    "        ]\n",
    "    }\n",
    ")"
   ]
  },
  {
   "cell_type": "markdown",
   "id": "40c983a4-5cb1-415d-8903-9e6918c74934",
   "metadata": {},
   "source": [
    "## CheckPointers"
   ]
  },
  {
   "cell_type": "code",
   "execution_count": 23,
   "id": "2a4ae124-5502-4a76-a3eb-b35cea7a1951",
   "metadata": {},
   "outputs": [],
   "source": [
    "from langgraph.checkpoint.memory import MemorySaver\n",
    "checkpointer = MemorySaver()"
   ]
  },
  {
   "cell_type": "code",
   "execution_count": 24,
   "id": "500e6795-ca7e-46bd-9df9-7c44b450ddf2",
   "metadata": {},
   "outputs": [],
   "source": [
    "workflow = StateGraph(MessagesState)\n",
    "tool_node = ToolNode(tools)\n",
    "workflow.add_node(\"agent\", call_model)\n",
    "workflow.add_node(\"tools\", tool_node)\n",
    "\n",
    "workflow.add_edge(START, \"agent\")\n",
    "workflow.add_conditional_edges(\n",
    "    \"agent\",\n",
    "    should_continue,\n",
    ")\n",
    "workflow.add_edge(\"tools\", \"agent\")\n",
    "\n",
    "graph = workflow.compile(checkpointer=checkpointer)"
   ]
  },
  {
   "cell_type": "code",
   "execution_count": 25,
   "id": "1509d7ec-45eb-425c-8933-2fc059b44cf0",
   "metadata": {},
   "outputs": [
    {
     "data": {
      "text/plain": [
       "{'messages': [HumanMessage(content='HOw is the weather in bangalore?', additional_kwargs={}, response_metadata={}, id='ab2eb01d-14f3-4366-a5a5-00b9a1617fb0'),\n",
       "  AIMessage(content='', additional_kwargs={'tool_calls': [{'id': 'call_zeA8HvIheilnvrGg6xf4DiUQ', 'function': {'arguments': '{\"location\":\"Bangalore, India\"}', 'name': 'get_weather'}, 'type': 'function'}], 'refusal': None}, response_metadata={'token_usage': {'completion_tokens': 90, 'prompt_tokens': 134, 'total_tokens': 224, 'completion_tokens_details': {'accepted_prediction_tokens': 0, 'audio_tokens': 0, 'reasoning_tokens': 64, 'rejected_prediction_tokens': 0}, 'prompt_tokens_details': {'audio_tokens': 0, 'cached_tokens': 0}}, 'model_name': 'gpt-5-mini-2025-08-07', 'system_fingerprint': None, 'id': 'chatcmpl-CMBslmGwBp5ZLtafhUAUKiVvKTFqY', 'service_tier': 'default', 'finish_reason': 'tool_calls', 'logprobs': None}, id='run--7aaeb55f-5810-4c3e-b42d-701ce9efcfc7-0', tool_calls=[{'name': 'get_weather', 'args': {'location': 'Bangalore, India'}, 'id': 'call_zeA8HvIheilnvrGg6xf4DiUQ', 'type': 'tool_call'}], usage_metadata={'input_tokens': 134, 'output_tokens': 90, 'total_tokens': 224, 'input_token_details': {'audio': 0, 'cache_read': 0}, 'output_token_details': {'audio': 0, 'reasoning': 64}}),\n",
       "  ToolMessage(content=\"It's 32 degrees Celsius and sunny.\", name='get_weather', id='906ef0d1-1bd3-4432-a3c2-dbc80deebd04', tool_call_id='call_zeA8HvIheilnvrGg6xf4DiUQ'),\n",
       "  AIMessage(content=\"Right now in Bangalore it's 32°C (about 90°F) and sunny. Stay hydrated and use sun protection if you’ll be outdoors. Do you want an hourly forecast or a 7-day outlook?\", additional_kwargs={'refusal': None}, response_metadata={'token_usage': {'completion_tokens': 179, 'prompt_tokens': 173, 'total_tokens': 352, 'completion_tokens_details': {'accepted_prediction_tokens': 0, 'audio_tokens': 0, 'reasoning_tokens': 128, 'rejected_prediction_tokens': 0}, 'prompt_tokens_details': {'audio_tokens': 0, 'cached_tokens': 0}}, 'model_name': 'gpt-5-mini-2025-08-07', 'system_fingerprint': None, 'id': 'chatcmpl-CMBsp8d9OJdyhVPxvOqQYAgLaqqPP', 'service_tier': 'default', 'finish_reason': 'stop', 'logprobs': None}, id='run--2f13449e-3bc7-48b3-84cc-549ca4c050ee-0', usage_metadata={'input_tokens': 173, 'output_tokens': 179, 'total_tokens': 352, 'input_token_details': {'audio': 0, 'cache_read': 0}, 'output_token_details': {'audio': 0, 'reasoning': 128}})]}"
      ]
     },
     "execution_count": 25,
     "metadata": {},
     "output_type": "execute_result"
    }
   ],
   "source": [
    "graph.invoke(\n",
    "    {\"messages\": [HumanMessage(content=\"How is the weather in bangalore?\")]},\n",
    "    config={\"configurable\": {\"thread_id\": 1}},\n",
    ")"
   ]
  },
  {
   "cell_type": "code",
   "execution_count": 28,
   "id": "516cfe9c-b0dd-429b-8466-09fceb44100f",
   "metadata": {},
   "outputs": [
    {
     "data": {
      "text/plain": [
       "{'messages': [HumanMessage(content='HOw is the weather in bangalore?', additional_kwargs={}, response_metadata={}, id='ab2eb01d-14f3-4366-a5a5-00b9a1617fb0'),\n",
       "  AIMessage(content='', additional_kwargs={'tool_calls': [{'id': 'call_zeA8HvIheilnvrGg6xf4DiUQ', 'function': {'arguments': '{\"location\":\"Bangalore, India\"}', 'name': 'get_weather'}, 'type': 'function'}], 'refusal': None}, response_metadata={'token_usage': {'completion_tokens': 90, 'prompt_tokens': 134, 'total_tokens': 224, 'completion_tokens_details': {'accepted_prediction_tokens': 0, 'audio_tokens': 0, 'reasoning_tokens': 64, 'rejected_prediction_tokens': 0}, 'prompt_tokens_details': {'audio_tokens': 0, 'cached_tokens': 0}}, 'model_name': 'gpt-5-mini-2025-08-07', 'system_fingerprint': None, 'id': 'chatcmpl-CMBslmGwBp5ZLtafhUAUKiVvKTFqY', 'service_tier': 'default', 'finish_reason': 'tool_calls', 'logprobs': None}, id='run--7aaeb55f-5810-4c3e-b42d-701ce9efcfc7-0', tool_calls=[{'name': 'get_weather', 'args': {'location': 'Bangalore, India'}, 'id': 'call_zeA8HvIheilnvrGg6xf4DiUQ', 'type': 'tool_call'}], usage_metadata={'input_tokens': 134, 'output_tokens': 90, 'total_tokens': 224, 'input_token_details': {'audio': 0, 'cache_read': 0}, 'output_token_details': {'audio': 0, 'reasoning': 64}}),\n",
       "  ToolMessage(content=\"It's 32 degrees Celsius and sunny.\", name='get_weather', id='906ef0d1-1bd3-4432-a3c2-dbc80deebd04', tool_call_id='call_zeA8HvIheilnvrGg6xf4DiUQ'),\n",
       "  AIMessage(content=\"Right now in Bangalore it's 32°C (about 90°F) and sunny. Stay hydrated and use sun protection if you’ll be outdoors. Do you want an hourly forecast or a 7-day outlook?\", additional_kwargs={'refusal': None}, response_metadata={'token_usage': {'completion_tokens': 179, 'prompt_tokens': 173, 'total_tokens': 352, 'completion_tokens_details': {'accepted_prediction_tokens': 0, 'audio_tokens': 0, 'reasoning_tokens': 128, 'rejected_prediction_tokens': 0}, 'prompt_tokens_details': {'audio_tokens': 0, 'cached_tokens': 0}}, 'model_name': 'gpt-5-mini-2025-08-07', 'system_fingerprint': None, 'id': 'chatcmpl-CMBsp8d9OJdyhVPxvOqQYAgLaqqPP', 'service_tier': 'default', 'finish_reason': 'stop', 'logprobs': None}, id='run--2f13449e-3bc7-48b3-84cc-549ca4c050ee-0', usage_metadata={'input_tokens': 173, 'output_tokens': 179, 'total_tokens': 352, 'input_token_details': {'audio': 0, 'cache_read': 0}, 'output_token_details': {'audio': 0, 'reasoning': 128}}),\n",
       "  HumanMessage(content='What would you recommend to do in that city than?', additional_kwargs={}, response_metadata={}, id='8a26c9d7-16a5-4d3a-9f2a-9d39e05bcc2b'),\n",
       "  AIMessage(content='Great — with sunny 32°C weather, here are suggestions tailored to a warm day in Bangalore, plus practical tips.\\n\\nTop things to do\\n- Gardens & parks (best in morning/evening): Lalbagh Botanical Garden (glasshouse, lake), Cubbon Park — good for a relaxed stroll or picnic.\\n- Heritage & culture: Bangalore Palace, Tipu Sultan’s Summer Palace, Vidhana Soudha (view from outside), National Gallery of Modern Art.\\n- Temples & spiritual: ISKCON Temple (clean, calm, great views), Bull Temple (in Basavanagudi).\\n- Food experiences: try filter coffee and Karnataka meals at MTR or Vidyarthi Bhavan; VV Puram Food Street for evening street-food, and sample local sweets.\\n- Breweries & nightlife: Toit, Arbor Brewing, Windmills Craftworks (live music/jazz). Indiranagar and Koramangala are lively neighborhoods for bars and late-night eats.\\n- Shopping: Commercial Street, Brigade Road for bargains; UB City for upscale brands and rooftop dining.\\n- Nature & short escapes: Nandi Hills (sunrise — much cooler), Bannerghatta National Park (safari), day trip to Mysore if you want palaces and markets.\\n\\nSample plans\\n- Half-day (morning): Lalbagh early, then breakfast at a nearby cafe (filter coffee + dosa), short visit to Tipu’s Palace.\\n- Full day: Morning at Lalbagh/Cubbon, lunch in MG Road/UB City, afternoon at Bangalore Palace or an art gallery, evening at VV Puram or a microbrewery.\\n- Day trip: Leave early for Nandi Hills (sunrise), return mid-late morning to avoid traffic.\\n\\nPractical tips for sunny 32°C\\n- Go out early morning or late afternoon; avoid midday heat.\\n- Wear light cotton, a hat/sunglasses, sunscreen, and carry water.\\n- Traffic can be heavy — use metro where available and app cabs (Ola/Uber).\\n- Tipping: 5–10% in casual places, more for exceptional service.\\n\\nIf you tell me your interests (history, nature, food, shopping, nightlife) and how much time you have, I can suggest a custom itinerary.', additional_kwargs={'refusal': None}, response_metadata={'token_usage': {'completion_tokens': 920, 'prompt_tokens': 236, 'total_tokens': 1156, 'completion_tokens_details': {'accepted_prediction_tokens': 0, 'audio_tokens': 0, 'reasoning_tokens': 448, 'rejected_prediction_tokens': 0}, 'prompt_tokens_details': {'audio_tokens': 0, 'cached_tokens': 0}}, 'model_name': 'gpt-5-mini-2025-08-07', 'system_fingerprint': None, 'id': 'chatcmpl-CMBtY0GBBWFhJG6vweFnUJlN8CMy7', 'service_tier': 'default', 'finish_reason': 'stop', 'logprobs': None}, id='run--c98c0c38-ad52-4075-a777-e379d2eba524-0', usage_metadata={'input_tokens': 236, 'output_tokens': 920, 'total_tokens': 1156, 'input_token_details': {'audio': 0, 'cache_read': 0}, 'output_token_details': {'audio': 0, 'reasoning': 448}}),\n",
       "  HumanMessage(content='What would you recommend to do in that city than?', additional_kwargs={}, response_metadata={}, id='a0ab06ac-b91e-4c0c-a93a-b53fdc2841af'),\n",
       "  AIMessage(content=\"Sure — here are quick, interest-based recommendations and short sample itineraries for a sunny day in Bangalore (32°C). Pick one and I can make it more detailed.\\n\\n1) Gardens & easy morning\\n- What: Lalbagh Botanical Garden or Cubbon Park for a cool morning walk, then breakfast at a nearby cafe.\\n- Timing: Start before 8:00 AM to avoid heat.\\n- Why: Relaxing, photo-friendly, good for families or solo travelers.\\n\\n2) Heritage & culture\\n- What: Bangalore Palace → Tipu Sultan’s Summer Palace → National Gallery of Modern Art or Government Museum.\\n- Timing: Museum/palace visits mid-morning; break for lunch indoors.\\n- Why: Learn local history and see colonial architecture.\\n\\n3) Food-focused (local flavors)\\n- What: Breakfast at MTR or Veena Stores (rava idli/dosa), explore VV Puram Food Street in the evening, try filter coffee and local sweets.\\n- Timing: Breakfast early; street food in the cooler evening hours.\\n- Why: Best way to taste authentic Karnataka cuisine.\\n\\n4) Microbreweries & nightlife\\n- What: Early dinner at Toit, Arbor, or Windmills Craftworks; bar-hop in Indiranagar or Koramangala.\\n- Timing: Evening/night.\\n- Why: Great craft beer, live music, lively scene.\\n\\n5) Short nature escape (day trip)\\n- What: Nandi Hills for sunrise — scenic views, easy trek; or Bannerghatta National Park for a safari.\\n- Timing: Leave very early for Nandi Hills (catch sunrise), Bannerghatta mid-morning.\\n- Why: Cooler air, panoramic views, wildlife.\\n\\n6) Family / kids\\n- What: Visvesvaraya Industrial & Technological Museum → Jawaharlal Nehru Planetarium → Cubbon Park + toy train; or Bannerghatta Biological Park for safaris.\\n- Timing: Spread through the day with indoor museum stops at peak heat.\\n- Why: Educational and entertaining for children.\\n\\nPractical tips for sunny weather\\n- Go out early or late afternoon/evening; avoid 11:00–15:00 when it's hottest.\\n- Wear light cotton, hat, sunglasses; use sunscreen and carry water.\\n- Use the metro where possible; expect traffic for road travel.\\n- If you want to avoid crowds, visit popular spots on weekdays.\\n\\nTell me: what are your interests (food, history, nature, nightlife), how long will you be there (half-day, full day, several days), and whether you prefer budget or luxury — I’ll craft a specific itinerary.\", additional_kwargs={'refusal': None}, response_metadata={'token_usage': {'completion_tokens': 670, 'prompt_tokens': 720, 'total_tokens': 1390, 'completion_tokens_details': {'accepted_prediction_tokens': 0, 'audio_tokens': 0, 'reasoning_tokens': 128, 'rejected_prediction_tokens': 0}, 'prompt_tokens_details': {'audio_tokens': 0, 'cached_tokens': 0}}, 'model_name': 'gpt-5-mini-2025-08-07', 'system_fingerprint': None, 'id': 'chatcmpl-CMBuhw95tDTqVCRW9FPAb8bO8leDh', 'service_tier': 'default', 'finish_reason': 'stop', 'logprobs': None}, id='run--1c09ff79-fd3d-4127-b377-84d295cc28d9-0', usage_metadata={'input_tokens': 720, 'output_tokens': 670, 'total_tokens': 1390, 'input_token_details': {'audio': 0, 'cache_read': 0}, 'output_token_details': {'audio': 0, 'reasoning': 128}})]}"
      ]
     },
     "execution_count": 28,
     "metadata": {},
     "output_type": "execute_result"
    }
   ],
   "source": [
    "res = graph.invoke(\n",
    "    {\"messages\": [HumanMessage(content=\"What would you recommend to do in that city than?\")]},\n",
    "    config={\"configurable\": {\"thread_id\": 1}},\n",
    ")\n",
    "\n",
    "res"
   ]
  },
  {
   "cell_type": "code",
   "execution_count": 29,
   "id": "81da0867-b36e-4dea-a735-ffe9178ee9df",
   "metadata": {},
   "outputs": [
    {
     "name": "stdout",
     "output_type": "stream",
     "text": [
      "Sure — here are quick, interest-based recommendations and short sample itineraries for a sunny day in Bangalore (32°C). Pick one and I can make it more detailed.\n",
      "\n",
      "1) Gardens & easy morning\n",
      "- What: Lalbagh Botanical Garden or Cubbon Park for a cool morning walk, then breakfast at a nearby cafe.\n",
      "- Timing: Start before 8:00 AM to avoid heat.\n",
      "- Why: Relaxing, photo-friendly, good for families or solo travelers.\n",
      "\n",
      "2) Heritage & culture\n",
      "- What: Bangalore Palace → Tipu Sultan’s Summer Palace → National Gallery of Modern Art or Government Museum.\n",
      "- Timing: Museum/palace visits mid-morning; break for lunch indoors.\n",
      "- Why: Learn local history and see colonial architecture.\n",
      "\n",
      "3) Food-focused (local flavors)\n",
      "- What: Breakfast at MTR or Veena Stores (rava idli/dosa), explore VV Puram Food Street in the evening, try filter coffee and local sweets.\n",
      "- Timing: Breakfast early; street food in the cooler evening hours.\n",
      "- Why: Best way to taste authentic Karnataka cuisine.\n",
      "\n",
      "4) Microbreweries & nightlife\n",
      "- What: Early dinner at Toit, Arbor, or Windmills Craftworks; bar-hop in Indiranagar or Koramangala.\n",
      "- Timing: Evening/night.\n",
      "- Why: Great craft beer, live music, lively scene.\n",
      "\n",
      "5) Short nature escape (day trip)\n",
      "- What: Nandi Hills for sunrise — scenic views, easy trek; or Bannerghatta National Park for a safari.\n",
      "- Timing: Leave very early for Nandi Hills (catch sunrise), Bannerghatta mid-morning.\n",
      "- Why: Cooler air, panoramic views, wildlife.\n",
      "\n",
      "6) Family / kids\n",
      "- What: Visvesvaraya Industrial & Technological Museum → Jawaharlal Nehru Planetarium → Cubbon Park + toy train; or Bannerghatta Biological Park for safaris.\n",
      "- Timing: Spread through the day with indoor museum stops at peak heat.\n",
      "- Why: Educational and entertaining for children.\n",
      "\n",
      "Practical tips for sunny weather\n",
      "- Go out early or late afternoon/evening; avoid 11:00–15:00 when it's hottest.\n",
      "- Wear light cotton, hat, sunglasses; use sunscreen and carry water.\n",
      "- Use the metro where possible; expect traffic for road travel.\n",
      "- If you want to avoid crowds, visit popular spots on weekdays.\n",
      "\n",
      "Tell me: what are your interests (food, history, nature, nightlife), how long will you be there (half-day, full day, several days), and whether you prefer budget or luxury — I’ll craft a specific itinerary.\n"
     ]
    }
   ],
   "source": [
    "print(res[\"messages\"][-1].content)"
   ]
  },
  {
   "cell_type": "code",
   "execution_count": null,
   "id": "6891fd30-97cb-43e0-bd39-59a56a0184a9",
   "metadata": {},
   "outputs": [],
   "source": []
  }
 ],
 "metadata": {
  "kernelspec": {
   "display_name": "Python 3 (ipykernel)",
   "language": "python",
   "name": "python3"
  },
  "language_info": {
   "codemirror_mode": {
    "name": "ipython",
    "version": 3
   },
   "file_extension": ".py",
   "mimetype": "text/x-python",
   "name": "python",
   "nbconvert_exporter": "python",
   "pygments_lexer": "ipython3",
   "version": "3.12.3"
  }
 },
 "nbformat": 4,
 "nbformat_minor": 5
}
