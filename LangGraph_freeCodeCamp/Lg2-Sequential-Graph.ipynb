{
 "cells": [
  {
   "cell_type": "markdown",
   "id": "4c438673-b274-40a7-a604-1e1e3bffa785",
   "metadata": {},
   "source": [
    "# 3. Graph - Sequential Graph\n",
    "Let's learn how to create and handle multiple nodes in langgraph"
   ]
  },
  {
   "cell_type": "code",
   "execution_count": 14,
   "id": "f638a2c4-c38b-4841-a978-ea9094db7034",
   "metadata": {},
   "outputs": [],
   "source": [
    "from typing import TypedDict\n",
    "from langgraph.graph import StateGraph"
   ]
  },
  {
   "cell_type": "code",
   "execution_count": 15,
   "id": "07a0ee46-2600-43fc-856e-1548ad0cefff",
   "metadata": {},
   "outputs": [],
   "source": [
    "class AgentState(TypedDict):\n",
    "    name: str\n",
    "    age: str\n",
    "    final: str"
   ]
  },
  {
   "cell_type": "code",
   "execution_count": 35,
   "id": "37712c8f-c754-4185-b57a-955d8b0effb4",
   "metadata": {},
   "outputs": [],
   "source": [
    "def first_node(state: AgentState) -> AgentState:\n",
    "    \"\"\"This is the first node of our sequence\"\"\"\n",
    "\n",
    "    state[\"final\"] = f\"Hi {state[\"name\"]}!\"\n",
    "    return state"
   ]
  },
  {
   "cell_type": "code",
   "execution_count": 36,
   "id": "71ff5b41-bfe8-4e92-989a-27d6ce267745",
   "metadata": {},
   "outputs": [],
   "source": [
    "def second_node(state: AgentState) -> AgentState:\n",
    "    \"\"\"This is the second node of our sequence\"\"\"\n",
    "\n",
    "    state[\"final\"] = state['final'] + f\" You are {state['age']} years old!\"\n",
    "\n",
    "    return state"
   ]
  },
  {
   "cell_type": "code",
   "execution_count": 37,
   "id": "53843dff-0a11-4984-b56c-d0ab9987887f",
   "metadata": {},
   "outputs": [],
   "source": [
    "graph = StateGraph(AgentState)\n",
    "graph.add_node(\"first_node\", first_node)\n",
    "graph.add_node(\"second_node\", second_node)\n",
    "graph.set_entry_point(\"first_node\")\n",
    "graph.add_edge(\"first_node\", \"second_node\")\n",
    "graph.set_finish_point(\"second_node\")\n",
    "app = graph.compile()"
   ]
  },
  {
   "cell_type": "code",
   "execution_count": 38,
   "id": "25e18726-91a0-479d-a0f9-40a73c6c5e7d",
   "metadata": {},
   "outputs": [
    {
     "data": {
      "image/png": "[encoded data removed]",
      "text/plain": [
       "<IPython.core.display.Image object>"
      ]
     },
     "metadata": {},
     "output_type": "display_data"
    }
   ],
   "source": [
    "from IPython.display import Image, display\n",
    "display(Image(app.get_graph().draw_mermaid_png()))"
   ]
  },
  {
   "cell_type": "code",
   "execution_count": 39,
   "id": "a47eec8f-d03e-4350-9a01-c24e6c45cf94",
   "metadata": {},
   "outputs": [
    {
     "name": "stdout",
     "output_type": "stream",
     "text": [
      "{'name': 'Charlie', 'age': 20, 'final': 'Hi Charlie! You are 20 years old!'}\n"
     ]
    }
   ],
   "source": [
    "result = app.invoke({\"name\": \"Charlie\", \"age\": 20})\n",
    "print(result)"
   ]
  },
  {
   "cell_type": "markdown",
   "id": "9891fcb2-fa6a-49af-8d9a-d732e1fba567",
   "metadata": {},
   "source": [
    "# Exercise"
   ]
  },
  {
   "cell_type": "code",
   "execution_count": 53,
   "id": "04017d3f-5d22-4a72-bafc-c07362aead55",
   "metadata": {},
   "outputs": [],
   "source": [
    "from typing import TypedDict, List\n",
    "from langgraph.graph import StateGraph"
   ]
  },
  {
   "cell_type": "code",
   "execution_count": 54,
   "id": "0b9d5536-3265-4558-ab71-109cf8a09cf7",
   "metadata": {},
   "outputs": [],
   "source": [
    "class MyAgentState(TypedDict):\n",
    "    name: str\n",
    "    age: str\n",
    "    skills: List[str]\n",
    "    final: str"
   ]
  },
  {
   "cell_type": "code",
   "execution_count": 76,
   "id": "891c181f-37f3-45b6-91d3-979a15a23d7f",
   "metadata": {},
   "outputs": [],
   "source": [
    "def my_first_node(state: MyAgentState) -> MyAgentState:\n",
    "    state['final'] = f\"{state['name']}, welcome to the system!\"\n",
    "    return state"
   ]
  },
  {
   "cell_type": "code",
   "execution_count": 77,
   "id": "94ebc088-789e-4ffa-96f3-c9a047be2bb7",
   "metadata": {},
   "outputs": [],
   "source": [
    "def my_second_node(state: MyAgentState) -> MyAgentState:\n",
    "    state['final'] = state['final'] + f\" You are {state['age']} years odl!\"\n",
    "    return state"
   ]
  },
  {
   "cell_type": "code",
   "execution_count": 88,
   "id": "bb69e256-aef0-47f3-9b99-0d6519e4344b",
   "metadata": {},
   "outputs": [],
   "source": [
    " def my_third_node(state: MyAgentState) -> MyAgentState:\n",
    "     skills_str = \", \".join(state['skills'])\n",
    "     state['final'] = state['final'] + f\" You have skills in: {skills_str}\"\n",
    "     return state"
   ]
  },
  {
   "cell_type": "code",
   "execution_count": 89,
   "id": "226d201c-034f-4dd5-9361-8afee30b9b01",
   "metadata": {},
   "outputs": [],
   "source": [
    "graph = StateGraph(MyAgentState)\n",
    "graph.add_node(\"my_first_node\", my_first_node)\n",
    "graph.add_node(\"my_second_node\", my_second_node)\n",
    "graph.add_node(\"my_third_node\", my_third_node)\n",
    "graph.set_entry_point(\"my_first_node\")\n",
    "graph.add_edge(\"my_first_node\", \"my_second_node\")\n",
    "graph.add_edge(\"my_second_node\", \"my_third_node\")\n",
    "graph.set_finish_point(\"my_third_node\")\n",
    "app = graph.compile()"
   ]
  },
  {
   "cell_type": "code",
   "execution_count": 90,
   "id": "c674ef64-7de6-4613-a19b-79eff2d03eb6",
   "metadata": {},
   "outputs": [
    {
     "data": {
      "image/png": "[encoded data removed]",
      "text/plain": [
       "<IPython.core.display.Image object>"
      ]
     },
     "metadata": {},
     "output_type": "display_data"
    }
   ],
   "source": [
    "from IPython.display import display, Image\n",
    "display(Image(app.get_graph().draw_mermaid_png()))"
   ]
  },
  {
   "cell_type": "code",
   "execution_count": 91,
   "id": "e7389caa-6ad5-46df-b9df-3a3b3e380d09",
   "metadata": {},
   "outputs": [],
   "source": [
    "result = app.invoke({\"name\": \"Ali\", \"age\": \"23\", \"skills\": [\"Python\", \"Machine Learning\", \"LangGraph\"]})"
   ]
  },
  {
   "cell_type": "code",
   "execution_count": 92,
   "id": "98a8190b-12ac-4ef9-991f-75a9ec31933d",
   "metadata": {},
   "outputs": [
    {
     "name": "stdout",
     "output_type": "stream",
     "text": [
      "{'name': 'Ali', 'age': '23', 'skills': ['Python', 'Machine Learning', 'LangGraph'], 'final': 'Ali, welcome to the system! You are 23 years odl! You have skills in: Python, Machine Learning, LangGraph'}\n"
     ]
    }
   ],
   "source": [
    "print(result)"
   ]
  }
 ],
 "metadata": {
  "kernelspec": {
   "display_name": "Python 3 (ipykernel)",
   "language": "python",
   "name": "python3"
  },
  "language_info": {
   "codemirror_mode": {
    "name": "ipython",
    "version": 3
   },
   "file_extension": ".py",
   "mimetype": "text/x-python",
   "name": "python",
   "nbconvert_exporter": "python",
   "pygments_lexer": "ipython3",
   "version": "3.12.3"
  }
 },
 "nbformat": 4,
 "nbformat_minor": 5
}
