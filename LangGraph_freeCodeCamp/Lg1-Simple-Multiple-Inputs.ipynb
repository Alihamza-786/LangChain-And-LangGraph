{
 "cells": [
  {
   "cell_type": "markdown",
   "id": "f7169a1c-b9d1-42e6-9788-63a0403ca708",
   "metadata": {},
   "source": [
    "# 1. Hello world Agent"
   ]
  },
  {
   "cell_type": "code",
   "execution_count": 7,
   "id": "80d943db-f430-4214-b1ce-ee10966eba61",
   "metadata": {},
   "outputs": [],
   "source": [
    "from typing import Dict, TypedDict\n",
    "from langgraph.graph import StateGraph"
   ]
  },
  {
   "cell_type": "code",
   "execution_count": 8,
   "id": "185b0102-30d1-47ec-8f04-c229e8548d71",
   "metadata": {},
   "outputs": [],
   "source": [
    "# Build agent state\n",
    "class AgentState(TypedDict): #our state schema\n",
    "    message : str"
   ]
  },
  {
   "cell_type": "code",
   "execution_count": 13,
   "id": "542b26eb-fe93-43b4-b095-614285fde1c6",
   "metadata": {},
   "outputs": [],
   "source": [
    "# Define node, we pass input and output in node, and its type must be state\n",
    "# We also add doc string, it tells AI agent what actually this function does\n",
    "def greeting_node(state: AgentState) -> AgentState:\n",
    "    \"\"\"Simple node that adds a greeting message to the state\"\"\"\n",
    "    state['message'] = \"Hey \"+ state[\"message\"] + \", how is your day going?\"\n",
    "    return state\n",
    "    "
   ]
  },
  {
   "cell_type": "code",
   "execution_count": 14,
   "id": "30625595-ca41-471b-bed8-4c225a7dac8d",
   "metadata": {},
   "outputs": [],
   "source": [
    "#Build graph\n",
    "graph = StateGraph(AgentState)\n",
    "\n",
    "graph.add_node(\"greeter\", greeting_node) # it take two parameters, 1. name of node, 2. what action it perform\n",
    "\n",
    "graph.set_entry_point(\"greeter\") #one parameter that is key\n",
    "\n",
    "graph.set_finish_point(\"greeter\")\n",
    "\n",
    "app = graph.compile()\n"
   ]
  },
  {
   "cell_type": "code",
   "execution_count": 15,
   "id": "f7332755-61d8-4db6-9202-9fafc92f36e9",
   "metadata": {},
   "outputs": [
    {
     "data": {
      "image/png": "[encoded data removed]",
      "text/plain": [
       "<IPython.core.display.Image object>"
      ]
     },
     "metadata": {},
     "output_type": "display_data"
    }
   ],
   "source": [
    "from IPython.display import Image, display\n",
    "display(Image(app.get_graph().draw_mermaid_png()))"
   ]
  },
  {
   "cell_type": "code",
   "execution_count": 17,
   "id": "1eb39ba4-d866-467b-a2cf-7e1a26e9f7cb",
   "metadata": {},
   "outputs": [],
   "source": [
    "result = app.invoke({\"message\": \"Ali\"})"
   ]
  },
  {
   "cell_type": "code",
   "execution_count": 18,
   "id": "43ee0330-6fac-4a33-9aba-c35ee10c364a",
   "metadata": {},
   "outputs": [
    {
     "data": {
      "text/plain": [
       "'Hey Ali, how is your day going?'"
      ]
     },
     "execution_count": 18,
     "metadata": {},
     "output_type": "execute_result"
    }
   ],
   "source": [
    "result[\"message\"]"
   ]
  },
  {
   "cell_type": "markdown",
   "id": "35cf3adf-5509-44c5-9658-19e9c992d101",
   "metadata": {},
   "source": [
    "## Exercise"
   ]
  },
  {
   "cell_type": "code",
   "execution_count": 19,
   "id": "1b67d4ed-d1f0-400e-84ea-56a5948e7788",
   "metadata": {},
   "outputs": [],
   "source": [
    "# Input {\"name\": \"Alli\"}\n",
    "# Output {\"Ali, you're doing an amazing job learning LangGraph!\""
   ]
  },
  {
   "cell_type": "code",
   "execution_count": 21,
   "id": "aec52317-3dd2-4442-ae3b-1667e8f1fd57",
   "metadata": {},
   "outputs": [],
   "source": [
    "class MyAgentState(TypedDict):\n",
    "    name: str"
   ]
  },
  {
   "cell_type": "code",
   "execution_count": 22,
   "id": "c045abc5-0b1e-41ca-8724-cf88571085b6",
   "metadata": {},
   "outputs": [],
   "source": [
    "def greeting_name_node(state: MyAgentState) -> MyAgentState:\n",
    "    \"\"\"Simple node that add a greeting message to the state\"\"\"\n",
    "    state['name'] = state['name'] + \", you're doing an amazing job learning LangGraph!\"\n",
    "    return state"
   ]
  },
  {
   "cell_type": "code",
   "execution_count": 27,
   "id": "2e132fe2-ca5c-4749-8e1a-f0c9a670bb52",
   "metadata": {},
   "outputs": [],
   "source": [
    "graph = StateGraph(MyAgentState)\n",
    "graph.add_node(\"Name Greeter\", greeting_name_node)\n",
    "graph.set_entry_point(\"Name Greeter\")\n",
    "graph.set_finish_point(\"Name Greeter\")\n",
    "app = graph.compile()"
   ]
  },
  {
   "cell_type": "code",
   "execution_count": 28,
   "id": "1119ece9-4fff-4013-89e5-5839acdd406a",
   "metadata": {},
   "outputs": [
    {
     "data": {
      "image/png": "[encoded data removed]",
      "text/plain": [
       "<IPython.core.display.Image object>"
      ]
     },
     "metadata": {},
     "output_type": "display_data"
    }
   ],
   "source": [
    "display(Image(app.get_graph().draw_mermaid_png()))"
   ]
  },
  {
   "cell_type": "code",
   "execution_count": 29,
   "id": "6ae18b26-b02e-4105-89c4-aca0ed6f86c9",
   "metadata": {},
   "outputs": [],
   "source": [
    "result = app.invoke({\"name\": \"Ali\"})"
   ]
  },
  {
   "cell_type": "code",
   "execution_count": 30,
   "id": "7b636a63-9ed2-46e4-b3c2-7a134c7579fa",
   "metadata": {},
   "outputs": [
    {
     "name": "stdout",
     "output_type": "stream",
     "text": [
      "Ali, you're doing an amazing job learning LangGraph!\n"
     ]
    }
   ],
   "source": [
    "print(result[\"name\"])"
   ]
  },
  {
   "cell_type": "markdown",
   "id": "40b13ecf-230f-43b0-ad54-675d19a99a55",
   "metadata": {},
   "source": [
    "# 2. Agent - Multiple Inputs Graph"
   ]
  },
  {
   "cell_type": "code",
   "execution_count": 17,
   "id": "5464abbb-d6f1-4565-9b16-52fd550cb8e8",
   "metadata": {},
   "outputs": [],
   "source": [
    "from typing import TypedDict, List\n",
    "from langgraph.graph import StateGraph"
   ]
  },
  {
   "cell_type": "code",
   "execution_count": 18,
   "id": "08bd4666-073c-43bc-a27f-ded61371db66",
   "metadata": {},
   "outputs": [],
   "source": [
    "class AgentState(TypedDict):\n",
    "    values: List[int]\n",
    "    name: str\n",
    "    result: str"
   ]
  },
  {
   "cell_type": "code",
   "execution_count": 26,
   "id": "19928fa7-639a-4611-8531-66e01f710318",
   "metadata": {},
   "outputs": [],
   "source": [
    "def process_values(state: AgentState) -> AgentState:\n",
    "    \"\"\"This function handles multiples different inputs\"\"\"\n",
    "    print(\"state\")\n",
    "\n",
    "    state[\"result\"] = f\"Hi there {state[\"name\"]}! Your sum = {sum(state[\"values\"])}\"\n",
    "    print(\"state\")\n",
    "    return state"
   ]
  },
  {
   "cell_type": "code",
   "execution_count": 27,
   "id": "28675ea3-050f-4c55-8788-1fbeba19dab8",
   "metadata": {},
   "outputs": [],
   "source": [
    "graph = StateGraph(AgentState)\n",
    "graph.add_node(\"processor\", process_values)\n",
    "graph.set_entry_point(\"processor\") # Set the starting node\n",
    "graph.set_finish_point(\"processor\") # Set the ending node\n",
    "\n",
    "app = graph.compile() # Compiling the graph"
   ]
  },
  {
   "cell_type": "code",
   "execution_count": 28,
   "id": "533a2559-b8e6-4136-abea-a7e13cdd362a",
   "metadata": {},
   "outputs": [
    {
     "data": {
      "image/png": "[encoded data removed]",
      "text/plain": [
       "<IPython.core.display.Image object>"
      ]
     },
     "metadata": {},
     "output_type": "display_data"
    }
   ],
   "source": [
    "from IPython.display import Image, display\n",
    "display(Image(app.get_graph().draw_mermaid_png()))"
   ]
  },
  {
   "cell_type": "code",
   "execution_count": 29,
   "id": "d617b233-b923-4d26-aa24-b23b225eec00",
   "metadata": {},
   "outputs": [
    {
     "name": "stdout",
     "output_type": "stream",
     "text": [
      "state\n",
      "state\n"
     ]
    }
   ],
   "source": [
    "answers = app.invoke({\"values\": [1,2,3,4], \"name\": \"Ali\"})"
   ]
  },
  {
   "cell_type": "code",
   "execution_count": 30,
   "id": "8f666444-31d8-4f86-962f-903ee38c7455",
   "metadata": {},
   "outputs": [
    {
     "name": "stdout",
     "output_type": "stream",
     "text": [
      "{'values': [1, 2, 3, 4], 'name': 'Ali', 'result': 'Hi there Ali! Your sum = 10'}\n"
     ]
    }
   ],
   "source": [
    "print(answers)"
   ]
  },
  {
   "cell_type": "code",
   "execution_count": 31,
   "id": "c2bc8145-c31d-42a6-a4a5-a0ef716120ac",
   "metadata": {},
   "outputs": [
    {
     "name": "stdout",
     "output_type": "stream",
     "text": [
      "Hi there Ali! Your sum = 10\n"
     ]
    }
   ],
   "source": [
    "print(answers[\"result\"])"
   ]
  },
  {
   "cell_type": "markdown",
   "id": "ceda0f99-bd30-4e18-81eb-be88f0c40012",
   "metadata": {},
   "source": [
    "# Exercie 2"
   ]
  },
  {
   "cell_type": "code",
   "execution_count": 85,
   "id": "8dcce6d8-1697-4c3b-af7b-ad8b2eab74b8",
   "metadata": {},
   "outputs": [],
   "source": [
    "import math\n",
    "from typing import TypedDict, List\n",
    "from langgraph.graph import StateGraph"
   ]
  },
  {
   "cell_type": "code",
   "execution_count": 86,
   "id": "0046f1b8-32d2-43a8-a574-745955a09f46",
   "metadata": {},
   "outputs": [],
   "source": [
    "class MyAgentState(TypedDict):\n",
    "    values: List[int]\n",
    "    name: str\n",
    "    operation: str\n",
    "    result: str"
   ]
  },
  {
   "cell_type": "code",
   "execution_count": 97,
   "id": "a4f34db2-a9a5-4389-8515-200d12de6239",
   "metadata": {},
   "outputs": [],
   "source": [
    "def calculate_values(state: AgentState) -> AgentState:\n",
    "    \"\"\"This function handles multiples different inputs and perform calculation\"\"\"\n",
    "    if state[\"operation\"] == \"*\":\n",
    "        state[\"result\"] = f\"Hi {state['name']}, your answer is: {math.prod(state['values'])}\"\n",
    "    elif state[\"operation\"] == \"+\":\n",
    "        state[\"result\"] = f\"Hi {state['name']}, your answer is: {sum(state['values'])}\"\n",
    "    else:\n",
    "        raise ValueError(\"❌ Invalid operator! only '+' and '*' are allowed.\")\n",
    "        \n",
    "    return state"
   ]
  },
  {
   "cell_type": "code",
   "execution_count": 98,
   "id": "f8578989-0188-4601-8a39-9d904f9bd858",
   "metadata": {},
   "outputs": [],
   "source": [
    "graph = StateGraph(MyAgentState)\n",
    "graph.add_node(\"calculator\", calculate_values)\n",
    "graph.set_entry_point(\"calculator\")\n",
    "graph.set_finish_point(\"calculator\")\n",
    "\n",
    "app = graph.compile()"
   ]
  },
  {
   "cell_type": "code",
   "execution_count": 99,
   "id": "ecd07fa6-b03d-4bb3-a4d1-ae9909536143",
   "metadata": {},
   "outputs": [
    {
     "data": {
      "image/png": "[encoded data removed]",
      "text/plain": [
       "<IPython.core.display.Image object>"
      ]
     },
     "metadata": {},
     "output_type": "display_data"
    }
   ],
   "source": [
    "from IPython.display import Image, display\n",
    "display(Image(app.get_graph().draw_mermaid_png()))"
   ]
  },
  {
   "cell_type": "code",
   "execution_count": 101,
   "id": "ecfe4eb6-716d-4a5d-b23b-0daf305c1e96",
   "metadata": {},
   "outputs": [
    {
     "name": "stdout",
     "output_type": "stream",
     "text": [
      "{'values': [1, 2, 3, 4], 'name': 'Ali', 'operation': '+', 'result': 'Hi Ali, your answer is: 10'}\n"
     ]
    }
   ],
   "source": [
    "final_result = app.invoke({\"values\":[1,2,3,4], \"name\": \"Ali\", \"operation\": \"+\"}) \n",
    "print(final_result)"
   ]
  },
  {
   "cell_type": "code",
   "execution_count": 103,
   "id": "dbb1bc34-eb3c-4cae-8629-b842b2af8c9e",
   "metadata": {},
   "outputs": [
    {
     "name": "stdout",
     "output_type": "stream",
     "text": [
      "Hi Ali, your answer is: 24\n"
     ]
    }
   ],
   "source": [
    "final_result = app.invoke({\"values\":[1,2,3,4], \"name\": \"Ali\", \"operation\": \"*\"}) \n",
    "print(final_result[\"result\"])"
   ]
  }
 ],
 "metadata": {
  "kernelspec": {
   "display_name": "Python 3 (ipykernel)",
   "language": "python",
   "name": "python3"
  },
  "language_info": {
   "codemirror_mode": {
    "name": "ipython",
    "version": 3
   },
   "file_extension": ".py",
   "mimetype": "text/x-python",
   "name": "python",
   "nbconvert_exporter": "python",
   "pygments_lexer": "ipython3",
   "version": "3.12.3"
  }
 },
 "nbformat": 4,
 "nbformat_minor": 5
}
