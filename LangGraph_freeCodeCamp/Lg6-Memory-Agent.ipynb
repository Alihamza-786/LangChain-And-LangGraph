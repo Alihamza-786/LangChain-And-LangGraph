{
 "cells": [
  {
   "cell_type": "code",
   "execution_count": 1,
   "id": "9c38dda3-9dcd-4863-9a73-194cf3d2b72b",
   "metadata": {},
   "outputs": [],
   "source": [
    "from typing import TypedDict, List, Union\n",
    "from langchain_core.messages import HumanMessage, AIMessage\n",
    "from langchain_ollama import ChatOllama\n",
    "from langgraph.graph import StateGraph, START, END"
   ]
  },
  {
   "cell_type": "code",
   "execution_count": 2,
   "id": "467230fa-fa29-4b9d-97be-d730c5b70e45",
   "metadata": {},
   "outputs": [],
   "source": [
    "class AgentState(TypedDict):\n",
    "    messages: List[Union[HumanMessage, AIMessage]] # Union means each item of list will be of either HumanMessage type or AIMessage type"
   ]
  },
  {
   "cell_type": "code",
   "execution_count": 3,
   "id": "645f960a-386b-439f-8a94-be156c4b1416",
   "metadata": {},
   "outputs": [],
   "source": [
    "llm = ChatOllama(model = \"qwen2.5\")"
   ]
  },
  {
   "cell_type": "code",
   "execution_count": 18,
   "id": "abb3a6a3-e407-4ba0-873f-4ffaa85101d0",
   "metadata": {},
   "outputs": [],
   "source": [
    "def process(state: AgentState) -> AgentState:\n",
    "    \"\"\"This node will solve the request you input\"\"\"\n",
    "    response = llm.invoke(state[\"messages\"])\n",
    "    state[\"messages\"].append(AIMessage(content = response.content))\n",
    "\n",
    "    print(f\"\\nAI: {response.content}\")\n",
    "    print(f\"\\nCurrent State: \", state[\"messages\"])\n",
    "    return state"
   ]
  },
  {
   "cell_type": "code",
   "execution_count": 19,
   "id": "e986a2ac-6e14-4c24-82ed-f0f73b6aabc7",
   "metadata": {},
   "outputs": [],
   "source": [
    "graph = StateGraph(AgentState)\n",
    "graph.add_node(\"process\", process)\n",
    "graph.add_edge(START, \"process\")\n",
    "graph.add_edge(\"process\", END)\n",
    "agent = graph.compile()"
   ]
  },
  {
   "cell_type": "code",
   "execution_count": 23,
   "id": "6fdbc975-707b-4543-a28c-ccccbacc5f09",
   "metadata": {},
   "outputs": [
    {
     "name": "stdin",
     "output_type": "stream",
     "text": [
      "Enter:  Hi, nice to meet you!\n"
     ]
    },
    {
     "name": "stdout",
     "output_type": "stream",
     "text": [
      "\n",
      "AI: Hello! Nice to meet you too. How can I assist you today?\n",
      "\n",
      "Current State:  [HumanMessage(content='Hi, nice to meet you!', additional_kwargs={}, response_metadata={}), AIMessage(content='Hello! Nice to meet you too. How can I assist you today?', additional_kwargs={}, response_metadata={})]\n"
     ]
    },
    {
     "name": "stdin",
     "output_type": "stream",
     "text": [
      "Enter:  My name is Ali\n"
     ]
    },
    {
     "name": "stdout",
     "output_type": "stream",
     "text": [
      "\n",
      "AI: Hello Ali! It's nice to meet you. How can I assist you today? Do you have any specific questions or topics you'd like to discuss?\n",
      "\n",
      "Current State:  [HumanMessage(content='Hi, nice to meet you!', additional_kwargs={}, response_metadata={}), AIMessage(content='Hello! Nice to meet you too. How can I assist you today?', additional_kwargs={}, response_metadata={}), HumanMessage(content='My name is Ali', additional_kwargs={}, response_metadata={}), AIMessage(content=\"Hello Ali! It's nice to meet you. How can I assist you today? Do you have any specific questions or topics you'd like to discuss?\", additional_kwargs={}, response_metadata={})]\n"
     ]
    },
    {
     "name": "stdin",
     "output_type": "stream",
     "text": [
      "Enter:  who am I?\n"
     ]
    },
    {
     "name": "stdout",
     "output_type": "stream",
     "text": [
      "\n",
      "AI: You're Ali, according to your introduction. Is there anything specific you'd like to know or discuss further?\n",
      "\n",
      "Current State:  [HumanMessage(content='Hi, nice to meet you!', additional_kwargs={}, response_metadata={}), AIMessage(content='Hello! Nice to meet you too. How can I assist you today?', additional_kwargs={}, response_metadata={}), HumanMessage(content='My name is Ali', additional_kwargs={}, response_metadata={}), AIMessage(content=\"Hello Ali! It's nice to meet you. How can I assist you today? Do you have any specific questions or topics you'd like to discuss?\", additional_kwargs={}, response_metadata={}), HumanMessage(content='who am I?', additional_kwargs={}, response_metadata={}), AIMessage(content=\"You're Ali, according to your introduction. Is there anything specific you'd like to know or discuss further?\", additional_kwargs={}, response_metadata={})]\n"
     ]
    },
    {
     "name": "stdin",
     "output_type": "stream",
     "text": [
      "Enter:  exit\n"
     ]
    }
   ],
   "source": [
    "conversation_history = []\n",
    "\n",
    "user_input = input(\"Enter: \")\n",
    "while user_input != \"exit\":\n",
    "    conversation_history.append(HumanMessage(content=user_input))\n",
    "    result = agent.invoke({\"messages\": conversation_history})\n",
    "    converation_history = result[\"messages\"]\n",
    "    user_input = input(\"Enter: \")"
   ]
  },
  {
   "cell_type": "markdown",
   "id": "2e15facb-fc1d-4f67-a8c9-f918ad9fc61d",
   "metadata": {},
   "source": [
    "# Store Memory in a text file"
   ]
  },
  {
   "cell_type": "code",
   "execution_count": 24,
   "id": "f3a59322-6795-4b42-9ef3-fb2e7cdb2d55",
   "metadata": {},
   "outputs": [
    {
     "name": "stdout",
     "output_type": "stream",
     "text": [
      "Conversation saved to logging.txt\n"
     ]
    }
   ],
   "source": [
    "# File\n",
    "with open(\"logging.txt\", \"w\") as file:\n",
    "    file.write(\"Your Conversation Log: \\n\")\n",
    "    for message in conversation_history:\n",
    "        if isinstance(message, HumanMessage):\n",
    "            file.write(f\"You: {message.content}\\n\")\n",
    "        elif isinstance(message, AIMessage):\n",
    "            file.write(f\"AI: {message.content}\\n\\n\")\n",
    "    file.write(\"End of Conversation\")\n",
    "print(\"Conversation saved to logging.txt\")"
   ]
  },
  {
   "cell_type": "markdown",
   "id": "260eab40-56ff-47f1-9d7f-23f3d3a2efd7",
   "metadata": {
    "jp-MarkdownHeadingCollapsed": true
   },
   "source": [
    "# Store Memory in an Efficient way\n",
    "- You are storing a lot of previous unnecessory conversations;\n",
    "- You may make a limit like if user_input > 5 then you remove first conversation;"
   ]
  }
 ],
 "metadata": {
  "kernelspec": {
   "display_name": "Python 3 (ipykernel)",
   "language": "python",
   "name": "python3"
  },
  "language_info": {
   "codemirror_mode": {
    "name": "ipython",
    "version": 3
   },
   "file_extension": ".py",
   "mimetype": "text/x-python",
   "name": "python",
   "nbconvert_exporter": "python",
   "pygments_lexer": "ipython3",
   "version": "3.12.3"
  }
 },
 "nbformat": 4,
 "nbformat_minor": 5
}
