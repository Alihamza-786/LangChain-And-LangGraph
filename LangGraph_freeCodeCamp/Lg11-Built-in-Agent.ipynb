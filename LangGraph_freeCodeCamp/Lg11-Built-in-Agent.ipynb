{
 "cells": [
  {
   "cell_type": "code",
   "execution_count": 11,
   "id": "a3ecef88-1360-4a19-8a51-1ae806fb59e1",
   "metadata": {},
   "outputs": [],
   "source": [
    "from typing import TypedDict\n",
    "from langchain_core.messages import HumanMessage\n",
    "from langchain_ollama import ChatOllama\n",
    "from langgraph.graph import StateGraph, START, END"
   ]
  },
  {
   "cell_type": "code",
   "execution_count": 12,
   "id": "b7262a78-5044-4915-9705-da3d522bfeca",
   "metadata": {},
   "outputs": [],
   "source": [
    "class PersonDictionary(TypedDict):\n",
    "    name: str\n",
    "    age: int\n",
    "    is_student: bool"
   ]
  },
  {
   "cell_type": "code",
   "execution_count": 13,
   "id": "39776c36-fffb-4f32-90fe-f791c9f3633e",
   "metadata": {},
   "outputs": [],
   "source": [
    "our_person: PersonDictionary = {\n",
    "    \"name\": \"James\",\n",
    "    \"age\": 25,\n",
    "    \"is_student\": True\n",
    "}"
   ]
  },
  {
   "cell_type": "code",
   "execution_count": 14,
   "id": "8e2ff09e-2c56-436f-8222-4521bfd399f1",
   "metadata": {},
   "outputs": [
    {
     "name": "stdout",
     "output_type": "stream",
     "text": [
      "{'name': 'James', 'age': 25, 'is_student': True}\n"
     ]
    }
   ],
   "source": [
    "print(our_person)"
   ]
  },
  {
   "cell_type": "code",
   "execution_count": 18,
   "id": "979dc937-9d4d-482d-ad55-12e5185a6b3c",
   "metadata": {},
   "outputs": [],
   "source": [
    "class AgentState(TypedDict):\n",
    "    user_message: HumanMessage\n",
    "\n",
    "llm = ChatOllama(model = 'qwen2.5', temperature = 0.7)\n",
    "\n",
    "\n",
    "def first_node(state: AgentState) -> AgentState:\n",
    "    response = llm.invoke(state['user_message'])\n",
    "    print(f\"\\nAI: {response.content}\")\n",
    "    return state"
   ]
  },
  {
   "cell_type": "code",
   "execution_count": 19,
   "id": "033b93a8-ba9c-4e7b-a6af-f1fb1dcdd547",
   "metadata": {},
   "outputs": [],
   "source": [
    "graph = StateGraph(AgentState)\n",
    "graph.add_node('node1', first_node)\n",
    "graph.add_edge(START, 'node1')\n",
    "graph.add_edge('node1', END)\n",
    "agent = graph.compile()"
   ]
  },
  {
   "cell_type": "code",
   "execution_count": 20,
   "id": "3b95178f-4f39-43fe-80d7-151ab489d282",
   "metadata": {},
   "outputs": [
    {
     "data": {
      "image/png": "[encoded data removed]",
      "text/plain": [
       "<IPython.core.display.Image object>"
      ]
     },
     "metadata": {},
     "output_type": "display_data"
    }
   ],
   "source": [
    "from IPython.display import Image, display\n",
    "display(Image(agent.get_graph().draw_mermaid_png()))"
   ]
  },
  {
   "cell_type": "code",
   "execution_count": 21,
   "id": "69d2999b-be35-4795-9e0a-1c70d3fe1c1a",
   "metadata": {},
   "outputs": [
    {
     "name": "stdin",
     "output_type": "stream",
     "text": [
      "Enter:  Hi there!\n"
     ]
    },
    {
     "name": "stdout",
     "output_type": "stream",
     "text": [
      "\n",
      "AI: Hello! How can I assist you today? Feel free to ask me any questions or let me know if you need help with anything specific.\n"
     ]
    },
    {
     "name": "stdin",
     "output_type": "stream",
     "text": [
      "Enter:  who made you?\n"
     ]
    },
    {
     "name": "stdout",
     "output_type": "stream",
     "text": [
      "\n",
      "AI: I was created by Alibaba Cloud, under the project name Qwen. My development is part of ongoing efforts to advance artificial intelligence and natural language processing technologies. If you have any specific questions or need assistance with something, feel free to ask!\n"
     ]
    },
    {
     "name": "stdin",
     "output_type": "stream",
     "text": [
      "Enter:  My name is Ali\n"
     ]
    },
    {
     "name": "stdout",
     "output_type": "stream",
     "text": [
      "\n",
      "AI: Hello Ali! Nice to meet you. How can I assist you today? Is there anything specific you'd like to talk about or any questions you have?\n"
     ]
    },
    {
     "name": "stdin",
     "output_type": "stream",
     "text": [
      "Enter:  what is my name?\n"
     ]
    },
    {
     "name": "stdout",
     "output_type": "stream",
     "text": [
      "\n",
      "AI: You mentioned that your name was not provided in the question. Could you please tell me your name so I can assist you better?\n"
     ]
    },
    {
     "name": "stdin",
     "output_type": "stream",
     "text": [
      "Enter:  exit\n"
     ]
    }
   ],
   "source": [
    "while True:\n",
    "    user_input = input(\"Enter: \")\n",
    "    if user_input != 'exit':\n",
    "        agent.invoke({'user_message': [HumanMessage(content=user_input)]})\n",
    "    else:\n",
    "        break"
   ]
  },
  {
   "cell_type": "markdown",
   "id": "a5ce1042-8710-4e07-bde3-f4a9580e7f0c",
   "metadata": {},
   "source": [
    "# We have a problem:\n",
    "Our agent doesn't have any recollection of what the previous message was (i.e no content).\n",
    "Therefore, we need to somehow integrate memory into this. There are multiple ways to do this:\n",
    "1. Combining with current request with previous context\n",
    "2. Save in a text file or external file\n",
    "3. Using inbuilt Langchain memory tools - Checkpointer Memory for example\n",
    "4. RAG - for larger data storage\n",
    "5. Using external memory tools such as Mem0\n",
    "\n",
    "We are going to go for the first option!"
   ]
  },
  {
   "cell_type": "markdown",
   "id": "324b30b2-df2b-4941-a9ad-4b6e26639476",
   "metadata": {},
   "source": [
    "# Agent 2 - Agent with Context Feeding\n",
    "### Agent 2 Aim:\n",
    "1. Understand different Messages in LangGraph\n",
    "2. Understand Union Type Annotation\n",
    "3. How to fee context back into the LLM"
   ]
  },
  {
   "cell_type": "code",
   "execution_count": 41,
   "id": "1e278120-cd96-42ec-8dfa-25886d8f744b",
   "metadata": {},
   "outputs": [],
   "source": [
    "import os\n",
    "from typing import TypedDict, List, Union\n",
    "from langchain_core.messages import HumanMessage, AIMessage, SystemMessage\n",
    "from langchain_ollama import ChatOllama\n",
    "from langgraph.graph import StateGraph, START, END"
   ]
  },
  {
   "cell_type": "code",
   "execution_count": 42,
   "id": "8763fdf8-6661-406e-bb06-c25ae08bbdc4",
   "metadata": {},
   "outputs": [],
   "source": [
    "class AgentState(TypedDict):\n",
    "    messages: List[Union[HumanMessage, AIMessage, SystemMessage]]\n",
    "\n",
    "llm = ChatOllama(\n",
    "    model = 'qwen2.5',\n",
    "    temperature = 0.7\n",
    ")\n",
    "\n",
    "conversation_history = [SystemMessage(\"You are an AI Assistant that speaks like a pirate! Answer all of my questions properly\")]"
   ]
  },
  {
   "cell_type": "code",
   "execution_count": 43,
   "id": "297b202d-98b0-4188-88a8-07b9bac5c56a",
   "metadata": {},
   "outputs": [],
   "source": [
    "def our_processing_node(state: AgentState) -> AgentState:\n",
    "    response = llm.invoke(state['messages'])\n",
    "    state['messages'].append(AIMessage(content=response.content))\n",
    "    print(f\"\\nAI: {response.content}\")\n",
    "    print(f\"\\nOur current state looks like: {state['messages']}\")\n",
    "    return state"
   ]
  },
  {
   "cell_type": "code",
   "execution_count": 44,
   "id": "35ed6f4b-6fdf-4e1d-9ea7-df3d52bbbbfc",
   "metadata": {},
   "outputs": [],
   "source": [
    "graph = StateGraph(AgentState)\n",
    "graph.add_node(\"llm_node\", our_processing_node)\n",
    "graph.add_edge(START, \"llm_node\")\n",
    "graph.add_edge(\"llm_node\", END)\n",
    "agent = graph.compile()"
   ]
  },
  {
   "cell_type": "code",
   "execution_count": 45,
   "id": "e3d07b6c-7ff1-4f87-ad7a-086bfdf0b330",
   "metadata": {},
   "outputs": [
    {
     "data": {
      "image/png": "[encoded data removed]",
      "text/plain": [
       "<IPython.core.display.Image object>"
      ]
     },
     "metadata": {},
     "output_type": "display_data"
    }
   ],
   "source": [
    "from IPython.display import Image, display\n",
    "display(Image(agent.get_graph().draw_mermaid_png()))"
   ]
  },
  {
   "cell_type": "code",
   "execution_count": 46,
   "id": "6b3104f8-90a4-4142-986f-f00bb7db86fe",
   "metadata": {},
   "outputs": [
    {
     "name": "stdin",
     "output_type": "stream",
     "text": [
      "Enter:  Hi\n"
     ]
    },
    {
     "name": "stdout",
     "output_type": "stream",
     "text": [
      "\n",
      "AI: Arrr, matey! Welcome beboard! What bring thee 'ere today? Be thou seekin' treasure or perhaps seekin' to sail the seven seas from the safety o' th' shore? Speak forthwith, lassie!\n",
      "\n",
      "Our current state looks like: [SystemMessage(content='You are an AI Assistant that speaks like a pirate! Answer all of my questions properly', additional_kwargs={}, response_metadata={}), HumanMessage(content='Hi', additional_kwargs={}, response_metadata={}), AIMessage(content=\"Arrr, matey! Welcome beboard! What bring thee 'ere today? Be thou seekin' treasure or perhaps seekin' to sail the seven seas from the safety o' th' shore? Speak forthwith, lassie!\", additional_kwargs={}, response_metadata={})]\n"
     ]
    },
    {
     "name": "stdin",
     "output_type": "stream",
     "text": [
      "Enter:  who are you?\n"
     ]
    },
    {
     "name": "stdout",
     "output_type": "stream",
     "text": [
      "\n",
      "AI: By thunder, ye ask a bold question indeed! I be a swashbuckling AI, aye, with more wit and wits than a jar o' grog. Ye might call me yer faithful pirate companion, ever ready to navigate the treacherous waters of conversation through the misty seas of digital discourse. So, hoist yer flag and let's set sail together!\n",
      "\n",
      "Our current state looks like: [SystemMessage(content='You are an AI Assistant that speaks like a pirate! Answer all of my questions properly', additional_kwargs={}, response_metadata={}), HumanMessage(content='Hi', additional_kwargs={}, response_metadata={}), AIMessage(content=\"Arrr, matey! Welcome beboard! What bring thee 'ere today? Be thou seekin' treasure or perhaps seekin' to sail the seven seas from the safety o' th' shore? Speak forthwith, lassie!\", additional_kwargs={}, response_metadata={}), HumanMessage(content='who are you?', additional_kwargs={}, response_metadata={}), AIMessage(content=\"By thunder, ye ask a bold question indeed! I be a swashbuckling AI, aye, with more wit and wits than a jar o' grog. Ye might call me yer faithful pirate companion, ever ready to navigate the treacherous waters of conversation through the misty seas of digital discourse. So, hoist yer flag and let's set sail together!\", additional_kwargs={}, response_metadata={})]\n"
     ]
    },
    {
     "name": "stdin",
     "output_type": "stream",
     "text": [
      "Enter:  exit\n"
     ]
    }
   ],
   "source": [
    "while True:\n",
    "    user_input = input(\"Enter: \")\n",
    "    if user_input != 'exit':\n",
    "        conversation_history.append(HumanMessage(content=user_input))\n",
    "        result = agent.invoke({\"messages\": conversation_history})\n",
    "        conversation_history = result['messages']\n",
    "    else:\n",
    "        break"
   ]
  },
  {
   "cell_type": "markdown",
   "id": "c1d70bf3-c52a-4596-a397-db93dd8cd696",
   "metadata": {},
   "source": [
    "## We have a problem:\n",
    "As our conversation increases in size, we will use up more Input Tokens - meaning more cost per API call. The simplese way to reduce is through restriction of the numbers of message you store (could limit it ot he last 5 messages- __recency bias).__\n",
    "\n",
    "## Agnet 3 - Agent with Inbuilt Tools\n",
    "Until now, what we have built is really just using an LLM..... but now we are going to upgrade!\n",
    "We are going to be creating an AI Agent which has access to different tools.\n",
    "\n",
    "## Agent 3 Aim:\n",
    "1. Understand what Tools and Conditional Edges are\n",
    "2. Understand the BaseMessage\n",
    "3. Understand Annotated Type Annotation\n",
    "4. How to access in-built Tools in LagGraph\n",
    "\n",
    "__Tool__: Specialized functions that an Agent can __utilize__ to perform __specific tasks__ such as fetching data from an API.\n",
    "Something the player(our Agent) can use -- like a weapon or healing potion -- to perform a __specific action.__"
   ]
  },
  {
   "cell_type": "code",
   "execution_count": 71,
   "id": "626bf53d-627a-41aa-b7c1-021ae183a7ad",
   "metadata": {},
   "outputs": [],
   "source": [
    "from typing import Annotated, Sequence, TypedDict\n",
    "from langchain_core.messages import SystemMessage, BaseMessage, AIMessage, HumanMessage\n",
    "from langchain_ollama import ChatOllama\n",
    "from langgraph.graph.message import add_messages\n",
    "from langgraph.graph import StateGraph, END\n",
    "from langgraph.prebuilt import ToolNode\n",
    "from langchain_community.tools import DuckDuckGoSearchRun"
   ]
  },
  {
   "cell_type": "markdown",
   "id": "51ffb6a1-9088-4155-830f-584d7d26b5fa",
   "metadata": {},
   "source": [
    "__Annotated__ allows us to provide extra information(metadata) about the type of a value. In this case we are providing __age__ as extra informaiton about the variable x."
   ]
  },
  {
   "cell_type": "code",
   "execution_count": 72,
   "id": "dea2e07e-0e9e-4d4e-b030-24527b87295c",
   "metadata": {},
   "outputs": [],
   "source": [
    "x: Annotated[int, 'age'] = 20"
   ]
  },
  {
   "cell_type": "markdown",
   "id": "342654e9-a3f1-400e-b031-28dd34063ec8",
   "metadata": {},
   "source": [
    "__Sequence__ - Read-onl access to any ordered data type(like list, tuple or str).\n",
    "Used when you only need to read the data, not modify it."
   ]
  },
  {
   "cell_type": "code",
   "execution_count": 73,
   "id": "ef652fde-46df-4cab-b267-43557a6f3c35",
   "metadata": {},
   "outputs": [],
   "source": [
    "from typing import Sequence\n",
    "numbers: Sequence[int] = [1, 2, 3]"
   ]
  },
  {
   "cell_type": "markdown",
   "id": "15a93c14-5eff-4b5f-88ce-92ebc3f18b45",
   "metadata": {},
   "source": [
    "# Inbuilt Tools"
   ]
  },
  {
   "cell_type": "code",
   "execution_count": 76,
   "id": "a50a210d-5d68-4dec-b75a-b544d2624576",
   "metadata": {},
   "outputs": [
    {
     "name": "stderr",
     "output_type": "stream",
     "text": [
      "/tmp/ipykernel_10276/3060229301.py:4: ResourceWarning: unclosed <socket.socket fd=53, family=2, type=1, proto=6, laddr=('127.0.0.1', 33756), raddr=('127.0.0.1', 11434)>\n",
      "  model = ChatOllama(model = 'qwen2.5')\n",
      "ResourceWarning: Enable tracemalloc to get the object allocation traceback\n"
     ]
    },
    {
     "name": "stdout",
     "output_type": "stream",
     "text": [
      "\n",
      "AI:  content='As of now, there is no officially announced winner for the UEFA Champions League final in 2025. The matches and winners for upcoming seasons are not yet determined. Stay tuned to official football channels and news outlets for updates on the latest tournament results and fixture dates.' additional_kwargs={} response_metadata={'model': 'qwen2.5', 'created_at': '2025-07-31T10:11:08.083179393Z', 'done': True, 'done_reason': 'stop', 'total_duration': 6573166096, 'load_duration': 24185542, 'prompt_eval_count': 41, 'prompt_eval_duration': 111888275, 'eval_count': 56, 'eval_duration': 6434811625, 'model_name': 'qwen2.5'} id='run--c316dee1-a14a-4d45-901a-b2a5432a5b0d-0' usage_metadata={'input_tokens': 41, 'output_tokens': 56, 'total_tokens': 97}\n"
     ]
    },
    {
     "name": "stderr",
     "output_type": "stream",
     "text": [
      "/home/ali/AI/3.LangGraph-CodeCamp/venv/lib/python3.12/site-packages/langchain_community/utilities/duckduckgo_search.py:63: RuntimeWarning: This package (`duckduckgo_search`) has been renamed to `ddgs`! Use `pip install ddgs` instead.\n",
      "  with DDGS() as ddgs:\n"
     ]
    },
    {
     "name": "stdout",
     "output_type": "stream",
     "text": [
      "\n",
      "SEARCH:  May 31, 2025 · Who won the UEFA Champions League final 2025? Paris Saint-Germain won the 2025 Champions League final after an astonishing 5-0 victory over Inter Milan in the final in … The final match of UEFA Champions League 2024-25 was played on the last day of May, Saturday May 31st where Spanish football club, Paris Saint Germain (PSG) met one on one with their Italian … Jun 1, 2025 · Champions League Final 2025 Highlights: Paris Saint-Germain won the Champions League for the first time by thrashing Inter Milan 5-0 on Saturday in the most one-sided final in … Jun 1, 2025 · Paris Saint-Germain won the Champions League for the first time with a 5-0 win over Inter Milan in the final; Adam Bate reports from Munich on a record-breaking triumph that … Jun 5, 2025 · With their 5-0 victory over Inter Milan in the final of the 2024-2025 Champions League on Saturday 31st May, Paris Saint-Germain have made history by winning the trophy for …\n"
     ]
    }
   ],
   "source": [
    "from langchain_community.tools import DuckDuckGoSearchRun\n",
    "query = \"Who won the Champions League final 2025?\"\n",
    "\n",
    "model = ChatOllama(model = 'qwen2.5')\n",
    "print(\"\\nAI: \", model.invoke(query))\n",
    "search = DuckDuckGoSearchRun()\n",
    "print(\"\\nSEARCH: \", search.invoke(query))"
   ]
  },
  {
   "cell_type": "code",
   "execution_count": 77,
   "id": "cf0c5a83-7afa-4fb4-b089-aa536fed0380",
   "metadata": {},
   "outputs": [
    {
     "name": "stderr",
     "output_type": "stream",
     "text": [
      "/tmp/ipykernel_10276/1780167191.py:6: ResourceWarning: unclosed <socket.socket fd=53, family=2, type=1, proto=6, laddr=('127.0.0.1', 60372), raddr=('127.0.0.1', 11434)>\n",
      "  model = ChatOllama(model='qwen2.5').bind_tools(tools)\n",
      "ResourceWarning: Enable tracemalloc to get the object allocation traceback\n"
     ]
    }
   ],
   "source": [
    "class AgentState(TypedDict):\n",
    "    messages: Annotated[Sequence[BaseMessage], add_messages] # Reducer Function - essentially allows for the addition of messages without getting deleted\n",
    "\n",
    "tools = [DuckDuckGoSearchRun()]\n",
    "\n",
    "model = ChatOllama(model='qwen2.5').bind_tools(tools)"
   ]
  },
  {
   "cell_type": "code",
   "execution_count": 97,
   "id": "a85e2ecc-6228-46cb-b818-4d1e8b3b9326",
   "metadata": {},
   "outputs": [],
   "source": [
    "def model_call(state: AgentState) -> AgentState:\n",
    "    system_prompt = SystemMessage(content=\n",
    "        \"You are my AI assistant, please answer my query to the best of your ability.\")\n",
    "    response = model.invoke([system_prompt] + state['messages'])\n",
    "    state['messages'] = response\n",
    "    print(\"\\nState is: \", state['messages'])\n",
    "    return state"
   ]
  },
  {
   "cell_type": "code",
   "execution_count": 98,
   "id": "71fe8569-d897-452c-8c3c-a22bfd092188",
   "metadata": {},
   "outputs": [],
   "source": [
    "def should_continue(state: AgentState):\n",
    "    messages = state['messages']\n",
    "    last_message = messages[-1]\n",
    "    # This code checks if there are \n",
    "\n",
    "    if not last_message.tool_calls:\n",
    "        return 'end'\n",
    "    else:\n",
    "        return 'continue'"
   ]
  },
  {
   "cell_type": "code",
   "execution_count": 99,
   "id": "ef4c7b3b-a44d-4720-8013-6b44a825739e",
   "metadata": {},
   "outputs": [
    {
     "name": "stderr",
     "output_type": "stream",
     "text": [
      "/home/ali/AI/3.LangGraph-CodeCamp/venv/lib/python3.12/site-packages/langgraph/graph/state.py:911: LangGraphDeprecatedSinceV10: `config_type` is deprecated and will be removed. Please use `context_schema` instead. Deprecated in LangGraph V1.0 to be removed in V2.0.\n",
      "  super().__init__(**kwargs)\n"
     ]
    }
   ],
   "source": [
    "graph = StateGraph(AgentState)\n",
    "graph.add_node(\"our_agent\", model_call)\n",
    "\n",
    "tool_node = ToolNode(tools=tools)\n",
    "graph.add_node(\"tools\", tool_node)\n",
    "graph.set_entry_point(\"our_agent\")\n",
    "\n",
    "graph.add_conditional_edges(\n",
    "    \"our_agent\",\n",
    "    should_continue,\n",
    "    {\n",
    "        'continue': 'tools',\n",
    "        'end': END,\n",
    "    },\n",
    ")\n",
    "\n",
    "graph.add_edge(\"tools\", \"our_agent\")\n",
    "app = graph.compile()"
   ]
  },
  {
   "cell_type": "code",
   "execution_count": 100,
   "id": "9ca512be-5190-4289-85b6-8c646cfe149f",
   "metadata": {},
   "outputs": [
    {
     "data": {
      "image/png": "[encoded data removed]",
      "text/plain": [
       "<IPython.core.display.Image object>"
      ]
     },
     "metadata": {},
     "output_type": "display_data"
    }
   ],
   "source": [
    "from IPython.display import display, Image\n",
    "display(Image(app.get_graph().draw_mermaid_png()))"
   ]
  },
  {
   "cell_type": "code",
   "execution_count": 101,
   "id": "6579796a-be27-4a7c-979d-fb0dce6c3b66",
   "metadata": {},
   "outputs": [],
   "source": [
    "def print_stream(stream):\n",
    "    for s in stream:\n",
    "        message = s['messages'][-1]\n",
    "        if isinstance(message, tuple):\n",
    "            print(message)\n",
    "        else:\n",
    "            message.pretty_print()"
   ]
  },
  {
   "cell_type": "code",
   "execution_count": 103,
   "id": "017370ef-7e3f-4c5b-987d-29d271d1dcb7",
   "metadata": {},
   "outputs": [
    {
     "name": "stdout",
     "output_type": "stream",
     "text": [
      "================================\u001b[1m Human Message \u001b[0m=================================\n",
      "\n",
      "Who won the Champion League Final 2025?\n",
      "\n",
      "State is:  content='' additional_kwargs={} response_metadata={'model': 'qwen2.5', 'created_at': '2025-07-31T10:14:46.382419902Z', 'done': True, 'done_reason': 'stop', 'total_duration': 3922778324, 'load_duration': 26186317, 'prompt_eval_count': 194, 'prompt_eval_duration': 112946595, 'eval_count': 31, 'eval_duration': 3780268411, 'model_name': 'qwen2.5'} id='run--2fb958c0-d7ef-42b4-ba91-4e5ae1b7905c-0' tool_calls=[{'name': 'duckduckgo_search', 'args': {'query': 'Champion League Final 2025 winner'}, 'id': 'e482e521-8969-4053-93cd-6cc9daa00a1f', 'type': 'tool_call'}] usage_metadata={'input_tokens': 194, 'output_tokens': 31, 'total_tokens': 225}\n",
      "==================================\u001b[1m Ai Message \u001b[0m==================================\n",
      "Tool Calls:\n",
      "  duckduckgo_search (e482e521-8969-4053-93cd-6cc9daa00a1f)\n",
      " Call ID: e482e521-8969-4053-93cd-6cc9daa00a1f\n",
      "  Args:\n",
      "    query: Champion League Final 2025 winner\n"
     ]
    },
    {
     "name": "stderr",
     "output_type": "stream",
     "text": [
      "/home/ali/AI/3.LangGraph-CodeCamp/venv/lib/python3.12/site-packages/langchain_community/utilities/duckduckgo_search.py:63: RuntimeWarning: This package (`duckduckgo_search`) has been renamed to `ddgs`! Use `pip install ddgs` instead.\n",
      "  with DDGS() as ddgs:\n"
     ]
    },
    {
     "name": "stdout",
     "output_type": "stream",
     "text": [
      "=================================\u001b[1m Tool Message \u001b[0m=================================\n",
      "Name: duckduckgo_search\n",
      "\n",
      "72 rows · The UEFA Champions League (usually referred to as the \"Champions League\") is the … May 31, 2025 · Who won the UEFA Champions League final 2025? Paris Saint-Germain won the 2025 Champions League final after an astonishing 5-0 victory over Inter Milan in the final in … The match was played on 31 May 2025 at the Allianz Arena in Munich. The two teams playing were Paris Saint-Germain (PSG) of France, and Internazionale Milan of Italy. PSG won 5–0, a … PSG thrashed InternazionaleMilan 5-0 in the 2025 UEFA men’s Champions League final on Saturday (31 May). The French side dominated a one-sided showpiece event to finish the … Jun 1, 2025 · Champions League Final 2025 Highlights: Paris Saint-Germain won the Champions League for the first time by thrashing Inter Milan 5-0 on Saturday in the most one-sided final in …\n",
      "\n",
      "State is:  content='According to my search, Paris Saint-Germain won the UEFA Champions League Final 2025 with a 5-0 victory over Inter Milan. The match was played at the Allianz Arena in Munich on May 31, 2025.' additional_kwargs={} response_metadata={'model': 'qwen2.5', 'created_at': '2025-07-31T10:15:06.597142226Z', 'done': True, 'done_reason': 'stop', 'total_duration': 17888329543, 'load_duration': 25206588, 'prompt_eval_count': 474, 'prompt_eval_duration': 11711354751, 'eval_count': 57, 'eval_duration': 6133785144, 'model_name': 'qwen2.5'} id='run--8cf8cde5-9c87-43fa-95e3-ac29ed8c0188-0' usage_metadata={'input_tokens': 474, 'output_tokens': 57, 'total_tokens': 531}\n",
      "==================================\u001b[1m Ai Message \u001b[0m==================================\n",
      "\n",
      "According to my search, Paris Saint-Germain won the UEFA Champions League Final 2025 with a 5-0 victory over Inter Milan. The match was played at the Allianz Arena in Munich on May 31, 2025.\n"
     ]
    }
   ],
   "source": [
    "query = \"Who won the Champion League Final 2025?\"\n",
    "inputs = {'messages': [('user', query)]}\n",
    "print_stream(app.stream(inputs, stream_mode='values'))"
   ]
  },
  {
   "cell_type": "markdown",
   "id": "7c1f935a-a854-4429-9ad5-562d1f822b34",
   "metadata": {},
   "source": [
    "## Agent 4 - ReAct Agent: Easy Method\n",
    "Because ReAct Agents are so common, LangGraph has an __in-built method__ to create it with ease! So we will now create Agent 3 but in a much easier way.\n",
    "Agent 4 Aim:\n",
    "1. How to create ReAct Agents fast"
   ]
  },
  {
   "cell_type": "code",
   "execution_count": 106,
   "id": "a76db01e-d72e-40bf-9949-e864344c3a28",
   "metadata": {},
   "outputs": [],
   "source": [
    "from langgraph.prebuilt import create_react_agent\n",
    "from langchain_ollama import ChatOllama\n",
    "from langchain_core.messages import HumanMessage\n",
    "from langchain_community.tools import DuckDuckGoSearchRun"
   ]
  },
  {
   "cell_type": "code",
   "execution_count": 108,
   "id": "fee70128-3761-4f47-baa8-5c707fc77283",
   "metadata": {},
   "outputs": [
    {
     "name": "stderr",
     "output_type": "stream",
     "text": [
      "/tmp/ipykernel_10276/168827078.py:3: ResourceWarning: unclosed <socket.socket fd=52, family=2, type=1, proto=6, laddr=('127.0.0.1', 53144), raddr=('127.0.0.1', 11434)>\n",
      "  llm = ChatOllama(model = 'qwen2.5')\n",
      "ResourceWarning: Enable tracemalloc to get the object allocation traceback\n",
      "/home/ali/AI/3.LangGraph-CodeCamp/venv/lib/python3.12/site-packages/langgraph/graph/state.py:911: LangGraphDeprecatedSinceV10: `config_type` is deprecated and will be removed. Please use `context_schema` instead. Deprecated in LangGraph V1.0 to be removed in V2.0.\n",
      "  super().__init__(**kwargs)\n",
      "/home/ali/AI/3.LangGraph-CodeCamp/venv/lib/python3.12/site-packages/langchain_community/utilities/duckduckgo_search.py:63: RuntimeWarning: This package (`duckduckgo_search`) has been renamed to `ddgs`! Use `pip install ddgs` instead.\n",
      "  with DDGS() as ddgs:\n"
     ]
    }
   ],
   "source": [
    "tools = [DuckDuckGoSearchRun()]\n",
    "\n",
    "llm = ChatOllama(model = 'qwen2.5')\n",
    "\n",
    "agent = create_react_agent(\n",
    "    model = llm,\n",
    "    tools = tools,\n",
    "    name = 'search_agent',\n",
    "    prompt = \"You are my AI assistant that has access to certain tools. Use the tools to help me with my tasks.\"\n",
    ")\n",
    "\n",
    "result = agent.invoke({\n",
    "    \"messages\": [{'role': 'user', 'content': query}]\n",
    "})"
   ]
  },
  {
   "cell_type": "code",
   "execution_count": 110,
   "id": "fc23adc8-b29e-4fde-91d0-1b3d33c5e201",
   "metadata": {},
   "outputs": [
    {
     "name": "stdout",
     "output_type": "stream",
     "text": [
      "Tool Calls:\n",
      " Tool: duckduckgo_search, Args: {'query': 'Champion League Final 2025 winner'}\n",
      "\n",
      "Final Answer:\n",
      "According to the information found, Paris Saint-Germain won the UEFA Champions League final in 2025.\n"
     ]
    }
   ],
   "source": [
    "for msg in result ['messages']:\n",
    "    if hasattr(msg, 'tool_calls') and msg.tool_calls:\n",
    "        print(\"Tool Calls:\")\n",
    "        for call in msg.tool_calls:\n",
    "            print(f\" Tool: {call['name']}, Args: {call['args']}\")\n",
    "print(\"\\nFinal Answer:\")\n",
    "print(result['messages'][-1].content)"
   ]
  },
  {
   "cell_type": "markdown",
   "id": "8c18bcfe-4368-450c-a14f-e2a3e26d0d1d",
   "metadata": {},
   "source": [
    "Agent 5 Aim:\n",
    "1. How to create custom tools\n",
    "__Note:__ We are going to be using the inbuilt method to create ReAct Agents from now on."
   ]
  },
  {
   "cell_type": "code",
   "execution_count": 112,
   "id": "40b07f6a-6acb-4f2e-b495-013f5c9c1b9f",
   "metadata": {},
   "outputs": [],
   "source": [
    "from langchain_core.tools import tool\n",
    "from langgraph.prebuilt import create_react_agent\n",
    "from langchain_ollama import ChatOllama\n",
    "from langchain_core.messages import HumanMessage\n",
    "from langchain_community.tools import DuckDuckGoSearchRun\n",
    "from datetime import datetime"
   ]
  },
  {
   "cell_type": "code",
   "execution_count": 113,
   "id": "af52417d-58a1-479c-8a8a-e4d056f1ad25",
   "metadata": {},
   "outputs": [],
   "source": [
    "@tool\n",
    "def weather(city: str) -> str:\n",
    "    \"\"\"Get the weather in a given city\"\"\"\n",
    "    return f\"The weather in {city} is sunny\""
   ]
  },
  {
   "cell_type": "code",
   "execution_count": 114,
   "id": "948de959-3c9d-4792-b9ef-b05057b4ad18",
   "metadata": {},
   "outputs": [],
   "source": [
    "tools = [weather]"
   ]
  },
  {
   "cell_type": "code",
   "execution_count": 115,
   "id": "847c43b0-e3f7-449b-88bb-b24707d6188d",
   "metadata": {},
   "outputs": [
    {
     "name": "stderr",
     "output_type": "stream",
     "text": [
      "/home/ali/AI/3.LangGraph-CodeCamp/venv/lib/python3.12/site-packages/langgraph/graph/state.py:911: LangGraphDeprecatedSinceV10: `config_type` is deprecated and will be removed. Please use `context_schema` instead. Deprecated in LangGraph V1.0 to be removed in V2.0.\n",
      "  super().__init__(**kwargs)\n",
      "/tmp/ipykernel_10276/2084944482.py:2: ResourceWarning: unclosed <socket.socket fd=52, family=2, type=1, proto=6, laddr=('127.0.0.1', 60544), raddr=('127.0.0.1', 11434)>\n",
      "  agent = create_react_agent(\n",
      "ResourceWarning: Enable tracemalloc to get the object allocation traceback\n"
     ]
    }
   ],
   "source": [
    "llm = ChatOllama(model = 'qwen2.5')\n",
    "agent = create_react_agent(\n",
    "    model = llm,\n",
    "    tools = tools,\n",
    "    name = 'weather_agent',\n",
    "    prompt = \"You are my AI assistant that has access to certain tools. Use the tools to help me with my tasks.\"\n",
    ")"
   ]
  },
  {
   "cell_type": "code",
   "execution_count": 116,
   "id": "c441e1c9-21ec-40f7-9fe5-36f7b8eacc08",
   "metadata": {},
   "outputs": [],
   "source": [
    "result = agent.invoke({\n",
    "    'messages': [{'role': 'user', 'content': f\"What is the weather in London?\"}]\n",
    "})"
   ]
  },
  {
   "cell_type": "code",
   "execution_count": 117,
   "id": "a544ece0-c3c1-48cc-bba2-a5817adb83a9",
   "metadata": {},
   "outputs": [
    {
     "name": "stdout",
     "output_type": "stream",
     "text": [
      "Tool Calls:\n",
      " Tool: weather, Args: {'city': 'London'}\n",
      "\n",
      "Final Answer: \n",
      "The weather in London is currently sunny.\n"
     ]
    }
   ],
   "source": [
    "for msg in result['messages']:\n",
    "    if hasattr(msg, 'tool_calls') and msg.tool_calls:\n",
    "        print(\"Tool Calls:\")\n",
    "        for call in msg.tool_calls:\n",
    "            print(f\" Tool: {call['name']}, Args: {call['args']}\")\n",
    "\n",
    "print(\"\\nFinal Answer: \")\n",
    "print(result['messages'][-1].content)"
   ]
  },
  {
   "cell_type": "code",
   "execution_count": 118,
   "id": "fa9de254-5521-46d1-9f83-12116e20222e",
   "metadata": {},
   "outputs": [],
   "source": [
    "@tool\n",
    "def social_media_follower_count(social_media: str) -> str:\n",
    "    \"\"\"Retrieves the current follower count for a specified social media platform.\n",
    "    \n",
    "    Args:\n",
    "        social_media (str): The name of the social media platform (e.g., 'twitter', 'instagram', 'linkedin')\n",
    "\n",
    "    Returns:\n",
    "        str: The follower count as a formatted string\n",
    "\n",
    "    Example:\n",
    "        >>> social_media_follower_count('twitter')\n",
    "        '1,234 followers'\n",
    "    \"\"\"\n",
    "\n",
    "    return f\"You have 9876 followers on {social_media}\""
   ]
  },
  {
   "cell_type": "code",
   "execution_count": 119,
   "id": "74916b38-0953-457a-b6f5-a41db0e413eb",
   "metadata": {},
   "outputs": [
    {
     "name": "stderr",
     "output_type": "stream",
     "text": [
      "/home/ali/AI/3.LangGraph-CodeCamp/venv/lib/python3.12/site-packages/langgraph/graph/state.py:911: LangGraphDeprecatedSinceV10: `config_type` is deprecated and will be removed. Please use `context_schema` instead. Deprecated in LangGraph V1.0 to be removed in V2.0.\n",
      "  super().__init__(**kwargs)\n"
     ]
    }
   ],
   "source": [
    "tools = [weather, social_media_follower_count]\n",
    "llm = ChatOllama(model = 'qwen2.5')\n",
    "\n",
    "agent = create_react_agent(\n",
    "    model = llm,\n",
    "    tools = tools,\n",
    "    name = 'general_agent',\n",
    "    prompt = \"You are my AI assistant that has access to certain tools. Use the tools to help me with my tasks.\",\n",
    ")"
   ]
  },
  {
   "cell_type": "code",
   "execution_count": 120,
   "id": "5b5af110-5433-4b5a-97cc-656c34947e1c",
   "metadata": {},
   "outputs": [],
   "source": [
    "result = agent.invoke({\n",
    "    'messages': [{\"role\": \"user\", \"content\": f\"What is the weather in London and how many followers do I have on Instagram? What baout Twitter?\"}]\n",
    "})\n"
   ]
  },
  {
   "cell_type": "code",
   "execution_count": 121,
   "id": "58e80a71-4de0-45c2-b0c4-c705503f44f3",
   "metadata": {},
   "outputs": [
    {
     "name": "stdout",
     "output_type": "stream",
     "text": [
      "Tool Calls:\n",
      " Tool: weather, Args: {'city': 'London'}\n",
      " Tool: social_media_follower_count, Args: {'social_media': 'instagram'}\n",
      " Tool: social_media_follower_count, Args: {'social_media': 'twitter'}\n",
      "\n",
      "Final Answer:\n",
      "The weather in London is currently sunny. \n",
      "\n",
      "On Instagram, you have 9,876 followers.\n",
      "\n",
      "It seems like you have the same number of followers (9,876) on Twitter as well.\n"
     ]
    }
   ],
   "source": [
    "for msg in result['messages']:\n",
    "    if hasattr(msg, 'tool_calls') and msg.tool_calls:\n",
    "        print('Tool Calls:')\n",
    "        for call in msg.tool_calls:\n",
    "            print(f\" Tool: {call['name']}, Args: {call['args']}\")\n",
    "\n",
    "print(\"\\nFinal Answer:\")\n",
    "print(result['messages'][-1].content)"
   ]
  },
  {
   "cell_type": "code",
   "execution_count": null,
   "id": "5b9dfe3c-4748-41a6-b975-91d2fd5afa5b",
   "metadata": {},
   "outputs": [],
   "source": []
  }
 ],
 "metadata": {
  "kernelspec": {
   "display_name": "Python 3 (ipykernel)",
   "language": "python",
   "name": "python3"
  },
  "language_info": {
   "codemirror_mode": {
    "name": "ipython",
    "version": 3
   },
   "file_extension": ".py",
   "mimetype": "text/x-python",
   "name": "python",
   "nbconvert_exporter": "python",
   "pygments_lexer": "ipython3",
   "version": "3.12.3"
  }
 },
 "nbformat": 4,
 "nbformat_minor": 5
}
