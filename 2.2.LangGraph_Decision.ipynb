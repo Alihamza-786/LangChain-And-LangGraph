{
 "cells": [
  {
   "cell_type": "code",
   "execution_count": 25,
   "id": "6991bb05-94e6-48cb-9383-6b1a7002cb28",
   "metadata": {},
   "outputs": [],
   "source": [
    "from dotenv import load_dotenv\n",
    "from typing import Annotated, Literal\n",
    "from langgraph.graph import StateGraph, START, END\n",
    "from langchain_openai import ChatOpenAI\n",
    "from langgraph.graph.message import add_messages\n",
    "from langchain.chat_models import init_chat_model\n",
    "from pydantic import BaseModel, Field\n",
    "from typing_extensions import TypedDict\n",
    "from langchain_core.callbacks import StreamingStdOutCallbackHandler\n",
    "llm = ChatOpenAI(\n",
    "    api_key=\"ollama\",\n",
    "    model=\"llama3.1\",\n",
    "    streaming=True,\n",
    "    callbacks=[StreamingStdOutCallbackHandler()],\n",
    "    base_url=\"http://localhost:11434/v1\",\n",
    ")"
   ]
  },
  {
   "cell_type": "code",
   "execution_count": 26,
   "id": "66807269-3dd0-4d5b-994f-233c0e20e13b",
   "metadata": {},
   "outputs": [],
   "source": [
    "class MessageClassifier(BaseModel):\n",
    "    message_type: Literal[\"emotional\", \"logical\"] = Field(\n",
    "        ...,\n",
    "        description=\"Classify if the message requires an emotional (therapist) or logical response.\"\n",
    "    )\n",
    "\n",
    "class State(TypedDict):\n",
    "    messages: Annotated[list, add_messages]\n",
    "    message_type: str | None"
   ]
  },
  {
   "cell_type": "code",
   "execution_count": 27,
   "id": "23bc6873-476f-4d63-a60a-c19859e148f6",
   "metadata": {},
   "outputs": [],
   "source": [
    "def classify_message(state: State):\n",
    "    last_message = state[\"messages\"][-1]\n",
    "    classifier_llm = llm.with_structured_output(MessageClassifier)\n",
    "    \n",
    "    result = classifier_llm.invoke([\n",
    "        {\n",
    "            \"role\": \"system\",\n",
    "            \"content\": \"\"\"Classify the user message as either:\n",
    "            - 'emotional': if it asks for emotional support, therapy, deals with feelings, or personal problems\n",
    "            - 'logical': if it asks for facts, information, logical analysis, or practical solutions\n",
    "            \"\"\"\n",
    "        },\n",
    "        {\"role\": \"user\", \"content\": last_message.content}\n",
    "    ])\n",
    "    return {\"message_type\": result.message_type}"
   ]
  },
  {
   "cell_type": "code",
   "execution_count": 28,
   "id": "95890e87-fdd7-401c-b2c6-71d6391da1f1",
   "metadata": {},
   "outputs": [],
   "source": [
    "    \n",
    "def router(state: State):\n",
    "    message_type = state.get(\"message_type\", \"logical\")\n",
    "    if message_type == \"emotional\":\n",
    "        return {\"next\": \"therapist\"}\n",
    "\n",
    "    return {\"next\": \"logical\"}"
   ]
  },
  {
   "cell_type": "code",
   "execution_count": 29,
   "id": "43063a76-a436-438c-9914-09a02eb33cce",
   "metadata": {},
   "outputs": [],
   "source": [
    "def therapist_agent(state: State):\n",
    "    last_message = state[\"messages\"][-1]\n",
    "\n",
    "    messages = [\n",
    "        {\"role\": \"system\",\n",
    "         \"content\": \"\"\"You are a compassionate therapist. Focus on the emotional aspects of the user's message.\n",
    "                        Show empathy, validate their feelings, and help them process their emotions.\n",
    "                        Ask thoughtful questions to help them explore their feelings more deeply.\n",
    "                        Avoid giving logical solutions unless explicitly asked.\"\"\"\n",
    "         },\n",
    "        {\n",
    "            \"role\": \"user\",\n",
    "            \"content\": last_message.content\n",
    "        }\n",
    "    ]\n",
    "    reply = llm.invoke(messages)\n",
    "    return {\"messages\": [{\"role\": \"assistant\", \"content\": reply.content}]}"
   ]
  },
  {
   "cell_type": "code",
   "execution_count": 30,
   "id": "ae71473e-06fe-4ca2-aa38-75380e32e7c2",
   "metadata": {},
   "outputs": [],
   "source": [
    "def logical_agent(state: State):\n",
    "    last_message = state[\"messages\"][-1]\n",
    "\n",
    "    messages = [\n",
    "        {\"role\": \"system\",\n",
    "         \"content\": \"\"\"You are a purely logical assistant. Focus only on facts and information.\n",
    "            Provide clear, concise answers based on logic and evidence.\n",
    "            Do not address emotions or provide emotional support.\n",
    "            Be direct and straightforward in your responses.\"\"\"\n",
    "         },\n",
    "        {\n",
    "            \"role\": \"user\",\n",
    "            \"content\": last_message.content\n",
    "        }\n",
    "    ]\n",
    "    reply = llm.invoke(messages)\n",
    "    return {\"messages\": [{\"role\": \"assistant\", \"content\": reply.content}]}"
   ]
  },
  {
   "cell_type": "code",
   "execution_count": 31,
   "id": "fada7da7-d741-44c2-b87c-43b96f369291",
   "metadata": {},
   "outputs": [],
   "source": [
    "graph_builder = StateGraph(State)\n",
    "\n",
    "graph_builder.add_node(\"classifier\", classify_message)\n",
    "graph_builder.add_node(\"router\", router)\n",
    "graph_builder.add_node(\"therapist\", therapist_agent)\n",
    "graph_builder.add_node(\"logical\", logical_agent)\n",
    "\n",
    "graph_builder.add_edge(START, \"classifier\")\n",
    "graph_builder.add_edge(\"classifier\", \"router\")\n",
    "\n",
    "graph_builder.add_conditional_edges(\n",
    "    \"router\",\n",
    "    lambda state: state.get(\"next\"),\n",
    "    {\"therapist\": \"therapist\", \"logical\": \"logical\"}\n",
    ")\n",
    "\n",
    "graph_builder.add_edge(\"therapist\", END)\n",
    "graph_builder.add_edge(\"logical\", END)\n",
    "\n",
    "graph = graph_builder.compile()"
   ]
  },
  {
   "cell_type": "code",
   "execution_count": 32,
   "id": "43d3a9b0-db1f-44d7-a331-6f79634b3693",
   "metadata": {},
   "outputs": [
    {
     "name": "stdin",
     "output_type": "stream",
     "text": [
      "Message:  hey im really sad right now\n"
     ]
    },
    {
     "name": "stdout",
     "output_type": "stream",
     "text": [
      "{ \"message_type\": \"emotional\" }It takes a lot of courage to acknowledge and express sadness. What's currently making you feel this way? Is there something specific that's been weighing on your mind or heart lately?Assistant: It takes a lot of courage to acknowledge and express sadness. What's currently making you feel this way? Is there something specific that's been weighing on your mind or heart lately?\n"
     ]
    },
    {
     "name": "stdin",
     "output_type": "stream",
     "text": [
      "Message:  i need some hard solid advice about buying a house\n"
     ]
    },
    {
     "name": "stdout",
     "output_type": "stream",
     "text": [
      "{\"message_type\":\"logical\"}Here are some practical and evidence-based considerations to keep in mind when buying a house:\n",
      "\n",
      "1. **Determine your affordability**: Calculate the maximum home price you can afford based on your income, debts, credit score, and other financial obligations.\n",
      "2. **Get pre-approved for a mortgage**: Contact a lender or financial institution to verify what loan options are available to you and how much you may be able to borrow.\n",
      "3. **Consider costs beyond the purchase price**:\n",
      "\t* Closing costs (2-5% of the home's value)\n",
      "\t* Property taxes\n",
      "\t* Homeowners insurance\n",
      "\t* Maintenance and repair costs\n",
      "4. **Assess local market conditions**: Research the housing market in your desired location, including:\n",
      "\t* Median home prices\n",
      "\t* Average days on market\n",
      "\t* Local economic trends\n",
      "5. **Evaluating a property**:\n",
      "\t* Inspect the property for potential issues (e.g., pests, structural damage)\n",
      "\t* Consider factors like proximity to amenities, public transportation, and schools\n",
      "6. **Prioritize needs over wants**: Be clear about your priorities when it comes to features in a home, such as number of bedrooms, square footage, or location.\n",
      "7. **Carefully review the contract**:\n",
      "\t* Understand all terms and conditions\n",
      "\t* Ask questions if you're unsure about any aspect of the purchase agreement\n",
      "\n",
      "It's also recommended to consult with a real estate agent and/or financial advisor to ensure you have a comprehensive understanding of the home-buying process.\n",
      "\n",
      "Please let me know if you'd like more specific guidance or information on any of these topics.Assistant: Here are some practical and evidence-based considerations to keep in mind when buying a house:\n",
      "\n",
      "1. **Determine your affordability**: Calculate the maximum home price you can afford based on your income, debts, credit score, and other financial obligations.\n",
      "2. **Get pre-approved for a mortgage**: Contact a lender or financial institution to verify what loan options are available to you and how much you may be able to borrow.\n",
      "3. **Consider costs beyond the purchase price**:\n",
      "\t* Closing costs (2-5% of the home's value)\n",
      "\t* Property taxes\n",
      "\t* Homeowners insurance\n",
      "\t* Maintenance and repair costs\n",
      "4. **Assess local market conditions**: Research the housing market in your desired location, including:\n",
      "\t* Median home prices\n",
      "\t* Average days on market\n",
      "\t* Local economic trends\n",
      "5. **Evaluating a property**:\n",
      "\t* Inspect the property for potential issues (e.g., pests, structural damage)\n",
      "\t* Consider factors like proximity to amenities, public transportation, and schools\n",
      "6. **Prioritize needs over wants**: Be clear about your priorities when it comes to features in a home, such as number of bedrooms, square footage, or location.\n",
      "7. **Carefully review the contract**:\n",
      "\t* Understand all terms and conditions\n",
      "\t* Ask questions if you're unsure about any aspect of the purchase agreement\n",
      "\n",
      "It's also recommended to consult with a real estate agent and/or financial advisor to ensure you have a comprehensive understanding of the home-buying process.\n",
      "\n",
      "Please let me know if you'd like more specific guidance or information on any of these topics.\n"
     ]
    },
    {
     "name": "stdin",
     "output_type": "stream",
     "text": [
      "Message:  exit\n"
     ]
    },
    {
     "name": "stdout",
     "output_type": "stream",
     "text": [
      "Bye\n"
     ]
    }
   ],
   "source": [
    "def run_chatbot():\n",
    "    state = {\"messages\": [], \"message_type\": None}\n",
    "\n",
    "    while True:\n",
    "        user_input = input(\"Message: \")\n",
    "        if user_input == \"exit\":\n",
    "            print(\"Bye\")\n",
    "            break\n",
    "\n",
    "        state[\"messages\"] = state.get(\"messages\", []) + [\n",
    "            {\"role\": \"user\", \"content\": user_input}\n",
    "        ]\n",
    "\n",
    "        state = graph.invoke(state)\n",
    "\n",
    "        if state.get(\"messages\") and len(state[\"messages\"]) > 0:\n",
    "            last_message = state[\"messages\"][-1]\n",
    "            print(f\"Assistant: {last_message.content}\")\n",
    "\n",
    "\n",
    "if __name__ == \"__main__\":\n",
    "    run_chatbot()"
   ]
  },
  {
   "cell_type": "code",
   "execution_count": null,
   "id": "0048c876-84bf-45b3-ab24-af4f185c3b9e",
   "metadata": {},
   "outputs": [],
   "source": []
  }
 ],
 "metadata": {
  "kernelspec": {
   "display_name": "Python 3 (ipykernel)",
   "language": "python",
   "name": "python3"
  },
  "language_info": {
   "codemirror_mode": {
    "name": "ipython",
    "version": 3
   },
   "file_extension": ".py",
   "mimetype": "text/x-python",
   "name": "python",
   "nbconvert_exporter": "python",
   "pygments_lexer": "ipython3",
   "version": "3.12.7"
  }
 },
 "nbformat": 4,
 "nbformat_minor": 5
}
