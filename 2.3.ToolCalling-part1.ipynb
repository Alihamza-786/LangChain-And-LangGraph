{
 "cells": [
  {
   "cell_type": "code",
   "execution_count": 3,
   "id": "b309c2c0-1149-4386-988b-851896734928",
   "metadata": {},
   "outputs": [
    {
     "name": "stdout",
     "output_type": "stream",
     "text": [
      "2025-10-02 15:08:37 - HTTP Request: POST https://api.openai.com/v1/chat/completions \"HTTP/1.1 200 OK\"\n",
      "content='' additional_kwargs={'tool_calls': [{'id': 'call_RLrrW39MStnOpeF6qy2j0NKH', 'function': {'arguments': '{\"location\":\"Bengaluru, India\"}', 'name': 'get_weather'}, 'type': 'function'}], 'refusal': None} response_metadata={'token_usage': {'completion_tokens': 28, 'prompt_tokens': 185, 'total_tokens': 213, 'completion_tokens_details': {'accepted_prediction_tokens': 0, 'audio_tokens': 0, 'reasoning_tokens': 0, 'rejected_prediction_tokens': 0}, 'prompt_tokens_details': {'audio_tokens': 0, 'cached_tokens': 0}}, 'model_name': 'gpt-5-mini-2025-08-07', 'system_fingerprint': None, 'id': 'chatcmpl-CMAWiq5ek07N4pD5MwYSssEDfnEqE', 'service_tier': 'default', 'finish_reason': 'tool_calls', 'logprobs': None} id='run--40ffdf8f-63d0-4fe4-94ee-a4babc971eb9-0' tool_calls=[{'name': 'get_weather', 'args': {'location': 'Bengaluru, India'}, 'id': 'call_RLrrW39MStnOpeF6qy2j0NKH', 'type': 'tool_call'}] usage_metadata={'input_tokens': 185, 'output_tokens': 28, 'total_tokens': 213, 'input_token_details': {'audio': 0, 'cache_read': 0}, 'output_token_details': {'audio': 0, 'reasoning': 0}}\n"
     ]
    }
   ],
   "source": [
    "import asyncio\n",
    "import chainlit as cl\n",
    "\n",
    "from typing import TypedDict, List\n",
    "from langgraph.graph import StateGraph, START, END\n",
    "from langchain.chat_models import init_chat_model\n",
    "from langchain_core.messages import BaseMessage, AIMessage\n",
    "from similarity import similarity_search\n",
    "from langchain_core.tools import tool\n",
    "from langchain_tavily import TavilySearch\n",
    "from langchain_openai import ChatOpenAI\n",
    "# Initialize LLM\n",
    "\n",
    "llm = ChatOpenAI(model=\"gpt-5-mini\")\n",
    "\n",
    "# Initialize Tavily search client\n",
    "tavily = TavilySearch(max_results=2)\n",
    "\n",
    "@tool\n",
    "def google_search(query: str) -> str:\n",
    "    \"\"\"it is used to do google search\"\"\"\n",
    "    results = tavily.run(query)\n",
    "    return results\n",
    "\n",
    "@tool\n",
    "def get_weather(location: str):\n",
    "    \"\"\"Call to get the current weather.\"\"\"\n",
    "    if location.lower() in [\"bangalore\"]:\n",
    "        return \"It's 15 degrees Celsius and cloudy.\"\n",
    "    else:\n",
    "        return \"It's 32 degrees Celsius and sunny.\"\n",
    "\n",
    "@tool\n",
    "def check_seating_availability(location: str, seating_type: str):\n",
    "    \"\"\"Call to check seating availability.\"\"\"\n",
    "    if location.lower() == \"bangalore\" and seating_type.lower() == \"outdoor\":\n",
    "        return \"Yes, we still have seats available outdoors.\"\n",
    "    elif location.lower() == \"bangalore\" and seating_type.lower() == \"indoor\":\n",
    "        return \"Yes, we have indoor seating available.\"\n",
    "    else:\n",
    "        return \"Sorry, seating information for this location is unavailable.\"\n",
    "        \n",
    "tools = [get_weather, check_seating_availability, google_search]\n",
    "\n",
    "llm_with_tools = llm.bind_tools(tools)\n",
    "\n",
    "result = llm_with_tools.invoke(\"How will the weather be in bangalore today?\")\n",
    "print(result)"
   ]
  },
  {
   "cell_type": "code",
   "execution_count": 4,
   "id": "2ce95059-6aca-4b30-8dce-93cea5caf9aa",
   "metadata": {},
   "outputs": [
    {
     "data": {
      "text/plain": [
       "[{'name': 'get_weather',\n",
       "  'args': {'location': 'Bengaluru, India'},\n",
       "  'id': 'call_RLrrW39MStnOpeF6qy2j0NKH',\n",
       "  'type': 'tool_call'}]"
      ]
     },
     "execution_count": 4,
     "metadata": {},
     "output_type": "execute_result"
    }
   ],
   "source": [
    "result.tool_calls"
   ]
  },
  {
   "cell_type": "code",
   "execution_count": 5,
   "id": "3192807f-26d1-4140-81c7-caaa99a93ab9",
   "metadata": {},
   "outputs": [
    {
     "name": "stdout",
     "output_type": "stream",
     "text": [
      "2025-10-02 15:08:45 - HTTP Request: POST https://api.openai.com/v1/chat/completions \"HTTP/1.1 200 OK\"\n"
     ]
    }
   ],
   "source": [
    "result = llm_with_tools.invoke(\n",
    "    \"How will the weather be in bangalore today? Do you still have seats outdoor available?\"\n",
    ")"
   ]
  },
  {
   "cell_type": "code",
   "execution_count": 6,
   "id": "baa9baa7-d927-4632-a260-5f6286b25a2e",
   "metadata": {},
   "outputs": [
    {
     "data": {
      "text/plain": [
       "AIMessage(content='', additional_kwargs={'tool_calls': [{'id': 'call_B8S74AwEbZdVrPKlrO4yMzrz', 'function': {'arguments': '{\"location\": \"Bangalore, India\"}', 'name': 'get_weather'}, 'type': 'function'}, {'id': 'call_TPm3V9TY6ouTI2kiuT9dNPeN', 'function': {'arguments': '{\"location\": \"Bangalore\", \"seating_type\": \"outdoor\"}', 'name': 'check_seating_availability'}, 'type': 'function'}], 'refusal': None}, response_metadata={'token_usage': {'completion_tokens': 131, 'prompt_tokens': 193, 'total_tokens': 324, 'completion_tokens_details': {'accepted_prediction_tokens': 0, 'audio_tokens': 0, 'reasoning_tokens': 64, 'rejected_prediction_tokens': 0}, 'prompt_tokens_details': {'audio_tokens': 0, 'cached_tokens': 0}}, 'model_name': 'gpt-5-mini-2025-08-07', 'system_fingerprint': None, 'id': 'chatcmpl-CMAWnGD3riZDky8epjNVLb2BuB52w', 'service_tier': 'default', 'finish_reason': 'tool_calls', 'logprobs': None}, id='run--76f9c81f-ca6a-4fa7-a9ff-f134953d165e-0', tool_calls=[{'name': 'get_weather', 'args': {'location': 'Bangalore, India'}, 'id': 'call_B8S74AwEbZdVrPKlrO4yMzrz', 'type': 'tool_call'}, {'name': 'check_seating_availability', 'args': {'location': 'Bangalore', 'seating_type': 'outdoor'}, 'id': 'call_TPm3V9TY6ouTI2kiuT9dNPeN', 'type': 'tool_call'}], usage_metadata={'input_tokens': 193, 'output_tokens': 131, 'total_tokens': 324, 'input_token_details': {'audio': 0, 'cache_read': 0}, 'output_token_details': {'audio': 0, 'reasoning': 64}})"
      ]
     },
     "execution_count": 6,
     "metadata": {},
     "output_type": "execute_result"
    }
   ],
   "source": [
    " result"
   ]
  },
  {
   "cell_type": "code",
   "execution_count": 7,
   "id": "b0599562-47bb-4c64-a8fd-552854d68c6a",
   "metadata": {},
   "outputs": [
    {
     "data": {
      "text/plain": [
       "[{'name': 'get_weather',\n",
       "  'args': {'location': 'Bangalore, India'},\n",
       "  'id': 'call_B8S74AwEbZdVrPKlrO4yMzrz',\n",
       "  'type': 'tool_call'},\n",
       " {'name': 'check_seating_availability',\n",
       "  'args': {'location': 'Bangalore', 'seating_type': 'outdoor'},\n",
       "  'id': 'call_TPm3V9TY6ouTI2kiuT9dNPeN',\n",
       "  'type': 'tool_call'}]"
      ]
     },
     "execution_count": 7,
     "metadata": {},
     "output_type": "execute_result"
    }
   ],
   "source": [
    "result.tool_calls"
   ]
  },
  {
   "cell_type": "markdown",
   "id": "a3912244-971d-4587-a03d-02a0a28fc895",
   "metadata": {},
   "source": [
    "# Implement Tool Calling"
   ]
  },
  {
   "cell_type": "code",
   "execution_count": 8,
   "id": "10975796-dd29-46a7-ab34-45af862d00ee",
   "metadata": {},
   "outputs": [],
   "source": [
    "tool_mapping = {\n",
    "    \"get_weather\": get_weather,\n",
    "    \"check_seating_availability\": check_seating_availability\n",
    "}"
   ]
  },
  {
   "cell_type": "code",
   "execution_count": 9,
   "id": "715f1192-75c7-4f04-a978-1a3d167045c4",
   "metadata": {},
   "outputs": [],
   "source": [
    "from langchain_core.messages import HumanMessage, ToolMessage"
   ]
  },
  {
   "cell_type": "code",
   "execution_count": 10,
   "id": "e237fa29-7c03-4274-9ace-27ecabeb89c2",
   "metadata": {},
   "outputs": [],
   "source": [
    "messages = [\n",
    "    HumanMessage(\n",
    "        \"How will the weather be in bangalore today? Do you still have seats outdoor available?\"\n",
    "    )\n",
    "]"
   ]
  },
  {
   "cell_type": "code",
   "execution_count": 11,
   "id": "366721b2-a56d-4964-84f2-7888ce9e8cb3",
   "metadata": {},
   "outputs": [
    {
     "name": "stdout",
     "output_type": "stream",
     "text": [
      "2025-10-02 15:12:44 - HTTP Request: POST https://api.openai.com/v1/chat/completions \"HTTP/1.1 200 OK\"\n"
     ]
    }
   ],
   "source": [
    "llm_output = llm_with_tools.invoke(messages)\n",
    "messages.append(llm_output)"
   ]
  },
  {
   "cell_type": "code",
   "execution_count": 12,
   "id": "9b140faa-67c8-4dc1-8a49-8b9bec5420b9",
   "metadata": {},
   "outputs": [
    {
     "data": {
      "text/plain": [
       "[HumanMessage(content='How will the weather be in bangalore today? Do you still have seats outdoor available?', additional_kwargs={}, response_metadata={}),\n",
       " AIMessage(content='', additional_kwargs={'tool_calls': [{'id': 'call_Rmajv9EpyiTJSoQTCUItxstu', 'function': {'arguments': '{\"location\": \"Bangalore\"}', 'name': 'get_weather'}, 'type': 'function'}, {'id': 'call_TYZlGuoPyw3jgy2lK8J3kXXU', 'function': {'arguments': '{\"location\": \"Bangalore\", \"seating_type\": \"outdoor\"}', 'name': 'check_seating_availability'}, 'type': 'function'}], 'refusal': None}, response_metadata={'token_usage': {'completion_tokens': 193, 'prompt_tokens': 193, 'total_tokens': 386, 'completion_tokens_details': {'accepted_prediction_tokens': 0, 'audio_tokens': 0, 'reasoning_tokens': 128, 'rejected_prediction_tokens': 0}, 'prompt_tokens_details': {'audio_tokens': 0, 'cached_tokens': 0}}, 'model_name': 'gpt-5-mini-2025-08-07', 'system_fingerprint': None, 'id': 'chatcmpl-CMAafEAmi2f6CzrHcVN3jn86x8NG8', 'service_tier': 'default', 'finish_reason': 'tool_calls', 'logprobs': None}, id='run--099c6804-d068-4d5c-ae7e-f92204d36b32-0', tool_calls=[{'name': 'get_weather', 'args': {'location': 'Bangalore'}, 'id': 'call_Rmajv9EpyiTJSoQTCUItxstu', 'type': 'tool_call'}, {'name': 'check_seating_availability', 'args': {'location': 'Bangalore', 'seating_type': 'outdoor'}, 'id': 'call_TYZlGuoPyw3jgy2lK8J3kXXU', 'type': 'tool_call'}], usage_metadata={'input_tokens': 193, 'output_tokens': 193, 'total_tokens': 386, 'input_token_details': {'audio': 0, 'cache_read': 0}, 'output_token_details': {'audio': 0, 'reasoning': 128}})]"
      ]
     },
     "execution_count": 12,
     "metadata": {},
     "output_type": "execute_result"
    }
   ],
   "source": [
    "messages"
   ]
  },
  {
   "cell_type": "code",
   "execution_count": 13,
   "id": "95194259-9fba-4237-9889-cef05d4ae7c4",
   "metadata": {},
   "outputs": [],
   "source": [
    "for tool_call in llm_output.tool_calls:\n",
    "    tool = tool_mapping[tool_call[\"name\"].lower()]\n",
    "    tool_output = tool.invoke(tool_call[\"args\"])\n",
    "    messages.append(ToolMessage(tool_output, tool_call_id=tool_call[\"id\"]))"
   ]
  },
  {
   "cell_type": "code",
   "execution_count": 14,
   "id": "ca002f7a-b552-4812-a211-abd2a38acc15",
   "metadata": {},
   "outputs": [
    {
     "data": {
      "text/plain": [
       "[HumanMessage(content='How will the weather be in bangalore today? Do you still have seats outdoor available?', additional_kwargs={}, response_metadata={}),\n",
       " AIMessage(content='', additional_kwargs={'tool_calls': [{'id': 'call_Rmajv9EpyiTJSoQTCUItxstu', 'function': {'arguments': '{\"location\": \"Bangalore\"}', 'name': 'get_weather'}, 'type': 'function'}, {'id': 'call_TYZlGuoPyw3jgy2lK8J3kXXU', 'function': {'arguments': '{\"location\": \"Bangalore\", \"seating_type\": \"outdoor\"}', 'name': 'check_seating_availability'}, 'type': 'function'}], 'refusal': None}, response_metadata={'token_usage': {'completion_tokens': 193, 'prompt_tokens': 193, 'total_tokens': 386, 'completion_tokens_details': {'accepted_prediction_tokens': 0, 'audio_tokens': 0, 'reasoning_tokens': 128, 'rejected_prediction_tokens': 0}, 'prompt_tokens_details': {'audio_tokens': 0, 'cached_tokens': 0}}, 'model_name': 'gpt-5-mini-2025-08-07', 'system_fingerprint': None, 'id': 'chatcmpl-CMAafEAmi2f6CzrHcVN3jn86x8NG8', 'service_tier': 'default', 'finish_reason': 'tool_calls', 'logprobs': None}, id='run--099c6804-d068-4d5c-ae7e-f92204d36b32-0', tool_calls=[{'name': 'get_weather', 'args': {'location': 'Bangalore'}, 'id': 'call_Rmajv9EpyiTJSoQTCUItxstu', 'type': 'tool_call'}, {'name': 'check_seating_availability', 'args': {'location': 'Bangalore', 'seating_type': 'outdoor'}, 'id': 'call_TYZlGuoPyw3jgy2lK8J3kXXU', 'type': 'tool_call'}], usage_metadata={'input_tokens': 193, 'output_tokens': 193, 'total_tokens': 386, 'input_token_details': {'audio': 0, 'cache_read': 0}, 'output_token_details': {'audio': 0, 'reasoning': 128}}),\n",
       " ToolMessage(content=\"It's 15 degrees Celsius and cloudy.\", tool_call_id='call_Rmajv9EpyiTJSoQTCUItxstu'),\n",
       " ToolMessage(content='Yes, we still have seats available outdoors.', tool_call_id='call_TYZlGuoPyw3jgy2lK8J3kXXU')]"
      ]
     },
     "execution_count": 14,
     "metadata": {},
     "output_type": "execute_result"
    }
   ],
   "source": [
    "messages"
   ]
  },
  {
   "cell_type": "code",
   "execution_count": 15,
   "id": "e42a8a87-621c-4d87-a281-308eba862995",
   "metadata": {},
   "outputs": [
    {
     "name": "stdout",
     "output_type": "stream",
     "text": [
      "2025-10-02 15:16:17 - HTTP Request: POST https://api.openai.com/v1/chat/completions \"HTTP/1.1 200 OK\"\n"
     ]
    },
    {
     "data": {
      "text/plain": [
       "AIMessage(content='Today in Bangalore it’s about 15°C and cloudy. Yes — we still have outdoor seats available.\\n\\nWould you like me to reserve a table? If so, tell me the date/time and party size (and any special requests). Note: weather can change, so we can move you to covered seating if needed.', additional_kwargs={'refusal': None}, response_metadata={'token_usage': {'completion_tokens': 265, 'prompt_tokens': 285, 'total_tokens': 550, 'completion_tokens_details': {'accepted_prediction_tokens': 0, 'audio_tokens': 0, 'reasoning_tokens': 192, 'rejected_prediction_tokens': 0}, 'prompt_tokens_details': {'audio_tokens': 0, 'cached_tokens': 0}}, 'model_name': 'gpt-5-mini-2025-08-07', 'system_fingerprint': None, 'id': 'chatcmpl-CMAe3DOPT4CYCbp6Ph8utheIrG6DX', 'service_tier': 'default', 'finish_reason': 'stop', 'logprobs': None}, id='run--8a4a3fab-044b-431f-8c78-a1e5a9ec3e05-0', usage_metadata={'input_tokens': 285, 'output_tokens': 265, 'total_tokens': 550, 'input_token_details': {'audio': 0, 'cache_read': 0}, 'output_token_details': {'audio': 0, 'reasoning': 192}})"
      ]
     },
     "execution_count": 15,
     "metadata": {},
     "output_type": "execute_result"
    }
   ],
   "source": [
    "res = llm_with_tools.invoke(messages)\n",
    "res"
   ]
  },
  {
   "cell_type": "code",
   "execution_count": 16,
   "id": "a6a0a24b-b384-48aa-8f2b-dd11d9a34ef3",
   "metadata": {},
   "outputs": [
    {
     "name": "stdout",
     "output_type": "stream",
     "text": [
      "Today in Bangalore it’s about 15°C and cloudy. Yes — we still have outdoor seats available.\n",
      "\n",
      "Would you like me to reserve a table? If so, tell me the date/time and party size (and any special requests). Note: weather can change, so we can move you to covered seating if needed.\n"
     ]
    }
   ],
   "source": [
    "print(res.content)"
   ]
  }
 ],
 "metadata": {
  "kernelspec": {
   "display_name": "Python 3 (ipykernel)",
   "language": "python",
   "name": "python3"
  },
  "language_info": {
   "codemirror_mode": {
    "name": "ipython",
    "version": 3
   },
   "file_extension": ".py",
   "mimetype": "text/x-python",
   "name": "python",
   "nbconvert_exporter": "python",
   "pygments_lexer": "ipython3",
   "version": "3.12.3"
  }
 },
 "nbformat": 4,
 "nbformat_minor": 5
}
