{
 "cells": [
  {
   "cell_type": "code",
   "execution_count": 92,
   "id": "db813196-f86d-4577-9033-ff8d225556b1",
   "metadata": {},
   "outputs": [],
   "source": [
    "from langgraph.graph import StateGraph, END\n",
    "from typing import TypedDict, Annotated\n",
    "import operator\n",
    "from langchain_core.messages import AnyMessage, SystemMessage, HumanMessage, ToolMessage\n",
    "from langchain_ollama import ChatOllama\n",
    "from langchain_community.tools.tavily_search import TavilySearchResults\n",
    "from langgraph.checkpoint.sqlite import SqliteSaver\n",
    "from contextlib import ExitStack\n",
    "\n",
    "# Use contextlib to manually enter the context manager and keep the object\n",
    "stack = ExitStack()\n",
    "# Create the memory context manager and enter the context\n",
    "memory= stack.enter_context(SqliteSaver.from_conn_string(\":memory:\"))"
   ]
  },
  {
   "cell_type": "code",
   "execution_count": 93,
   "id": "7ef844d1-d7b3-499e-8516-a5c9d1b574e6",
   "metadata": {},
   "outputs": [],
   "source": [
    "from uuid import uuid4\n",
    "from langchain_core.messages import AnyMessage, SystemMessage, HumanMessage, AIMessage\n",
    "\n",
    "\"\"\"\n",
    "In previous examples we've annotated the `messages` state key\n",
    "with the default `operator.add` or `+` reducer, which always\n",
    "appends new messages to the end of the existing messages array.\n",
    "\n",
    "Now, to support replacing existing messages, we annotate the\n",
    "`messages` key with a customer reducer function, which replaces\n",
    "messages with the same `id`, and appends them otherwise.\n",
    "\"\"\"\n",
    "def reduce_messages(left: list[AnyMessage], right: list[AnyMessage]) -> list[AnyMessage]:\n",
    "    # assign ids to messages that don't have them\n",
    "    for message in right:\n",
    "        if not message.id:\n",
    "            message.id = str(uuid4())\n",
    "    # merge the new messages with the existing messages\n",
    "    merged = left.copy()\n",
    "    for message in right:\n",
    "        for i, existing in enumerate(merged):\n",
    "            # replace any existing messages with the same id\n",
    "            if existing.id == message.id:\n",
    "                merged[i] = message\n",
    "                break\n",
    "        else:\n",
    "            # append any new messages to the end\n",
    "            merged.append(message)\n",
    "    return merged\n",
    "\n",
    "class AgentState(TypedDict):\n",
    "    messages: Annotated[list[AnyMessage], reduce_messages]"
   ]
  },
  {
   "cell_type": "code",
   "execution_count": 94,
   "id": "754882e2-0b36-459e-83c0-cb93b9026d4d",
   "metadata": {},
   "outputs": [],
   "source": [
    "tool = TavilySearchResults(tavily_api_key = \"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\", max_results=2)"
   ]
  },
  {
   "cell_type": "markdown",
   "id": "ed4b506a-ff48-4b88-a296-ec2ddf187116",
   "metadata": {},
   "source": [
    "## Manual human approval"
   ]
  },
  {
   "cell_type": "code",
   "execution_count": 95,
   "id": "306a0061-0153-479f-b1f8-3dbde15dca55",
   "metadata": {},
   "outputs": [],
   "source": [
    "class Agent:\n",
    "    def __init__(self, model, tools, system=\"\", checkpointer=None):\n",
    "        self.system = system\n",
    "        graph = StateGraph(AgentState)\n",
    "        graph.add_node(\"llm\", self.call_openai)\n",
    "        graph.add_node(\"action\", self.take_action)\n",
    "        graph.add_conditional_edges(\"llm\", self.exists_action, {True: \"action\", False: END})\n",
    "        graph.add_edge(\"action\", \"llm\")\n",
    "        graph.set_entry_point(\"llm\")\n",
    "        self.graph = graph.compile(\n",
    "            checkpointer=checkpointer,\n",
    "            interrupt_before=[\"action\"]\n",
    "        )\n",
    "        self.tools = {t.name: t for t in tools}\n",
    "        self.model = model.bind_tools(tools)\n",
    "\n",
    "    def call_openai(self, state: AgentState):\n",
    "        messages = state['messages']\n",
    "        if self.system:\n",
    "            messages = [SystemMessage(content=self.system)] + messages\n",
    "        message = self.model.invoke(messages)\n",
    "        return {'messages': [message]}\n",
    "\n",
    "    def exists_action(self, state: AgentState):\n",
    "        print(state)\n",
    "        result = state['messages'][-1]\n",
    "        return len(result.tool_calls) > 0\n",
    "\n",
    "    def take_action(self, state: AgentState):\n",
    "        tool_calls = state['messages'][-1].tool_calls\n",
    "        results = []\n",
    "        for t in tool_calls:\n",
    "            print(f\"Calling: {t}\")\n",
    "            result = self.tools[t['name']].invoke(t['args'])\n",
    "            results.append(ToolMessage(tool_call_id=t['id'], name=t['name'], content=str(result)))\n",
    "        print(\"Back to the model!\")\n",
    "        return {'messages': results}"
   ]
  },
  {
   "cell_type": "code",
   "execution_count": 96,
   "id": "152ed8b5-f403-4409-bf43-242756a54032",
   "metadata": {},
   "outputs": [],
   "source": [
    "prompt = \"\"\"You are a smart research assistant. Use the search engine to look up information. \\\n",
    "You are allowed to make multiple calls (either together or in sequence). \\\n",
    "Only look up information when you are sure of what you want. \\\n",
    "If you need to look up some information before asking a follow up question, you are allowed to do that!\n",
    "\"\"\"\n",
    "model = ChatOllama(model = \"qwen2.5\")\n",
    "abot = Agent(model, [tool], system=prompt, checkpointer=memory)"
   ]
  },
  {
   "cell_type": "code",
   "execution_count": 97,
   "id": "b7240fec-0a5e-4d63-8f4f-334925107035",
   "metadata": {},
   "outputs": [
    {
     "name": "stdout",
     "output_type": "stream",
     "text": [
      "{'messages': [HumanMessage(content='Whats the weather in SF?', additional_kwargs={}, response_metadata={}, id='33f19565-81ee-4a0f-9509-14a6efcee7a1'), AIMessage(content='', additional_kwargs={}, response_metadata={'model': 'qwen2.5', 'created_at': '2025-06-17T11:46:44.873416864Z', 'done': True, 'done_reason': 'stop', 'total_duration': 6007707565, 'load_duration': 1583392121, 'prompt_eval_count': 242, 'prompt_eval_duration': 806569094, 'eval_count': 27, 'eval_duration': 3613961514, 'model_name': 'qwen2.5'}, id='run--aa938e64-863e-4637-95c4-abd4dfcf4930-0', tool_calls=[{'name': 'tavily_search_results_json', 'args': {'query': 'weather in San Francisco'}, 'id': 'a00029d4-4747-4293-8421-e211757ff91b', 'type': 'tool_call'}], usage_metadata={'input_tokens': 242, 'output_tokens': 27, 'total_tokens': 269})]}\n",
      "{'messages': [AIMessage(content='', additional_kwargs={}, response_metadata={'model': 'qwen2.5', 'created_at': '2025-06-17T11:46:44.873416864Z', 'done': True, 'done_reason': 'stop', 'total_duration': 6007707565, 'load_duration': 1583392121, 'prompt_eval_count': 242, 'prompt_eval_duration': 806569094, 'eval_count': 27, 'eval_duration': 3613961514, 'model_name': 'qwen2.5'}, id='run--aa938e64-863e-4637-95c4-abd4dfcf4930-0', tool_calls=[{'name': 'tavily_search_results_json', 'args': {'query': 'weather in San Francisco'}, 'id': 'a00029d4-4747-4293-8421-e211757ff91b', 'type': 'tool_call'}], usage_metadata={'input_tokens': 242, 'output_tokens': 27, 'total_tokens': 269})]}\n",
      "()\n"
     ]
    }
   ],
   "source": [
    "messages = [HumanMessage(content=\"Whats the weather in SF?\")]\n",
    "thread = {\"configurable\": {\"thread_id\": \"1\"}}\n",
    "for event in abot.graph.stream({\"messages\": messages}, thread):\n",
    "    for v in event.values():\n",
    "        print(v)"
   ]
  },
  {
   "cell_type": "code",
   "execution_count": 98,
   "id": "045b2ebf-e51d-4b77-9982-87a661192ca8",
   "metadata": {},
   "outputs": [
    {
     "data": {
      "text/plain": [
       "StateSnapshot(values={'messages': [HumanMessage(content='Whats the weather in SF?', additional_kwargs={}, response_metadata={}, id='33f19565-81ee-4a0f-9509-14a6efcee7a1'), AIMessage(content='', additional_kwargs={}, response_metadata={'model': 'qwen2.5', 'created_at': '2025-06-17T11:46:44.873416864Z', 'done': True, 'done_reason': 'stop', 'total_duration': 6007707565, 'load_duration': 1583392121, 'prompt_eval_count': 242, 'prompt_eval_duration': 806569094, 'eval_count': 27, 'eval_duration': 3613961514, 'model_name': 'qwen2.5'}, id='run--aa938e64-863e-4637-95c4-abd4dfcf4930-0', tool_calls=[{'name': 'tavily_search_results_json', 'args': {'query': 'weather in San Francisco'}, 'id': 'a00029d4-4747-4293-8421-e211757ff91b', 'type': 'tool_call'}], usage_metadata={'input_tokens': 242, 'output_tokens': 27, 'total_tokens': 269})]}, next=('action',), config={'configurable': {'thread_id': '1', 'checkpoint_ns': '', 'checkpoint_id': '1f04b70b-e3f9-6b64-8001-45869e1d985a'}}, metadata={'source': 'loop', 'writes': {'llm': {'messages': [AIMessage(content='', additional_kwargs={}, response_metadata={'model': 'qwen2.5', 'created_at': '2025-06-17T11:46:44.873416864Z', 'done': True, 'done_reason': 'stop', 'total_duration': 6007707565, 'load_duration': 1583392121, 'prompt_eval_count': 242, 'prompt_eval_duration': 806569094, 'eval_count': 27, 'eval_duration': 3613961514, 'model_name': 'qwen2.5'}, id='run--aa938e64-863e-4637-95c4-abd4dfcf4930-0', tool_calls=[{'name': 'tavily_search_results_json', 'args': {'query': 'weather in San Francisco'}, 'id': 'a00029d4-4747-4293-8421-e211757ff91b', 'type': 'tool_call'}], usage_metadata={'input_tokens': 242, 'output_tokens': 27, 'total_tokens': 269})]}}, 'step': 1, 'parents': {}, 'thread_id': '1'}, created_at='2025-06-17T11:46:44.874519+00:00', parent_config={'configurable': {'thread_id': '1', 'checkpoint_ns': '', 'checkpoint_id': '1f04b70b-aaa6-644c-8000-53066003537f'}}, tasks=(PregelTask(id='87322d8a-82b5-34dc-e3d5-38034770bc3f', name='action', path=('__pregel_pull', 'action'), error=None, interrupts=(), state=None, result=None),), interrupts=())"
      ]
     },
     "execution_count": 98,
     "metadata": {},
     "output_type": "execute_result"
    }
   ],
   "source": [
    "abot.graph.get_state(thread)"
   ]
  },
  {
   "cell_type": "code",
   "execution_count": 99,
   "id": "83312a5f-c600-4080-92b4-62b456565490",
   "metadata": {},
   "outputs": [
    {
     "data": {
      "text/plain": [
       "('action',)"
      ]
     },
     "execution_count": 99,
     "metadata": {},
     "output_type": "execute_result"
    }
   ],
   "source": [
    "abot.graph.get_state(thread).next"
   ]
  },
  {
   "cell_type": "markdown",
   "id": "95fb95e2-4548-4d91-a9d0-4d17b8d52cd8",
   "metadata": {},
   "source": [
    "## continue after interrupt"
   ]
  },
  {
   "cell_type": "code",
   "execution_count": 100,
   "id": "9f2bb962-25cb-429b-aa10-ac34be91e80d",
   "metadata": {},
   "outputs": [
    {
     "name": "stdout",
     "output_type": "stream",
     "text": [
      "Calling: {'name': 'tavily_search_results_json', 'args': {'query': 'weather in San Francisco'}, 'id': 'a00029d4-4747-4293-8421-e211757ff91b', 'type': 'tool_call'}\n",
      "Back to the model!\n",
      "{'messages': [ToolMessage(content='[{\\'title\\': \\'Tuesday, June 17, 2025. San Francisco, CA - Weather Forecast\\', \\'url\\': \\'https://weathershogun.com/weather/usa/ca/san-francisco/480/june/2025-06-17\\', \\'content\\': \\'San Francisco, California Weather: \\\\n\\\\nTuesday, June 17, 2025\\\\n\\\\nDay 70°\\\\n\\\\nNight 55°\\\\n\\\\nPrecipitation 0 %\\\\n\\\\nWind 12 mph\\\\n\\\\nUV Index (0 - 11+)11\\\\n\\\\n[Wednesday](https://weathershogun.com/weather/usa/ca/san-francisco/480/june/2025-06-18) [...] Tuesday, June 17, 2025. San Francisco, CA - Weather Forecast \\\\n\\\\n===============\\\\n\\\\n☰\\\\n\\\\n[San Francisco, CA](https://weathershogun.com/weather/usa/ca/san-francisco/today/480)\\\\n\\\\n[![Image 1: WeatherShogun.com](https://weathershogun.com/img/logo.svg)](https://weathershogun.com/) [...] [Today](https://weathershogun.com/weather/usa/ca/san-francisco/today/480)[Tomorrow](https://weathershogun.com/weather/usa/ca/san-francisco/tomorrow/480)[Hourly](https://weathershogun.com/weather/usa/ca/san-francisco/hourly/today/480)[7 days](https://weathershogun.com/weather/usa/ca/san-francisco/sevendays/480)[30 days](https://weathershogun.com/weather/usa/ca/san-francisco/thirtydays/480)[June](https://weathershogun.com/weather/usa/ca/san-francisco/480/june)\\\\n\\\\n❯\\', \\'score\\': 0.9484276}, {\\'title\\': \\'San Francisco weather in June 2025 | Weather25.com\\', \\'url\\': \\'https://www.weather25.com/north-america/usa/california/san-francisco?page=month&month=June\\', \\'content\\': \\'Mist](https://res.weather25.com/images/weather_icons/new/day/mist.svg) 57°/48°](https://www.weather25.com/north-america/usa/california/san-francisco?page=tomorrow \"Weather in 17 june 2025\") | [18 ![Image 45: Mist](https://res.weather25.com/images/weather_icons/new/day/mist.svg) 59°/51°](https://www.weather25.com/north-america/usa/california/san-francisco?page=day#date=2025-06-18 \"Weather in 18 june 2025\") | [19 ![Image 46: [...] [Monday Jun 16 ![Image 8: Overcast](https://res.weather25.com/images/weather_icons/new/day/overcast.svg) 0 in 57°/50°](https://www.weather25.com/north-america/usa/california/san-francisco?page=today)[Tuesday Jun 17 ![Image 9: Mist](https://res.weather25.com/images/weather_icons/new/day/mist.svg) 0 in 57°/48°](https://www.weather25.com/north-america/usa/california/san-francisco?page=tomorrow)[Wednesday Jun 18 ![Image 10: Mist](https://res.weather25.com/images/weather_icons/new/day/mist.svg) 0 in\\', \\'score\\': 0.9161773}]', name='tavily_search_results_json', id='cbd455f6-2aa4-49df-b48e-edef029d0994', tool_call_id='a00029d4-4747-4293-8421-e211757ff91b')]}\n",
      "{'messages': [HumanMessage(content='Whats the weather in SF?', additional_kwargs={}, response_metadata={}, id='33f19565-81ee-4a0f-9509-14a6efcee7a1'), AIMessage(content='', additional_kwargs={}, response_metadata={'model': 'qwen2.5', 'created_at': '2025-06-17T11:46:44.873416864Z', 'done': True, 'done_reason': 'stop', 'total_duration': 6007707565, 'load_duration': 1583392121, 'prompt_eval_count': 242, 'prompt_eval_duration': 806569094, 'eval_count': 27, 'eval_duration': 3613961514, 'model_name': 'qwen2.5'}, id='run--aa938e64-863e-4637-95c4-abd4dfcf4930-0', tool_calls=[{'name': 'tavily_search_results_json', 'args': {'query': 'weather in San Francisco'}, 'id': 'a00029d4-4747-4293-8421-e211757ff91b', 'type': 'tool_call'}], usage_metadata={'input_tokens': 242, 'output_tokens': 27, 'total_tokens': 269}), ToolMessage(content='[{\\'title\\': \\'Tuesday, June 17, 2025. San Francisco, CA - Weather Forecast\\', \\'url\\': \\'https://weathershogun.com/weather/usa/ca/san-francisco/480/june/2025-06-17\\', \\'content\\': \\'San Francisco, California Weather: \\\\n\\\\nTuesday, June 17, 2025\\\\n\\\\nDay 70°\\\\n\\\\nNight 55°\\\\n\\\\nPrecipitation 0 %\\\\n\\\\nWind 12 mph\\\\n\\\\nUV Index (0 - 11+)11\\\\n\\\\n[Wednesday](https://weathershogun.com/weather/usa/ca/san-francisco/480/june/2025-06-18) [...] Tuesday, June 17, 2025. San Francisco, CA - Weather Forecast \\\\n\\\\n===============\\\\n\\\\n☰\\\\n\\\\n[San Francisco, CA](https://weathershogun.com/weather/usa/ca/san-francisco/today/480)\\\\n\\\\n[![Image 1: WeatherShogun.com](https://weathershogun.com/img/logo.svg)](https://weathershogun.com/) [...] [Today](https://weathershogun.com/weather/usa/ca/san-francisco/today/480)[Tomorrow](https://weathershogun.com/weather/usa/ca/san-francisco/tomorrow/480)[Hourly](https://weathershogun.com/weather/usa/ca/san-francisco/hourly/today/480)[7 days](https://weathershogun.com/weather/usa/ca/san-francisco/sevendays/480)[30 days](https://weathershogun.com/weather/usa/ca/san-francisco/thirtydays/480)[June](https://weathershogun.com/weather/usa/ca/san-francisco/480/june)\\\\n\\\\n❯\\', \\'score\\': 0.9484276}, {\\'title\\': \\'San Francisco weather in June 2025 | Weather25.com\\', \\'url\\': \\'https://www.weather25.com/north-america/usa/california/san-francisco?page=month&month=June\\', \\'content\\': \\'Mist](https://res.weather25.com/images/weather_icons/new/day/mist.svg) 57°/48°](https://www.weather25.com/north-america/usa/california/san-francisco?page=tomorrow \"Weather in 17 june 2025\") | [18 ![Image 45: Mist](https://res.weather25.com/images/weather_icons/new/day/mist.svg) 59°/51°](https://www.weather25.com/north-america/usa/california/san-francisco?page=day#date=2025-06-18 \"Weather in 18 june 2025\") | [19 ![Image 46: [...] [Monday Jun 16 ![Image 8: Overcast](https://res.weather25.com/images/weather_icons/new/day/overcast.svg) 0 in 57°/50°](https://www.weather25.com/north-america/usa/california/san-francisco?page=today)[Tuesday Jun 17 ![Image 9: Mist](https://res.weather25.com/images/weather_icons/new/day/mist.svg) 0 in 57°/48°](https://www.weather25.com/north-america/usa/california/san-francisco?page=tomorrow)[Wednesday Jun 18 ![Image 10: Mist](https://res.weather25.com/images/weather_icons/new/day/mist.svg) 0 in\\', \\'score\\': 0.9161773}]', name='tavily_search_results_json', id='cbd455f6-2aa4-49df-b48e-edef029d0994', tool_call_id='a00029d4-4747-4293-8421-e211757ff91b'), AIMessage(content='The current weather forecast for Tuesday, June 17, 2025, in San Francisco is as follows:\\n\\n- Daytime temperature: 70°F\\n- Nighttime temperature: 55°F\\n- Precipitation chance: 0%\\n- Wind speed: 12 mph\\n- UV Index: 11\\n\\nIt seems to be a mild day with no precipitation expected. Please visit the linked sites for more detailed and up-to-date information on the weather in San Francisco!', additional_kwargs={}, response_metadata={'model': 'qwen2.5', 'created_at': '2025-06-17T11:47:03.713535975Z', 'done': True, 'done_reason': 'stop', 'total_duration': 16056989404, 'load_duration': 16445006, 'prompt_eval_count': 1138, 'prompt_eval_duration': 1717992830, 'eval_count': 104, 'eval_duration': 14303609954, 'model_name': 'qwen2.5'}, id='run--d760cc69-04fa-4f50-88fe-1f135db6cf4d-0', usage_metadata={'input_tokens': 1138, 'output_tokens': 104, 'total_tokens': 1242})]}\n",
      "{'messages': [AIMessage(content='The current weather forecast for Tuesday, June 17, 2025, in San Francisco is as follows:\\n\\n- Daytime temperature: 70°F\\n- Nighttime temperature: 55°F\\n- Precipitation chance: 0%\\n- Wind speed: 12 mph\\n- UV Index: 11\\n\\nIt seems to be a mild day with no precipitation expected. Please visit the linked sites for more detailed and up-to-date information on the weather in San Francisco!', additional_kwargs={}, response_metadata={'model': 'qwen2.5', 'created_at': '2025-06-17T11:47:03.713535975Z', 'done': True, 'done_reason': 'stop', 'total_duration': 16056989404, 'load_duration': 16445006, 'prompt_eval_count': 1138, 'prompt_eval_duration': 1717992830, 'eval_count': 104, 'eval_duration': 14303609954, 'model_name': 'qwen2.5'}, id='run--d760cc69-04fa-4f50-88fe-1f135db6cf4d-0', usage_metadata={'input_tokens': 1138, 'output_tokens': 104, 'total_tokens': 1242})]}\n"
     ]
    }
   ],
   "source": [
    "for event in abot.graph.stream(None, thread):\n",
    "    for v in event.values():\n",
    "        print(v)"
   ]
  },
  {
   "cell_type": "code",
   "execution_count": 101,
   "id": "cd87b037-1b28-4357-87da-e5a24e8071f0",
   "metadata": {},
   "outputs": [
    {
     "data": {
      "text/plain": [
       "StateSnapshot(values={'messages': [HumanMessage(content='Whats the weather in SF?', additional_kwargs={}, response_metadata={}, id='33f19565-81ee-4a0f-9509-14a6efcee7a1'), AIMessage(content='', additional_kwargs={}, response_metadata={'model': 'qwen2.5', 'created_at': '2025-06-17T11:46:44.873416864Z', 'done': True, 'done_reason': 'stop', 'total_duration': 6007707565, 'load_duration': 1583392121, 'prompt_eval_count': 242, 'prompt_eval_duration': 806569094, 'eval_count': 27, 'eval_duration': 3613961514, 'model_name': 'qwen2.5'}, id='run--aa938e64-863e-4637-95c4-abd4dfcf4930-0', tool_calls=[{'name': 'tavily_search_results_json', 'args': {'query': 'weather in San Francisco'}, 'id': 'a00029d4-4747-4293-8421-e211757ff91b', 'type': 'tool_call'}], usage_metadata={'input_tokens': 242, 'output_tokens': 27, 'total_tokens': 269}), ToolMessage(content='[{\\'title\\': \\'Tuesday, June 17, 2025. San Francisco, CA - Weather Forecast\\', \\'url\\': \\'https://weathershogun.com/weather/usa/ca/san-francisco/480/june/2025-06-17\\', \\'content\\': \\'San Francisco, California Weather: \\\\n\\\\nTuesday, June 17, 2025\\\\n\\\\nDay 70°\\\\n\\\\nNight 55°\\\\n\\\\nPrecipitation 0 %\\\\n\\\\nWind 12 mph\\\\n\\\\nUV Index (0 - 11+)11\\\\n\\\\n[Wednesday](https://weathershogun.com/weather/usa/ca/san-francisco/480/june/2025-06-18) [...] Tuesday, June 17, 2025. San Francisco, CA - Weather Forecast \\\\n\\\\n===============\\\\n\\\\n☰\\\\n\\\\n[San Francisco, CA](https://weathershogun.com/weather/usa/ca/san-francisco/today/480)\\\\n\\\\n[![Image 1: WeatherShogun.com](https://weathershogun.com/img/logo.svg)](https://weathershogun.com/) [...] [Today](https://weathershogun.com/weather/usa/ca/san-francisco/today/480)[Tomorrow](https://weathershogun.com/weather/usa/ca/san-francisco/tomorrow/480)[Hourly](https://weathershogun.com/weather/usa/ca/san-francisco/hourly/today/480)[7 days](https://weathershogun.com/weather/usa/ca/san-francisco/sevendays/480)[30 days](https://weathershogun.com/weather/usa/ca/san-francisco/thirtydays/480)[June](https://weathershogun.com/weather/usa/ca/san-francisco/480/june)\\\\n\\\\n❯\\', \\'score\\': 0.9484276}, {\\'title\\': \\'San Francisco weather in June 2025 | Weather25.com\\', \\'url\\': \\'https://www.weather25.com/north-america/usa/california/san-francisco?page=month&month=June\\', \\'content\\': \\'Mist](https://res.weather25.com/images/weather_icons/new/day/mist.svg) 57°/48°](https://www.weather25.com/north-america/usa/california/san-francisco?page=tomorrow \"Weather in 17 june 2025\") | [18 ![Image 45: Mist](https://res.weather25.com/images/weather_icons/new/day/mist.svg) 59°/51°](https://www.weather25.com/north-america/usa/california/san-francisco?page=day#date=2025-06-18 \"Weather in 18 june 2025\") | [19 ![Image 46: [...] [Monday Jun 16 ![Image 8: Overcast](https://res.weather25.com/images/weather_icons/new/day/overcast.svg) 0 in 57°/50°](https://www.weather25.com/north-america/usa/california/san-francisco?page=today)[Tuesday Jun 17 ![Image 9: Mist](https://res.weather25.com/images/weather_icons/new/day/mist.svg) 0 in 57°/48°](https://www.weather25.com/north-america/usa/california/san-francisco?page=tomorrow)[Wednesday Jun 18 ![Image 10: Mist](https://res.weather25.com/images/weather_icons/new/day/mist.svg) 0 in\\', \\'score\\': 0.9161773}]', name='tavily_search_results_json', id='cbd455f6-2aa4-49df-b48e-edef029d0994', tool_call_id='a00029d4-4747-4293-8421-e211757ff91b'), AIMessage(content='The current weather forecast for Tuesday, June 17, 2025, in San Francisco is as follows:\\n\\n- Daytime temperature: 70°F\\n- Nighttime temperature: 55°F\\n- Precipitation chance: 0%\\n- Wind speed: 12 mph\\n- UV Index: 11\\n\\nIt seems to be a mild day with no precipitation expected. Please visit the linked sites for more detailed and up-to-date information on the weather in San Francisco!', additional_kwargs={}, response_metadata={'model': 'qwen2.5', 'created_at': '2025-06-17T11:47:03.713535975Z', 'done': True, 'done_reason': 'stop', 'total_duration': 16056989404, 'load_duration': 16445006, 'prompt_eval_count': 1138, 'prompt_eval_duration': 1717992830, 'eval_count': 104, 'eval_duration': 14303609954, 'model_name': 'qwen2.5'}, id='run--d760cc69-04fa-4f50-88fe-1f135db6cf4d-0', usage_metadata={'input_tokens': 1138, 'output_tokens': 104, 'total_tokens': 1242})]}, next=(), config={'configurable': {'thread_id': '1', 'checkpoint_ns': '', 'checkpoint_id': '1f04b70c-97a7-6bb3-8003-9f33e76fa66d'}}, metadata={'source': 'loop', 'writes': {'llm': {'messages': [AIMessage(content='The current weather forecast for Tuesday, June 17, 2025, in San Francisco is as follows:\\n\\n- Daytime temperature: 70°F\\n- Nighttime temperature: 55°F\\n- Precipitation chance: 0%\\n- Wind speed: 12 mph\\n- UV Index: 11\\n\\nIt seems to be a mild day with no precipitation expected. Please visit the linked sites for more detailed and up-to-date information on the weather in San Francisco!', additional_kwargs={}, response_metadata={'model': 'qwen2.5', 'created_at': '2025-06-17T11:47:03.713535975Z', 'done': True, 'done_reason': 'stop', 'total_duration': 16056989404, 'load_duration': 16445006, 'prompt_eval_count': 1138, 'prompt_eval_duration': 1717992830, 'eval_count': 104, 'eval_duration': 14303609954, 'model_name': 'qwen2.5'}, id='run--d760cc69-04fa-4f50-88fe-1f135db6cf4d-0', usage_metadata={'input_tokens': 1138, 'output_tokens': 104, 'total_tokens': 1242})]}}, 'step': 3, 'parents': {}, 'thread_id': '1'}, created_at='2025-06-17T11:47:03.715308+00:00', parent_config={'configurable': {'thread_id': '1', 'checkpoint_ns': '', 'checkpoint_id': '1f04b70b-fe75-6abd-8002-3370c35782d9'}}, tasks=(), interrupts=())"
      ]
     },
     "execution_count": 101,
     "metadata": {},
     "output_type": "execute_result"
    }
   ],
   "source": [
    "abot.graph.get_state(thread)"
   ]
  },
  {
   "cell_type": "code",
   "execution_count": 102,
   "id": "5ba1842e-f614-461a-8eac-0315da122514",
   "metadata": {},
   "outputs": [
    {
     "data": {
      "text/plain": [
       "()"
      ]
     },
     "execution_count": 102,
     "metadata": {},
     "output_type": "execute_result"
    }
   ],
   "source": [
    "abot.graph.get_state(thread).next"
   ]
  },
  {
   "cell_type": "code",
   "execution_count": 103,
   "id": "ceb9c6f9-b3bd-4566-8998-21d67cc3e784",
   "metadata": {},
   "outputs": [
    {
     "name": "stdout",
     "output_type": "stream",
     "text": [
      "{'messages': [HumanMessage(content='Whats the weather in LA?', additional_kwargs={}, response_metadata={}, id='1246f458-4a13-4ebb-a198-e543284bc7fd'), AIMessage(content='', additional_kwargs={}, response_metadata={'model': 'qwen2.5', 'created_at': '2025-06-17T11:47:07.136793152Z', 'done': True, 'done_reason': 'stop', 'total_duration': 3390218707, 'load_duration': 16957638, 'prompt_eval_count': 242, 'prompt_eval_duration': 218839625, 'eval_count': 26, 'eval_duration': 3150052354, 'model_name': 'qwen2.5'}, id='run--5f6ff417-cf1b-4078-9929-92bde7bed654-0', tool_calls=[{'name': 'tavily_search_results_json', 'args': {'query': 'weather in LA'}, 'id': 'cc5a9fcb-5bd5-4b2b-bb86-e8d0d7cd62db', 'type': 'tool_call'}], usage_metadata={'input_tokens': 242, 'output_tokens': 26, 'total_tokens': 268})]}\n",
      "{'messages': [AIMessage(content='', additional_kwargs={}, response_metadata={'model': 'qwen2.5', 'created_at': '2025-06-17T11:47:07.136793152Z', 'done': True, 'done_reason': 'stop', 'total_duration': 3390218707, 'load_duration': 16957638, 'prompt_eval_count': 242, 'prompt_eval_duration': 218839625, 'eval_count': 26, 'eval_duration': 3150052354, 'model_name': 'qwen2.5'}, id='run--5f6ff417-cf1b-4078-9929-92bde7bed654-0', tool_calls=[{'name': 'tavily_search_results_json', 'args': {'query': 'weather in LA'}, 'id': 'cc5a9fcb-5bd5-4b2b-bb86-e8d0d7cd62db', 'type': 'tool_call'}], usage_metadata={'input_tokens': 242, 'output_tokens': 26, 'total_tokens': 268})]}\n",
      "()\n",
      "StateSnapshot(values={'messages': [HumanMessage(content='Whats the weather in LA?', additional_kwargs={}, response_metadata={}, id='1246f458-4a13-4ebb-a198-e543284bc7fd'), AIMessage(content='', additional_kwargs={}, response_metadata={'model': 'qwen2.5', 'created_at': '2025-06-17T11:47:07.136793152Z', 'done': True, 'done_reason': 'stop', 'total_duration': 3390218707, 'load_duration': 16957638, 'prompt_eval_count': 242, 'prompt_eval_duration': 218839625, 'eval_count': 26, 'eval_duration': 3150052354, 'model_name': 'qwen2.5'}, id='run--5f6ff417-cf1b-4078-9929-92bde7bed654-0', tool_calls=[{'name': 'tavily_search_results_json', 'args': {'query': 'weather in LA'}, 'id': 'cc5a9fcb-5bd5-4b2b-bb86-e8d0d7cd62db', 'type': 'tool_call'}], usage_metadata={'input_tokens': 242, 'output_tokens': 26, 'total_tokens': 268})]}, next=('action',), config={'configurable': {'thread_id': '2', 'checkpoint_ns': '', 'checkpoint_id': '1f04b70c-b84c-66ec-8001-f1cc7936ed99'}}, metadata={'source': 'loop', 'writes': {'llm': {'messages': [AIMessage(content='', additional_kwargs={}, response_metadata={'model': 'qwen2.5', 'created_at': '2025-06-17T11:47:07.136793152Z', 'done': True, 'done_reason': 'stop', 'total_duration': 3390218707, 'load_duration': 16957638, 'prompt_eval_count': 242, 'prompt_eval_duration': 218839625, 'eval_count': 26, 'eval_duration': 3150052354, 'model_name': 'qwen2.5'}, id='run--5f6ff417-cf1b-4078-9929-92bde7bed654-0', tool_calls=[{'name': 'tavily_search_results_json', 'args': {'query': 'weather in LA'}, 'id': 'cc5a9fcb-5bd5-4b2b-bb86-e8d0d7cd62db', 'type': 'tool_call'}], usage_metadata={'input_tokens': 242, 'output_tokens': 26, 'total_tokens': 268})]}}, 'step': 1, 'parents': {}, 'thread_id': '2'}, created_at='2025-06-17T11:47:07.138213+00:00', parent_config={'configurable': {'thread_id': '2', 'checkpoint_ns': '', 'checkpoint_id': '1f04b70c-97ea-6ab4-8000-531c4aee3dbe'}}, tasks=(PregelTask(id='922fb69f-b9a1-7574-e7fc-44d270d9e336', name='action', path=('__pregel_pull', 'action'), error=None, interrupts=(), state=None, result=None),), interrupts=())\n"
     ]
    },
    {
     "name": "stdin",
     "output_type": "stream",
     "text": [
      "proceed? y\n"
     ]
    },
    {
     "name": "stdout",
     "output_type": "stream",
     "text": [
      "Calling: {'name': 'tavily_search_results_json', 'args': {'query': 'weather in LA'}, 'id': 'cc5a9fcb-5bd5-4b2b-bb86-e8d0d7cd62db', 'type': 'tool_call'}\n",
      "Back to the model!\n",
      "{'messages': [ToolMessage(content='[{\\'title\\': \\'Weather in Los Angeles in June 2025 (California)\\', \\'url\\': \\'https://world-weather.info/forecast/usa/los_angeles/june-2025/\\', \\'content\\': \\'*   [17 +86° +64°](https://world-weather.info/forecast/usa/los_angeles/14days/#2025-06-17)\\\\n*   [18 +86° +64°](https://world-weather.info/forecast/usa/los_angeles/14days/#2025-06-18)\\\\n*   [19 +82° +64°](https://world-weather.info/forecast/usa/los_angeles/14days/#2025-06-19)\\\\n*   [20 +84° +66°](https://world-weather.info/forecast/usa/los_angeles/14days/#2025-06-20)\\\\n*   [21 +86° +75°](https://world-weather.info/forecast/usa/los_angeles/14days/#2025-06-21)\\', \\'score\\': 0.945243}, {\\'title\\': \\'Tuesday, June 17, 2025. Los Angeles, CA - Weather Forecast\\', \\'url\\': \\'https://weathershogun.com/weather/usa/ca/los-angeles/451/june/2025-06-17\\', \\'content\\': \"Tuesday, June 17, 2025\\\\n\\\\nDay 88°\\\\n\\\\nNight 64°\\\\n\\\\nPrecipitation 0 %\\\\n\\\\nWind 8 mph\\\\n\\\\nUV Index (0 - 11+)11\\\\n\\\\n[Wednesday](https://weathershogun.com/weather/usa/ca/los-angeles/451/june/2025-06-18) [...] Tuesday, June 17, 2025. Los Angeles, CA - Weather Forecast \\\\n\\\\n===============\\\\n\\\\n☰\\\\n\\\\n[Los Angeles, CA](https://weathershogun.com/weather/usa/ca/los-angeles/today/451)\\\\n\\\\n[![Image 1: WeatherShogun.com](https://weathershogun.com/img/logo.svg)](https://weathershogun.com/) [...] Last Year\\'s Weather on This Day (June 17, 2024)\\\\n\\\\n### Day\\\\n\\\\n73°\\\\n\\\\n### Night\\\\n\\\\n63°\\\\n\\\\nPlease note that while we strive for accuracy, the information provided may not always be correct. Use at your own risk.\\\\n\\\\n© Copyright by WeatherShogun.com\", \\'score\\': 0.9381752}]', name='tavily_search_results_json', id='d0138049-de40-48fa-aea6-30075261721c', tool_call_id='cc5a9fcb-5bd5-4b2b-bb86-e8d0d7cd62db')]}\n",
      "{'messages': [HumanMessage(content='Whats the weather in LA?', additional_kwargs={}, response_metadata={}, id='1246f458-4a13-4ebb-a198-e543284bc7fd'), AIMessage(content='', additional_kwargs={}, response_metadata={'model': 'qwen2.5', 'created_at': '2025-06-17T11:47:07.136793152Z', 'done': True, 'done_reason': 'stop', 'total_duration': 3390218707, 'load_duration': 16957638, 'prompt_eval_count': 242, 'prompt_eval_duration': 218839625, 'eval_count': 26, 'eval_duration': 3150052354, 'model_name': 'qwen2.5'}, id='run--5f6ff417-cf1b-4078-9929-92bde7bed654-0', tool_calls=[{'name': 'tavily_search_results_json', 'args': {'query': 'weather in LA'}, 'id': 'cc5a9fcb-5bd5-4b2b-bb86-e8d0d7cd62db', 'type': 'tool_call'}], usage_metadata={'input_tokens': 242, 'output_tokens': 26, 'total_tokens': 268}), ToolMessage(content='[{\\'title\\': \\'Weather in Los Angeles in June 2025 (California)\\', \\'url\\': \\'https://world-weather.info/forecast/usa/los_angeles/june-2025/\\', \\'content\\': \\'*   [17 +86° +64°](https://world-weather.info/forecast/usa/los_angeles/14days/#2025-06-17)\\\\n*   [18 +86° +64°](https://world-weather.info/forecast/usa/los_angeles/14days/#2025-06-18)\\\\n*   [19 +82° +64°](https://world-weather.info/forecast/usa/los_angeles/14days/#2025-06-19)\\\\n*   [20 +84° +66°](https://world-weather.info/forecast/usa/los_angeles/14days/#2025-06-20)\\\\n*   [21 +86° +75°](https://world-weather.info/forecast/usa/los_angeles/14days/#2025-06-21)\\', \\'score\\': 0.945243}, {\\'title\\': \\'Tuesday, June 17, 2025. Los Angeles, CA - Weather Forecast\\', \\'url\\': \\'https://weathershogun.com/weather/usa/ca/los-angeles/451/june/2025-06-17\\', \\'content\\': \"Tuesday, June 17, 2025\\\\n\\\\nDay 88°\\\\n\\\\nNight 64°\\\\n\\\\nPrecipitation 0 %\\\\n\\\\nWind 8 mph\\\\n\\\\nUV Index (0 - 11+)11\\\\n\\\\n[Wednesday](https://weathershogun.com/weather/usa/ca/los-angeles/451/june/2025-06-18) [...] Tuesday, June 17, 2025. Los Angeles, CA - Weather Forecast \\\\n\\\\n===============\\\\n\\\\n☰\\\\n\\\\n[Los Angeles, CA](https://weathershogun.com/weather/usa/ca/los-angeles/today/451)\\\\n\\\\n[![Image 1: WeatherShogun.com](https://weathershogun.com/img/logo.svg)](https://weathershogun.com/) [...] Last Year\\'s Weather on This Day (June 17, 2024)\\\\n\\\\n### Day\\\\n\\\\n73°\\\\n\\\\n### Night\\\\n\\\\n63°\\\\n\\\\nPlease note that while we strive for accuracy, the information provided may not always be correct. Use at your own risk.\\\\n\\\\n© Copyright by WeatherShogun.com\", \\'score\\': 0.9381752}]', name='tavily_search_results_json', id='d0138049-de40-48fa-aea6-30075261721c', tool_call_id='cc5a9fcb-5bd5-4b2b-bb86-e8d0d7cd62db'), AIMessage(content=\"The weather forecast for Los Angeles in June 2025 is as follows:\\n\\n- June 17, 2025: Daytime temperature will be around 86°F (30°C) and nighttime around 64°F (18°C). There's no precipitation expected. The wind speed will be about 8 mph.\\n- June 18, 2025: Daytime temperature is forecasted to be around 84°F (29°C) with a nighttime low of 66°F (19°C).\\n- June 19, 2025: Daytime will be at about 82°F (28°C) and the night will cool down to 64°F (18°C).\\n- June 20, 2025: Daytime temperature is predicted to be around 84°F (29°C) with a nighttime low of 66°F (19°C).\\n- June 21, 2025: The daytime will reach about 86°F (30°C), and the night will drop to 75°F (24°C).\\n\\nPlease note that this is a long-term forecast and conditions can change. It's always good to check for updates closer to your date of interest!\", additional_kwargs={}, response_metadata={'model': 'qwen2.5', 'created_at': '2025-06-17T11:48:55.508355531Z', 'done': True, 'done_reason': 'stop', 'total_duration': 36318147733, 'load_duration': 13790260, 'prompt_eval_count': 923, 'prompt_eval_duration': 1529826696, 'eval_count': 273, 'eval_duration': 34760864168, 'model_name': 'qwen2.5'}, id='run--09415b70-b560-4c7e-a3b5-a34d7d6bba64-0', usage_metadata={'input_tokens': 923, 'output_tokens': 273, 'total_tokens': 1196})]}\n",
      "{'messages': [AIMessage(content=\"The weather forecast for Los Angeles in June 2025 is as follows:\\n\\n- June 17, 2025: Daytime temperature will be around 86°F (30°C) and nighttime around 64°F (18°C). There's no precipitation expected. The wind speed will be about 8 mph.\\n- June 18, 2025: Daytime temperature is forecasted to be around 84°F (29°C) with a nighttime low of 66°F (19°C).\\n- June 19, 2025: Daytime will be at about 82°F (28°C) and the night will cool down to 64°F (18°C).\\n- June 20, 2025: Daytime temperature is predicted to be around 84°F (29°C) with a nighttime low of 66°F (19°C).\\n- June 21, 2025: The daytime will reach about 86°F (30°C), and the night will drop to 75°F (24°C).\\n\\nPlease note that this is a long-term forecast and conditions can change. It's always good to check for updates closer to your date of interest!\", additional_kwargs={}, response_metadata={'model': 'qwen2.5', 'created_at': '2025-06-17T11:48:55.508355531Z', 'done': True, 'done_reason': 'stop', 'total_duration': 36318147733, 'load_duration': 13790260, 'prompt_eval_count': 923, 'prompt_eval_duration': 1529826696, 'eval_count': 273, 'eval_duration': 34760864168, 'model_name': 'qwen2.5'}, id='run--09415b70-b560-4c7e-a3b5-a34d7d6bba64-0', usage_metadata={'input_tokens': 923, 'output_tokens': 273, 'total_tokens': 1196})]}\n"
     ]
    }
   ],
   "source": [
    "messages = [HumanMessage(\"Whats the weather in LA?\")]\n",
    "thread = {\"configurable\": {\"thread_id\": \"2\"}}\n",
    "for event in abot.graph.stream({\"messages\": messages}, thread):\n",
    "    for v in event.values():\n",
    "        print(v)\n",
    "while abot.graph.get_state(thread).next:\n",
    "    print(abot.graph.get_state(thread))\n",
    "    _input = input(\"proceed?\")\n",
    "    if _input != \"y\":\n",
    "        print(\"aborting\")\n",
    "        break\n",
    "    for event in abot.graph.stream(None, thread):\n",
    "        for v in event.values():\n",
    "            print(v)"
   ]
  },
  {
   "cell_type": "markdown",
   "id": "9de5cdef-0bc2-40fd-b7f6-0b99c70b1da8",
   "metadata": {},
   "source": [
    "# Modify State"
   ]
  },
  {
   "cell_type": "code",
   "execution_count": 104,
   "id": "71c2d74d-3497-4041-ade8-c8ce1f38b8e2",
   "metadata": {},
   "outputs": [
    {
     "name": "stdout",
     "output_type": "stream",
     "text": [
      "{'messages': [HumanMessage(content='Whats the weather in LA?', additional_kwargs={}, response_metadata={}, id='893fd179-9aad-423c-86b9-05285327b185'), AIMessage(content='', additional_kwargs={}, response_metadata={'model': 'qwen2.5', 'created_at': '2025-06-17T11:48:59.392310864Z', 'done': True, 'done_reason': 'stop', 'total_duration': 3876205454, 'load_duration': 11813746, 'prompt_eval_count': 242, 'prompt_eval_duration': 142520091, 'eval_count': 27, 'eval_duration': 3718237787, 'model_name': 'qwen2.5'}, id='run--a314f178-bb72-45f2-8d0e-fdd4ad22b262-0', tool_calls=[{'name': 'tavily_search_results_json', 'args': {'query': 'weather in Los Angeles'}, 'id': '89f3b019-7a0c-4dc3-a244-1adf480716dd', 'type': 'tool_call'}], usage_metadata={'input_tokens': 242, 'output_tokens': 27, 'total_tokens': 269})]}\n",
      "{'messages': [AIMessage(content='', additional_kwargs={}, response_metadata={'model': 'qwen2.5', 'created_at': '2025-06-17T11:48:59.392310864Z', 'done': True, 'done_reason': 'stop', 'total_duration': 3876205454, 'load_duration': 11813746, 'prompt_eval_count': 242, 'prompt_eval_duration': 142520091, 'eval_count': 27, 'eval_duration': 3718237787, 'model_name': 'qwen2.5'}, id='run--a314f178-bb72-45f2-8d0e-fdd4ad22b262-0', tool_calls=[{'name': 'tavily_search_results_json', 'args': {'query': 'weather in Los Angeles'}, 'id': '89f3b019-7a0c-4dc3-a244-1adf480716dd', 'type': 'tool_call'}], usage_metadata={'input_tokens': 242, 'output_tokens': 27, 'total_tokens': 269})]}\n",
      "()\n"
     ]
    }
   ],
   "source": [
    "messages = [HumanMessage(\"Whats the weather in LA?\")]\n",
    "thread = {\"configurable\": {\"thread_id\": \"3\"}}\n",
    "for event in abot.graph.stream({\"messages\": messages}, thread):\n",
    "    for v in event.values():\n",
    "        print(v)"
   ]
  },
  {
   "cell_type": "code",
   "execution_count": 105,
   "id": "651cc4a1-44d8-40e0-a956-8ebed4ff39b7",
   "metadata": {},
   "outputs": [
    {
     "data": {
      "text/plain": [
       "StateSnapshot(values={'messages': [HumanMessage(content='Whats the weather in LA?', additional_kwargs={}, response_metadata={}, id='893fd179-9aad-423c-86b9-05285327b185'), AIMessage(content='', additional_kwargs={}, response_metadata={'model': 'qwen2.5', 'created_at': '2025-06-17T11:48:59.392310864Z', 'done': True, 'done_reason': 'stop', 'total_duration': 3876205454, 'load_duration': 11813746, 'prompt_eval_count': 242, 'prompt_eval_duration': 142520091, 'eval_count': 27, 'eval_duration': 3718237787, 'model_name': 'qwen2.5'}, id='run--a314f178-bb72-45f2-8d0e-fdd4ad22b262-0', tool_calls=[{'name': 'tavily_search_results_json', 'args': {'query': 'weather in Los Angeles'}, 'id': '89f3b019-7a0c-4dc3-a244-1adf480716dd', 'type': 'tool_call'}], usage_metadata={'input_tokens': 242, 'output_tokens': 27, 'total_tokens': 269})]}, next=('action',), config={'configurable': {'thread_id': '3', 'checkpoint_ns': '', 'checkpoint_id': '1f04b710-e6d8-6f29-8001-69e14081ffb3'}}, metadata={'source': 'loop', 'writes': {'llm': {'messages': [AIMessage(content='', additional_kwargs={}, response_metadata={'model': 'qwen2.5', 'created_at': '2025-06-17T11:48:59.392310864Z', 'done': True, 'done_reason': 'stop', 'total_duration': 3876205454, 'load_duration': 11813746, 'prompt_eval_count': 242, 'prompt_eval_duration': 142520091, 'eval_count': 27, 'eval_duration': 3718237787, 'model_name': 'qwen2.5'}, id='run--a314f178-bb72-45f2-8d0e-fdd4ad22b262-0', tool_calls=[{'name': 'tavily_search_results_json', 'args': {'query': 'weather in Los Angeles'}, 'id': '89f3b019-7a0c-4dc3-a244-1adf480716dd', 'type': 'tool_call'}], usage_metadata={'input_tokens': 242, 'output_tokens': 27, 'total_tokens': 269})]}}, 'step': 1, 'parents': {}, 'thread_id': '3'}, created_at='2025-06-17T11:48:59.393398+00:00', parent_config={'configurable': {'thread_id': '3', 'checkpoint_ns': '', 'checkpoint_id': '1f04b710-c1dc-6a6e-8000-88195e9da0bc'}}, tasks=(PregelTask(id='3cfe5e83-ba13-3093-de5b-a5a16beff14e', name='action', path=('__pregel_pull', 'action'), error=None, interrupts=(), state=None, result=None),), interrupts=())"
      ]
     },
     "execution_count": 105,
     "metadata": {},
     "output_type": "execute_result"
    }
   ],
   "source": [
    "abot.graph.get_state(thread)"
   ]
  },
  {
   "cell_type": "code",
   "execution_count": 106,
   "id": "91582bc1-a4a3-4447-94cf-73ea2cdf299b",
   "metadata": {},
   "outputs": [],
   "source": [
    "current_values = abot.graph.get_state(thread)"
   ]
  },
  {
   "cell_type": "code",
   "execution_count": 107,
   "id": "3e25ae65-3f68-4130-8af7-48b27dfd846c",
   "metadata": {},
   "outputs": [
    {
     "data": {
      "text/plain": [
       "AIMessage(content='', additional_kwargs={}, response_metadata={'model': 'qwen2.5', 'created_at': '2025-06-17T11:48:59.392310864Z', 'done': True, 'done_reason': 'stop', 'total_duration': 3876205454, 'load_duration': 11813746, 'prompt_eval_count': 242, 'prompt_eval_duration': 142520091, 'eval_count': 27, 'eval_duration': 3718237787, 'model_name': 'qwen2.5'}, id='run--a314f178-bb72-45f2-8d0e-fdd4ad22b262-0', tool_calls=[{'name': 'tavily_search_results_json', 'args': {'query': 'weather in Los Angeles'}, 'id': '89f3b019-7a0c-4dc3-a244-1adf480716dd', 'type': 'tool_call'}], usage_metadata={'input_tokens': 242, 'output_tokens': 27, 'total_tokens': 269})"
      ]
     },
     "execution_count": 107,
     "metadata": {},
     "output_type": "execute_result"
    }
   ],
   "source": [
    "current_values.values['messages'][-1]"
   ]
  },
  {
   "cell_type": "code",
   "execution_count": 108,
   "id": "513a2f61-e240-4787-a3f5-cdc1749736aa",
   "metadata": {},
   "outputs": [
    {
     "data": {
      "text/plain": [
       "[{'name': 'tavily_search_results_json',\n",
       "  'args': {'query': 'weather in Los Angeles'},\n",
       "  'id': '89f3b019-7a0c-4dc3-a244-1adf480716dd',\n",
       "  'type': 'tool_call'}]"
      ]
     },
     "execution_count": 108,
     "metadata": {},
     "output_type": "execute_result"
    }
   ],
   "source": [
    "current_values.values['messages'][-1].tool_calls"
   ]
  },
  {
   "cell_type": "code",
   "execution_count": 109,
   "id": "a13b3bb4-fa92-455f-99ec-0a6c35a7e7dd",
   "metadata": {},
   "outputs": [],
   "source": [
    "_id = current_values.values['messages'][-1].tool_calls[0]['id']\n",
    "current_values.values['messages'][-1].tool_calls = [\n",
    "    {'name': 'tavily_search_results_json',\n",
    "     'args': {'query': 'current weather in Louisiana'},\n",
    "     'id': _id}\n",
    "]"
   ]
  },
  {
   "cell_type": "code",
   "execution_count": 110,
   "id": "15c46979-0ae5-47b8-ad88-c3d5611b9252",
   "metadata": {},
   "outputs": [
    {
     "name": "stdout",
     "output_type": "stream",
     "text": [
      "89f3b019-7a0c-4dc3-a244-1adf480716dd\n"
     ]
    }
   ],
   "source": [
    "print(_id)"
   ]
  },
  {
   "cell_type": "code",
   "execution_count": 111,
   "id": "c6132845-5e3e-4e35-8e10-fd2806481372",
   "metadata": {},
   "outputs": [
    {
     "name": "stdout",
     "output_type": "stream",
     "text": [
      "{'messages': [HumanMessage(content='Whats the weather in LA?', additional_kwargs={}, response_metadata={}, id='893fd179-9aad-423c-86b9-05285327b185'), AIMessage(content='', additional_kwargs={}, response_metadata={'model': 'qwen2.5', 'created_at': '2025-06-17T11:48:59.392310864Z', 'done': True, 'done_reason': 'stop', 'total_duration': 3876205454, 'load_duration': 11813746, 'prompt_eval_count': 242, 'prompt_eval_duration': 142520091, 'eval_count': 27, 'eval_duration': 3718237787, 'model_name': 'qwen2.5'}, id='run--a314f178-bb72-45f2-8d0e-fdd4ad22b262-0', tool_calls=[{'name': 'tavily_search_results_json', 'args': {'query': 'current weather in Louisiana'}, 'id': '89f3b019-7a0c-4dc3-a244-1adf480716dd'}], usage_metadata={'input_tokens': 242, 'output_tokens': 27, 'total_tokens': 269})]}\n"
     ]
    },
    {
     "data": {
      "text/plain": [
       "{'configurable': {'thread_id': '3',\n",
       "  'checkpoint_ns': '',\n",
       "  'checkpoint_id': '1f04b710-e777-6147-8002-e92b61cab2d8'}}"
      ]
     },
     "execution_count": 111,
     "metadata": {},
     "output_type": "execute_result"
    }
   ],
   "source": [
    "abot.graph.update_state(thread, current_values.values)"
   ]
  },
  {
   "cell_type": "code",
   "execution_count": 112,
   "id": "0a656671-02c7-4979-89e4-84f5b483160c",
   "metadata": {},
   "outputs": [
    {
     "data": {
      "text/plain": [
       "StateSnapshot(values={'messages': [HumanMessage(content='Whats the weather in LA?', additional_kwargs={}, response_metadata={}, id='893fd179-9aad-423c-86b9-05285327b185'), AIMessage(content='', additional_kwargs={}, response_metadata={'model': 'qwen2.5', 'created_at': '2025-06-17T11:48:59.392310864Z', 'done': True, 'done_reason': 'stop', 'total_duration': 3876205454, 'load_duration': 11813746, 'prompt_eval_count': 242, 'prompt_eval_duration': 142520091, 'eval_count': 27, 'eval_duration': 3718237787, 'model_name': 'qwen2.5'}, id='run--a314f178-bb72-45f2-8d0e-fdd4ad22b262-0', tool_calls=[{'name': 'tavily_search_results_json', 'args': {'query': 'current weather in Louisiana'}, 'id': '89f3b019-7a0c-4dc3-a244-1adf480716dd', 'type': 'tool_call'}], usage_metadata={'input_tokens': 242, 'output_tokens': 27, 'total_tokens': 269})]}, next=('action',), config={'configurable': {'thread_id': '3', 'checkpoint_ns': '', 'checkpoint_id': '1f04b710-e777-6147-8002-e92b61cab2d8'}}, metadata={'source': 'update', 'writes': {'llm': {'messages': [HumanMessage(content='Whats the weather in LA?', additional_kwargs={}, response_metadata={}, id='893fd179-9aad-423c-86b9-05285327b185'), AIMessage(content='', additional_kwargs={}, response_metadata={'model': 'qwen2.5', 'created_at': '2025-06-17T11:48:59.392310864Z', 'done': True, 'done_reason': 'stop', 'total_duration': 3876205454, 'load_duration': 11813746, 'prompt_eval_count': 242, 'prompt_eval_duration': 142520091, 'eval_count': 27, 'eval_duration': 3718237787, 'model_name': 'qwen2.5'}, id='run--a314f178-bb72-45f2-8d0e-fdd4ad22b262-0', tool_calls=[{'name': 'tavily_search_results_json', 'args': {'query': 'current weather in Louisiana'}, 'id': '89f3b019-7a0c-4dc3-a244-1adf480716dd', 'type': 'tool_call'}], usage_metadata={'input_tokens': 242, 'output_tokens': 27, 'total_tokens': 269})]}}, 'step': 2, 'parents': {}, 'thread_id': '3'}, created_at='2025-06-17T11:48:59.458163+00:00', parent_config={'configurable': {'thread_id': '3', 'checkpoint_ns': '', 'checkpoint_id': '1f04b710-e6d8-6f29-8001-69e14081ffb3'}}, tasks=(PregelTask(id='bcc0ce78-8789-f181-4ae7-0da7467239c4', name='action', path=('__pregel_pull', 'action'), error=None, interrupts=(), state=None, result=None),), interrupts=())"
      ]
     },
     "execution_count": 112,
     "metadata": {},
     "output_type": "execute_result"
    }
   ],
   "source": [
    "abot.graph.get_state(thread)"
   ]
  },
  {
   "cell_type": "code",
   "execution_count": 113,
   "id": "1697f3b1-6065-446c-93a0-fd2ecfa1f626",
   "metadata": {},
   "outputs": [
    {
     "name": "stdout",
     "output_type": "stream",
     "text": [
      "Calling: {'name': 'tavily_search_results_json', 'args': {'query': 'current weather in Louisiana'}, 'id': '89f3b019-7a0c-4dc3-a244-1adf480716dd', 'type': 'tool_call'}\n",
      "Back to the model!\n",
      "{'messages': [ToolMessage(content=\"[{'title': 'Tuesday, June 17, 2025. New Orleans, LA - Weather Forecast', 'url': 'https://weathershogun.com/weather/usa/la/new-orleans/1865/june/2025-06-17', 'content': 'New Orleans, Louisiana Weather: Tuesday, June 17, 2025. Stormy weather, thunderstorms. Day 88°. Night 77°. Precipitation 70 %. Wind 9 mph.', 'score': 0.9174287}, {'title': 'Tuesday, June 17, 2025. Baton Rouge, LA - Weather Forecast', 'url': 'https://weathershogun.com/weather/usa/la/baton-rouge/1805/june/2025-06-17', 'content': 'Baton Rouge, Louisiana Weather: Tuesday, June 17, 2025. Stormy weather, thunderstorms. Day 90°. Night 75°. Precipitation 55 %. Wind 9 mph.', 'score': 0.9123193}]\", name='tavily_search_results_json', id='28dd2bbb-2be7-4356-b475-68843ec2dd3e', tool_call_id='89f3b019-7a0c-4dc3-a244-1adf480716dd')]}\n",
      "{'messages': [HumanMessage(content='Whats the weather in LA?', additional_kwargs={}, response_metadata={}, id='893fd179-9aad-423c-86b9-05285327b185'), AIMessage(content='', additional_kwargs={}, response_metadata={'model': 'qwen2.5', 'created_at': '2025-06-17T11:48:59.392310864Z', 'done': True, 'done_reason': 'stop', 'total_duration': 3876205454, 'load_duration': 11813746, 'prompt_eval_count': 242, 'prompt_eval_duration': 142520091, 'eval_count': 27, 'eval_duration': 3718237787, 'model_name': 'qwen2.5'}, id='run--a314f178-bb72-45f2-8d0e-fdd4ad22b262-0', tool_calls=[{'name': 'tavily_search_results_json', 'args': {'query': 'current weather in Louisiana'}, 'id': '89f3b019-7a0c-4dc3-a244-1adf480716dd', 'type': 'tool_call'}], usage_metadata={'input_tokens': 242, 'output_tokens': 27, 'total_tokens': 269}), ToolMessage(content=\"[{'title': 'Tuesday, June 17, 2025. New Orleans, LA - Weather Forecast', 'url': 'https://weathershogun.com/weather/usa/la/new-orleans/1865/june/2025-06-17', 'content': 'New Orleans, Louisiana Weather: Tuesday, June 17, 2025. Stormy weather, thunderstorms. Day 88°. Night 77°. Precipitation 70 %. Wind 9 mph.', 'score': 0.9174287}, {'title': 'Tuesday, June 17, 2025. Baton Rouge, LA - Weather Forecast', 'url': 'https://weathershogun.com/weather/usa/la/baton-rouge/1805/june/2025-06-17', 'content': 'Baton Rouge, Louisiana Weather: Tuesday, June 17, 2025. Stormy weather, thunderstorms. Day 90°. Night 75°. Precipitation 55 %. Wind 9 mph.', 'score': 0.9123193}]\", name='tavily_search_results_json', id='28dd2bbb-2be7-4356-b475-68843ec2dd3e', tool_call_id='89f3b019-7a0c-4dc3-a244-1adf480716dd'), AIMessage(content=\"I couldn't find specific weather information for Los Angeles (LA). However, I found weather forecasts for New Orleans and Baton Rouge in Louisiana. The forecast for New Orleans on Tuesday, June 17, 2025 indicates stormy weather with thunderstorms, a day temperature of 88°F and night temperature of 77°F, and a precipitation chance of 70%. \\n\\nWould you like to know the weather in Los Angeles on another date or do you want more general information about typical weather conditions in Los Angeles?\", additional_kwargs={}, response_metadata={'model': 'qwen2.5', 'created_at': '2025-06-17T11:49:19.994831365Z', 'done': True, 'done_reason': 'stop', 'total_duration': 14692425625, 'load_duration': 15409110, 'prompt_eval_count': 551, 'prompt_eval_duration': 754011394, 'eval_count': 110, 'eval_duration': 13907868931, 'model_name': 'qwen2.5'}, id='run--15c41539-bad8-4b4e-a2ae-8b8c4cf2aee0-0', usage_metadata={'input_tokens': 551, 'output_tokens': 110, 'total_tokens': 661})]}\n",
      "{'messages': [AIMessage(content=\"I couldn't find specific weather information for Los Angeles (LA). However, I found weather forecasts for New Orleans and Baton Rouge in Louisiana. The forecast for New Orleans on Tuesday, June 17, 2025 indicates stormy weather with thunderstorms, a day temperature of 88°F and night temperature of 77°F, and a precipitation chance of 70%. \\n\\nWould you like to know the weather in Los Angeles on another date or do you want more general information about typical weather conditions in Los Angeles?\", additional_kwargs={}, response_metadata={'model': 'qwen2.5', 'created_at': '2025-06-17T11:49:19.994831365Z', 'done': True, 'done_reason': 'stop', 'total_duration': 14692425625, 'load_duration': 15409110, 'prompt_eval_count': 551, 'prompt_eval_duration': 754011394, 'eval_count': 110, 'eval_duration': 13907868931, 'model_name': 'qwen2.5'}, id='run--15c41539-bad8-4b4e-a2ae-8b8c4cf2aee0-0', usage_metadata={'input_tokens': 551, 'output_tokens': 110, 'total_tokens': 661})]}\n"
     ]
    }
   ],
   "source": [
    "for event in abot.graph.stream(None, thread):\n",
    "    for v in event.values():\n",
    "        print(v)"
   ]
  },
  {
   "cell_type": "markdown",
   "id": "ce90289f-a600-4758-89be-614fad73b888",
   "metadata": {},
   "source": [
    "# Time Travel"
   ]
  },
  {
   "cell_type": "code",
   "execution_count": 114,
   "id": "02e820cb-ca2e-4df1-85e0-22ee86d15149",
   "metadata": {},
   "outputs": [
    {
     "name": "stdout",
     "output_type": "stream",
     "text": [
      "StateSnapshot(values={'messages': [HumanMessage(content='Whats the weather in LA?', additional_kwargs={}, response_metadata={}, id='893fd179-9aad-423c-86b9-05285327b185'), AIMessage(content='', additional_kwargs={}, response_metadata={'model': 'qwen2.5', 'created_at': '2025-06-17T11:48:59.392310864Z', 'done': True, 'done_reason': 'stop', 'total_duration': 3876205454, 'load_duration': 11813746, 'prompt_eval_count': 242, 'prompt_eval_duration': 142520091, 'eval_count': 27, 'eval_duration': 3718237787, 'model_name': 'qwen2.5'}, id='run--a314f178-bb72-45f2-8d0e-fdd4ad22b262-0', tool_calls=[{'name': 'tavily_search_results_json', 'args': {'query': 'current weather in Louisiana'}, 'id': '89f3b019-7a0c-4dc3-a244-1adf480716dd', 'type': 'tool_call'}], usage_metadata={'input_tokens': 242, 'output_tokens': 27, 'total_tokens': 269}), ToolMessage(content=\"[{'title': 'Tuesday, June 17, 2025. New Orleans, LA - Weather Forecast', 'url': 'https://weathershogun.com/weather/usa/la/new-orleans/1865/june/2025-06-17', 'content': 'New Orleans, Louisiana Weather: Tuesday, June 17, 2025. Stormy weather, thunderstorms. Day 88°. Night 77°. Precipitation 70 %. Wind 9 mph.', 'score': 0.9174287}, {'title': 'Tuesday, June 17, 2025. Baton Rouge, LA - Weather Forecast', 'url': 'https://weathershogun.com/weather/usa/la/baton-rouge/1805/june/2025-06-17', 'content': 'Baton Rouge, Louisiana Weather: Tuesday, June 17, 2025. Stormy weather, thunderstorms. Day 90°. Night 75°. Precipitation 55 %. Wind 9 mph.', 'score': 0.9123193}]\", name='tavily_search_results_json', id='28dd2bbb-2be7-4356-b475-68843ec2dd3e', tool_call_id='89f3b019-7a0c-4dc3-a244-1adf480716dd'), AIMessage(content=\"I couldn't find specific weather information for Los Angeles (LA). However, I found weather forecasts for New Orleans and Baton Rouge in Louisiana. The forecast for New Orleans on Tuesday, June 17, 2025 indicates stormy weather with thunderstorms, a day temperature of 88°F and night temperature of 77°F, and a precipitation chance of 70%. \\n\\nWould you like to know the weather in Los Angeles on another date or do you want more general information about typical weather conditions in Los Angeles?\", additional_kwargs={}, response_metadata={'model': 'qwen2.5', 'created_at': '2025-06-17T11:49:19.994831365Z', 'done': True, 'done_reason': 'stop', 'total_duration': 14692425625, 'load_duration': 15409110, 'prompt_eval_count': 551, 'prompt_eval_duration': 754011394, 'eval_count': 110, 'eval_duration': 13907868931, 'model_name': 'qwen2.5'}, id='run--15c41539-bad8-4b4e-a2ae-8b8c4cf2aee0-0', usage_metadata={'input_tokens': 551, 'output_tokens': 110, 'total_tokens': 661})]}, next=(), config={'configurable': {'thread_id': '3', 'checkpoint_ns': '', 'checkpoint_id': '1f04b711-ab5c-6fcc-8004-440456a3f6b3'}}, metadata={'source': 'loop', 'writes': {'llm': {'messages': [AIMessage(content=\"I couldn't find specific weather information for Los Angeles (LA). However, I found weather forecasts for New Orleans and Baton Rouge in Louisiana. The forecast for New Orleans on Tuesday, June 17, 2025 indicates stormy weather with thunderstorms, a day temperature of 88°F and night temperature of 77°F, and a precipitation chance of 70%. \\n\\nWould you like to know the weather in Los Angeles on another date or do you want more general information about typical weather conditions in Los Angeles?\", additional_kwargs={}, response_metadata={'model': 'qwen2.5', 'created_at': '2025-06-17T11:49:19.994831365Z', 'done': True, 'done_reason': 'stop', 'total_duration': 14692425625, 'load_duration': 15409110, 'prompt_eval_count': 551, 'prompt_eval_duration': 754011394, 'eval_count': 110, 'eval_duration': 13907868931, 'model_name': 'qwen2.5'}, id='run--15c41539-bad8-4b4e-a2ae-8b8c4cf2aee0-0', usage_metadata={'input_tokens': 551, 'output_tokens': 110, 'total_tokens': 661})]}}, 'step': 4, 'parents': {}, 'thread_id': '3'}, created_at='2025-06-17T11:49:19.999549+00:00', parent_config={'configurable': {'thread_id': '3', 'checkpoint_ns': '', 'checkpoint_id': '1f04b711-1f28-6853-8003-3033f2b3a550'}}, tasks=(), interrupts=())\n",
      "--\n",
      "StateSnapshot(values={'messages': [HumanMessage(content='Whats the weather in LA?', additional_kwargs={}, response_metadata={}, id='893fd179-9aad-423c-86b9-05285327b185'), AIMessage(content='', additional_kwargs={}, response_metadata={'model': 'qwen2.5', 'created_at': '2025-06-17T11:48:59.392310864Z', 'done': True, 'done_reason': 'stop', 'total_duration': 3876205454, 'load_duration': 11813746, 'prompt_eval_count': 242, 'prompt_eval_duration': 142520091, 'eval_count': 27, 'eval_duration': 3718237787, 'model_name': 'qwen2.5'}, id='run--a314f178-bb72-45f2-8d0e-fdd4ad22b262-0', tool_calls=[{'name': 'tavily_search_results_json', 'args': {'query': 'current weather in Louisiana'}, 'id': '89f3b019-7a0c-4dc3-a244-1adf480716dd', 'type': 'tool_call'}], usage_metadata={'input_tokens': 242, 'output_tokens': 27, 'total_tokens': 269}), ToolMessage(content=\"[{'title': 'Tuesday, June 17, 2025. New Orleans, LA - Weather Forecast', 'url': 'https://weathershogun.com/weather/usa/la/new-orleans/1865/june/2025-06-17', 'content': 'New Orleans, Louisiana Weather: Tuesday, June 17, 2025. Stormy weather, thunderstorms. Day 88°. Night 77°. Precipitation 70 %. Wind 9 mph.', 'score': 0.9174287}, {'title': 'Tuesday, June 17, 2025. Baton Rouge, LA - Weather Forecast', 'url': 'https://weathershogun.com/weather/usa/la/baton-rouge/1805/june/2025-06-17', 'content': 'Baton Rouge, Louisiana Weather: Tuesday, June 17, 2025. Stormy weather, thunderstorms. Day 90°. Night 75°. Precipitation 55 %. Wind 9 mph.', 'score': 0.9123193}]\", name='tavily_search_results_json', id='28dd2bbb-2be7-4356-b475-68843ec2dd3e', tool_call_id='89f3b019-7a0c-4dc3-a244-1adf480716dd')]}, next=('llm',), config={'configurable': {'thread_id': '3', 'checkpoint_ns': '', 'checkpoint_id': '1f04b711-1f28-6853-8003-3033f2b3a550'}}, metadata={'source': 'loop', 'writes': {'action': {'messages': [ToolMessage(content=\"[{'title': 'Tuesday, June 17, 2025. New Orleans, LA - Weather Forecast', 'url': 'https://weathershogun.com/weather/usa/la/new-orleans/1865/june/2025-06-17', 'content': 'New Orleans, Louisiana Weather: Tuesday, June 17, 2025. Stormy weather, thunderstorms. Day 88°. Night 77°. Precipitation 70 %. Wind 9 mph.', 'score': 0.9174287}, {'title': 'Tuesday, June 17, 2025. Baton Rouge, LA - Weather Forecast', 'url': 'https://weathershogun.com/weather/usa/la/baton-rouge/1805/june/2025-06-17', 'content': 'Baton Rouge, Louisiana Weather: Tuesday, June 17, 2025. Stormy weather, thunderstorms. Day 90°. Night 75°. Precipitation 55 %. Wind 9 mph.', 'score': 0.9123193}]\", name='tavily_search_results_json', id='28dd2bbb-2be7-4356-b475-68843ec2dd3e', tool_call_id='89f3b019-7a0c-4dc3-a244-1adf480716dd')]}}, 'step': 3, 'parents': {}, 'thread_id': '3'}, created_at='2025-06-17T11:49:05.298000+00:00', parent_config={'configurable': {'thread_id': '3', 'checkpoint_ns': '', 'checkpoint_id': '1f04b710-e777-6147-8002-e92b61cab2d8'}}, tasks=(PregelTask(id='f45335da-4fcc-39bb-9829-2591d3ba3380', name='llm', path=('__pregel_pull', 'llm'), error=None, interrupts=(), state=None, result={'messages': [AIMessage(content=\"I couldn't find specific weather information for Los Angeles (LA). However, I found weather forecasts for New Orleans and Baton Rouge in Louisiana. The forecast for New Orleans on Tuesday, June 17, 2025 indicates stormy weather with thunderstorms, a day temperature of 88°F and night temperature of 77°F, and a precipitation chance of 70%. \\n\\nWould you like to know the weather in Los Angeles on another date or do you want more general information about typical weather conditions in Los Angeles?\", additional_kwargs={}, response_metadata={'model': 'qwen2.5', 'created_at': '2025-06-17T11:49:19.994831365Z', 'done': True, 'done_reason': 'stop', 'total_duration': 14692425625, 'load_duration': 15409110, 'prompt_eval_count': 551, 'prompt_eval_duration': 754011394, 'eval_count': 110, 'eval_duration': 13907868931, 'model_name': 'qwen2.5'}, id='run--15c41539-bad8-4b4e-a2ae-8b8c4cf2aee0-0', usage_metadata={'input_tokens': 551, 'output_tokens': 110, 'total_tokens': 661})]}),), interrupts=())\n",
      "--\n",
      "StateSnapshot(values={'messages': [HumanMessage(content='Whats the weather in LA?', additional_kwargs={}, response_metadata={}, id='893fd179-9aad-423c-86b9-05285327b185'), AIMessage(content='', additional_kwargs={}, response_metadata={'model': 'qwen2.5', 'created_at': '2025-06-17T11:48:59.392310864Z', 'done': True, 'done_reason': 'stop', 'total_duration': 3876205454, 'load_duration': 11813746, 'prompt_eval_count': 242, 'prompt_eval_duration': 142520091, 'eval_count': 27, 'eval_duration': 3718237787, 'model_name': 'qwen2.5'}, id='run--a314f178-bb72-45f2-8d0e-fdd4ad22b262-0', tool_calls=[{'name': 'tavily_search_results_json', 'args': {'query': 'current weather in Louisiana'}, 'id': '89f3b019-7a0c-4dc3-a244-1adf480716dd', 'type': 'tool_call'}], usage_metadata={'input_tokens': 242, 'output_tokens': 27, 'total_tokens': 269})]}, next=('action',), config={'configurable': {'thread_id': '3', 'checkpoint_ns': '', 'checkpoint_id': '1f04b710-e777-6147-8002-e92b61cab2d8'}}, metadata={'source': 'update', 'writes': {'llm': {'messages': [HumanMessage(content='Whats the weather in LA?', additional_kwargs={}, response_metadata={}, id='893fd179-9aad-423c-86b9-05285327b185'), AIMessage(content='', additional_kwargs={}, response_metadata={'model': 'qwen2.5', 'created_at': '2025-06-17T11:48:59.392310864Z', 'done': True, 'done_reason': 'stop', 'total_duration': 3876205454, 'load_duration': 11813746, 'prompt_eval_count': 242, 'prompt_eval_duration': 142520091, 'eval_count': 27, 'eval_duration': 3718237787, 'model_name': 'qwen2.5'}, id='run--a314f178-bb72-45f2-8d0e-fdd4ad22b262-0', tool_calls=[{'name': 'tavily_search_results_json', 'args': {'query': 'current weather in Louisiana'}, 'id': '89f3b019-7a0c-4dc3-a244-1adf480716dd', 'type': 'tool_call'}], usage_metadata={'input_tokens': 242, 'output_tokens': 27, 'total_tokens': 269})]}}, 'step': 2, 'parents': {}, 'thread_id': '3'}, created_at='2025-06-17T11:48:59.458163+00:00', parent_config={'configurable': {'thread_id': '3', 'checkpoint_ns': '', 'checkpoint_id': '1f04b710-e6d8-6f29-8001-69e14081ffb3'}}, tasks=(PregelTask(id='bcc0ce78-8789-f181-4ae7-0da7467239c4', name='action', path=('__pregel_pull', 'action'), error=None, interrupts=(), state=None, result={'messages': [ToolMessage(content=\"[{'title': 'Tuesday, June 17, 2025. New Orleans, LA - Weather Forecast', 'url': 'https://weathershogun.com/weather/usa/la/new-orleans/1865/june/2025-06-17', 'content': 'New Orleans, Louisiana Weather: Tuesday, June 17, 2025. Stormy weather, thunderstorms. Day 88°. Night 77°. Precipitation 70 %. Wind 9 mph.', 'score': 0.9174287}, {'title': 'Tuesday, June 17, 2025. Baton Rouge, LA - Weather Forecast', 'url': 'https://weathershogun.com/weather/usa/la/baton-rouge/1805/june/2025-06-17', 'content': 'Baton Rouge, Louisiana Weather: Tuesday, June 17, 2025. Stormy weather, thunderstorms. Day 90°. Night 75°. Precipitation 55 %. Wind 9 mph.', 'score': 0.9123193}]\", name='tavily_search_results_json', tool_call_id='89f3b019-7a0c-4dc3-a244-1adf480716dd')]}),), interrupts=())\n",
      "--\n",
      "StateSnapshot(values={'messages': [HumanMessage(content='Whats the weather in LA?', additional_kwargs={}, response_metadata={}, id='893fd179-9aad-423c-86b9-05285327b185'), AIMessage(content='', additional_kwargs={}, response_metadata={'model': 'qwen2.5', 'created_at': '2025-06-17T11:48:59.392310864Z', 'done': True, 'done_reason': 'stop', 'total_duration': 3876205454, 'load_duration': 11813746, 'prompt_eval_count': 242, 'prompt_eval_duration': 142520091, 'eval_count': 27, 'eval_duration': 3718237787, 'model_name': 'qwen2.5'}, id='run--a314f178-bb72-45f2-8d0e-fdd4ad22b262-0', tool_calls=[{'name': 'tavily_search_results_json', 'args': {'query': 'weather in Los Angeles'}, 'id': '89f3b019-7a0c-4dc3-a244-1adf480716dd', 'type': 'tool_call'}], usage_metadata={'input_tokens': 242, 'output_tokens': 27, 'total_tokens': 269})]}, next=('action',), config={'configurable': {'thread_id': '3', 'checkpoint_ns': '', 'checkpoint_id': '1f04b710-e6d8-6f29-8001-69e14081ffb3'}}, metadata={'source': 'loop', 'writes': {'llm': {'messages': [AIMessage(content='', additional_kwargs={}, response_metadata={'model': 'qwen2.5', 'created_at': '2025-06-17T11:48:59.392310864Z', 'done': True, 'done_reason': 'stop', 'total_duration': 3876205454, 'load_duration': 11813746, 'prompt_eval_count': 242, 'prompt_eval_duration': 142520091, 'eval_count': 27, 'eval_duration': 3718237787, 'model_name': 'qwen2.5'}, id='run--a314f178-bb72-45f2-8d0e-fdd4ad22b262-0', tool_calls=[{'name': 'tavily_search_results_json', 'args': {'query': 'weather in Los Angeles'}, 'id': '89f3b019-7a0c-4dc3-a244-1adf480716dd', 'type': 'tool_call'}], usage_metadata={'input_tokens': 242, 'output_tokens': 27, 'total_tokens': 269})]}}, 'step': 1, 'parents': {}, 'thread_id': '3'}, created_at='2025-06-17T11:48:59.393398+00:00', parent_config={'configurable': {'thread_id': '3', 'checkpoint_ns': '', 'checkpoint_id': '1f04b710-c1dc-6a6e-8000-88195e9da0bc'}}, tasks=(PregelTask(id='3cfe5e83-ba13-3093-de5b-a5a16beff14e', name='action', path=('__pregel_pull', 'action'), error=None, interrupts=(), state=None, result=None),), interrupts=())\n",
      "--\n",
      "StateSnapshot(values={'messages': [HumanMessage(content='Whats the weather in LA?', additional_kwargs={}, response_metadata={}, id='893fd179-9aad-423c-86b9-05285327b185')]}, next=('llm',), config={'configurable': {'thread_id': '3', 'checkpoint_ns': '', 'checkpoint_id': '1f04b710-c1dc-6a6e-8000-88195e9da0bc'}}, metadata={'source': 'loop', 'writes': None, 'step': 0, 'parents': {}, 'thread_id': '3'}, created_at='2025-06-17T11:48:55.515191+00:00', parent_config={'configurable': {'thread_id': '3', 'checkpoint_ns': '', 'checkpoint_id': '1f04b710-c1da-6589-bfff-312fb7fecdd4'}}, tasks=(PregelTask(id='b4c3ebfc-f5b6-65ac-07a2-ed2a305d4838', name='llm', path=('__pregel_pull', 'llm'), error=None, interrupts=(), state=None, result={'messages': [AIMessage(content='', additional_kwargs={}, response_metadata={'model': 'qwen2.5', 'created_at': '2025-06-17T11:48:59.392310864Z', 'done': True, 'done_reason': 'stop', 'total_duration': 3876205454, 'load_duration': 11813746, 'prompt_eval_count': 242, 'prompt_eval_duration': 142520091, 'eval_count': 27, 'eval_duration': 3718237787, 'model_name': 'qwen2.5'}, id='run--a314f178-bb72-45f2-8d0e-fdd4ad22b262-0', tool_calls=[{'name': 'tavily_search_results_json', 'args': {'query': 'weather in Los Angeles'}, 'id': '89f3b019-7a0c-4dc3-a244-1adf480716dd', 'type': 'tool_call'}], usage_metadata={'input_tokens': 242, 'output_tokens': 27, 'total_tokens': 269})]}),), interrupts=())\n",
      "--\n",
      "StateSnapshot(values={'messages': []}, next=('__start__',), config={'configurable': {'thread_id': '3', 'checkpoint_ns': '', 'checkpoint_id': '1f04b710-c1da-6589-bfff-312fb7fecdd4'}}, metadata={'source': 'input', 'writes': {'__start__': {'messages': [HumanMessage(content='Whats the weather in LA?', additional_kwargs={}, response_metadata={})]}}, 'step': -1, 'parents': {}, 'thread_id': '3'}, created_at='2025-06-17T11:48:55.514248+00:00', parent_config=None, tasks=(PregelTask(id='92bd4d94-e70e-aea2-3e80-97273e34120a', name='__start__', path=('__pregel_pull', '__start__'), error=None, interrupts=(), state=None, result={'messages': [HumanMessage(content='Whats the weather in LA?', additional_kwargs={}, response_metadata={})]}),), interrupts=())\n",
      "--\n"
     ]
    }
   ],
   "source": [
    "states = []\n",
    "for state in abot.graph.get_state_history(thread):\n",
    "    print(state)\n",
    "    print('--')\n",
    "    states.append(state)"
   ]
  },
  {
   "cell_type": "markdown",
   "id": "9b2a59d7-6dbb-4001-adeb-99c3c85696b4",
   "metadata": {},
   "source": [
    "# Now let's see\n",
    "To fetch the same state as was filmed, the offset below is changed to -3 from -1. This accounts for the initial state __start__ and the first state that are now stored to state memory with the latest version of software."
   ]
  },
  {
   "cell_type": "code",
   "execution_count": 115,
   "id": "77f640bf-3c5d-4180-aac5-9398f29bbfff",
   "metadata": {},
   "outputs": [],
   "source": [
    "to_replay = states[-3]"
   ]
  },
  {
   "cell_type": "code",
   "execution_count": 116,
   "id": "a71ff7cc-da11-474a-a6ad-e024ea07deef",
   "metadata": {},
   "outputs": [
    {
     "data": {
      "text/plain": [
       "StateSnapshot(values={'messages': [HumanMessage(content='Whats the weather in LA?', additional_kwargs={}, response_metadata={}, id='893fd179-9aad-423c-86b9-05285327b185'), AIMessage(content='', additional_kwargs={}, response_metadata={'model': 'qwen2.5', 'created_at': '2025-06-17T11:48:59.392310864Z', 'done': True, 'done_reason': 'stop', 'total_duration': 3876205454, 'load_duration': 11813746, 'prompt_eval_count': 242, 'prompt_eval_duration': 142520091, 'eval_count': 27, 'eval_duration': 3718237787, 'model_name': 'qwen2.5'}, id='run--a314f178-bb72-45f2-8d0e-fdd4ad22b262-0', tool_calls=[{'name': 'tavily_search_results_json', 'args': {'query': 'weather in Los Angeles'}, 'id': '89f3b019-7a0c-4dc3-a244-1adf480716dd', 'type': 'tool_call'}], usage_metadata={'input_tokens': 242, 'output_tokens': 27, 'total_tokens': 269})]}, next=('action',), config={'configurable': {'thread_id': '3', 'checkpoint_ns': '', 'checkpoint_id': '1f04b710-e6d8-6f29-8001-69e14081ffb3'}}, metadata={'source': 'loop', 'writes': {'llm': {'messages': [AIMessage(content='', additional_kwargs={}, response_metadata={'model': 'qwen2.5', 'created_at': '2025-06-17T11:48:59.392310864Z', 'done': True, 'done_reason': 'stop', 'total_duration': 3876205454, 'load_duration': 11813746, 'prompt_eval_count': 242, 'prompt_eval_duration': 142520091, 'eval_count': 27, 'eval_duration': 3718237787, 'model_name': 'qwen2.5'}, id='run--a314f178-bb72-45f2-8d0e-fdd4ad22b262-0', tool_calls=[{'name': 'tavily_search_results_json', 'args': {'query': 'weather in Los Angeles'}, 'id': '89f3b019-7a0c-4dc3-a244-1adf480716dd', 'type': 'tool_call'}], usage_metadata={'input_tokens': 242, 'output_tokens': 27, 'total_tokens': 269})]}}, 'step': 1, 'parents': {}, 'thread_id': '3'}, created_at='2025-06-17T11:48:59.393398+00:00', parent_config={'configurable': {'thread_id': '3', 'checkpoint_ns': '', 'checkpoint_id': '1f04b710-c1dc-6a6e-8000-88195e9da0bc'}}, tasks=(PregelTask(id='3cfe5e83-ba13-3093-de5b-a5a16beff14e', name='action', path=('__pregel_pull', 'action'), error=None, interrupts=(), state=None, result=None),), interrupts=())"
      ]
     },
     "execution_count": 116,
     "metadata": {},
     "output_type": "execute_result"
    }
   ],
   "source": [
    "to_replay"
   ]
  },
  {
   "cell_type": "code",
   "execution_count": 117,
   "id": "b0f10887-b01a-47be-9a6f-2b30700f9b4d",
   "metadata": {},
   "outputs": [
    {
     "name": "stdout",
     "output_type": "stream",
     "text": [
      "Calling: {'name': 'tavily_search_results_json', 'args': {'query': 'weather in Los Angeles'}, 'id': '89f3b019-7a0c-4dc3-a244-1adf480716dd', 'type': 'tool_call'}\n",
      "Back to the model!\n",
      "{'messages': [ToolMessage(content='[{\\'title\\': \\'Weather in Los Angeles in June 2025 (California)\\', \\'url\\': \\'https://world-weather.info/forecast/usa/los_angeles/june-2025/\\', \\'content\\': \\'*   [17 +86° +64°](https://world-weather.info/forecast/usa/los_angeles/14days/#2025-06-17)\\\\n*   [18 +86° +64°](https://world-weather.info/forecast/usa/los_angeles/14days/#2025-06-18)\\\\n*   [19 +82° +64°](https://world-weather.info/forecast/usa/los_angeles/14days/#2025-06-19)\\\\n*   [20 +84° +66°](https://world-weather.info/forecast/usa/los_angeles/14days/#2025-06-20)\\\\n*   [21 +86° +75°](https://world-weather.info/forecast/usa/los_angeles/14days/#2025-06-21)\\', \\'score\\': 0.95438045}, {\\'title\\': \\'Tuesday, June 17, 2025. Los Angeles, CA - Weather Forecast\\', \\'url\\': \\'https://weathershogun.com/weather/usa/ca/los-angeles/451/june/2025-06-17\\', \\'content\\': \"Tuesday, June 17, 2025\\\\n\\\\nDay 88°\\\\n\\\\nNight 64°\\\\n\\\\nPrecipitation 0 %\\\\n\\\\nWind 8 mph\\\\n\\\\nUV Index (0 - 11+)11\\\\n\\\\n[Wednesday](https://weathershogun.com/weather/usa/ca/los-angeles/451/june/2025-06-18) [...] Tuesday, June 17, 2025. Los Angeles, CA - Weather Forecast \\\\n\\\\n===============\\\\n\\\\n☰\\\\n\\\\n[Los Angeles, CA](https://weathershogun.com/weather/usa/ca/los-angeles/today/451)\\\\n\\\\n[![Image 1: WeatherShogun.com](https://weathershogun.com/img/logo.svg)](https://weathershogun.com/) [...] Last Year\\'s Weather on This Day (June 17, 2024)\\\\n\\\\n### Day\\\\n\\\\n73°\\\\n\\\\n### Night\\\\n\\\\n63°\\\\n\\\\nPlease note that while we strive for accuracy, the information provided may not always be correct. Use at your own risk.\\\\n\\\\n© Copyright by WeatherShogun.com\", \\'score\\': 0.94339466}]', name='tavily_search_results_json', id='618983cf-4d98-4b9e-8d65-afe9f2a0ec8a', tool_call_id='89f3b019-7a0c-4dc3-a244-1adf480716dd')]}\n",
      "{'messages': [HumanMessage(content='Whats the weather in LA?', additional_kwargs={}, response_metadata={}, id='893fd179-9aad-423c-86b9-05285327b185'), AIMessage(content='', additional_kwargs={}, response_metadata={'model': 'qwen2.5', 'created_at': '2025-06-17T11:48:59.392310864Z', 'done': True, 'done_reason': 'stop', 'total_duration': 3876205454, 'load_duration': 11813746, 'prompt_eval_count': 242, 'prompt_eval_duration': 142520091, 'eval_count': 27, 'eval_duration': 3718237787, 'model_name': 'qwen2.5'}, id='run--a314f178-bb72-45f2-8d0e-fdd4ad22b262-0', tool_calls=[{'name': 'tavily_search_results_json', 'args': {'query': 'weather in Los Angeles'}, 'id': '89f3b019-7a0c-4dc3-a244-1adf480716dd', 'type': 'tool_call'}], usage_metadata={'input_tokens': 242, 'output_tokens': 27, 'total_tokens': 269}), ToolMessage(content='[{\\'title\\': \\'Weather in Los Angeles in June 2025 (California)\\', \\'url\\': \\'https://world-weather.info/forecast/usa/los_angeles/june-2025/\\', \\'content\\': \\'*   [17 +86° +64°](https://world-weather.info/forecast/usa/los_angeles/14days/#2025-06-17)\\\\n*   [18 +86° +64°](https://world-weather.info/forecast/usa/los_angeles/14days/#2025-06-18)\\\\n*   [19 +82° +64°](https://world-weather.info/forecast/usa/los_angeles/14days/#2025-06-19)\\\\n*   [20 +84° +66°](https://world-weather.info/forecast/usa/los_angeles/14days/#2025-06-20)\\\\n*   [21 +86° +75°](https://world-weather.info/forecast/usa/los_angeles/14days/#2025-06-21)\\', \\'score\\': 0.95438045}, {\\'title\\': \\'Tuesday, June 17, 2025. Los Angeles, CA - Weather Forecast\\', \\'url\\': \\'https://weathershogun.com/weather/usa/ca/los-angeles/451/june/2025-06-17\\', \\'content\\': \"Tuesday, June 17, 2025\\\\n\\\\nDay 88°\\\\n\\\\nNight 64°\\\\n\\\\nPrecipitation 0 %\\\\n\\\\nWind 8 mph\\\\n\\\\nUV Index (0 - 11+)11\\\\n\\\\n[Wednesday](https://weathershogun.com/weather/usa/ca/los-angeles/451/june/2025-06-18) [...] Tuesday, June 17, 2025. Los Angeles, CA - Weather Forecast \\\\n\\\\n===============\\\\n\\\\n☰\\\\n\\\\n[Los Angeles, CA](https://weathershogun.com/weather/usa/ca/los-angeles/today/451)\\\\n\\\\n[![Image 1: WeatherShogun.com](https://weathershogun.com/img/logo.svg)](https://weathershogun.com/) [...] Last Year\\'s Weather on This Day (June 17, 2024)\\\\n\\\\n### Day\\\\n\\\\n73°\\\\n\\\\n### Night\\\\n\\\\n63°\\\\n\\\\nPlease note that while we strive for accuracy, the information provided may not always be correct. Use at your own risk.\\\\n\\\\n© Copyright by WeatherShogun.com\", \\'score\\': 0.94339466}]', name='tavily_search_results_json', id='618983cf-4d98-4b9e-8d65-afe9f2a0ec8a', tool_call_id='89f3b019-7a0c-4dc3-a244-1adf480716dd'), AIMessage(content=\"The weather in Los Angeles on June 17, 2025, is expected to have a high of 86°F during the day and a low of 64°F at night. There's no precipitation forecasted for this date.\\n\\nPlease note that these predictions are based on current models and can change as we approach the date. For the most up-to-date information, consider checking a reliable weather source closer to the time.\", additional_kwargs={}, response_metadata={'model': 'qwen2.5', 'created_at': '2025-06-17T11:50:18.580730475Z', 'done': True, 'done_reason': 'stop', 'total_duration': 13725490674, 'load_duration': 17814637, 'prompt_eval_count': 927, 'prompt_eval_duration': 1530050740, 'eval_count': 91, 'eval_duration': 12164133428, 'model_name': 'qwen2.5'}, id='run--8164abd7-c2d4-4751-af9c-5655bb315542-0', usage_metadata={'input_tokens': 927, 'output_tokens': 91, 'total_tokens': 1018})]}\n",
      "{'messages': [AIMessage(content=\"The weather in Los Angeles on June 17, 2025, is expected to have a high of 86°F during the day and a low of 64°F at night. There's no precipitation forecasted for this date.\\n\\nPlease note that these predictions are based on current models and can change as we approach the date. For the most up-to-date information, consider checking a reliable weather source closer to the time.\", additional_kwargs={}, response_metadata={'model': 'qwen2.5', 'created_at': '2025-06-17T11:50:18.580730475Z', 'done': True, 'done_reason': 'stop', 'total_duration': 13725490674, 'load_duration': 17814637, 'prompt_eval_count': 927, 'prompt_eval_duration': 1530050740, 'eval_count': 91, 'eval_duration': 12164133428, 'model_name': 'qwen2.5'}, id='run--8164abd7-c2d4-4751-af9c-5655bb315542-0', usage_metadata={'input_tokens': 927, 'output_tokens': 91, 'total_tokens': 1018})]}\n"
     ]
    }
   ],
   "source": [
    "for event in abot.graph.stream(None, to_replay.config):\n",
    "    for k, v in event.items():\n",
    "        print(v)"
   ]
  },
  {
   "cell_type": "markdown",
   "id": "cde7c03b-7e5a-4a1c-89d5-53e8b094a370",
   "metadata": {},
   "source": [
    "## Go back in time and edit"
   ]
  },
  {
   "cell_type": "code",
   "execution_count": 118,
   "id": "8c121eac-effc-46e5-9111-dba141944845",
   "metadata": {},
   "outputs": [
    {
     "data": {
      "text/plain": [
       "StateSnapshot(values={'messages': [HumanMessage(content='Whats the weather in LA?', additional_kwargs={}, response_metadata={}, id='893fd179-9aad-423c-86b9-05285327b185'), AIMessage(content='', additional_kwargs={}, response_metadata={'model': 'qwen2.5', 'created_at': '2025-06-17T11:48:59.392310864Z', 'done': True, 'done_reason': 'stop', 'total_duration': 3876205454, 'load_duration': 11813746, 'prompt_eval_count': 242, 'prompt_eval_duration': 142520091, 'eval_count': 27, 'eval_duration': 3718237787, 'model_name': 'qwen2.5'}, id='run--a314f178-bb72-45f2-8d0e-fdd4ad22b262-0', tool_calls=[{'name': 'tavily_search_results_json', 'args': {'query': 'weather in Los Angeles'}, 'id': '89f3b019-7a0c-4dc3-a244-1adf480716dd', 'type': 'tool_call'}], usage_metadata={'input_tokens': 242, 'output_tokens': 27, 'total_tokens': 269})]}, next=('action',), config={'configurable': {'thread_id': '3', 'checkpoint_ns': '', 'checkpoint_id': '1f04b710-e6d8-6f29-8001-69e14081ffb3'}}, metadata={'source': 'loop', 'writes': {'llm': {'messages': [AIMessage(content='', additional_kwargs={}, response_metadata={'model': 'qwen2.5', 'created_at': '2025-06-17T11:48:59.392310864Z', 'done': True, 'done_reason': 'stop', 'total_duration': 3876205454, 'load_duration': 11813746, 'prompt_eval_count': 242, 'prompt_eval_duration': 142520091, 'eval_count': 27, 'eval_duration': 3718237787, 'model_name': 'qwen2.5'}, id='run--a314f178-bb72-45f2-8d0e-fdd4ad22b262-0', tool_calls=[{'name': 'tavily_search_results_json', 'args': {'query': 'weather in Los Angeles'}, 'id': '89f3b019-7a0c-4dc3-a244-1adf480716dd', 'type': 'tool_call'}], usage_metadata={'input_tokens': 242, 'output_tokens': 27, 'total_tokens': 269})]}}, 'step': 1, 'parents': {}, 'thread_id': '3'}, created_at='2025-06-17T11:48:59.393398+00:00', parent_config={'configurable': {'thread_id': '3', 'checkpoint_ns': '', 'checkpoint_id': '1f04b710-c1dc-6a6e-8000-88195e9da0bc'}}, tasks=(PregelTask(id='3cfe5e83-ba13-3093-de5b-a5a16beff14e', name='action', path=('__pregel_pull', 'action'), error=None, interrupts=(), state=None, result=None),), interrupts=())"
      ]
     },
     "execution_count": 118,
     "metadata": {},
     "output_type": "execute_result"
    }
   ],
   "source": [
    "to_replay"
   ]
  },
  {
   "cell_type": "code",
   "execution_count": 119,
   "id": "98da4bc6-84a7-47ad-886f-290272ed4bb2",
   "metadata": {},
   "outputs": [],
   "source": [
    "_id = to_replay.values['messages'][-1].tool_calls[0]['id']\n",
    "to_replay.values['messages'][-1].tool_calls = [{'name': 'tavily_search_results_json',\n",
    "  'args': {'query': 'current weather in LA, accuweather'},\n",
    "  'id': _id}]"
   ]
  },
  {
   "cell_type": "code",
   "execution_count": 120,
   "id": "d267cf4c-10db-445e-91ea-7fa6c65f3533",
   "metadata": {},
   "outputs": [
    {
     "name": "stdout",
     "output_type": "stream",
     "text": [
      "{'messages': [HumanMessage(content='Whats the weather in LA?', additional_kwargs={}, response_metadata={}, id='893fd179-9aad-423c-86b9-05285327b185'), AIMessage(content='', additional_kwargs={}, response_metadata={'model': 'qwen2.5', 'created_at': '2025-06-17T11:48:59.392310864Z', 'done': True, 'done_reason': 'stop', 'total_duration': 3876205454, 'load_duration': 11813746, 'prompt_eval_count': 242, 'prompt_eval_duration': 142520091, 'eval_count': 27, 'eval_duration': 3718237787, 'model_name': 'qwen2.5'}, id='run--a314f178-bb72-45f2-8d0e-fdd4ad22b262-0', tool_calls=[{'name': 'tavily_search_results_json', 'args': {'query': 'current weather in LA, accuweather'}, 'id': '89f3b019-7a0c-4dc3-a244-1adf480716dd'}], usage_metadata={'input_tokens': 242, 'output_tokens': 27, 'total_tokens': 269})]}\n"
     ]
    }
   ],
   "source": [
    "branch_state = abot.graph.update_state(to_replay.config, to_replay.values)"
   ]
  },
  {
   "cell_type": "code",
   "execution_count": 121,
   "id": "ad9c3313-817e-4395-9506-9d080691ecf8",
   "metadata": {},
   "outputs": [
    {
     "name": "stdout",
     "output_type": "stream",
     "text": [
      "Calling: {'name': 'tavily_search_results_json', 'args': {'query': 'current weather in LA, accuweather'}, 'id': '89f3b019-7a0c-4dc3-a244-1adf480716dd', 'type': 'tool_call'}\n",
      "Back to the model!\n",
      "{'messages': [ToolMessage(content='[{\\'title\\': \\'Los Angeles, California, USA 14 day weather forecast - Time and Date\\', \\'url\\': \\'https://www.timeanddate.com/weather/usa/los-angeles/ext\\', \\'content\\': \\'Jun 17, 84 / 61 °F, Sunny. 82 °F, 9 mph, ↑, 36%, 0%, 0.00\", 10 ... * Updated Monday, June 16, 2025 2:24:09 pm Los Angeles time - Weather by CustomWeather, © 2025\\', \\'score\\': 0.7485182}, {\\'title\\': \\'Los Angeles weather with 7-day forecast, Mega Doppler 7000 - ABC7\\', \\'url\\': \\'https://abc7.com/weather/\\', \\'content\\': \\'AccuWeather · Feels Like. 83°. Sunrise. 5:41 AM · Humidity. 48%. Sunset. 8:06 PM · Windspeed. WSW 3 mph. Moonrise. 11:45 PM · Pressure. 29.88 in. Moonset. 9:39 AM.\\', \\'score\\': 0.6439794}]', name='tavily_search_results_json', id='bbcde6ea-c484-4454-a458-419a1779c012', tool_call_id='89f3b019-7a0c-4dc3-a244-1adf480716dd')]}\n",
      "{'messages': [HumanMessage(content='Whats the weather in LA?', additional_kwargs={}, response_metadata={}, id='893fd179-9aad-423c-86b9-05285327b185'), AIMessage(content='', additional_kwargs={}, response_metadata={'model': 'qwen2.5', 'created_at': '2025-06-17T11:48:59.392310864Z', 'done': True, 'done_reason': 'stop', 'total_duration': 3876205454, 'load_duration': 11813746, 'prompt_eval_count': 242, 'prompt_eval_duration': 142520091, 'eval_count': 27, 'eval_duration': 3718237787, 'model_name': 'qwen2.5'}, id='run--a314f178-bb72-45f2-8d0e-fdd4ad22b262-0', tool_calls=[{'name': 'tavily_search_results_json', 'args': {'query': 'current weather in LA, accuweather'}, 'id': '89f3b019-7a0c-4dc3-a244-1adf480716dd', 'type': 'tool_call'}], usage_metadata={'input_tokens': 242, 'output_tokens': 27, 'total_tokens': 269}), ToolMessage(content='[{\\'title\\': \\'Los Angeles, California, USA 14 day weather forecast - Time and Date\\', \\'url\\': \\'https://www.timeanddate.com/weather/usa/los-angeles/ext\\', \\'content\\': \\'Jun 17, 84 / 61 °F, Sunny. 82 °F, 9 mph, ↑, 36%, 0%, 0.00\", 10 ... * Updated Monday, June 16, 2025 2:24:09 pm Los Angeles time - Weather by CustomWeather, © 2025\\', \\'score\\': 0.7485182}, {\\'title\\': \\'Los Angeles weather with 7-day forecast, Mega Doppler 7000 - ABC7\\', \\'url\\': \\'https://abc7.com/weather/\\', \\'content\\': \\'AccuWeather · Feels Like. 83°. Sunrise. 5:41 AM · Humidity. 48%. Sunset. 8:06 PM · Windspeed. WSW 3 mph. Moonrise. 11:45 PM · Pressure. 29.88 in. Moonset. 9:39 AM.\\', \\'score\\': 0.6439794}]', name='tavily_search_results_json', id='bbcde6ea-c484-4454-a458-419a1779c012', tool_call_id='89f3b019-7a0c-4dc3-a244-1adf480716dd'), AIMessage(content='The current weather in Los Angeles is sunny with a temperature of 84°F during the day and 61°F at night as per Time and Date. The wind speed is around 9 mph. \\n\\nFor more detailed information, you can visit [this link](https://www.timeanddate.com/weather/usa/los-angeles/ext).', additional_kwargs={}, response_metadata={'model': 'qwen2.5', 'created_at': '2025-06-17T11:50:34.726181Z', 'done': True, 'done_reason': 'stop', 'total_duration': 9906911271, 'load_duration': 14421254, 'prompt_eval_count': 567, 'prompt_eval_duration': 783120874, 'eval_count': 72, 'eval_duration': 9096547577, 'model_name': 'qwen2.5'}, id='run--cfda1879-51ef-4089-86d9-bb93f2a0ed0f-0', usage_metadata={'input_tokens': 567, 'output_tokens': 72, 'total_tokens': 639})]}\n",
      "{'messages': [AIMessage(content='The current weather in Los Angeles is sunny with a temperature of 84°F during the day and 61°F at night as per Time and Date. The wind speed is around 9 mph. \\n\\nFor more detailed information, you can visit [this link](https://www.timeanddate.com/weather/usa/los-angeles/ext).', additional_kwargs={}, response_metadata={'model': 'qwen2.5', 'created_at': '2025-06-17T11:50:34.726181Z', 'done': True, 'done_reason': 'stop', 'total_duration': 9906911271, 'load_duration': 14421254, 'prompt_eval_count': 567, 'prompt_eval_duration': 783120874, 'eval_count': 72, 'eval_duration': 9096547577, 'model_name': 'qwen2.5'}, id='run--cfda1879-51ef-4089-86d9-bb93f2a0ed0f-0', usage_metadata={'input_tokens': 567, 'output_tokens': 72, 'total_tokens': 639})]}\n"
     ]
    }
   ],
   "source": [
    "for event in abot.graph.stream(None, branch_state):\n",
    "    for k, v in event.items():\n",
    "        if k != \"__end__\":\n",
    "            print(v)"
   ]
  },
  {
   "cell_type": "markdown",
   "id": "fe62da1e-dcad-4c9e-8276-604effb96f13",
   "metadata": {},
   "source": [
    "## Close connection"
   ]
  },
  {
   "cell_type": "code",
   "execution_count": 122,
   "id": "613eac09-79a9-4700-a508-8acc1147baf7",
   "metadata": {},
   "outputs": [],
   "source": [
    "stack.close()"
   ]
  },
  {
   "cell_type": "markdown",
   "id": "7961863a-3534-4b20-b236-e5aedf437267",
   "metadata": {},
   "source": [
    "# Extra Practice"
   ]
  },
  {
   "cell_type": "markdown",
   "id": "4e828aec-d8d8-4598-810b-f19fcdce31fe",
   "metadata": {},
   "source": [
    "## Build a small graph"
   ]
  },
  {
   "cell_type": "markdown",
   "id": "204e06f8-bacd-44a3-acb8-e019a2dda9f8",
   "metadata": {},
   "source": [
    "This is a small simple graph you can tinker with if you want more insight into controlling state memory."
   ]
  },
  {
   "cell_type": "code",
   "execution_count": 7,
   "id": "721daea0-08bf-4c7b-8e66-e1f7cf506b90",
   "metadata": {},
   "outputs": [],
   "source": [
    "from langgraph.graph import StateGraph, END\n",
    "from typing import TypedDict, Annotated\n",
    "import operator\n",
    "from langgraph.checkpoint.sqlite import SqliteSaver\n",
    "from contextlib import ExitStack"
   ]
  },
  {
   "cell_type": "markdown",
   "id": "d817e80c-e004-483d-9b2c-36a5e7d29970",
   "metadata": {},
   "source": [
    "Define a simple 2 node graph with the following state: -lnode: last node -scratch: a scratchpad location -count : a counter that is incremented each step"
   ]
  },
  {
   "cell_type": "code",
   "execution_count": 8,
   "id": "6544206f-1fa5-40c3-be33-55dac79f788b",
   "metadata": {},
   "outputs": [],
   "source": [
    "class AgentState(TypedDict):\n",
    "    lnode: str\n",
    "    scratch: str\n",
    "    count: Annotated[int, operator.add]"
   ]
  },
  {
   "cell_type": "code",
   "execution_count": 9,
   "id": "20c73b00-7afa-45c6-b582-495dc497b48c",
   "metadata": {},
   "outputs": [],
   "source": [
    "def node1(state: AgentState):\n",
    "    print(f\"node1, count:{state['count']}\")\n",
    "    return {\"lnode\": \"node_1\",\n",
    "    \"count\": 1,\n",
    "           }\n",
    "\n",
    "def node2(state: AgentState):\n",
    "    print(f\"node2, count:{state['count']}\")\n",
    "    return {\"lnode\": \"node_2\",\n",
    "            \"count\": 1,\n",
    "           }\n",
    "        "
   ]
  },
  {
   "cell_type": "markdown",
   "id": "6b419838-1d64-40c3-8a5b-2e6210c8c758",
   "metadata": {},
   "source": [
    "The graph goes N1->N2->N1... but break after count reaches 3."
   ]
  },
  {
   "cell_type": "code",
   "execution_count": 10,
   "id": "05d8dfad-495e-4751-b01d-97520f649d9f",
   "metadata": {},
   "outputs": [],
   "source": [
    "def should_continue(state):\n",
    "    return state[\"count\"] < 3"
   ]
  },
  {
   "cell_type": "code",
   "execution_count": 11,
   "id": "c99e81bb-d92d-4602-b943-4b392b10f7fd",
   "metadata": {},
   "outputs": [
    {
     "data": {
      "text/plain": [
       "<langgraph.graph.state.StateGraph at 0x7f4b7d7d8e00>"
      ]
     },
     "execution_count": 11,
     "metadata": {},
     "output_type": "execute_result"
    }
   ],
   "source": [
    "builder = StateGraph(AgentState)\n",
    "builder.add_node(\"Node1\", node1)\n",
    "builder.add_node(\"Node2\", node2)\n",
    "\n",
    "builder.add_edge(\"Node1\", \"Node2\")\n",
    "builder.add_conditional_edges(\"Node2\",\n",
    "                              should_continue,\n",
    "                              {True: \"Node1\", False: END})\n",
    "builder.set_entry_point(\"Node1\")"
   ]
  },
  {
   "cell_type": "code",
   "execution_count": 12,
   "id": "16b91ca7-8d61-488b-ad50-1d272d5367ba",
   "metadata": {},
   "outputs": [],
   "source": [
    "# Use contextlib to manually enter the context manager and keep the object\n",
    "stack = ExitStack()\n",
    "# Create the memory context manager and enter the context\n",
    "memory= stack.enter_context(SqliteSaver.from_conn_string(\":memory:\"))\n",
    "graph = builder.compile(checkpointer=memory)"
   ]
  },
  {
   "cell_type": "markdown",
   "id": "36846638-453d-470c-9bf2-809b5a1c6f69",
   "metadata": {},
   "source": [
    "## Runt it"
   ]
  },
  {
   "cell_type": "code",
   "execution_count": 131,
   "id": "24997e05-5a1b-45a2-a9ad-53b6eb2d43fe",
   "metadata": {},
   "outputs": [
    {
     "name": "stdout",
     "output_type": "stream",
     "text": [
      "node1, count:0\n",
      "node2, count:1\n",
      "node1, count:2\n",
      "node2, count:3\n"
     ]
    },
    {
     "data": {
      "text/plain": [
       "{'lnode': 'node_2', 'scratch': 'hi', 'count': 4}"
      ]
     },
     "execution_count": 131,
     "metadata": {},
     "output_type": "execute_result"
    }
   ],
   "source": [
    "thread = {\"configurable\": {\"thread_id\": str(1)}}\n",
    "graph.invoke({\"count\": 0, \"scratch\": \"hi\"}, thread)"
   ]
  },
  {
   "cell_type": "markdown",
   "id": "b6d004a9-c2c4-40eb-b9a5-9d562da67153",
   "metadata": {},
   "source": [
    "## Look at current state\n",
    "Get the current state. note the values which are the AgentSate. Note the config and the __thread_ts.__ You will be using those to refer to snapshots below."
   ]
  },
  {
   "cell_type": "code",
   "execution_count": 132,
   "id": "397aba14-8387-4539-8a76-ea0d2f48f51c",
   "metadata": {},
   "outputs": [
    {
     "data": {
      "text/plain": [
       "StateSnapshot(values={'lnode': 'node_2', 'scratch': 'hi', 'count': 4}, next=(), config={'configurable': {'thread_id': '1', 'checkpoint_ns': '', 'checkpoint_id': '1f04b72e-c277-6cd5-8004-ceee721c7253'}}, metadata={'source': 'loop', 'writes': {'Node2': {'lnode': 'node_2', 'count': 1}}, 'step': 4, 'parents': {}, 'thread_id': '1'}, created_at='2025-06-17T12:02:20.885108+00:00', parent_config={'configurable': {'thread_id': '1', 'checkpoint_ns': '', 'checkpoint_id': '1f04b72e-c276-6269-8003-8249ec3aed2b'}}, tasks=(), interrupts=())"
      ]
     },
     "execution_count": 132,
     "metadata": {},
     "output_type": "execute_result"
    }
   ],
   "source": [
    "graph.get_state(thread)"
   ]
  },
  {
   "cell_type": "markdown",
   "id": "1ee0279b-261a-45c9-94c6-cdf6352656c6",
   "metadata": {},
   "source": [
    "View all the statesnapshots in memory. You can use the displayed `count` agentstate variable to help track what you see. Notice the most recent snapshots are returned by the iterator first. Also note that there is a handy `step` variable in the metadata that counts the number of steps in the graph execution. This is a bit detailed - but you can also notice that the __parent_config__ is the __config__ of the previous node. At initial startup, additional states are inserted into memory to create a parent. This is something to check when you branch or __time travel__ below."
   ]
  },
  {
   "cell_type": "markdown",
   "id": "30905ab6-cdce-4fdf-8f4b-d2497f119cff",
   "metadata": {},
   "source": [
    "## Look at state history"
   ]
  },
  {
   "cell_type": "code",
   "execution_count": 133,
   "id": "0617b383-7a34-4395-b4d9-1b0da611bf2d",
   "metadata": {},
   "outputs": [
    {
     "name": "stdout",
     "output_type": "stream",
     "text": [
      "StateSnapshot(values={'lnode': 'node_2', 'scratch': 'hi', 'count': 4}, next=(), config={'configurable': {'thread_id': '1', 'checkpoint_ns': '', 'checkpoint_id': '1f04b72e-c277-6cd5-8004-ceee721c7253'}}, metadata={'source': 'loop', 'writes': {'Node2': {'lnode': 'node_2', 'count': 1}}, 'step': 4, 'parents': {}, 'thread_id': '1'}, created_at='2025-06-17T12:02:20.885108+00:00', parent_config={'configurable': {'thread_id': '1', 'checkpoint_ns': '', 'checkpoint_id': '1f04b72e-c276-6269-8003-8249ec3aed2b'}}, tasks=(), interrupts=()) \n",
      "\n",
      "StateSnapshot(values={'lnode': 'node_1', 'scratch': 'hi', 'count': 3}, next=('Node2',), config={'configurable': {'thread_id': '1', 'checkpoint_ns': '', 'checkpoint_id': '1f04b72e-c276-6269-8003-8249ec3aed2b'}}, metadata={'source': 'loop', 'writes': {'Node1': {'lnode': 'node_1', 'count': 1}}, 'step': 3, 'parents': {}, 'thread_id': '1'}, created_at='2025-06-17T12:02:20.884433+00:00', parent_config={'configurable': {'thread_id': '1', 'checkpoint_ns': '', 'checkpoint_id': '1f04b72e-c275-6519-8002-37e8291f4762'}}, tasks=(PregelTask(id='814357fd-8838-4bbe-d57e-68bb2cc04bcb', name='Node2', path=('__pregel_pull', 'Node2'), error=None, interrupts=(), state=None, result={'lnode': 'node_2', 'count': 1}),), interrupts=()) \n",
      "\n",
      "StateSnapshot(values={'lnode': 'node_2', 'scratch': 'hi', 'count': 2}, next=('Node1',), config={'configurable': {'thread_id': '1', 'checkpoint_ns': '', 'checkpoint_id': '1f04b72e-c275-6519-8002-37e8291f4762'}}, metadata={'source': 'loop', 'writes': {'Node2': {'lnode': 'node_2', 'count': 1}}, 'step': 2, 'parents': {}, 'thread_id': '1'}, created_at='2025-06-17T12:02:20.884092+00:00', parent_config={'configurable': {'thread_id': '1', 'checkpoint_ns': '', 'checkpoint_id': '1f04b72e-c274-613c-8001-c98b559cacd5'}}, tasks=(PregelTask(id='6c30a08f-092c-61b0-5d67-4b57d67b01cb', name='Node1', path=('__pregel_pull', 'Node1'), error=None, interrupts=(), state=None, result={'lnode': 'node_1', 'count': 1}),), interrupts=()) \n",
      "\n",
      "StateSnapshot(values={'lnode': 'node_1', 'scratch': 'hi', 'count': 1}, next=('Node2',), config={'configurable': {'thread_id': '1', 'checkpoint_ns': '', 'checkpoint_id': '1f04b72e-c274-613c-8001-c98b559cacd5'}}, metadata={'source': 'loop', 'writes': {'Node1': {'lnode': 'node_1', 'count': 1}}, 'step': 1, 'parents': {}, 'thread_id': '1'}, created_at='2025-06-17T12:02:20.883583+00:00', parent_config={'configurable': {'thread_id': '1', 'checkpoint_ns': '', 'checkpoint_id': '1f04b72e-c272-6ede-8000-92a2c8273faf'}}, tasks=(PregelTask(id='d9925201-fd11-d97e-cbb4-dc6a1b0d6554', name='Node2', path=('__pregel_pull', 'Node2'), error=None, interrupts=(), state=None, result={'lnode': 'node_2', 'count': 1}),), interrupts=()) \n",
      "\n",
      "StateSnapshot(values={'scratch': 'hi', 'count': 0}, next=('Node1',), config={'configurable': {'thread_id': '1', 'checkpoint_ns': '', 'checkpoint_id': '1f04b72e-c272-6ede-8000-92a2c8273faf'}}, metadata={'source': 'loop', 'writes': None, 'step': 0, 'parents': {}, 'thread_id': '1'}, created_at='2025-06-17T12:02:20.883113+00:00', parent_config={'configurable': {'thread_id': '1', 'checkpoint_ns': '', 'checkpoint_id': '1f04b72e-c271-6bbd-bfff-1083f9843ab1'}}, tasks=(PregelTask(id='0b0c8712-9ad6-d4e1-3233-841674115b8a', name='Node1', path=('__pregel_pull', 'Node1'), error=None, interrupts=(), state=None, result={'lnode': 'node_1', 'count': 1}),), interrupts=()) \n",
      "\n",
      "StateSnapshot(values={'count': 0}, next=('__start__',), config={'configurable': {'thread_id': '1', 'checkpoint_ns': '', 'checkpoint_id': '1f04b72e-c271-6bbd-bfff-1083f9843ab1'}}, metadata={'source': 'input', 'writes': {'__start__': {'count': 0, 'scratch': 'hi'}}, 'step': -1, 'parents': {}, 'thread_id': '1'}, created_at='2025-06-17T12:02:20.882624+00:00', parent_config=None, tasks=(PregelTask(id='2b06f7f6-f832-c727-a056-45529a56c81c', name='__start__', path=('__pregel_pull', '__start__'), error=None, interrupts=(), state=None, result={'count': 0, 'scratch': 'hi'}),), interrupts=()) \n",
      "\n"
     ]
    }
   ],
   "source": [
    "for state in graph.get_state_history(thread):\n",
    "    print(state, \"\\n\")"
   ]
  },
  {
   "cell_type": "markdown",
   "id": "614baff6-0b58-46ac-b36b-7375437cb993",
   "metadata": {},
   "source": [
    "Store just the `config` into an list. Note the sequence of counts on the right. `get_state_history` returns the most recent snapshots first."
   ]
  },
  {
   "cell_type": "code",
   "execution_count": 134,
   "id": "24f4f522-423f-4aca-847f-429aa7fb155f",
   "metadata": {},
   "outputs": [
    {
     "name": "stdout",
     "output_type": "stream",
     "text": [
      "{'configurable': {'thread_id': '1', 'checkpoint_ns': '', 'checkpoint_id': '1f04b72e-c277-6cd5-8004-ceee721c7253'}} 4\n",
      "{'configurable': {'thread_id': '1', 'checkpoint_ns': '', 'checkpoint_id': '1f04b72e-c276-6269-8003-8249ec3aed2b'}} 3\n",
      "{'configurable': {'thread_id': '1', 'checkpoint_ns': '', 'checkpoint_id': '1f04b72e-c275-6519-8002-37e8291f4762'}} 2\n",
      "{'configurable': {'thread_id': '1', 'checkpoint_ns': '', 'checkpoint_id': '1f04b72e-c274-613c-8001-c98b559cacd5'}} 1\n",
      "{'configurable': {'thread_id': '1', 'checkpoint_ns': '', 'checkpoint_id': '1f04b72e-c272-6ede-8000-92a2c8273faf'}} 0\n",
      "{'configurable': {'thread_id': '1', 'checkpoint_ns': '', 'checkpoint_id': '1f04b72e-c271-6bbd-bfff-1083f9843ab1'}} 0\n"
     ]
    }
   ],
   "source": [
    "states = []\n",
    "for state in graph.get_state_history(thread):\n",
    "    states.append(state.config)\n",
    "    print(state.config, state.values['count'])"
   ]
  },
  {
   "cell_type": "code",
   "execution_count": 135,
   "id": "21995443-76b3-499a-a5fe-bb36a0d13a9f",
   "metadata": {},
   "outputs": [
    {
     "data": {
      "text/plain": [
       "{'configurable': {'thread_id': '1',\n",
       "  'checkpoint_ns': '',\n",
       "  'checkpoint_id': '1f04b72e-c274-613c-8001-c98b559cacd5'}}"
      ]
     },
     "execution_count": 135,
     "metadata": {},
     "output_type": "execute_result"
    }
   ],
   "source": [
    "states[-3]"
   ]
  },
  {
   "cell_type": "markdown",
   "id": "6fc65d25-9287-41cc-b925-3f49c2684c94",
   "metadata": {},
   "source": [
    "This is the state after Node1 completed for the first time, Note `next` is `Node2` and `count` is 1."
   ]
  },
  {
   "cell_type": "code",
   "execution_count": 136,
   "id": "c27fb84f-c51e-4b24-aa87-b95f405169b5",
   "metadata": {},
   "outputs": [
    {
     "data": {
      "text/plain": [
       "StateSnapshot(values={'lnode': 'node_1', 'scratch': 'hi', 'count': 1}, next=('Node2',), config={'configurable': {'thread_id': '1', 'checkpoint_ns': '', 'checkpoint_id': '1f04b72e-c274-613c-8001-c98b559cacd5'}}, metadata={'source': 'loop', 'writes': {'Node1': {'lnode': 'node_1', 'count': 1}}, 'step': 1, 'parents': {}, 'thread_id': '1'}, created_at='2025-06-17T12:02:20.883583+00:00', parent_config={'configurable': {'thread_id': '1', 'checkpoint_ns': '', 'checkpoint_id': '1f04b72e-c272-6ede-8000-92a2c8273faf'}}, tasks=(PregelTask(id='d9925201-fd11-d97e-cbb4-dc6a1b0d6554', name='Node2', path=('__pregel_pull', 'Node2'), error=None, interrupts=(), state=None, result={'lnode': 'node_2', 'count': 1}),), interrupts=())"
      ]
     },
     "execution_count": 136,
     "metadata": {},
     "output_type": "execute_result"
    }
   ],
   "source": [
    "graph.get_state(states[-3])"
   ]
  },
  {
   "cell_type": "markdown",
   "id": "81750bc8-6ba7-4644-b95e-38b426115fdb",
   "metadata": {},
   "source": [
    "## Go Back in Time\n",
    "Use that state in `invoke` to go back in time. Notice it uses states[-3] as current_state and continues to node2,"
   ]
  },
  {
   "cell_type": "code",
   "execution_count": 137,
   "id": "5ee87690-5c78-40b2-b538-daacc57fb5d2",
   "metadata": {},
   "outputs": [
    {
     "name": "stdout",
     "output_type": "stream",
     "text": [
      "node2, count:1\n",
      "node1, count:2\n",
      "node2, count:3\n"
     ]
    },
    {
     "data": {
      "text/plain": [
       "{'lnode': 'node_2', 'scratch': 'hi', 'count': 4}"
      ]
     },
     "execution_count": 137,
     "metadata": {},
     "output_type": "execute_result"
    }
   ],
   "source": [
    "graph.invoke(None, states[-3])"
   ]
  },
  {
   "cell_type": "code",
   "execution_count": 138,
   "id": "f69472e2-2102-494d-ac4d-97cf8ec1070b",
   "metadata": {},
   "outputs": [
    {
     "name": "stdout",
     "output_type": "stream",
     "text": [
      "{'configurable': {'thread_id': '1', 'checkpoint_ns': '', 'checkpoint_id': '1f04b742-6132-60ca-8004-bc9e66763a08'}} 4\n",
      "{'configurable': {'thread_id': '1', 'checkpoint_ns': '', 'checkpoint_id': '1f04b742-6131-616d-8003-a6af583d5f04'}} 3\n",
      "{'configurable': {'thread_id': '1', 'checkpoint_ns': '', 'checkpoint_id': '1f04b742-6130-61c6-8002-d62e033d53b1'}} 2\n",
      "{'configurable': {'thread_id': '1', 'checkpoint_ns': '', 'checkpoint_id': '1f04b72e-c277-6cd5-8004-ceee721c7253'}} 4\n",
      "{'configurable': {'thread_id': '1', 'checkpoint_ns': '', 'checkpoint_id': '1f04b72e-c276-6269-8003-8249ec3aed2b'}} 3\n",
      "{'configurable': {'thread_id': '1', 'checkpoint_ns': '', 'checkpoint_id': '1f04b72e-c275-6519-8002-37e8291f4762'}} 2\n",
      "{'configurable': {'thread_id': '1', 'checkpoint_ns': '', 'checkpoint_id': '1f04b72e-c274-613c-8001-c98b559cacd5'}} 1\n",
      "{'configurable': {'thread_id': '1', 'checkpoint_ns': '', 'checkpoint_id': '1f04b72e-c272-6ede-8000-92a2c8273faf'}} 0\n",
      "{'configurable': {'thread_id': '1', 'checkpoint_ns': '', 'checkpoint_id': '1f04b72e-c271-6bbd-bfff-1083f9843ab1'}} 0\n"
     ]
    }
   ],
   "source": [
    "therad = {\"configurable\": {\"thread_id\": str(1)}}\n",
    "for state in graph.get_state_history(thread):\n",
    "    print(state.config, state.values['count'])"
   ]
  },
  {
   "cell_type": "code",
   "execution_count": 141,
   "id": "4b946aa2-b007-4ae5-ac71-a1ef60d0e60d",
   "metadata": {},
   "outputs": [
    {
     "name": "stdout",
     "output_type": "stream",
     "text": [
      "StateSnapshot(values={'lnode': 'node_2', 'scratch': 'hi', 'count': 4}, next=(), config={'configurable': {'thread_id': '1', 'checkpoint_ns': '', 'checkpoint_id': '1f04b742-6132-60ca-8004-bc9e66763a08'}}, metadata={'source': 'loop', 'writes': {'Node2': {'lnode': 'node_2', 'count': 1}}, 'step': 4, 'parents': {}, 'thread_id': '1'}, created_at='2025-06-17T12:11:07.556263+00:00', parent_config={'configurable': {'thread_id': '1', 'checkpoint_ns': '', 'checkpoint_id': '1f04b742-6131-616d-8003-a6af583d5f04'}}, tasks=(), interrupts=()) \n",
      "\n",
      "StateSnapshot(values={'lnode': 'node_1', 'scratch': 'hi', 'count': 3}, next=('Node2',), config={'configurable': {'thread_id': '1', 'checkpoint_ns': '', 'checkpoint_id': '1f04b742-6131-616d-8003-a6af583d5f04'}}, metadata={'source': 'loop', 'writes': {'Node1': {'lnode': 'node_1', 'count': 1}}, 'step': 3, 'parents': {}, 'thread_id': '1'}, created_at='2025-06-17T12:11:07.555869+00:00', parent_config={'configurable': {'thread_id': '1', 'checkpoint_ns': '', 'checkpoint_id': '1f04b742-6130-61c6-8002-d62e033d53b1'}}, tasks=(PregelTask(id='ad6fd431-b7fc-dc24-27f1-60d69008cb85', name='Node2', path=('__pregel_pull', 'Node2'), error=None, interrupts=(), state=None, result={'lnode': 'node_2', 'count': 1}),), interrupts=()) \n",
      "\n",
      "StateSnapshot(values={'lnode': 'node_2', 'scratch': 'hi', 'count': 2}, next=('Node1',), config={'configurable': {'thread_id': '1', 'checkpoint_ns': '', 'checkpoint_id': '1f04b742-6130-61c6-8002-d62e033d53b1'}}, metadata={'source': 'loop', 'writes': {'Node2': {'lnode': 'node_2', 'count': 1}}, 'step': 2, 'parents': {}, 'thread_id': '1'}, created_at='2025-06-17T12:11:07.555464+00:00', parent_config={'configurable': {'thread_id': '1', 'checkpoint_ns': '', 'checkpoint_id': '1f04b72e-c274-613c-8001-c98b559cacd5'}}, tasks=(PregelTask(id='73a47616-6332-780e-9851-d9394c6b86aa', name='Node1', path=('__pregel_pull', 'Node1'), error=None, interrupts=(), state=None, result={'lnode': 'node_1', 'count': 1}),), interrupts=()) \n",
      "\n",
      "StateSnapshot(values={'lnode': 'node_2', 'scratch': 'hi', 'count': 4}, next=(), config={'configurable': {'thread_id': '1', 'checkpoint_ns': '', 'checkpoint_id': '1f04b72e-c277-6cd5-8004-ceee721c7253'}}, metadata={'source': 'loop', 'writes': {'Node2': {'lnode': 'node_2', 'count': 1}}, 'step': 4, 'parents': {}, 'thread_id': '1'}, created_at='2025-06-17T12:02:20.885108+00:00', parent_config={'configurable': {'thread_id': '1', 'checkpoint_ns': '', 'checkpoint_id': '1f04b72e-c276-6269-8003-8249ec3aed2b'}}, tasks=(), interrupts=()) \n",
      "\n",
      "StateSnapshot(values={'lnode': 'node_1', 'scratch': 'hi', 'count': 3}, next=('Node2',), config={'configurable': {'thread_id': '1', 'checkpoint_ns': '', 'checkpoint_id': '1f04b72e-c276-6269-8003-8249ec3aed2b'}}, metadata={'source': 'loop', 'writes': {'Node1': {'lnode': 'node_1', 'count': 1}}, 'step': 3, 'parents': {}, 'thread_id': '1'}, created_at='2025-06-17T12:02:20.884433+00:00', parent_config={'configurable': {'thread_id': '1', 'checkpoint_ns': '', 'checkpoint_id': '1f04b72e-c275-6519-8002-37e8291f4762'}}, tasks=(PregelTask(id='814357fd-8838-4bbe-d57e-68bb2cc04bcb', name='Node2', path=('__pregel_pull', 'Node2'), error=None, interrupts=(), state=None, result={'lnode': 'node_2', 'count': 1}),), interrupts=()) \n",
      "\n",
      "StateSnapshot(values={'lnode': 'node_2', 'scratch': 'hi', 'count': 2}, next=('Node1',), config={'configurable': {'thread_id': '1', 'checkpoint_ns': '', 'checkpoint_id': '1f04b72e-c275-6519-8002-37e8291f4762'}}, metadata={'source': 'loop', 'writes': {'Node2': {'lnode': 'node_2', 'count': 1}}, 'step': 2, 'parents': {}, 'thread_id': '1'}, created_at='2025-06-17T12:02:20.884092+00:00', parent_config={'configurable': {'thread_id': '1', 'checkpoint_ns': '', 'checkpoint_id': '1f04b72e-c274-613c-8001-c98b559cacd5'}}, tasks=(PregelTask(id='6c30a08f-092c-61b0-5d67-4b57d67b01cb', name='Node1', path=('__pregel_pull', 'Node1'), error=None, interrupts=(), state=None, result={'lnode': 'node_1', 'count': 1}),), interrupts=()) \n",
      "\n",
      "StateSnapshot(values={'lnode': 'node_1', 'scratch': 'hi', 'count': 1}, next=('Node2',), config={'configurable': {'thread_id': '1', 'checkpoint_ns': '', 'checkpoint_id': '1f04b72e-c274-613c-8001-c98b559cacd5'}}, metadata={'source': 'loop', 'writes': {'Node1': {'lnode': 'node_1', 'count': 1}}, 'step': 1, 'parents': {}, 'thread_id': '1'}, created_at='2025-06-17T12:02:20.883583+00:00', parent_config={'configurable': {'thread_id': '1', 'checkpoint_ns': '', 'checkpoint_id': '1f04b72e-c272-6ede-8000-92a2c8273faf'}}, tasks=(PregelTask(id='d9925201-fd11-d97e-cbb4-dc6a1b0d6554', name='Node2', path=('__pregel_pull', 'Node2'), error=None, interrupts=(), state=None, result={'lnode': 'node_2', 'count': 1}),), interrupts=()) \n",
      "\n",
      "StateSnapshot(values={'scratch': 'hi', 'count': 0}, next=('Node1',), config={'configurable': {'thread_id': '1', 'checkpoint_ns': '', 'checkpoint_id': '1f04b72e-c272-6ede-8000-92a2c8273faf'}}, metadata={'source': 'loop', 'writes': None, 'step': 0, 'parents': {}, 'thread_id': '1'}, created_at='2025-06-17T12:02:20.883113+00:00', parent_config={'configurable': {'thread_id': '1', 'checkpoint_ns': '', 'checkpoint_id': '1f04b72e-c271-6bbd-bfff-1083f9843ab1'}}, tasks=(PregelTask(id='0b0c8712-9ad6-d4e1-3233-841674115b8a', name='Node1', path=('__pregel_pull', 'Node1'), error=None, interrupts=(), state=None, result={'lnode': 'node_1', 'count': 1}),), interrupts=()) \n",
      "\n",
      "StateSnapshot(values={'count': 0}, next=('__start__',), config={'configurable': {'thread_id': '1', 'checkpoint_ns': '', 'checkpoint_id': '1f04b72e-c271-6bbd-bfff-1083f9843ab1'}}, metadata={'source': 'input', 'writes': {'__start__': {'count': 0, 'scratch': 'hi'}}, 'step': -1, 'parents': {}, 'thread_id': '1'}, created_at='2025-06-17T12:02:20.882624+00:00', parent_config=None, tasks=(PregelTask(id='2b06f7f6-f832-c727-a056-45529a56c81c', name='__start__', path=('__pregel_pull', '__start__'), error=None, interrupts=(), state=None, result={'count': 0, 'scratch': 'hi'}),), interrupts=()) \n",
      "\n"
     ]
    }
   ],
   "source": [
    "thread = {\"configurable\": {\"thread_id\": str(1)}}\n",
    "for state in graph.get_state_history(thread):\n",
    "    print(state,\"\\n\")"
   ]
  },
  {
   "cell_type": "markdown",
   "id": "243e21a0-d038-40ef-bb34-d9f0ac9711d9",
   "metadata": {},
   "source": [
    "## Modify State\n",
    "Let's start by starting a fresh thread and running to clean out history."
   ]
  },
  {
   "cell_type": "code",
   "execution_count": 142,
   "id": "c0be1db8-9e89-464f-a1d4-51ba0b7ad83b",
   "metadata": {},
   "outputs": [
    {
     "name": "stdout",
     "output_type": "stream",
     "text": [
      "node1, count:4\n",
      "node2, count:5\n"
     ]
    },
    {
     "data": {
      "text/plain": [
       "{'lnode': 'node_2', 'scratch': 'hi', 'count': 6}"
      ]
     },
     "execution_count": 142,
     "metadata": {},
     "output_type": "execute_result"
    }
   ],
   "source": [
    "thread2 = {\"configurable\": {\"thread_id\": str(2)}}\n",
    "graph.invoke({\"count\":0, \"scratch\": \"hi\"}, thread2)"
   ]
  },
  {
   "cell_type": "code",
   "execution_count": 143,
   "id": "bae8023b-6560-48a0-8172-c8d665b1e6b0",
   "metadata": {},
   "outputs": [
    {
     "data": {
      "image/png": "[encoded data removed]",
      "text/plain": [
       "<IPython.core.display.Image object>"
      ]
     },
     "execution_count": 143,
     "metadata": {},
     "output_type": "execute_result"
    }
   ],
   "source": [
    "from IPython.display import Image\n",
    "Image(graph.get_graph().draw_png())"
   ]
  },
  {
   "cell_type": "code",
   "execution_count": 144,
   "id": "c8f401fa-7d90-4828-a508-ec1d05db6575",
   "metadata": {},
   "outputs": [
    {
     "name": "stdout",
     "output_type": "stream",
     "text": [
      "{'configurable': {'thread_id': '2', 'checkpoint_ns': '', 'checkpoint_id': '1f04b74c-2d17-6263-8008-b4d48f15ca58'}} 6\n",
      "{'configurable': {'thread_id': '2', 'checkpoint_ns': '', 'checkpoint_id': '1f04b74c-2d15-686c-8007-92f35f626c3d'}} 5\n",
      "{'configurable': {'thread_id': '2', 'checkpoint_ns': '', 'checkpoint_id': '1f04b74c-2d13-6ec3-8006-43c0ff84a3b6'}} 4\n",
      "{'configurable': {'thread_id': '2', 'checkpoint_ns': '', 'checkpoint_id': '1f04b74c-2d11-6daf-8005-4473fcdf0b4a'}} 4\n",
      "{'configurable': {'thread_id': '2', 'checkpoint_ns': '', 'checkpoint_id': '1f04b74a-868a-6075-8004-751dc2792278'}} 4\n",
      "{'configurable': {'thread_id': '2', 'checkpoint_ns': '', 'checkpoint_id': '1f04b74a-8688-659a-8003-a31bdf900a55'}} 3\n",
      "{'configurable': {'thread_id': '2', 'checkpoint_ns': '', 'checkpoint_id': '1f04b74a-8687-6717-8002-6abca0fce543'}} 2\n",
      "{'configurable': {'thread_id': '2', 'checkpoint_ns': '', 'checkpoint_id': '1f04b74a-8685-69b5-8001-8f08a37d4a10'}} 1\n",
      "{'configurable': {'thread_id': '2', 'checkpoint_ns': '', 'checkpoint_id': '1f04b74a-8684-629e-8000-17da9ca7526d'}} 0\n",
      "{'configurable': {'thread_id': '2', 'checkpoint_ns': '', 'checkpoint_id': '1f04b74a-8682-6824-bfff-8181753bda70'}} 0\n"
     ]
    }
   ],
   "source": [
    "states2 = []\n",
    "for state in graph.get_state_history(thread2):\n",
    "    states2.append(state.config)\n",
    "    print(state.config, state.values['count'])"
   ]
  },
  {
   "cell_type": "code",
   "execution_count": 145,
   "id": "34d15fc0-0a46-4c49-9521-7f284cafd73e",
   "metadata": {},
   "outputs": [
    {
     "data": {
      "text/plain": [
       "StateSnapshot(values={'lnode': 'node_1', 'scratch': 'hi', 'count': 1}, next=('Node2',), config={'configurable': {'thread_id': '2', 'checkpoint_ns': '', 'checkpoint_id': '1f04b74a-8685-69b5-8001-8f08a37d4a10'}}, metadata={'source': 'loop', 'writes': {'Node1': {'lnode': 'node_1', 'count': 1}}, 'step': 1, 'parents': {}, 'thread_id': '2'}, created_at='2025-06-17T12:14:46.218583+00:00', parent_config={'configurable': {'thread_id': '2', 'checkpoint_ns': '', 'checkpoint_id': '1f04b74a-8684-629e-8000-17da9ca7526d'}}, tasks=(PregelTask(id='3534bf6f-54cf-7b47-e6bc-a163ad1e13ac', name='Node2', path=('__pregel_pull', 'Node2'), error=None, interrupts=(), state=None, result={'lnode': 'node_2', 'count': 1}),), interrupts=())"
      ]
     },
     "execution_count": 145,
     "metadata": {},
     "output_type": "execute_result"
    }
   ],
   "source": [
    "save_state = graph.get_state(states2[-3])\n",
    "save_state"
   ]
  },
  {
   "cell_type": "markdown",
   "id": "fb8d89ee-e961-4e47-b12a-b69c8b4bfdec",
   "metadata": {},
   "source": [
    "Now modify the values. One subtle item to note: Recall when agent state was defined, `count` used `operator.add` to indicate that values are added to the current value. Here, `-3` will be added to the current count value rather than replace it."
   ]
  },
  {
   "cell_type": "code",
   "execution_count": 146,
   "id": "eb0b6d37-8cea-4310-a078-197e31e724b9",
   "metadata": {},
   "outputs": [
    {
     "data": {
      "text/plain": [
       "StateSnapshot(values={'lnode': 'node_1', 'scratch': 'hello', 'count': -3}, next=('Node2',), config={'configurable': {'thread_id': '2', 'checkpoint_ns': '', 'checkpoint_id': '1f04b74a-8685-69b5-8001-8f08a37d4a10'}}, metadata={'source': 'loop', 'writes': {'Node1': {'lnode': 'node_1', 'count': 1}}, 'step': 1, 'parents': {}, 'thread_id': '2'}, created_at='2025-06-17T12:14:46.218583+00:00', parent_config={'configurable': {'thread_id': '2', 'checkpoint_ns': '', 'checkpoint_id': '1f04b74a-8684-629e-8000-17da9ca7526d'}}, tasks=(PregelTask(id='3534bf6f-54cf-7b47-e6bc-a163ad1e13ac', name='Node2', path=('__pregel_pull', 'Node2'), error=None, interrupts=(), state=None, result={'lnode': 'node_2', 'count': 1}),), interrupts=())"
      ]
     },
     "execution_count": 146,
     "metadata": {},
     "output_type": "execute_result"
    }
   ],
   "source": [
    "save_state.values[\"count\"] = -3\n",
    "save_state.values[\"scratch\"] = \"hello\"\n",
    "save_state"
   ]
  },
  {
   "cell_type": "markdown",
   "id": "ab80e37c-36aa-4b09-9bb0-36d0e96fe9ba",
   "metadata": {},
   "source": [
    "Now update the state. This creates a new entry at the top, or latest entry in memory. This will become the current state."
   ]
  },
  {
   "cell_type": "code",
   "execution_count": 147,
   "id": "b5bb4513-8b27-4acc-b43e-64777ed7b689",
   "metadata": {},
   "outputs": [
    {
     "data": {
      "text/plain": [
       "{'configurable': {'thread_id': '2',\n",
       "  'checkpoint_ns': '',\n",
       "  'checkpoint_id': '1f04b757-5ea9-69cf-8009-a7ac1585b269'}}"
      ]
     },
     "execution_count": 147,
     "metadata": {},
     "output_type": "execute_result"
    }
   ],
   "source": [
    "graph.update_state(thread2, save_state.values)"
   ]
  },
  {
   "cell_type": "markdown",
   "id": "0d7d3ab0-b874-478f-80c6-27dfe204f2d5",
   "metadata": {},
   "source": [
    "Current state is at the top. You can match the `thread_ts.` Notice the `parent_config,` `thread_ts` of the new node - it is the previous node."
   ]
  },
  {
   "cell_type": "code",
   "execution_count": 148,
   "id": "ed31b6ab-cf6b-469b-9601-905deaed74cb",
   "metadata": {},
   "outputs": [
    {
     "name": "stdout",
     "output_type": "stream",
     "text": [
      "StateSnapshot(values={'lnode': 'node_1', 'scratch': 'hello', 'count': 3}, next=(), config={'configurable': {'thread_id': '2', 'checkpoint_ns': '', 'checkpoint_id': '1f04b757-5ea9-69cf-8009-a7ac1585b269'}}, metadata={'source': 'update', 'writes': {'Node2': {'lnode': 'node_1', 'scratch': 'hello', 'count': -3}}, 'step': 9, 'parents': {}, 'thread_id': '2'}, created_at='2025-06-17T12:20:31.005116+00:00', parent_config={'configurable': {'thread_id': '2', 'checkpoint_ns': '', 'checkpoint_id': '1f04b74c-2d17-6263-8008-b4d48f15ca58'}}, tasks=(), interrupts=()) \n",
      "\n",
      "StateSnapshot(values={'lnode': 'node_2', 'scratch': 'hi', 'count': 6}, next=(), config={'configurable': {'thread_id': '2', 'checkpoint_ns': '', 'checkpoint_id': '1f04b74c-2d17-6263-8008-b4d48f15ca58'}}, metadata={'source': 'loop', 'writes': {'Node2': {'lnode': 'node_2', 'count': 1}}, 'step': 8, 'parents': {}, 'thread_id': '2'}, created_at='2025-06-17T12:15:30.528105+00:00', parent_config={'configurable': {'thread_id': '2', 'checkpoint_ns': '', 'checkpoint_id': '1f04b74c-2d15-686c-8007-92f35f626c3d'}}, tasks=(), interrupts=()) \n",
      "\n",
      "StateSnapshot(values={'lnode': 'node_1', 'scratch': 'hi', 'count': 5}, next=('Node2',), config={'configurable': {'thread_id': '2', 'checkpoint_ns': '', 'checkpoint_id': '1f04b74c-2d15-686c-8007-92f35f626c3d'}}, metadata={'source': 'loop', 'writes': {'Node1': {'lnode': 'node_1', 'count': 1}}, 'step': 7, 'parents': {}, 'thread_id': '2'}, created_at='2025-06-17T12:15:30.527440+00:00', parent_config={'configurable': {'thread_id': '2', 'checkpoint_ns': '', 'checkpoint_id': '1f04b74c-2d13-6ec3-8006-43c0ff84a3b6'}}, tasks=(PregelTask(id='ce322cf4-1c87-4a41-106c-6f66eb668bd7', name='Node2', path=('__pregel_pull', 'Node2'), error=None, interrupts=(), state=None, result={'lnode': 'node_2', 'count': 1}),), interrupts=()) \n",
      "\n"
     ]
    }
   ],
   "source": [
    "for i, state in enumerate(graph.get_state_history(thread2)):\n",
    "    if i>=3:\n",
    "        break\n",
    "    print(state, '\\n')"
   ]
  },
  {
   "cell_type": "markdown",
   "id": "db9f8b0a-29c7-44bf-adea-0e54e894c982",
   "metadata": {},
   "source": [
    "### Try again with `as_node`\n",
    "When writing using `update_state()`, you want to define to the graph logic which node should be assumed as the writer. What this does is allow th graph logic to find the node on the graph. After writing the values, the `next()` value is computed by travesing the graph using the new state. In this case, the state we have was written by `Node1`. The graph can then compute the next state as being `Node2`. Note that in some graphs, this may involve going through conditional edges!  Let's try this out."
   ]
  },
  {
   "cell_type": "code",
   "execution_count": 149,
   "id": "d4895de9-4b70-4270-ada9-38d37dc8f11c",
   "metadata": {},
   "outputs": [
    {
     "data": {
      "text/plain": [
       "{'configurable': {'thread_id': '2',\n",
       "  'checkpoint_ns': '',\n",
       "  'checkpoint_id': '1f04b75c-2d04-6b21-800a-72a889e21649'}}"
      ]
     },
     "execution_count": 149,
     "metadata": {},
     "output_type": "execute_result"
    }
   ],
   "source": [
    "graph.update_state(thread2,save_state.values, as_node=\"Node1\")"
   ]
  },
  {
   "cell_type": "code",
   "execution_count": 150,
   "id": "3c0045c3-7589-4985-ab91-47bb6f31fe9e",
   "metadata": {},
   "outputs": [
    {
     "name": "stdout",
     "output_type": "stream",
     "text": [
      "StateSnapshot(values={'lnode': 'node_1', 'scratch': 'hello', 'count': 0}, next=('Node2',), config={'configurable': {'thread_id': '2', 'checkpoint_ns': '', 'checkpoint_id': '1f04b75c-2d04-6b21-800a-72a889e21649'}}, metadata={'source': 'update', 'writes': {'Node1': {'lnode': 'node_1', 'scratch': 'hello', 'count': -3}}, 'step': 10, 'parents': {}, 'thread_id': '2'}, created_at='2025-06-17T12:22:40.017271+00:00', parent_config={'configurable': {'thread_id': '2', 'checkpoint_ns': '', 'checkpoint_id': '1f04b757-5ea9-69cf-8009-a7ac1585b269'}}, tasks=(PregelTask(id='16287039-9acf-a3cb-69dd-28efa0578a98', name='Node2', path=('__pregel_pull', 'Node2'), error=None, interrupts=(), state=None, result=None),), interrupts=()) \n",
      "\n",
      "StateSnapshot(values={'lnode': 'node_1', 'scratch': 'hello', 'count': 3}, next=(), config={'configurable': {'thread_id': '2', 'checkpoint_ns': '', 'checkpoint_id': '1f04b757-5ea9-69cf-8009-a7ac1585b269'}}, metadata={'source': 'update', 'writes': {'Node2': {'lnode': 'node_1', 'scratch': 'hello', 'count': -3}}, 'step': 9, 'parents': {}, 'thread_id': '2'}, created_at='2025-06-17T12:20:31.005116+00:00', parent_config={'configurable': {'thread_id': '2', 'checkpoint_ns': '', 'checkpoint_id': '1f04b74c-2d17-6263-8008-b4d48f15ca58'}}, tasks=(), interrupts=()) \n",
      "\n",
      "StateSnapshot(values={'lnode': 'node_2', 'scratch': 'hi', 'count': 6}, next=(), config={'configurable': {'thread_id': '2', 'checkpoint_ns': '', 'checkpoint_id': '1f04b74c-2d17-6263-8008-b4d48f15ca58'}}, metadata={'source': 'loop', 'writes': {'Node2': {'lnode': 'node_2', 'count': 1}}, 'step': 8, 'parents': {}, 'thread_id': '2'}, created_at='2025-06-17T12:15:30.528105+00:00', parent_config={'configurable': {'thread_id': '2', 'checkpoint_ns': '', 'checkpoint_id': '1f04b74c-2d15-686c-8007-92f35f626c3d'}}, tasks=(), interrupts=()) \n",
      "\n"
     ]
    }
   ],
   "source": [
    "for i, state in enumerate(graph.get_state_history(thread2)):\n",
    "    if i >= 3:  #print latest 3\n",
    "        break\n",
    "    print(state, '\\n')"
   ]
  },
  {
   "cell_type": "code",
   "execution_count": 151,
   "id": "f36af5d4-c556-4863-a6e9-d07644bfe82c",
   "metadata": {},
   "outputs": [
    {
     "name": "stdout",
     "output_type": "stream",
     "text": [
      "node2, count:0\n",
      "node1, count:1\n",
      "node2, count:2\n"
     ]
    },
    {
     "data": {
      "text/plain": [
       "{'lnode': 'node_2', 'scratch': 'hello', 'count': 3}"
      ]
     },
     "execution_count": 151,
     "metadata": {},
     "output_type": "execute_result"
    }
   ],
   "source": [
    "graph.invoke(None,thread2)"
   ]
  },
  {
   "cell_type": "code",
   "execution_count": 152,
   "id": "ba1aa744-aa30-4e1b-9cbd-eb05ed536bb8",
   "metadata": {},
   "outputs": [
    {
     "name": "stdout",
     "output_type": "stream",
     "text": [
      "StateSnapshot(values={'lnode': 'node_2', 'scratch': 'hello', 'count': 3}, next=(), config={'configurable': {'thread_id': '2', 'checkpoint_ns': '', 'checkpoint_id': '1f04b75e-fefb-6833-800d-a7a825996016'}}, metadata={'source': 'loop', 'writes': {'Node2': {'lnode': 'node_2', 'count': 1}}, 'step': 13, 'parents': {}, 'thread_id': '2'}, created_at='2025-06-17T12:23:55.720702+00:00', parent_config={'configurable': {'thread_id': '2', 'checkpoint_ns': '', 'checkpoint_id': '1f04b75e-fefa-6614-800c-6a459be0572f'}}, tasks=(), interrupts=()) \n",
      "\n",
      "StateSnapshot(values={'lnode': 'node_1', 'scratch': 'hello', 'count': 2}, next=('Node2',), config={'configurable': {'thread_id': '2', 'checkpoint_ns': '', 'checkpoint_id': '1f04b75e-fefa-6614-800c-6a459be0572f'}}, metadata={'source': 'loop', 'writes': {'Node1': {'lnode': 'node_1', 'count': 1}}, 'step': 12, 'parents': {}, 'thread_id': '2'}, created_at='2025-06-17T12:23:55.720236+00:00', parent_config={'configurable': {'thread_id': '2', 'checkpoint_ns': '', 'checkpoint_id': '1f04b75e-fef8-6fc5-800b-b5adae4598ea'}}, tasks=(PregelTask(id='51649dfa-1a20-10ab-b060-c692314aaa12', name='Node2', path=('__pregel_pull', 'Node2'), error=None, interrupts=(), state=None, result={'lnode': 'node_2', 'count': 1}),), interrupts=()) \n",
      "\n",
      "StateSnapshot(values={'lnode': 'node_2', 'scratch': 'hello', 'count': 1}, next=('Node1',), config={'configurable': {'thread_id': '2', 'checkpoint_ns': '', 'checkpoint_id': '1f04b75e-fef8-6fc5-800b-b5adae4598ea'}}, metadata={'source': 'loop', 'writes': {'Node2': {'lnode': 'node_2', 'count': 1}}, 'step': 11, 'parents': {}, 'thread_id': '2'}, created_at='2025-06-17T12:23:55.719663+00:00', parent_config={'configurable': {'thread_id': '2', 'checkpoint_ns': '', 'checkpoint_id': '1f04b75c-2d04-6b21-800a-72a889e21649'}}, tasks=(PregelTask(id='582c1224-3eda-3e04-4192-e171d35a610e', name='Node1', path=('__pregel_pull', 'Node1'), error=None, interrupts=(), state=None, result={'lnode': 'node_1', 'count': 1}),), interrupts=()) \n",
      "\n",
      "StateSnapshot(values={'lnode': 'node_1', 'scratch': 'hello', 'count': 0}, next=('Node2',), config={'configurable': {'thread_id': '2', 'checkpoint_ns': '', 'checkpoint_id': '1f04b75c-2d04-6b21-800a-72a889e21649'}}, metadata={'source': 'update', 'writes': {'Node1': {'lnode': 'node_1', 'scratch': 'hello', 'count': -3}}, 'step': 10, 'parents': {}, 'thread_id': '2'}, created_at='2025-06-17T12:22:40.017271+00:00', parent_config={'configurable': {'thread_id': '2', 'checkpoint_ns': '', 'checkpoint_id': '1f04b757-5ea9-69cf-8009-a7ac1585b269'}}, tasks=(PregelTask(id='16287039-9acf-a3cb-69dd-28efa0578a98', name='Node2', path=('__pregel_pull', 'Node2'), error=None, interrupts=(), state=None, result={'lnode': 'node_2', 'count': 1}),), interrupts=()) \n",
      "\n",
      "StateSnapshot(values={'lnode': 'node_1', 'scratch': 'hello', 'count': 3}, next=(), config={'configurable': {'thread_id': '2', 'checkpoint_ns': '', 'checkpoint_id': '1f04b757-5ea9-69cf-8009-a7ac1585b269'}}, metadata={'source': 'update', 'writes': {'Node2': {'lnode': 'node_1', 'scratch': 'hello', 'count': -3}}, 'step': 9, 'parents': {}, 'thread_id': '2'}, created_at='2025-06-17T12:20:31.005116+00:00', parent_config={'configurable': {'thread_id': '2', 'checkpoint_ns': '', 'checkpoint_id': '1f04b74c-2d17-6263-8008-b4d48f15ca58'}}, tasks=(), interrupts=()) \n",
      "\n",
      "StateSnapshot(values={'lnode': 'node_2', 'scratch': 'hi', 'count': 6}, next=(), config={'configurable': {'thread_id': '2', 'checkpoint_ns': '', 'checkpoint_id': '1f04b74c-2d17-6263-8008-b4d48f15ca58'}}, metadata={'source': 'loop', 'writes': {'Node2': {'lnode': 'node_2', 'count': 1}}, 'step': 8, 'parents': {}, 'thread_id': '2'}, created_at='2025-06-17T12:15:30.528105+00:00', parent_config={'configurable': {'thread_id': '2', 'checkpoint_ns': '', 'checkpoint_id': '1f04b74c-2d15-686c-8007-92f35f626c3d'}}, tasks=(), interrupts=()) \n",
      "\n",
      "StateSnapshot(values={'lnode': 'node_1', 'scratch': 'hi', 'count': 5}, next=('Node2',), config={'configurable': {'thread_id': '2', 'checkpoint_ns': '', 'checkpoint_id': '1f04b74c-2d15-686c-8007-92f35f626c3d'}}, metadata={'source': 'loop', 'writes': {'Node1': {'lnode': 'node_1', 'count': 1}}, 'step': 7, 'parents': {}, 'thread_id': '2'}, created_at='2025-06-17T12:15:30.527440+00:00', parent_config={'configurable': {'thread_id': '2', 'checkpoint_ns': '', 'checkpoint_id': '1f04b74c-2d13-6ec3-8006-43c0ff84a3b6'}}, tasks=(PregelTask(id='ce322cf4-1c87-4a41-106c-6f66eb668bd7', name='Node2', path=('__pregel_pull', 'Node2'), error=None, interrupts=(), state=None, result={'lnode': 'node_2', 'count': 1}),), interrupts=()) \n",
      "\n",
      "StateSnapshot(values={'lnode': 'node_2', 'scratch': 'hi', 'count': 4}, next=('Node1',), config={'configurable': {'thread_id': '2', 'checkpoint_ns': '', 'checkpoint_id': '1f04b74c-2d13-6ec3-8006-43c0ff84a3b6'}}, metadata={'source': 'loop', 'writes': None, 'step': 6, 'parents': {}, 'thread_id': '2'}, created_at='2025-06-17T12:15:30.526778+00:00', parent_config={'configurable': {'thread_id': '2', 'checkpoint_ns': '', 'checkpoint_id': '1f04b74c-2d11-6daf-8005-4473fcdf0b4a'}}, tasks=(PregelTask(id='638c224c-0272-d413-06d7-570e6948cb3a', name='Node1', path=('__pregel_pull', 'Node1'), error=None, interrupts=(), state=None, result={'lnode': 'node_1', 'count': 1}),), interrupts=()) \n",
      "\n",
      "StateSnapshot(values={'lnode': 'node_2', 'scratch': 'hi', 'count': 4}, next=('__start__',), config={'configurable': {'thread_id': '2', 'checkpoint_ns': '', 'checkpoint_id': '1f04b74c-2d11-6daf-8005-4473fcdf0b4a'}}, metadata={'source': 'input', 'writes': {'__start__': {'count': 0, 'scratch': 'hi'}}, 'step': 5, 'parents': {}, 'thread_id': '2'}, created_at='2025-06-17T12:15:30.525933+00:00', parent_config={'configurable': {'thread_id': '2', 'checkpoint_ns': '', 'checkpoint_id': '1f04b74a-868a-6075-8004-751dc2792278'}}, tasks=(PregelTask(id='e45fccf6-73bc-1dbb-5cb4-378790421dd3', name='__start__', path=('__pregel_pull', '__start__'), error=None, interrupts=(), state=None, result={'count': 0, 'scratch': 'hi'}),), interrupts=()) \n",
      "\n",
      "StateSnapshot(values={'lnode': 'node_2', 'scratch': 'hi', 'count': 4}, next=(), config={'configurable': {'thread_id': '2', 'checkpoint_ns': '', 'checkpoint_id': '1f04b74a-868a-6075-8004-751dc2792278'}}, metadata={'source': 'loop', 'writes': {'Node2': {'lnode': 'node_2', 'count': 1}}, 'step': 4, 'parents': {}, 'thread_id': '2'}, created_at='2025-06-17T12:14:46.220395+00:00', parent_config={'configurable': {'thread_id': '2', 'checkpoint_ns': '', 'checkpoint_id': '1f04b74a-8688-659a-8003-a31bdf900a55'}}, tasks=(), interrupts=()) \n",
      "\n",
      "StateSnapshot(values={'lnode': 'node_1', 'scratch': 'hi', 'count': 3}, next=('Node2',), config={'configurable': {'thread_id': '2', 'checkpoint_ns': '', 'checkpoint_id': '1f04b74a-8688-659a-8003-a31bdf900a55'}}, metadata={'source': 'loop', 'writes': {'Node1': {'lnode': 'node_1', 'count': 1}}, 'step': 3, 'parents': {}, 'thread_id': '2'}, created_at='2025-06-17T12:14:46.219707+00:00', parent_config={'configurable': {'thread_id': '2', 'checkpoint_ns': '', 'checkpoint_id': '1f04b74a-8687-6717-8002-6abca0fce543'}}, tasks=(PregelTask(id='2367bc5c-ef1c-a486-1de7-a473603bec53', name='Node2', path=('__pregel_pull', 'Node2'), error=None, interrupts=(), state=None, result={'lnode': 'node_2', 'count': 1}),), interrupts=()) \n",
      "\n",
      "StateSnapshot(values={'lnode': 'node_2', 'scratch': 'hi', 'count': 2}, next=('Node1',), config={'configurable': {'thread_id': '2', 'checkpoint_ns': '', 'checkpoint_id': '1f04b74a-8687-6717-8002-6abca0fce543'}}, metadata={'source': 'loop', 'writes': {'Node2': {'lnode': 'node_2', 'count': 1}}, 'step': 2, 'parents': {}, 'thread_id': '2'}, created_at='2025-06-17T12:14:46.219336+00:00', parent_config={'configurable': {'thread_id': '2', 'checkpoint_ns': '', 'checkpoint_id': '1f04b74a-8685-69b5-8001-8f08a37d4a10'}}, tasks=(PregelTask(id='754fbf21-94bf-b621-1412-47daf830b413', name='Node1', path=('__pregel_pull', 'Node1'), error=None, interrupts=(), state=None, result={'lnode': 'node_1', 'count': 1}),), interrupts=()) \n",
      "\n",
      "StateSnapshot(values={'lnode': 'node_1', 'scratch': 'hi', 'count': 1}, next=('Node2',), config={'configurable': {'thread_id': '2', 'checkpoint_ns': '', 'checkpoint_id': '1f04b74a-8685-69b5-8001-8f08a37d4a10'}}, metadata={'source': 'loop', 'writes': {'Node1': {'lnode': 'node_1', 'count': 1}}, 'step': 1, 'parents': {}, 'thread_id': '2'}, created_at='2025-06-17T12:14:46.218583+00:00', parent_config={'configurable': {'thread_id': '2', 'checkpoint_ns': '', 'checkpoint_id': '1f04b74a-8684-629e-8000-17da9ca7526d'}}, tasks=(PregelTask(id='3534bf6f-54cf-7b47-e6bc-a163ad1e13ac', name='Node2', path=('__pregel_pull', 'Node2'), error=None, interrupts=(), state=None, result={'lnode': 'node_2', 'count': 1}),), interrupts=()) \n",
      "\n",
      "StateSnapshot(values={'scratch': 'hi', 'count': 0}, next=('Node1',), config={'configurable': {'thread_id': '2', 'checkpoint_ns': '', 'checkpoint_id': '1f04b74a-8684-629e-8000-17da9ca7526d'}}, metadata={'source': 'loop', 'writes': None, 'step': 0, 'parents': {}, 'thread_id': '2'}, created_at='2025-06-17T12:14:46.217992+00:00', parent_config={'configurable': {'thread_id': '2', 'checkpoint_ns': '', 'checkpoint_id': '1f04b74a-8682-6824-bfff-8181753bda70'}}, tasks=(PregelTask(id='6ada7a96-2d58-3c44-c186-0040a896d0de', name='Node1', path=('__pregel_pull', 'Node1'), error=None, interrupts=(), state=None, result={'lnode': 'node_1', 'count': 1}),), interrupts=()) \n",
      "\n",
      "StateSnapshot(values={'count': 0}, next=('__start__',), config={'configurable': {'thread_id': '2', 'checkpoint_ns': '', 'checkpoint_id': '1f04b74a-8682-6824-bfff-8181753bda70'}}, metadata={'source': 'input', 'writes': {'__start__': {'count': 0, 'scratch': 'hi'}}, 'step': -1, 'parents': {}, 'thread_id': '2'}, created_at='2025-06-17T12:14:46.217314+00:00', parent_config=None, tasks=(PregelTask(id='df51c83f-3e4c-76ae-c205-ffd4a7074836', name='__start__', path=('__pregel_pull', '__start__'), error=None, interrupts=(), state=None, result={'count': 0, 'scratch': 'hi'}),), interrupts=()) \n",
      "\n"
     ]
    }
   ],
   "source": [
    "for state in graph.get_state_history(thread2):\n",
    "    print(state,\"\\n\")"
   ]
  },
  {
   "cell_type": "markdown",
   "id": "600dd925-15ac-444b-9ee0-39d73d7312c7",
   "metadata": {},
   "source": [
    "## Close connection"
   ]
  },
  {
   "cell_type": "code",
   "execution_count": 14,
   "id": "a72680fe-b108-44ff-ae0b-b396850badf1",
   "metadata": {},
   "outputs": [],
   "source": [
    "stack.close()"
   ]
  }
 ],
 "metadata": {
  "kernelspec": {
   "display_name": "Python 3 (ipykernel)",
   "language": "python",
   "name": "python3"
  },
  "language_info": {
   "codemirror_mode": {
    "name": "ipython",
    "version": 3
   },
   "file_extension": ".py",
   "mimetype": "text/x-python",
   "name": "python",
   "nbconvert_exporter": "python",
   "pygments_lexer": "ipython3",
   "version": "3.12.3"
  }
 },
 "nbformat": 4,
 "nbformat_minor": 5
}
