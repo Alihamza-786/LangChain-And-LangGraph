{
 "cells": [
  {
   "cell_type": "code",
   "execution_count": 79,
   "id": "adc02534-88cc-41a2-9bf8-c27f42a5fff5",
   "metadata": {},
   "outputs": [],
   "source": [
    "from langgraph.graph import StateGraph, END\n",
    "from typing import TypedDict, Annotated\n",
    "import operator\n",
    "from langchain_core.messages import AnyMessage, SystemMessage, HumanMessage, ToolMessage\n",
    "from langchain_ollama import ChatOllama\n",
    "from langchain_community.tools.tavily_search import TavilySearchResults"
   ]
  },
  {
   "cell_type": "code",
   "execution_count": 80,
   "id": "be85105a-5ad7-4267-b239-27f616f43287",
   "metadata": {},
   "outputs": [],
   "source": [
    "tool = TavilySearchResults(tavily_api_key = \"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\", max_results=2)"
   ]
  },
  {
   "cell_type": "code",
   "execution_count": 81,
   "id": "631cbcb0-9b97-45e4-a8ff-88960877d69a",
   "metadata": {},
   "outputs": [],
   "source": [
    "# Create our agent state\n",
    "class AgentState(TypedDict):\n",
    "    messages: Annotated[list[AnyMessage], operator.add]"
   ]
  },
  {
   "cell_type": "markdown",
   "id": "84e8c267-24dd-44e9-a0f9-8ed6901417ee",
   "metadata": {},
   "source": [
    "## Persistence\n",
    "We are going to add in persistence. In order to deal with persistence, we've added the concept of a __check pointer__ into LangGraph.\n",
    "A __check pointer__ basically checkpoints, the state,  after and between every node.\n",
    "To add persistence for this agent, we use SqliteSaver, it is really simple checkpointer that we've added that uses Sqlite a built in \n",
    "database under the hood."
   ]
  },
  {
   "cell_type": "code",
   "execution_count": 82,
   "id": "6f98ef8e-8791-4745-b63c-a368f46c23a4",
   "metadata": {},
   "outputs": [],
   "source": [
    "from langgraph.checkpoint.sqlite import SqliteSaver\n",
    "# memory = SqliteSaver.from_conn_string(\":memory:\")\n",
    "\n",
    "from contextlib import ExitStack\n",
    "\n",
    "# Use contextlib to manually enter the context manager and keep the object\n",
    "stack = ExitStack()\n",
    "# Create the memory context manager and enter the context\n",
    "memory= stack.enter_context(SqliteSaver.from_conn_string(\":memory:\"))"
   ]
  },
  {
   "cell_type": "code",
   "execution_count": 83,
   "id": "ba00d298-f997-4d83-a877-4975bf5de32a",
   "metadata": {},
   "outputs": [],
   "source": [
    "class Agent:\n",
    "    def __init__(self, model, tools, checkpointer, system=\"\"):\n",
    "        self.system = system\n",
    "        graph = StateGraph(AgentState)\n",
    "        graph.add_node(\"llm\", self.call_openai)\n",
    "        graph.add_node(\"action\", self.take_action)\n",
    "        graph.add_conditional_edges(\"llm\", self.exists_action, {True: \"action\", False: END})\n",
    "        graph.add_edge(\"action\", \"llm\")\n",
    "        graph.set_entry_point(\"llm\")\n",
    "        self.graph = graph.compile(checkpointer=checkpointer)\n",
    "        self.tools = {t.name: t for t in tools}\n",
    "        self.model = model.bind_tools(tools)\n",
    "\n",
    "    def call_openai(self, state: AgentState):\n",
    "        messages = state['messages']\n",
    "        if self.system:\n",
    "            messages = [SystemMessage(content=self.system)] + messages\n",
    "        message = self.model.invoke(messages)\n",
    "        return {'messages': [message]}\n",
    "\n",
    "    def exists_action(self, state: AgentState):\n",
    "        result = state['messages'][-1]\n",
    "        return len(result.tool_calls) > 0\n",
    "\n",
    "    def take_action(self, state: AgentState):\n",
    "        tool_calls = state['messages'][-1].tool_calls\n",
    "        results = []\n",
    "        for t in tool_calls:\n",
    "            print(f\"Calling: {t}\")\n",
    "            result = self.tools[t['name']].invoke(t['args'])\n",
    "            results.append(ToolMessage(tool_call_id=t['id'], name=t['name'], content=str(result)))\n",
    "        print(\"Back to the model!\")\n",
    "        return {'messages': results}"
   ]
  },
  {
   "cell_type": "code",
   "execution_count": 100,
   "id": "55866452-08ec-4a22-9a89-263292c64b26",
   "metadata": {},
   "outputs": [],
   "source": [
    "prompt = \"\"\"You are a smart research assistant. Use the search engine to look up information. \\\n",
    "You are allowed to make multiple calls (either together or in sequence). \\\n",
    "Only look up information when you are sure of what you want. \\\n",
    "If you need to look up some information before asking a follow up question, you are allowed to do that!\n",
    "\"\"\"\n",
    "\n",
    "model = ChatOllama(model = 'qwen2.5', streaming = True)\n",
    "abot = Agent(model,\n",
    "             [tool],\n",
    "             system=prompt,\n",
    "             checkpointer=memory)\n",
    "                   "
   ]
  },
  {
   "cell_type": "code",
   "execution_count": 101,
   "id": "7625cce6-ecae-4850-8807-882371ffed50",
   "metadata": {},
   "outputs": [],
   "source": [
    "messages = [HumanMessage(content=\"What is the weather in sf?\")]"
   ]
  },
  {
   "cell_type": "code",
   "execution_count": 86,
   "id": "0c664ebd-bc66-4b43-9b46-cd26124fb0fc",
   "metadata": {},
   "outputs": [],
   "source": [
    "thread = {\"configurable\": {\"thread_id\": \"1\"}}"
   ]
  },
  {
   "cell_type": "code",
   "execution_count": 87,
   "id": "602351f5-f117-4bed-b418-e15d3dbf6a01",
   "metadata": {},
   "outputs": [
    {
     "name": "stdout",
     "output_type": "stream",
     "text": [
      "[AIMessage(content='', additional_kwargs={}, response_metadata={'model': 'qwen2.5', 'created_at': '2025-06-17T08:45:23.599223444Z', 'done': True, 'done_reason': 'stop', 'total_duration': 4029793473, 'load_duration': 11802515, 'prompt_eval_count': 243, 'prompt_eval_duration': 246166287, 'eval_count': 28, 'eval_duration': 3768376238, 'model_name': 'qwen2.5'}, id='run--36427003-568e-41d3-81ec-746b367b64e6-0', tool_calls=[{'name': 'tavily_search_results_json', 'args': {'query': 'weather in san francisco'}, 'id': '2e627026-6eb7-4724-8f95-a45b03d1a8ee', 'type': 'tool_call'}], usage_metadata={'input_tokens': 243, 'output_tokens': 28, 'total_tokens': 271})]\n",
      "Calling: {'name': 'tavily_search_results_json', 'args': {'query': 'weather in san francisco'}, 'id': '2e627026-6eb7-4724-8f95-a45b03d1a8ee', 'type': 'tool_call'}\n",
      "Back to the model!\n",
      "[ToolMessage(content='[{\\'title\\': \\'Tuesday, June 17, 2025. San Francisco, CA - Weather Forecast\\', \\'url\\': \\'https://weathershogun.com/weather/usa/ca/san-francisco/480/june/2025-06-17\\', \\'content\\': \\'San Francisco, California Weather: \\\\n\\\\nTuesday, June 17, 2025\\\\n\\\\nDay 70°\\\\n\\\\nNight 55°\\\\n\\\\nPrecipitation 0 %\\\\n\\\\nWind 12 mph\\\\n\\\\nUV Index (0 - 11+)11\\\\n\\\\n[Wednesday](https://weathershogun.com/weather/usa/ca/san-francisco/480/june/2025-06-18) [...] Tuesday, June 17, 2025. San Francisco, CA - Weather Forecast \\\\n\\\\n===============\\\\n\\\\n☰\\\\n\\\\n[San Francisco, CA](https://weathershogun.com/weather/usa/ca/san-francisco/today/480)\\\\n\\\\n[![Image 1: WeatherShogun.com](https://weathershogun.com/img/logo.svg)](https://weathershogun.com/) [...] [Today](https://weathershogun.com/weather/usa/ca/san-francisco/today/480)[Tomorrow](https://weathershogun.com/weather/usa/ca/san-francisco/tomorrow/480)[Hourly](https://weathershogun.com/weather/usa/ca/san-francisco/hourly/today/480)[7 days](https://weathershogun.com/weather/usa/ca/san-francisco/sevendays/480)[30 days](https://weathershogun.com/weather/usa/ca/san-francisco/thirtydays/480)[June](https://weathershogun.com/weather/usa/ca/san-francisco/480/june)\\\\n\\\\n❯\\', \\'score\\': 0.9488842}, {\\'title\\': \\'San Francisco weather in June 2025 | Weather25.com\\', \\'url\\': \\'https://www.weather25.com/north-america/usa/california/san-francisco?page=month&month=June\\', \\'content\\': \\'Mist](https://res.weather25.com/images/weather_icons/new/day/mist.svg) 57°/48°](https://www.weather25.com/north-america/usa/california/san-francisco?page=tomorrow \"Weather in 17 june 2025\") | [18 ![Image 45: Mist](https://res.weather25.com/images/weather_icons/new/day/mist.svg) 59°/51°](https://www.weather25.com/north-america/usa/california/san-francisco?page=day#date=2025-06-18 \"Weather in 18 june 2025\") | [19 ![Image 46: [...] [Monday Jun 16 ![Image 8: Overcast](https://res.weather25.com/images/weather_icons/new/day/overcast.svg) 0 in 57°/50°](https://www.weather25.com/north-america/usa/california/san-francisco?page=today)[Tuesday Jun 17 ![Image 9: Mist](https://res.weather25.com/images/weather_icons/new/day/mist.svg) 0 in 57°/48°](https://www.weather25.com/north-america/usa/california/san-francisco?page=tomorrow)[Wednesday Jun 18 ![Image 10: Mist](https://res.weather25.com/images/weather_icons/new/day/mist.svg) 0 in\\', \\'score\\': 0.9183121}]', name='tavily_search_results_json', tool_call_id='2e627026-6eb7-4724-8f95-a45b03d1a8ee')]\n",
      "[AIMessage(content='The weather forecast for Tuesday, June 17, 2025, in San Francisco indicates a high of 70°F during the day and a low of 55°F at night. There is no precipitation expected with winds at 12 mph. The UV index is at its highest level of 11.\\n\\nYou can find more detailed forecasts on [WeatherShogun](https://weathershogun.com/weather/usa/ca/san-francisco/480/june/2025-06-17) and [Weather25](https://www.weather25.com/north-america/usa/california/san-francisco?page=month&month=June).', additional_kwargs={}, response_metadata={'model': 'qwen2.5', 'created_at': '2025-06-17T08:45:53.966502378Z', 'done': True, 'done_reason': 'stop', 'total_duration': 25753601700, 'load_duration': 17411690, 'prompt_eval_count': 1140, 'prompt_eval_duration': 1782091488, 'eval_count': 151, 'eval_duration': 23935798658, 'model_name': 'qwen2.5'}, id='run--6a0e64a9-60b5-4b9b-a4a9-18c0ecd90d15-0', usage_metadata={'input_tokens': 1140, 'output_tokens': 151, 'total_tokens': 1291})]\n"
     ]
    }
   ],
   "source": [
    "for event in abot.graph.stream({\"messages\": messages}, thread):\n",
    "    for v in event.values():\n",
    "        print(v['messages'])"
   ]
  },
  {
   "cell_type": "code",
   "execution_count": 88,
   "id": "68815083-3a46-464b-b529-20bce6ffebbe",
   "metadata": {},
   "outputs": [
    {
     "name": "stdout",
     "output_type": "stream",
     "text": [
      "{'messages': [AIMessage(content='', additional_kwargs={}, response_metadata={'model': 'qwen2.5', 'created_at': '2025-06-17T08:48:00.263886854Z', 'done': True, 'done_reason': 'stop', 'total_duration': 4203560170, 'load_duration': 12580680, 'prompt_eval_count': 1305, 'prompt_eval_duration': 355458706, 'eval_count': 27, 'eval_duration': 3807003689, 'model_name': 'qwen2.5'}, id='run--100f9f8b-8a66-4dec-8fbb-72adb2c21424-0', tool_calls=[{'name': 'tavily_search_results_json', 'args': {'query': 'weather in lahore pakistan'}, 'id': 'b39153c1-9c1b-42f1-a50a-d6ec86920eaf', 'type': 'tool_call'}], usage_metadata={'input_tokens': 1305, 'output_tokens': 27, 'total_tokens': 1332})]}\n",
      "Calling: {'name': 'tavily_search_results_json', 'args': {'query': 'weather in lahore pakistan'}, 'id': 'b39153c1-9c1b-42f1-a50a-d6ec86920eaf', 'type': 'tool_call'}\n",
      "Back to the model!\n",
      "{'messages': [ToolMessage(content='[{\\'title\\': \\'Weather in Lahore in June 2025 - Detailed Forecast\\', \\'url\\': \\'https://www.easeweather.com/asia/pakistan/punjab/lahore-district/lahore/june\\', \\'content\\': \\'Partly cloudy 46°/35°0.1 mm 10[](https://www.easeweather.com/asia/pakistan/punjab/lahore-district/lahore/day#date=2025-06-16 \"Weather for June 16 2025\")\\\\n[17 Jun.](https://www.easeweather.com/asia/pakistan/punjab/lahore-district/lahore/day#date=2025-06-17 \"The weather in Lahore on the 17th of June\")![Image 56: Sunny](https://res.easeweather.com/images/weather-icons/day/sunny.svg) [...] Sunny 47°/35°0 mm 10[](https://www.easeweather.com/asia/pakistan/punjab/lahore-district/lahore/day#date=2025-06-17 \"Weather for June 17 2025\")\\\\n[18 Jun.](https://www.easeweather.com/asia/pakistan/punjab/lahore-district/lahore/day#date=2025-06-18 \"The weather in Lahore on the 18th of June\")![Image 57: Sunny](https://res.easeweather.com/images/weather-icons/day/sunny.svg) [...] | [16 ![Image 25: Partly cloudy](https://res.easeweather.com/images/weather-icons/day/sun-interval.svg) 46°](https://www.easeweather.com/asia/pakistan/punjab/lahore-district/lahore/day#date=2025-06-16 \"Weather for June 16 2025\") | [17 ![Image 26: Sunny](https://res.easeweather.com/images/weather-icons/day/sunny.svg) 47°](https://www.easeweather.com/asia/pakistan/punjab/lahore-district/lahore/day#date=2025-06-17 \"Weather for June 17 2025\") | [18 ![Image 27:\\', \\'score\\': 0.93425745}, {\\'title\\': \\'Lahore weather in June 2025 - Weather25.com\\', \\'url\\': \\'https://www.weather25.com/asia/pakistan/balochistan/lahore?page=month&month=June\\', \\'content\\': \\'rain possible](https://res.weather25.com/images/weather_icons/new/day/rain-interval-2.svg) 47°/35°](https://www.weather25.com/asia/pakistan/balochistan/lahore?page=day#date=2025-06-17 \"Weather in 17 june 2025\") | [18 ![Image 45: Sunny](https://res.weather25.com/images/weather_icons/new/day/sunny.svg) 47°/36°](https://www.weather25.com/asia/pakistan/balochistan/lahore?page=day#date=2025-06-18 \"Weather in 18 june 2025\") | [19 ![Image 46: Partly [...] possible](https://res.weather25.com/images/weather_icons/new/day/rain-interval-2.svg) 0.3 mm 47°/35°](https://www.weather25.com/asia/pakistan/balochistan/lahore?page=day#date=2025-06-17)[Wednesday Jun 18 ![Image 21: Clear](https://res.weather25.com/images/weather_icons/new/day/sunny.svg) 0 mm 47°/36°](https://www.weather25.com/asia/pakistan/balochistan/lahore?page=day#date=2025-06-18)[Next Month >>](https://www.weather25.com/asia/pakistan/balochistan/lahore?page=long-range)\\', \\'score\\': 0.93086797}]', name='tavily_search_results_json', tool_call_id='b39153c1-9c1b-42f1-a50a-d6ec86920eaf')]}\n",
      "{'messages': [AIMessage(content='The weather forecast for Lahore, Pakistan, on June 17, 2025, shows it will be partly cloudy with a high of 47°C and a low of 35°C. There is also a possibility of rain.\\n\\nOn June 18, 2025, the weather is expected to be sunny with similar temperatures, ranging from 47°C during the day to 36°C at night.\\n\\nYou can find more detailed forecasts on [EaseWeather](https://www.easeweather.com/asia/pakistan/punjab/lahore-district/lahore/june) and [Weather25](https://www.weather25.com/asia/pakistan/balochistan/lahore?page=month&month=June).', additional_kwargs={}, response_metadata={'model': 'qwen2.5', 'created_at': '2025-06-17T08:48:41.645631926Z', 'done': True, 'done_reason': 'stop', 'total_duration': 31740452223, 'load_duration': 13629807, 'prompt_eval_count': 2321, 'prompt_eval_duration': 2494237498, 'eval_count': 161, 'eval_duration': 29179509800, 'model_name': 'qwen2.5'}, id='run--64f91c58-e19f-49d4-91bf-847cdad4d9ab-0', usage_metadata={'input_tokens': 2321, 'output_tokens': 161, 'total_tokens': 2482})]}\n"
     ]
    }
   ],
   "source": [
    "messages = [HumanMessage(content=\"What about in Lahore Pakistan\")]\n",
    "thread = {\"configurable\": {\"thread_id\": \"1\"}}\n",
    "for event in abot.graph.stream({\"messages\": messages}, thread):\n",
    "    for v in event.values():\n",
    "        print(v)"
   ]
  },
  {
   "cell_type": "code",
   "execution_count": 89,
   "id": "754186ad-e7b8-402e-a5ad-d6cc1463f866",
   "metadata": {},
   "outputs": [
    {
     "name": "stdout",
     "output_type": "stream",
     "text": [
      "{'messages': [AIMessage(content='Based on the forecasts, June 17, 2025, in Lahore will be partly cloudy with a high of 47°C and a low of 35°C. On June 18, 2025, it is expected to be sunny with similar temperatures, ranging from 47°C during the day to 36°C at night.\\n\\nSince both days have the same maximum temperature of 47°C, neither day will be warmer than the other based on the provided information. They are expected to have comparable temperatures.', additional_kwargs={}, response_metadata={'model': 'qwen2.5', 'created_at': '2025-06-17T08:50:41.763877392Z', 'done': True, 'done_reason': 'stop', 'total_duration': 20419323592, 'load_duration': 19228296, 'prompt_eval_count': 2496, 'prompt_eval_duration': 395930880, 'eval_count': 115, 'eval_duration': 19936905164, 'model_name': 'qwen2.5'}, id='run--56e824ed-e0cc-4728-ac5e-6d3f6986689e-0', usage_metadata={'input_tokens': 2496, 'output_tokens': 115, 'total_tokens': 2611})]}\n"
     ]
    }
   ],
   "source": [
    "messages = [HumanMessage(content=\"Which one is warmer?\")]\n",
    "thread = {\"configurable\": {\"thread_id\": \"1\"}}\n",
    "for event in abot.graph.stream({\"messages\": messages}, thread):\n",
    "    for v in event.values():\n",
    "        print(v)"
   ]
  },
  {
   "cell_type": "markdown",
   "id": "24382827-3804-4034-9b4e-28d06e0fbc72",
   "metadata": {},
   "source": [
    "## Let's change thread id"
   ]
  },
  {
   "cell_type": "code",
   "execution_count": 90,
   "id": "5afa6611-47c1-4e85-9e67-cf3be55433ce",
   "metadata": {},
   "outputs": [
    {
     "name": "stdout",
     "output_type": "stream",
     "text": [
      "{'messages': [AIMessage(content='I need more information to determine which one is warmer. Could you please specify what two things or objects you are comparing?', additional_kwargs={}, response_metadata={'model': 'qwen2.5', 'created_at': '2025-06-17T08:52:09.113102903Z', 'done': True, 'done_reason': 'stop', 'total_duration': 3734056093, 'load_duration': 12634039, 'prompt_eval_count': 241, 'prompt_eval_duration': 262737225, 'eval_count': 25, 'eval_duration': 3455083324, 'model_name': 'qwen2.5'}, id='run--cc4b071e-fbfc-4587-b5ec-030a5b9e5d25-0', usage_metadata={'input_tokens': 241, 'output_tokens': 25, 'total_tokens': 266})]}\n"
     ]
    }
   ],
   "source": [
    "messages = [HumanMessage(content=\"Which one is warmer?\")]\n",
    "thread = {\"configurable\": {\"thread_id\": \"2\"}}\n",
    "for event in abot.graph.stream({\"messages\": messages}, thread):\n",
    "    for v in event.values():\n",
    "        print(v)"
   ]
  },
  {
   "cell_type": "code",
   "execution_count": 91,
   "id": "ee18fc3e-ab6d-498b-ad70-ad34306d4f7c",
   "metadata": {},
   "outputs": [],
   "source": [
    "#close connection\n",
    "stack.close()"
   ]
  },
  {
   "cell_type": "markdown",
   "id": "28624761-237c-4bcc-b554-3e57eda6aba0",
   "metadata": {},
   "source": [
    "# Let's stream the tokkens now"
   ]
  },
  {
   "cell_type": "code",
   "execution_count": 102,
   "id": "7b84b5e2-06ff-42c1-a455-9937fb295785",
   "metadata": {},
   "outputs": [
    {
     "name": "stdout",
     "output_type": "stream",
     "text": [
      "Calling: {'name': 'tavily_search_results_json', 'args': {'query': 'weather in San Francisco'}, 'id': '8bf13700-7615-428f-81ca-8c9096d58a06', 'type': 'tool_call'}\n",
      "Back to the model!\n",
      "The current weather forecast for San Francisco, California on Tuesday, June 17, 2025 is as follows:\n",
      "\n",
      "- Daytime temperature: 70°F\n",
      "- Nighttime temperature: 55°F\n",
      "- Precipitation: 0%\n",
      "- Wind speed: 12 mph\n",
      "- UV Index: 11\n",
      "\n",
      "The forecast suggests clear skies with minimal chance of precipitation. Make sure to check the latest updates closer to your date as conditions can change.|"
     ]
    }
   ],
   "source": [
    "import asyncio\n",
    "from contextlib import AsyncExitStack\n",
    "from langgraph.checkpoint.sqlite.aio import AsyncSqliteSaver\n",
    "stack = AsyncExitStack()\n",
    "memory = await stack.enter_async_context(AsyncSqliteSaver.from_conn_string(\":memory:\"))\n",
    "\n",
    "abot = Agent(model, [tool], system=prompt, checkpointer=memory)\n",
    "\n",
    "messages = [HumanMessage(content=\"What is the weather in SF?\")]\n",
    "thread = {\"configurable\": {\"thread_id\": \"4\"}}\n",
    "async for event in abot.graph.astream_events({\"messages\": messages}, thread, version=\"v1\"):\n",
    "        kind = event[\"event\"]\n",
    "        if kind == \"on_chat_model_stream\":\n",
    "            content = event[\"data\"][\"chunk\"].content\n",
    "            if content:\n",
    "                # Empty content in the context of OpenAI means\n",
    "                # that the model is asking for a tool to be invoked.\n",
    "                # So we only print non-empty content\n",
    "                print(content, end=\"|\")\n",
    "\n",
    "await stack.aclose()"
   ]
  }
 ],
 "metadata": {
  "kernelspec": {
   "display_name": "Python 3 (ipykernel)",
   "language": "python",
   "name": "python3"
  },
  "language_info": {
   "codemirror_mode": {
    "name": "ipython",
    "version": 3
   },
   "file_extension": ".py",
   "mimetype": "text/x-python",
   "name": "python",
   "nbconvert_exporter": "python",
   "pygments_lexer": "ipython3",
   "version": "3.12.3"
  }
 },
 "nbformat": 4,
 "nbformat_minor": 5
}
