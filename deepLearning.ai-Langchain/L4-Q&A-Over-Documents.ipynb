{
 "cells": [
  {
   "cell_type": "code",
   "execution_count": 77,
   "id": "1917e39f-df03-4c21-bf98-61da9ec2a0a2",
   "metadata": {},
   "outputs": [],
   "source": [
    "from langchain.chains import RetrievalQA\n",
    "from langchain_ollama import ChatOllama, OllamaEmbeddings\n",
    "from langchain.document_loaders import CSVLoader\n",
    "from langchain.vectorstores import DocArrayInMemorySearch\n",
    "from IPython.display import display, Markdown\n",
    "from langchain.indexes import VectorstoreIndexCreator"
   ]
  },
  {
   "cell_type": "code",
   "execution_count": 78,
   "id": "eb2f6c51-5986-4866-85de-5a4d69dabacd",
   "metadata": {},
   "outputs": [],
   "source": [
    "file = 'data/OutdoorClothingCatalog_1000.csv'\n",
    "loader = CSVLoader(file_path=file)\n",
    "embedding = OllamaEmbeddings(model=\"mxbai-embed-large:latest\")"
   ]
  },
  {
   "cell_type": "code",
   "execution_count": 80,
   "id": "2192493d-f68e-4b8f-b142-632305339caf",
   "metadata": {},
   "outputs": [],
   "source": [
    "index = VectorstoreIndexCreator(\n",
    "    embedding=embedding,\n",
    "    vectorstore_cls=DocArrayInMemorySearch\n",
    ").from_loaders([loader])"
   ]
  },
  {
   "cell_type": "code",
   "execution_count": 44,
   "id": "91d0b20b-e2cd-4606-84d1-37f39b7a958f",
   "metadata": {},
   "outputs": [],
   "source": [
    "llm = ChatOllama(model=\"llama3.1\", temperature=0)"
   ]
  },
  {
   "cell_type": "code",
   "execution_count": 45,
   "id": "71c8f6cc-a6ac-4696-8d01-39dcd6bafbd5",
   "metadata": {},
   "outputs": [],
   "source": [
    "# Now manually create the QA chain to use Ollama\n",
    "retriever = index.vectorstore.as_retriever()\n",
    "qa_chain = RetrievalQA.from_chain_type(llm=llm, retriever=retriever)"
   ]
  },
  {
   "cell_type": "code",
   "execution_count": 46,
   "id": "6abd75b0-99f4-4803-a002-7d42b490d140",
   "metadata": {},
   "outputs": [],
   "source": [
    "query =\"Please list all your shirts with sun protection \\\n",
    "in a table in markdown and summarize each one.\""
   ]
  },
  {
   "cell_type": "code",
   "execution_count": 47,
   "id": "ea9bb791-58c5-4485-9458-9dd60a512076",
   "metadata": {},
   "outputs": [
    {
     "name": "stderr",
     "output_type": "stream",
     "text": [
      "/tmp/ipykernel_95589/3841874701.py:1: LangChainDeprecationWarning: The method `Chain.run` was deprecated in langchain 0.1.0 and will be removed in 1.0. Use :meth:`~invoke` instead.\n",
      "  response = qa_chain.run(query)\n"
     ]
    }
   ],
   "source": [
    "response = qa_chain.run(query)"
   ]
  },
  {
   "cell_type": "code",
   "execution_count": 48,
   "id": "d8e2b826-9193-44d6-a82c-7f84bcfdeaf5",
   "metadata": {},
   "outputs": [
    {
     "data": {
      "text/markdown": [
       "Here is the list of shirts with sun protection:\n",
       "\n",
       "| **Product ID** | **Name** | **Description** |\n",
       "| --- | --- | --- |\n",
       "| 374 | Men's Plaid Tropic Shirt, Short-Sleeve | Lightweight, wrinkle-free shirt with UPF 50+ coverage and cape venting for ventilation. |\n",
       "| 618 | Men's Tropical Plaid Short-Sleeve Shirt | Traditional fit shirt with UPF 50+ protection, front and back cape venting, and two front pockets. |\n",
       "| 709 | Sunrise Tee (Women's) | Lightweight, high-performance fabric that wicks away moisture and dries quickly, with built-in sun protection. |\n",
       "| 87 | Women's Tropical Plaid Shirt | Flattering fit shirt with UPF 50+ rated fabric, cape venting, and two front pockets for ventilation and storage. |\n",
       "\n",
       "Note: All of these shirts have UPF 50+ or SPF 50+ rating, which means they block at least 98% of the sun's harmful UV rays."
      ],
      "text/plain": [
       "<IPython.core.display.Markdown object>"
      ]
     },
     "metadata": {},
     "output_type": "display_data"
    }
   ],
   "source": [
    "display(Markdown(response))"
   ]
  },
  {
   "cell_type": "code",
   "execution_count": 49,
   "id": "69751b1a-50bf-4302-8b94-c0687c3a14dd",
   "metadata": {},
   "outputs": [],
   "source": [
    "loader = CSVLoader(file_path=file)"
   ]
  },
  {
   "cell_type": "code",
   "execution_count": 50,
   "id": "14fcabbe-d80b-4434-aed1-b991a8170eea",
   "metadata": {},
   "outputs": [],
   "source": [
    "docs = loader.load()"
   ]
  },
  {
   "cell_type": "code",
   "execution_count": 51,
   "id": "ce85a398-9ee0-446d-b9eb-472e1c627558",
   "metadata": {},
   "outputs": [
    {
     "data": {
      "text/plain": [
       "Document(metadata={'source': 'data/OutdoorClothingCatalog_1000.csv', 'row': 0}, page_content=\": 0\\nname: Women's Campside Oxfords\\ndescription: This ultracomfortable lace-to-toe Oxford boasts a super-soft canvas, thick cushioning, and quality construction for a broken-in feel from the first time you put them on. \\n\\nSize & Fit: Order regular shoe size. For half sizes not offered, order up to next whole size. \\n\\nSpecs: Approx. weight: 1 lb.1 oz. per pair. \\n\\nConstruction: Soft canvas material for a broken-in feel and look. Comfortable EVA innersole with Cleansport NXT® antimicrobial odor control. Vintage hunt, fish and camping motif on innersole. Moderate arch contour of innersole. EVA foam midsole for cushioning and support. Chain-tread-inspired molded rubber outsole with modified chain-tread pattern. Imported. \\n\\nQuestions? Please contact us for any inquiries.\")"
      ]
     },
     "execution_count": 51,
     "metadata": {},
     "output_type": "execute_result"
    }
   ],
   "source": [
    "docs[0]"
   ]
  },
  {
   "cell_type": "code",
   "execution_count": 54,
   "id": "2a3989bf-2e1c-4489-9c9b-f4c9b692417f",
   "metadata": {},
   "outputs": [],
   "source": [
    "from ollama_embed_utils import OllamaEmbeddingFunction\n",
    "embeddings = OllamaEmbeddingFunction()"
   ]
  },
  {
   "cell_type": "code",
   "execution_count": 55,
   "id": "536e83b2-da7e-41fa-bd60-9f69ed832f72",
   "metadata": {},
   "outputs": [],
   "source": [
    "embed = embeddings.embed_query(\"Hi, my name is Ali\")"
   ]
  },
  {
   "cell_type": "code",
   "execution_count": 56,
   "id": "3ae134c7-3b88-46bc-bdc2-0141fe2d1908",
   "metadata": {},
   "outputs": [
    {
     "name": "stdout",
     "output_type": "stream",
     "text": [
      "1024\n"
     ]
    }
   ],
   "source": [
    "print(len(embed))"
   ]
  },
  {
   "cell_type": "code",
   "execution_count": 57,
   "id": "03c95566-3aa4-4cee-8225-4391b97e95e3",
   "metadata": {},
   "outputs": [
    {
     "name": "stdout",
     "output_type": "stream",
     "text": [
      "[-0.2773186266422272, -0.010408230125904083, -0.1603201925754547, 0.2309749871492386, 0.12020942568778992]\n"
     ]
    }
   ],
   "source": [
    "print(embed[:5])"
   ]
  },
  {
   "cell_type": "code",
   "execution_count": 59,
   "id": "0853c276-f922-4ca9-9c69-d6528e344506",
   "metadata": {},
   "outputs": [],
   "source": [
    "db = DocArrayInMemorySearch.from_documents(\n",
    "    docs,\n",
    "    embeddings\n",
    ")"
   ]
  },
  {
   "cell_type": "code",
   "execution_count": 60,
   "id": "bd11ce2d-5f41-4a02-a3c8-07f721353077",
   "metadata": {},
   "outputs": [],
   "source": [
    "query = \"Please suggest a shirt with sunblocking\"\n"
   ]
  },
  {
   "cell_type": "code",
   "execution_count": 61,
   "id": "bfb17c58-daab-4cbb-a58e-d013e7679d84",
   "metadata": {},
   "outputs": [],
   "source": [
    "docs = db.similarity_search(query)"
   ]
  },
  {
   "cell_type": "code",
   "execution_count": 62,
   "id": "325b31db-34a5-4c92-89f5-7027ebd1d567",
   "metadata": {},
   "outputs": [
    {
     "data": {
      "text/plain": [
       "4"
      ]
     },
     "execution_count": 62,
     "metadata": {},
     "output_type": "execute_result"
    }
   ],
   "source": [
    "len(docs)"
   ]
  },
  {
   "cell_type": "code",
   "execution_count": 63,
   "id": "e636022e-d245-46e6-b504-955ce2062370",
   "metadata": {},
   "outputs": [
    {
     "data": {
      "text/plain": [
       "Document(metadata={'source': 'data/OutdoorClothingCatalog_1000.csv', 'row': 374}, page_content=\": 374\\nname: Men's Plaid Tropic Shirt, Short-Sleeve\\ndescription: Our Ultracomfortable sun protection is rated to UPF 50+, helping you stay cool and dry. Originally designed for fishing, this lightest hot-weather shirt offers UPF 50+ coverage and is great for extended travel. SunSmart technology blocks 98% of the sun's harmful UV rays, while the high-performance fabric is wrinkle-free and quickly evaporates perspiration. Made with 52% polyester and 48% nylon, this shirt is machine washable and dryable. Additional features include front and back cape venting, two front bellows pockets and an imported design. With UPF 50+ coverage, you can limit sun exposure and feel secure with the highest rated sun protection available.\")"
      ]
     },
     "execution_count": 63,
     "metadata": {},
     "output_type": "execute_result"
    }
   ],
   "source": [
    "docs[0]"
   ]
  },
  {
   "cell_type": "code",
   "execution_count": 64,
   "id": "bc175fc8-dd37-496e-a0b8-01ac73235d92",
   "metadata": {},
   "outputs": [],
   "source": [
    "retriever = db.as_retriever()"
   ]
  },
  {
   "cell_type": "code",
   "execution_count": 65,
   "id": "001d1bc6-be56-4443-92c0-03323a55f6ac",
   "metadata": {},
   "outputs": [],
   "source": [
    "llm = ChatOllama(temperature=0.0, model='llama3.1')"
   ]
  },
  {
   "cell_type": "code",
   "execution_count": 66,
   "id": "b58a2e0c-517c-4a8f-8f24-3068dd6f0f34",
   "metadata": {},
   "outputs": [],
   "source": [
    "qdocs = \"\".join([docs[i].page_content for i in range(len(docs))])"
   ]
  },
  {
   "cell_type": "code",
   "execution_count": 67,
   "id": "fcd2b281-32f4-43a8-80c6-40b3f971bf0b",
   "metadata": {},
   "outputs": [
    {
     "name": "stderr",
     "output_type": "stream",
     "text": [
      "/tmp/ipykernel_95589/720143539.py:1: LangChainDeprecationWarning: The method `BaseChatModel.call_as_llm` was deprecated in langchain-core 0.1.7 and will be removed in 1.0. Use :meth:`~invoke` instead.\n",
      "  response = llm.call_as_llm(f\"{qdocs} Question: Please list all your \\\n"
     ]
    }
   ],
   "source": [
    "response = llm.call_as_llm(f\"{qdocs} Question: Please list all your \\\n",
    "shirts with sun protection in a table in markdown and summarize each one.\") "
   ]
  },
  {
   "cell_type": "code",
   "execution_count": 68,
   "id": "e2b373f9-62eb-42bd-88af-c27e0eb96d1a",
   "metadata": {},
   "outputs": [
    {
     "data": {
      "text/markdown": [
       "Here are the shirts with sun protection listed in a table in markdown:\n",
       "\n",
       "| **Shirt Name** | **Description** | **Fabric** | **Care Instructions** |\n",
       "| --- | --- | --- | --- |\n",
       "| Men's Plaid Tropic Shirt, Short-Sleeve | UPF 50+ coverage for extended travel and fishing | 52% polyester, 48% nylon | Machine washable and dryable |\n",
       "| Tropical Breeze Shirt | Lightweight, breathable long-sleeve shirt with SunSmart protection | 71% nylon, 29% polyester | Machine wash and dry |\n",
       "| Sunrise Tee | Women's UV-protective button down shirt for hot weather | 71% nylon, 29% polyester | Machine wash and dry |\n",
       "| Sun Shield Shirt by [Brand] | High-performance sun shirt with SPF 50+ protection | 78% nylon, 22% Lycra Xtra Life fiber | Handwash, line dry |\n",
       "\n",
       "Here's a summary of each shirt:\n",
       "\n",
       "* **Men's Plaid Tropic Shirt, Short-Sleeve**: A lightweight, breathable short-sleeve shirt designed for fishing and travel. Offers UPF 50+ coverage and features SunSmart technology.\n",
       "* **Tropical Breeze Shirt**: A long-sleeve shirt with superior SunSmart protection from the sun's harmful rays. Features wrinkle-resistant and moisture-wicking fabric.\n",
       "* **Sunrise Tee**: A women's button down shirt designed for hot weather. Offers UV-protective UPF 50+ coverage and features a lightweight, high-performance fabric.\n",
       "* **Sun Shield Shirt by [Brand]**: A high-performance sun shirt with SPF 50+ protection that blocks 98% of the sun's harmful rays. Features abrasion-resistant fabric and is recommended by The Skin Cancer Foundation.\n",
       "\n",
       "All four shirts offer UPF 50+ or SPF 50+ protection, making them suitable for outdoor activities in sunny conditions."
      ],
      "text/plain": [
       "<IPython.core.display.Markdown object>"
      ]
     },
     "metadata": {},
     "output_type": "display_data"
    }
   ],
   "source": [
    "display(Markdown(response))"
   ]
  },
  {
   "cell_type": "code",
   "execution_count": 69,
   "id": "e660c48a-a355-42cd-a18f-7d9cfdad4c79",
   "metadata": {},
   "outputs": [],
   "source": [
    "qa_stuff = RetrievalQA.from_chain_type(\n",
    "    llm=llm, \n",
    "    chain_type=\"stuff\", \n",
    "    retriever=retriever, \n",
    "    verbose=True\n",
    ")"
   ]
  },
  {
   "cell_type": "code",
   "execution_count": 70,
   "id": "d84ec854-d5b5-473b-82a3-5bb28de9c5d5",
   "metadata": {},
   "outputs": [],
   "source": [
    "query =  \"Please list all your shirts with sun protection in a table \\\n",
    "in markdown and summarize each one.\""
   ]
  },
  {
   "cell_type": "code",
   "execution_count": 71,
   "id": "1bf928e1-b72b-4e3d-916d-1b140f024b90",
   "metadata": {},
   "outputs": [
    {
     "name": "stdout",
     "output_type": "stream",
     "text": [
      "\n",
      "\n",
      "\u001b[1m> Entering new RetrievalQA chain...\u001b[0m\n",
      "\n",
      "\u001b[1m> Finished chain.\u001b[0m\n"
     ]
    }
   ],
   "source": [
    "response = qa_stuff.run(query)"
   ]
  },
  {
   "cell_type": "code",
   "execution_count": 73,
   "id": "ca539b18-3d6b-43a9-ab4a-962c85bb1d4a",
   "metadata": {},
   "outputs": [
    {
     "data": {
      "text/markdown": [
       "Here is the list of shirts with sun protection:\n",
       "\n",
       "| **Product ID** | **Name** | **Description** |\n",
       "| --- | --- | --- |\n",
       "| 374 | Men's Plaid Tropic Shirt, Short-Sleeve | Lightweight, wrinkle-free shirt with UPF 50+ coverage and high-performance fabric that wicks away perspiration. |\n",
       "| 709 | Sunrise Tee | Women's UV-protective button down shirt with lightweight, high-performance fabric that wicks away moisture and dries quickly. |\n",
       "| 618 | Men's Tropical Plaid Short-Sleeve Shirt | Lightest hot-weather shirt with traditional fit, wrinkle-resistant fabric, and UPF 50+ sun protection. |\n",
       "| 87 | Women's Tropical Plaid Shirt | Flattering fit, lightweight shirt with UPF 50+ rated fabric that wicks away perspiration and dries quickly. |\n",
       "\n",
       "Note: All of these shirts have UPF 50+ or SPF 50+ rating, which means they block at least 98% of the sun's harmful UV rays."
      ],
      "text/plain": [
       "<IPython.core.display.Markdown object>"
      ]
     },
     "metadata": {},
     "output_type": "display_data"
    }
   ],
   "source": [
    "display(Markdown(response))"
   ]
  }
 ],
 "metadata": {
  "kernelspec": {
   "display_name": "Python 3 (ipykernel)",
   "language": "python",
   "name": "python3"
  },
  "language_info": {
   "codemirror_mode": {
    "name": "ipython",
    "version": 3
   },
   "file_extension": ".py",
   "mimetype": "text/x-python",
   "name": "python",
   "nbconvert_exporter": "python",
   "pygments_lexer": "ipython3",
   "version": "3.12.3"
  }
 },
 "nbformat": 4,
 "nbformat_minor": 5
}
