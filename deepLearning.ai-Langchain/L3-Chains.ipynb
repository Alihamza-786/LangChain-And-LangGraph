{
 "cells": [
  {
   "cell_type": "markdown",
   "id": "4a9fd00a-08e6-4dc6-8664-bebcef53b7a0",
   "metadata": {},
   "source": [
    "# Chains in LangChain\n",
    "## Outline\n",
    "- LLMChain\n",
    "- Sequential Chains\n",
    "    - SimpleSequentialChain\n",
    "    - SequentialChain\n",
    "- Router Chain"
   ]
  },
  {
   "cell_type": "code",
   "execution_count": 51,
   "id": "6621bf38-6b7f-4dd2-800a-4d3103132fe0",
   "metadata": {},
   "outputs": [
    {
     "name": "stdout",
     "output_type": "stream",
     "text": [
      "langchain version: 0.3.25\n",
      "langchain_community version: 0.3.24\n",
      "langchain_ollama version: 0.3.3\n",
      "pandas version: 2.2.3\n"
     ]
    }
   ],
   "source": [
    "import langchain\n",
    "import langchain_community\n",
    "import langchain_ollama\n",
    "import pandas as pd\n",
    "\n",
    "print(\"langchain version:\", langchain.__version__)\n",
    "print(\"langchain_community version:\", langchain_community.__version__)\n",
    "print(\"langchain_ollama version:\", langchain_ollama.__version__)\n",
    "print(\"pandas version:\", pd.__version__)\n"
   ]
  },
  {
   "cell_type": "code",
   "execution_count": 52,
   "id": "54dc9f9f-c42e-492e-b899-3a0ee3d641cb",
   "metadata": {},
   "outputs": [],
   "source": [
    "import warnings\n",
    "warnings.filterwarnings('ignore')"
   ]
  },
  {
   "cell_type": "code",
   "execution_count": 53,
   "id": "5a5aab66-336c-45a6-b41d-8c17aeb21b42",
   "metadata": {},
   "outputs": [],
   "source": [
    "import os\n",
    "import pandas as pd\n",
    "df = pd.read_csv('data/Data.csv')"
   ]
  },
  {
   "cell_type": "code",
   "execution_count": 54,
   "id": "485ca3f2-4c4f-47c0-98e3-4cdcd196922e",
   "metadata": {},
   "outputs": [
    {
     "data": {
      "text/html": [
       "<div>\n",
       "<style scoped>\n",
       "    .dataframe tbody tr th:only-of-type {\n",
       "        vertical-align: middle;\n",
       "    }\n",
       "\n",
       "    .dataframe tbody tr th {\n",
       "        vertical-align: top;\n",
       "    }\n",
       "\n",
       "    .dataframe thead th {\n",
       "        text-align: right;\n",
       "    }\n",
       "</style>\n",
       "<table border=\"1\" class=\"dataframe\">\n",
       "  <thead>\n",
       "    <tr style=\"text-align: right;\">\n",
       "      <th></th>\n",
       "      <th>Product</th>\n",
       "      <th>Review</th>\n",
       "    </tr>\n",
       "  </thead>\n",
       "  <tbody>\n",
       "    <tr>\n",
       "      <th>0</th>\n",
       "      <td>Queen Size Sheet Set</td>\n",
       "      <td>I ordered a king size set. My only criticism w...</td>\n",
       "    </tr>\n",
       "    <tr>\n",
       "      <th>1</th>\n",
       "      <td>Waterproof Phone Pouch</td>\n",
       "      <td>I loved the waterproof sac, although the openi...</td>\n",
       "    </tr>\n",
       "    <tr>\n",
       "      <th>2</th>\n",
       "      <td>Luxury Air Mattress</td>\n",
       "      <td>This mattress had a small hole in the top of i...</td>\n",
       "    </tr>\n",
       "    <tr>\n",
       "      <th>3</th>\n",
       "      <td>Pillows Insert</td>\n",
       "      <td>This is the best throw pillow fillers on Amazo...</td>\n",
       "    </tr>\n",
       "    <tr>\n",
       "      <th>4</th>\n",
       "      <td>Milk Frother Handheld\\n</td>\n",
       "      <td>I loved this product. But they only seem to l...</td>\n",
       "    </tr>\n",
       "  </tbody>\n",
       "</table>\n",
       "</div>"
      ],
      "text/plain": [
       "                   Product                                             Review\n",
       "0     Queen Size Sheet Set  I ordered a king size set. My only criticism w...\n",
       "1   Waterproof Phone Pouch  I loved the waterproof sac, although the openi...\n",
       "2      Luxury Air Mattress  This mattress had a small hole in the top of i...\n",
       "3           Pillows Insert  This is the best throw pillow fillers on Amazo...\n",
       "4  Milk Frother Handheld\\n   I loved this product. But they only seem to l..."
      ]
     },
     "execution_count": 54,
     "metadata": {},
     "output_type": "execute_result"
    }
   ],
   "source": [
    "df.head()"
   ]
  },
  {
   "cell_type": "markdown",
   "id": "36edf9d1-06d5-4e30-b149-f5beb9fa556e",
   "metadata": {},
   "source": [
    "# LLMChain"
   ]
  },
  {
   "cell_type": "code",
   "execution_count": 7,
   "id": "604539a0-e683-4976-bcee-82c18d1c51d2",
   "metadata": {},
   "outputs": [],
   "source": [
    "from langchain_ollama import ChatOllama\n",
    "from langchain.prompts import ChatPromptTemplate\n",
    "from langchain.chains import LLMChain"
   ]
  },
  {
   "cell_type": "code",
   "execution_count": 8,
   "id": "c06585aa-a1ae-45cd-ba1f-23666d606a5a",
   "metadata": {},
   "outputs": [],
   "source": [
    "llm = ChatOllama(\n",
    "    model = \"llama3.1\",\n",
    "    temperature = 0\n",
    ")"
   ]
  },
  {
   "cell_type": "code",
   "execution_count": 9,
   "id": "e5f28e9e-257e-418e-908f-51bb7f7d4dcc",
   "metadata": {},
   "outputs": [],
   "source": [
    "prompt = ChatPromptTemplate.from_template(\n",
    "    \"What is the best name to describe \\\n",
    "    a company that makes {product}?\"\n",
    ")"
   ]
  },
  {
   "cell_type": "code",
   "execution_count": 10,
   "id": "b3733f08-cb57-4b02-bffa-d45ae5e349d9",
   "metadata": {},
   "outputs": [
    {
     "name": "stderr",
     "output_type": "stream",
     "text": [
      "/tmp/ipykernel_58141/1305865249.py:1: LangChainDeprecationWarning: The class `LLMChain` was deprecated in LangChain 0.1.17 and will be removed in 1.0. Use :meth:`~RunnableSequence, e.g., `prompt | llm`` instead.\n",
      "  chain = LLMChain(llm=llm, prompt=prompt)\n"
     ]
    }
   ],
   "source": [
    "chain = LLMChain(llm=llm, prompt=prompt)"
   ]
  },
  {
   "cell_type": "code",
   "execution_count": 11,
   "id": "53cd8237-7f54-40fa-81eb-4177961476bf",
   "metadata": {},
   "outputs": [
    {
     "name": "stderr",
     "output_type": "stream",
     "text": [
      "/tmp/ipykernel_58141/544502284.py:2: LangChainDeprecationWarning: The method `Chain.run` was deprecated in langchain 0.1.0 and will be removed in 1.0. Use :meth:`~invoke` instead.\n",
      "  chain.run(product)\n"
     ]
    },
    {
     "data": {
      "text/plain": [
       "'Here are some suggestions for a company name that specializes in Queen-size sheet sets:\\n\\n1. **Regal Bedding**: This name plays off the idea of royalty, which fits well with the \"Queen\" size designation.\\n2. **Sheets Royale**: Similar to Regal Bedding, this name emphasizes the regal aspect of the product.\\n3. **Queen\\'s Comfort**: This name conveys a sense of luxury and comfort, which is perfect for a high-quality sheet set.\\n4. **Linen Luxe**: \"Luxe\" implies high-end quality, while \"linen\" suggests a focus on soft, breathable fabrics.\\n5. **Royal Slumber**: This name evokes feelings of relaxation and tranquility, making it perfect for a company that wants to emphasize the comfort of their products.\\n6. **Queen Size Co.**: Simple and straightforward, this name clearly communicates what the company specializes in.\\n7. **Dreamweaver Bedding**: This name suggests that the company\\'s sheet sets will help customers create their own dreamy sleep experiences.\\n8. **The Queen\\'s Quilt Co.**: While not exclusively a sheet set company, this name could work well if they also offer quilts or other bedding products.\\n9. **Soft Touch Sheets**: This name emphasizes the comfort and softness of the company\\'s sheet sets.\\n10. **Her Majesty\\'s Bedding**: Another regal-inspired name that suggests a high level of quality and luxury.\\n\\nChoose the one that resonates with your brand values and style!'"
      ]
     },
     "execution_count": 11,
     "metadata": {},
     "output_type": "execute_result"
    }
   ],
   "source": [
    "product = \"Queen Size Sheet set\"\n",
    "chain.run(product)"
   ]
  },
  {
   "cell_type": "markdown",
   "id": "c4e464b9-a007-4294-b860-6d66e6276e17",
   "metadata": {},
   "source": [
    "# SimpleSequentialChain\n",
    "Single Input Single Output"
   ]
  },
  {
   "cell_type": "code",
   "execution_count": 16,
   "id": "87f26570-03fb-43f0-b651-e262c0fafd80",
   "metadata": {},
   "outputs": [],
   "source": [
    "from langchain.chains import SimpleSequentialChain\n",
    "llm = ChatOllama(model = \"llama3.1\",\n",
    "                 temperature=0.9\n",
    "                )"
   ]
  },
  {
   "cell_type": "code",
   "execution_count": 15,
   "id": "1359e9b0-38ff-4c2a-813d-8458a8bdd83a",
   "metadata": {},
   "outputs": [],
   "source": [
    "first_prompt = ChatPromptTemplate.from_template(\n",
    "    \"What is the best name to describe \\\n",
    "    a company that makes {product}?\"\n",
    ")\n",
    "\n",
    "#chain 1\n",
    "chain_one = LLMChain(llm=llm, prompt=first_prompt)\n"
   ]
  },
  {
   "cell_type": "code",
   "execution_count": 17,
   "id": "38fb7e27-e618-4ff9-89cb-ae937793a2f9",
   "metadata": {},
   "outputs": [],
   "source": [
    "second_prompt = ChatPromptTemplate.from_template(\n",
    "    \"Write a 20 words description for the following \\\n",
    "    company: {company_name}\"\n",
    ")\n",
    "\n",
    "#chain 2\n",
    "chain_two = LLMChain(llm=llm, prompt=second_prompt)"
   ]
  },
  {
   "cell_type": "code",
   "execution_count": 18,
   "id": "6b1bce47-4d8b-45cd-85f6-46dac920b7a1",
   "metadata": {},
   "outputs": [],
   "source": [
    "overall_simple_chain = SimpleSequentialChain(chains=[chain_one, chain_two],\n",
    "                                             verbose=True\n",
    "                                            )"
   ]
  },
  {
   "cell_type": "code",
   "execution_count": 19,
   "id": "96dab66e-29c2-43f3-b28b-451056158421",
   "metadata": {},
   "outputs": [
    {
     "name": "stdout",
     "output_type": "stream",
     "text": [
      "\n",
      "\n",
      "\u001b[1m> Entering new SimpleSequentialChain chain...\u001b[0m\n",
      "\u001b[36;1m\u001b[1;3mHere are some suggestions for names that might fit well for a company that makes queen size sheet sets:\n",
      "\n",
      "1. **Queenly Comfort**: This name suggests that the products will provide comfort and luxury, which is perfect for a company making high-quality bedding.\n",
      "2. **Regal Bedding Co.**: \"Regal\" implies a sense of grandeur and sophistication, fitting for a company producing premium bedding products.\n",
      "3. **Sleep Royale**: This name combines \"sleep\" (a key aspect of bedding) with \"royale,\" conveying a regal and majestic quality to the brand.\n",
      "4. **Queen Size Bliss**: This name is straightforward and attention-grabbing, emphasizing the comfort and happiness that customers can expect from the product.\n",
      "5. **Luxe Sheets by [Company Name]**: Adding \"Luxe\" to the beginning of the name instantly conveys a sense of high-end quality, which is perfect for a company producing premium bedding products.\n",
      "6. **Slumber & Majesty**: This name combines two key aspects of bedding (slumber and majesty) to create a unique and memorable brand identity.\n",
      "7. **Royal Comfort Co.**: Similar to \"Regal Bedding Co.,\" this name emphasizes the comfort and luxury that customers can expect from the products.\n",
      "8. **Bedding Bliss Factory**: This name has a fun, playful tone while still emphasizing the comfort and happiness that customers can expect from the product.\n",
      "\n",
      "Which one of these suggestions resonates with you? Or do you have any specific ideas or preferences for the company name?\u001b[0m\n",
      "\u001b[33;1m\u001b[1;3mHere is a 20-word description for each of the suggested company names:\n",
      "\n",
      "1. **Queenly Comfort**: Providing luxurious, high-quality queen size sheet sets designed to promote ultimate comfort and relaxation in every home.\n",
      "2. **Regal Bedding Co.**: Crafted with precision and care, Regal Bedding Co.'s premium products redefine the art of sleep and serenity.\n",
      "3. **Sleep Royale**: Experience regal slumber with Sleep Royale's exquisite queen size sheet sets, expertly woven for ultimate comfort and tranquility.\n",
      "4. **Queen Size Bliss**: Indulge in the purest luxury with Queen Size Bliss's premium bedding collection, designed to bring serenity to your bedroom.\n",
      "5. **Luxe Sheets by [Company Name]**: Treat yourself to opulent sleep experiences with Luxe Sheets by [Company Name], the epitome of high-end comfort.\n",
      "6. **Slumber & Majesty**: Slumber & Majesty's queen size sheet sets embody the perfect blend of restful slumber and majestic luxury.\n",
      "7. **Royal Comfort Co.**: Enveloped in royal comfort, every night is a sleeping experience fit for kings and queens with Royal Comfort Co.'s premium bedding.\n",
      "8. **Bedding Bliss Factory**: At Bedding Bliss Factory, our queen size sheet sets are crafted to infuse your bedroom with joy, comfort, and happiness.\n",
      "\n",
      "Let me know if you would like me to suggest any modifications or create new options based on your preferences!\u001b[0m\n",
      "\n",
      "\u001b[1m> Finished chain.\u001b[0m\n"
     ]
    },
    {
     "data": {
      "text/plain": [
       "\"Here is a 20-word description for each of the suggested company names:\\n\\n1. **Queenly Comfort**: Providing luxurious, high-quality queen size sheet sets designed to promote ultimate comfort and relaxation in every home.\\n2. **Regal Bedding Co.**: Crafted with precision and care, Regal Bedding Co.'s premium products redefine the art of sleep and serenity.\\n3. **Sleep Royale**: Experience regal slumber with Sleep Royale's exquisite queen size sheet sets, expertly woven for ultimate comfort and tranquility.\\n4. **Queen Size Bliss**: Indulge in the purest luxury with Queen Size Bliss's premium bedding collection, designed to bring serenity to your bedroom.\\n5. **Luxe Sheets by [Company Name]**: Treat yourself to opulent sleep experiences with Luxe Sheets by [Company Name], the epitome of high-end comfort.\\n6. **Slumber & Majesty**: Slumber & Majesty's queen size sheet sets embody the perfect blend of restful slumber and majestic luxury.\\n7. **Royal Comfort Co.**: Enveloped in royal comfort, every night is a sleeping experience fit for kings and queens with Royal Comfort Co.'s premium bedding.\\n8. **Bedding Bliss Factory**: At Bedding Bliss Factory, our queen size sheet sets are crafted to infuse your bedroom with joy, comfort, and happiness.\\n\\nLet me know if you would like me to suggest any modifications or create new options based on your preferences!\""
      ]
     },
     "execution_count": 19,
     "metadata": {},
     "output_type": "execute_result"
    }
   ],
   "source": [
    "overall_simple_chain.run(product)"
   ]
  },
  {
   "cell_type": "markdown",
   "id": "9f55e111-57a5-4324-a6e0-78adfa43236a",
   "metadata": {},
   "source": [
    "# SequentialChain\n",
    "Multiple Input Multiple Output"
   ]
  },
  {
   "cell_type": "code",
   "execution_count": 20,
   "id": "a5b0caee-8ab6-479e-acb7-795f87810880",
   "metadata": {},
   "outputs": [],
   "source": [
    "from langchain.chains import SequentialChain"
   ]
  },
  {
   "cell_type": "code",
   "execution_count": 27,
   "id": "1828036d-3f03-41fb-8bc7-026b0e145b53",
   "metadata": {},
   "outputs": [],
   "source": [
    "# prompt template 1: translate to english\n",
    "first_prompt = ChatPromptTemplate.from_template(\n",
    "    \"Translate the following review to english:\"\n",
    "    \"\\n\\n{Review}\"\n",
    ")\n",
    "# chain 1: input= Review and output= English_Review\n",
    "chain_one = LLMChain(llm=llm, prompt=first_prompt, \n",
    "                     output_key=\"English_Review\"\n",
    "                    )"
   ]
  },
  {
   "cell_type": "code",
   "execution_count": 28,
   "id": "1a33962d-8fb9-4125-83b0-e0a1421c5b67",
   "metadata": {},
   "outputs": [],
   "source": [
    "second_prompt = ChatPromptTemplate.from_template(\n",
    "    \"Can you summarize the following review in 1 sentence:\"\n",
    "    \"\\n\\n{English_Review}\"\n",
    ")\n",
    "# chain 2: input= English_Review and output= summary\n",
    "chain_two = LLMChain(llm=llm, prompt=second_prompt, \n",
    "                     output_key=\"summary\"\n",
    "                    )"
   ]
  },
  {
   "cell_type": "code",
   "execution_count": 29,
   "id": "df6e200c-9679-46ec-8cad-c87c9492e158",
   "metadata": {},
   "outputs": [],
   "source": [
    "# prompt template 3: translate to english\n",
    "third_prompt = ChatPromptTemplate.from_template(\n",
    "    \"What language is the following review:\\n\\n{Review}\"\n",
    ")\n",
    "# chain 3: input= Review and output= language\n",
    "chain_three = LLMChain(llm=llm, prompt=third_prompt,\n",
    "                       output_key=\"language\"\n",
    "                      )"
   ]
  },
  {
   "cell_type": "code",
   "execution_count": 30,
   "id": "b5c4df22-faca-4fa0-9f2f-280598de5b88",
   "metadata": {},
   "outputs": [],
   "source": [
    "# prompt template 4: follow up message\n",
    "fourth_prompt = ChatPromptTemplate.from_template(\n",
    "    \"Write a follow up response to the following \"\n",
    "    \"summary in the specified language:\"\n",
    "    \"\\n\\nSummary: {summary}\\n\\nLanguage: {language}\"\n",
    ")\n",
    "# chain 4: input= summary, language and output= followup_message\n",
    "chain_four = LLMChain(llm=llm, prompt=fourth_prompt,\n",
    "                      output_key=\"followup_message\"\n",
    "                     )"
   ]
  },
  {
   "cell_type": "code",
   "execution_count": 31,
   "id": "395d8ea4-c09c-4e2b-a397-c773c2b72f3a",
   "metadata": {},
   "outputs": [],
   "source": [
    "# overall_chain: input= Review \n",
    "# and output= English_Review,summary, followup_message\n",
    "overall_chain = SequentialChain(\n",
    "    chains=[chain_one, chain_two, chain_three, chain_four],\n",
    "    input_variables=[\"Review\"],\n",
    "    output_variables=[\"English_Review\", \"summary\",\"followup_message\"],\n",
    "    verbose=True\n",
    ")"
   ]
  },
  {
   "cell_type": "code",
   "execution_count": 32,
   "id": "62388635-5103-433a-82b2-7cabc9cd077a",
   "metadata": {},
   "outputs": [
    {
     "data": {
      "text/plain": [
       "\"Je trouve le goût médiocre. La mousse ne tient pas, c'est bizarre. J'achète les mêmes dans le commerce et le goût est bien meilleur...\\nVieux lot ou contrefaçon !?\""
      ]
     },
     "execution_count": 32,
     "metadata": {},
     "output_type": "execute_result"
    }
   ],
   "source": [
    "df.Review[5]"
   ]
  },
  {
   "cell_type": "code",
   "execution_count": 33,
   "id": "d88e35fc-0e48-4e43-82f3-1e20ce367a84",
   "metadata": {},
   "outputs": [
    {
     "name": "stderr",
     "output_type": "stream",
     "text": [
      "/tmp/ipykernel_58141/1992003631.py:2: LangChainDeprecationWarning: The method `Chain.__call__` was deprecated in langchain 0.1.0 and will be removed in 1.0. Use :meth:`~invoke` instead.\n",
      "  overall_chain(review)\n"
     ]
    },
    {
     "name": "stdout",
     "output_type": "stream",
     "text": [
      "\n",
      "\n",
      "\u001b[1m> Entering new SequentialChain chain...\u001b[0m\n",
      "\n",
      "\u001b[1m> Finished chain.\u001b[0m\n"
     ]
    },
    {
     "data": {
      "text/plain": [
       "{'Review': \"Je trouve le goût médiocre. La mousse ne tient pas, c'est bizarre. J'achète les mêmes dans le commerce et le goût est bien meilleur...\\nVieux lot ou contrefaçon !?\",\n",
       " 'English_Review': 'Here is the translation of the review to English:\\n\\n\"I find the taste mediocre. The foam doesn\\'t hold up, that\\'s weird. I buy the same ones in stores and the taste is much better...\\n\\nOld batch or a fake product?\"',\n",
       " 'summary': 'The reviewer found the product to have a mediocre taste and poor foam quality, suggesting it may be an old or counterfeit batch of the store-bought variety which they prefer.',\n",
       " 'followup_message': 'Réponse :\\n\\n\"Je suis en désaccord avec cette critique. J\\'ai eu l\\'occasion d\\'essayer ce produit et je pense que son gout est correct. Peut-être qu\\'il y a eu une erreur de livraison ou que le rédacteur n\\'a pas reçu la version bonne ? En tout cas, je suis plus qu\\'enclin à recommander ce produit qui reste pour moi l\\'un des meilleurs sur le marché.\"'}"
      ]
     },
     "execution_count": 33,
     "metadata": {},
     "output_type": "execute_result"
    }
   ],
   "source": [
    "review = df.Review[5]\n",
    "overall_chain(review)"
   ]
  },
  {
   "cell_type": "markdown",
   "id": "273562f8-4197-419f-8de6-f16a5b715948",
   "metadata": {},
   "source": [
    "# Router Chain"
   ]
  },
  {
   "cell_type": "code",
   "execution_count": 34,
   "id": "ff5e6ccd-61c4-447a-8d78-fe03973bcd46",
   "metadata": {},
   "outputs": [],
   "source": [
    "physics_template = \"\"\"You are a very smart physics professor. \\\n",
    "You are great at answering questions about physics in a concise\\\n",
    "and easy to understand manner. \\\n",
    "When you don't know the answer to a question you admit\\\n",
    "that you don't know.\n",
    "\n",
    "Here is a question:\n",
    "{input}\"\"\"\n",
    "\n",
    "\n",
    "math_template = \"\"\"You are a very good mathematician. \\\n",
    "You are great at answering math questions. \\\n",
    "You are so good because you are able to break down \\\n",
    "hard problems into their component parts, \n",
    "answer the component parts, and then put them together\\\n",
    "to answer the broader question.\n",
    "\n",
    "Here is a question:\n",
    "{input}\"\"\"\n",
    "\n",
    "history_template = \"\"\"You are a very good historian. \\\n",
    "You have an excellent knowledge of and understanding of people,\\\n",
    "events and contexts from a range of historical periods. \\\n",
    "You have the ability to think, reflect, debate, discuss and \\\n",
    "evaluate the past. You have a respect for historical evidence\\\n",
    "and the ability to make use of it to support your explanations \\\n",
    "and judgements.\n",
    "\n",
    "Here is a question:\n",
    "{input}\"\"\"\n",
    "\n",
    "\n",
    "computerscience_template = \"\"\" You are a successful computer scientist.\\\n",
    "You have a passion for creativity, collaboration,\\\n",
    "forward-thinking, confidence, strong problem-solving capabilities,\\\n",
    "understanding of theories and algorithms, and excellent communication \\\n",
    "skills. You are great at answering coding questions. \\\n",
    "You are so good because you know how to solve a problem by \\\n",
    "describing the solution in imperative steps \\\n",
    "that a machine can easily interpret and you know how to \\\n",
    "choose a solution that has a good balance between \\\n",
    "time complexity and space complexity. \n",
    "\n",
    "Here is a question:\n",
    "{input}\"\"\""
   ]
  },
  {
   "cell_type": "code",
   "execution_count": 35,
   "id": "9fa72c1a-9f08-46ef-8580-49a9e337b05a",
   "metadata": {},
   "outputs": [],
   "source": [
    "prompt_infos = [\n",
    "    {\n",
    "        \"name\": \"physics\", \n",
    "        \"description\": \"Good for answering questions about physics\", \n",
    "        \"prompt_template\": physics_template\n",
    "    },\n",
    "    {\n",
    "        \"name\": \"math\", \n",
    "        \"description\": \"Good for answering math questions\", \n",
    "        \"prompt_template\": math_template\n",
    "    },\n",
    "    {\n",
    "        \"name\": \"History\", \n",
    "        \"description\": \"Good for answering history questions\", \n",
    "        \"prompt_template\": history_template\n",
    "    },\n",
    "    {\n",
    "        \"name\": \"computer science\", \n",
    "        \"description\": \"Good for answering computer science questions\", \n",
    "        \"prompt_template\": computerscience_template\n",
    "    }\n",
    "]\n"
   ]
  },
  {
   "cell_type": "code",
   "execution_count": 39,
   "id": "a4c190bc-7054-43d5-a826-4d74226fefc4",
   "metadata": {},
   "outputs": [],
   "source": [
    "from langchain.chains.router import MultiPromptChain\n",
    "from langchain.chains.router.llm_router import LLMRouterChain,RouterOutputParser\n",
    "from langchain.prompts import PromptTemplate"
   ]
  },
  {
   "cell_type": "code",
   "execution_count": 40,
   "id": "2a410b4f-a779-4c6c-93a0-89aecfc12e9c",
   "metadata": {},
   "outputs": [],
   "source": [
    "llm = ChatOllama(temperature=0,\n",
    "                 model = \"llama3.1\")"
   ]
  },
  {
   "cell_type": "code",
   "execution_count": 41,
   "id": "e9d280ca-ada7-44da-820a-feb6881e1da7",
   "metadata": {},
   "outputs": [],
   "source": [
    "destination_chains = {}\n",
    "for p_info in prompt_infos:\n",
    "    name = p_info[\"name\"]\n",
    "    prompt_template = p_info[\"prompt_template\"]\n",
    "    prompt = ChatPromptTemplate.from_template(template=prompt_template)\n",
    "    chain = LLMChain(llm=llm, prompt=prompt)\n",
    "    destination_chains[name] = chain  \n",
    "    \n",
    "destinations = [f\"{p['name']}: {p['description']}\" for p in prompt_infos]\n",
    "destinations_str = \"\\n\".join(destinations)"
   ]
  },
  {
   "cell_type": "code",
   "execution_count": 42,
   "id": "e3900a5b-1a91-4d58-a26d-93435a1874a5",
   "metadata": {},
   "outputs": [],
   "source": [
    "default_prompt = ChatPromptTemplate.from_template(\"{input}\")\n",
    "default_chain = LLMChain(llm=llm, prompt=default_prompt)"
   ]
  },
  {
   "cell_type": "code",
   "execution_count": 44,
   "id": "3b1fcfab-3788-4a01-8568-1259909e3d0a",
   "metadata": {},
   "outputs": [],
   "source": [
    "MULTI_PROMPT_ROUTER_TEMPLATE = \"\"\"Given a raw text input to a \\\n",
    "language model select the model prompt best suited for the input. \\\n",
    "You will be given the names of the available prompts and a \\\n",
    "description of what the prompt is best suited for. \\\n",
    "You may also revise the original input if you think that revising\\\n",
    "it will ultimately lead to a better response from the language model.\n",
    "\n",
    "<< FORMATTING >>\n",
    "Return a markdown code snippet with a JSON object formatted to look like:\n",
    "```json\n",
    "{{{{\n",
    "    \"destination\": string \\ name of the prompt to use or \"DEFAULT\"\n",
    "    \"next_inputs\": string \\ a potentially modified version of the original input\n",
    "}}}}\n",
    "```\n",
    "\n",
    "REMEMBER: \"destination\" MUST be one of the candidate prompt \\\n",
    "names specified below OR it can be \"DEFAULT\" if the input is not\\\n",
    "well suited for any of the candidate prompts.\n",
    "REMEMBER: \"next_inputs\" can just be the original input \\\n",
    "if you don't think any modifications are needed.\n",
    "\n",
    "<< CANDIDATE PROMPTS >>\n",
    "{destinations}\n",
    "\n",
    "<< INPUT >>\n",
    "{{input}}\n",
    "\n",
    "<< OUTPUT (remember to wrap the output with ```json (output)```)>>\"\"\""
   ]
  },
  {
   "cell_type": "code",
   "execution_count": 45,
   "id": "a7575fa8-8cc2-4e5f-97ef-a67e12be7efd",
   "metadata": {},
   "outputs": [],
   "source": [
    "router_template = MULTI_PROMPT_ROUTER_TEMPLATE.format(\n",
    "    destinations=destinations_str\n",
    ")\n",
    "router_prompt = PromptTemplate(\n",
    "    template=router_template,\n",
    "    input_variables=[\"input\"],\n",
    "    output_parser=RouterOutputParser(),\n",
    ")\n",
    "\n",
    "router_chain = LLMRouterChain.from_llm(llm, router_prompt)"
   ]
  },
  {
   "cell_type": "code",
   "execution_count": 46,
   "id": "8de6fdc1-1b6d-4bbc-a044-f70f75c83b44",
   "metadata": {},
   "outputs": [
    {
     "name": "stderr",
     "output_type": "stream",
     "text": [
      "/tmp/ipykernel_58141/3038952769.py:1: LangChainDeprecationWarning: Please see migration guide here for recommended implementation: https://python.langchain.com/docs/versions/migrating_chains/multi_prompt_chain/\n",
      "  chain = MultiPromptChain(router_chain=router_chain,\n"
     ]
    }
   ],
   "source": [
    "chain = MultiPromptChain(router_chain=router_chain, \n",
    "                         destination_chains=destination_chains, \n",
    "                         default_chain=default_chain, verbose=True\n",
    "                        )"
   ]
  },
  {
   "cell_type": "code",
   "execution_count": 47,
   "id": "b18abb71-7e9f-4aa5-a67d-fe5967962646",
   "metadata": {},
   "outputs": [
    {
     "name": "stdout",
     "output_type": "stream",
     "text": [
      "\n",
      "\n",
      "\u001b[1m> Entering new MultiPromptChain chain...\u001b[0m\n",
      "physics: {'input': 'black body radiation'}\n",
      "\u001b[1m> Finished chain.\u001b[0m\n"
     ]
    },
    {
     "data": {
      "text/plain": [
       "'Black-body radiation! A fundamental concept in thermodynamics and statistical mechanics.\\n\\nIn simple terms, black-body radiation refers to the thermal radiation emitted by an object that absorbs all incident electromagnetic radiation. In other words, it\\'s the radiation emitted by an idealized \"perfect absorber\" of light.\\n\\nWhen a body is heated, its atoms or molecules gain kinetic energy and start vibrating more rapidly. As they vibrate, they emit photons, which are particles of light. The frequency (or color) of these photons depends on the temperature of the object. At higher temperatures, the object emits radiation with shorter wavelengths (e.g., ultraviolet, X-rays), while at lower temperatures, it emits longer-wavelength radiation (e.g., infrared).\\n\\nThe key characteristic of black-body radiation is that it\\'s a perfect absorber and emitter of electromagnetic radiation. This means that it absorbs all incident radiation without reflecting any of it, and it also emits radiation with a spectrum that depends only on its temperature.\\n\\nMax Planck was the first to describe black-body radiation using his famous equation, which relates the energy density of radiation to its frequency and temperature. Later, Albert Einstein built upon this work by introducing the concept of photons, which are now widely accepted as particles of light.\\n\\nWould you like me to elaborate on any specific aspect of black-body radiation?'"
      ]
     },
     "execution_count": 47,
     "metadata": {},
     "output_type": "execute_result"
    }
   ],
   "source": [
    "chain.run(\"What is black body radiation?\")"
   ]
  },
  {
   "cell_type": "code",
   "execution_count": 48,
   "id": "67f3fd35-6134-46e0-bb4b-bc1eafba246c",
   "metadata": {},
   "outputs": [
    {
     "name": "stdout",
     "output_type": "stream",
     "text": [
      "\n",
      "\n",
      "\u001b[1m> Entering new MultiPromptChain chain...\u001b[0m\n",
      "math: {'input': 'What is 2 + 2'}\n",
      "\u001b[1m> Finished chain.\u001b[0m\n"
     ]
    },
    {
     "data": {
      "text/plain": [
       "\"A simple yet fundamental question!\\n\\nTo break it down, I'll identify the two components of this problem:\\n\\n1. The first number: 2\\n2. The second number: 2\\n3. The operation to be performed: addition (+)\\n\\nNow, let's answer each component separately:\\n\\n1. The value of the first number is... 2!\\n2. The value of the second number is also... 2!\\n3. When you add two numbers together, you simply combine their values.\\n\\nPutting it all together...\\n\\n2 + 2 = ?\\n\\nSince both numbers are equal to 2, I can simply combine them:\\n\\n2 + 2 = 4\\n\\nTherefore, the answer is: 4!\""
      ]
     },
     "execution_count": 48,
     "metadata": {},
     "output_type": "execute_result"
    }
   ],
   "source": [
    "chain.run(\"What is 2+2\")"
   ]
  },
  {
   "cell_type": "code",
   "execution_count": 49,
   "id": "4a36cb1b-e7f5-4194-ae1c-9d5a91693d92",
   "metadata": {},
   "outputs": [
    {
     "name": "stdout",
     "output_type": "stream",
     "text": [
      "\n",
      "\n",
      "\u001b[1m> Entering new MultiPromptChain chain...\u001b[0m\n",
      "physics: {'input': 'What is the role of DNA in cellular biology?'}\n",
      "\u001b[1m> Finished chain.\u001b[0m\n"
     ]
    },
    {
     "data": {
      "text/plain": [
       "\"A question that's more biology than physics, but I'll do my best to provide an accurate and concise explanation!\\n\\nDNA (Deoxyribonucleic acid) plays a central role in cellular biology as the primary genetic material that contains the instructions for the development and function of all living organisms. Think of it like a blueprint or a set of instructions that are encoded on a molecule.\\n\\nHere's how it works: DNA is made up of four nucleotide bases - adenine (A), guanine (G), cytosine (C), and thymine (T) - which are arranged in a specific sequence to form genes. These genes contain the information needed for the cell to produce proteins, which perform various functions such as catalyzing chemical reactions, transporting molecules across cell membranes, and more.\\n\\nWhen a cell divides, its DNA is replicated so that each new cell receives a complete set of genetic instructions. This ensures that all cells in an organism have the same genetic makeup, allowing for the development of complex structures and functions.\\n\\nIn essence, DNA acts as a template for protein synthesis, which ultimately determines the characteristics and behavior of living organisms. While this explanation is simplified, it should give you a good idea of the fundamental role DNA plays in cellular biology!\""
      ]
     },
     "execution_count": 49,
     "metadata": {},
     "output_type": "execute_result"
    }
   ],
   "source": [
    "chain.run(\"Why does every cell in our body contain DNA?\")"
   ]
  }
 ],
 "metadata": {
  "kernelspec": {
   "display_name": "Python 3 (ipykernel)",
   "language": "python",
   "name": "python3"
  },
  "language_info": {
   "codemirror_mode": {
    "name": "ipython",
    "version": 3
   },
   "file_extension": ".py",
   "mimetype": "text/x-python",
   "name": "python",
   "nbconvert_exporter": "python",
   "pygments_lexer": "ipython3",
   "version": "3.12.3"
  }
 },
 "nbformat": 4,
 "nbformat_minor": 5
}
