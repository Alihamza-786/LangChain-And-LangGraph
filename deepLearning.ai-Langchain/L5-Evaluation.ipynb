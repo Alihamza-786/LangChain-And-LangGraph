{
 "cells": [
  {
   "cell_type": "markdown",
   "id": "5b3d3f37-baf7-4ede-bc88-261a8c0d0dbc",
   "metadata": {},
   "source": [
    "# LangChain: Evaluation\n",
    "## Outline:\n",
    "- Example generation\n",
    "- Manual evaluation (and debuging)\n",
    "- LLM-assisted evaluation"
   ]
  },
  {
   "cell_type": "code",
   "execution_count": 5,
   "id": "5d178aa0-bd93-45b5-9d91-320ee4af6a0b",
   "metadata": {},
   "outputs": [],
   "source": [
    "from langchain.chains import RetrievalQA\n",
    "from langchain_ollama import ChatOllama, OllamaEmbeddings\n",
    "from langchain.document_loaders import CSVLoader\n",
    "from langchain.vectorstores import DocArrayInMemorySearch\n",
    "from IPython.display import display, Markdown\n",
    "from langchain.indexes import VectorstoreIndexCreator"
   ]
  },
  {
   "cell_type": "code",
   "execution_count": 6,
   "id": "74184b95-49d0-446d-9246-61d34aea232d",
   "metadata": {},
   "outputs": [],
   "source": [
    "file = 'data/OutdoorClothingCatalog_1000.csv'\n",
    "loader = CSVLoader(file_path=file)\n",
    "embedding = OllamaEmbeddings(model=\"mxbai-embed-large:latest\")"
   ]
  },
  {
   "cell_type": "code",
   "execution_count": 7,
   "id": "c89fb1aa-71d3-434b-961b-6a86ee55655b",
   "metadata": {},
   "outputs": [],
   "source": [
    "index = VectorstoreIndexCreator(\n",
    "    embedding=embedding,\n",
    "    vectorstore_cls=DocArrayInMemorySearch\n",
    ").from_loaders([loader])"
   ]
  },
  {
   "cell_type": "code",
   "execution_count": 8,
   "id": "ba6980b1-4d06-4553-a0d1-d2663b605636",
   "metadata": {},
   "outputs": [],
   "source": [
    "llm = ChatOllama(model = \"llama3.1\",\n",
    "                temperature = 0)\n",
    "qa = RetrievalQA.from_chain_type(\n",
    "    llm=llm, \n",
    "    chain_type=\"stuff\", \n",
    "    retriever=index.vectorstore.as_retriever(), \n",
    "    verbose=True,\n",
    "    chain_type_kwargs = {\n",
    "        \"document_separator\": \"<<<<>>>>>\"\n",
    "    }\n",
    ")"
   ]
  },
  {
   "cell_type": "markdown",
   "id": "6c8f08e9-d43c-4abd-a3bc-dad6ccdbedb9",
   "metadata": {},
   "source": [
    "# Coming up with test datapoints"
   ]
  },
  {
   "cell_type": "code",
   "execution_count": 10,
   "id": "21af5797-87be-49a6-9ac5-d49999c22ba2",
   "metadata": {},
   "outputs": [
    {
     "data": {
      "text/plain": [
       "Document(metadata={'source': 'data/OutdoorClothingCatalog_1000.csv', 'row': 10}, page_content=\": 10\\nname: Cozy Comfort Pullover Set, Stripe\\ndescription: Perfect for lounging, this striped knit set lives up to its name. We used ultrasoft fabric and an easy design that's as comfortable at bedtime as it is when we have to make a quick run out.\\n\\nSize & Fit\\n- Pants are Favorite Fit: Sits lower on the waist.\\n- Relaxed Fit: Our most generous fit sits farthest from the body.\\n\\nFabric & Care\\n- In the softest blend of 63% polyester, 35% rayon and 2% spandex.\\n\\nAdditional Features\\n- Relaxed fit top with raglan sleeves and rounded hem.\\n- Pull-on pants have a wide elastic waistband and drawstring, side pockets and a modern slim leg.\\n\\nImported.\")"
      ]
     },
     "execution_count": 10,
     "metadata": {},
     "output_type": "execute_result"
    }
   ],
   "source": [
    "data = loader.load()\n",
    "data[10]"
   ]
  },
  {
   "cell_type": "code",
   "execution_count": 11,
   "id": "2998f03e-6ad8-4219-88f6-8ba71212303d",
   "metadata": {},
   "outputs": [
    {
     "data": {
      "text/plain": [
       "Document(metadata={'source': 'data/OutdoorClothingCatalog_1000.csv', 'row': 11}, page_content=': 11\\nname: Ultra-Lofty 850 Stretch Down Hooded Jacket\\ndescription: This technical stretch down jacket from our DownTek collection is sure to keep you warm and comfortable with its full-stretch construction providing exceptional range of motion. With a slightly fitted style that falls at the hip and best with a midweight layer, this jacket is suitable for light activity up to 20° and moderate activity up to -30°. The soft and durable 100% polyester shell offers complete windproof protection and is insulated with warm, lofty goose down. Other features include welded baffles for a no-stitch construction and excellent stretch, an adjustable hood, an interior media port and mesh stash pocket and a hem drawcord. Machine wash and dry. Imported.')"
      ]
     },
     "execution_count": 11,
     "metadata": {},
     "output_type": "execute_result"
    }
   ],
   "source": [
    "data[11]"
   ]
  },
  {
   "cell_type": "markdown",
   "id": "c2055ec8-acba-469f-bf68-6a59aeff4412",
   "metadata": {},
   "source": [
    "# Hard-coded examples"
   ]
  },
  {
   "cell_type": "code",
   "execution_count": 12,
   "id": "f559d6bc-0232-4c58-95e3-1f95147663ac",
   "metadata": {},
   "outputs": [],
   "source": [
    "examples = [\n",
    "    {\n",
    "        \"query\": \"Do the Cozy Comfort Pullover Set\\\n",
    "        have side pockets?\",\n",
    "        \"answer\": \"Yes\"\n",
    "    },\n",
    "    {\n",
    "        \"query\": \"What collection is the Ultra-Lofty \\\n",
    "        850 Stretch Down Hooded Jacket from?\",\n",
    "        \"answer\": \"The DownTek collection\"\n",
    "    }\n",
    "]"
   ]
  },
  {
   "cell_type": "markdown",
   "id": "8fab28f3-313d-457b-846e-fe2aa3be4dd6",
   "metadata": {},
   "source": [
    "# LLM-Generated examples"
   ]
  },
  {
   "cell_type": "code",
   "execution_count": 13,
   "id": "5e52c5d7-f838-4ce6-9619-9e9aa589d6ac",
   "metadata": {},
   "outputs": [],
   "source": [
    "from langchain.evaluation.qa import QAGenerateChain"
   ]
  },
  {
   "cell_type": "code",
   "execution_count": 14,
   "id": "8286fb4f-0455-4c46-9acf-862c181fb22a",
   "metadata": {},
   "outputs": [],
   "source": [
    "example_gen_chain = QAGenerateChain.from_llm(ChatOllama(model='llama3.1'))"
   ]
  },
  {
   "cell_type": "code",
   "execution_count": 15,
   "id": "3e941e6d-6d3a-4d02-917e-5b83d9f992df",
   "metadata": {},
   "outputs": [
    {
     "name": "stderr",
     "output_type": "stream",
     "text": [
      "/media/ali-hamza/74B82A3BB829FBEC1/AI/Langchain/langchainDeepLearning/venv/lib/python3.12/site-packages/langchain/chains/llm.py:370: UserWarning: The apply_and_parse method is deprecated, instead pass an output parser directly to LLMChain.\n",
      "  warnings.warn(\n"
     ]
    }
   ],
   "source": [
    "#Generate examples with llm like above\n",
    "new_examples = example_gen_chain.apply_and_parse(\n",
    "    [{\"doc\": t} for t in data[:5]]\n",
    ")"
   ]
  },
  {
   "cell_type": "code",
   "execution_count": 16,
   "id": "6ad691c3-d290-4ca7-89ed-032623fa85ef",
   "metadata": {},
   "outputs": [
    {
     "data": {
      "text/plain": [
       "{'qa_pairs': {'query': 'What is the recommended method for ordering shoes if you have a half size that is not offered?',\n",
       "  'answer': 'Order up to the next whole size.'}}"
      ]
     },
     "execution_count": 16,
     "metadata": {},
     "output_type": "execute_result"
    }
   ],
   "source": [
    "new_examples[0]"
   ]
  },
  {
   "cell_type": "code",
   "execution_count": 17,
   "id": "2bd159e7-32b5-485d-9523-4821823edaae",
   "metadata": {},
   "outputs": [
    {
     "data": {
      "text/plain": [
       "{'qa_pairs': {'query': 'Where is the Recycled Waterhog Dog Mat, Chevron Weave manufactured?',\n",
       "  'answer': 'Made in the USA.'}}"
      ]
     },
     "execution_count": 17,
     "metadata": {},
     "output_type": "execute_result"
    }
   ],
   "source": [
    "new_examples[1]"
   ]
  },
  {
   "cell_type": "code",
   "execution_count": 18,
   "id": "465b9e00-c2e3-4552-902d-834b3a345e59",
   "metadata": {},
   "outputs": [
    {
     "data": {
      "text/plain": [
       "{'qa_pairs': {'query': \"What type of fabric does this toddler's two-piece swimsuit have, which keeps its shape and resists snags?\",\n",
       "  'answer': 'Four-way-stretch and chlorine-resistant fabric.'}}"
      ]
     },
     "execution_count": 18,
     "metadata": {},
     "output_type": "execute_result"
    }
   ],
   "source": [
    "new_examples[2]"
   ]
  },
  {
   "cell_type": "code",
   "execution_count": 19,
   "id": "df7c8541-aa48-4bc3-b7e2-9ae04624a2e9",
   "metadata": {},
   "outputs": [
    {
     "data": {
      "text/plain": [
       "{'qa_pairs': {'query': 'What is the primary material used in the body of the swimtop, aside from Lycra spandex?',\n",
       "  'answer': 'Recycled nylon (82%)'}}"
      ]
     },
     "execution_count": 19,
     "metadata": {},
     "output_type": "execute_result"
    }
   ],
   "source": [
    "new_examples[3]"
   ]
  },
  {
   "cell_type": "code",
   "execution_count": 20,
   "id": "7ad308d4-cf9b-4a80-8abe-1627fa130ec4",
   "metadata": {},
   "outputs": [
    {
     "data": {
      "text/plain": [
       "{'qa_pairs': {'query': 'What percentage of nylon is used in the construction of the EcoFlex 3L Storm Pants, excluding trim?',\n",
       "  'answer': '100%'}}"
      ]
     },
     "execution_count": 20,
     "metadata": {},
     "output_type": "execute_result"
    }
   ],
   "source": [
    "new_examples[4]"
   ]
  },
  {
   "cell_type": "code",
   "execution_count": 21,
   "id": "ae313e72-0ab4-4b7d-be7b-08c4f6908d3c",
   "metadata": {},
   "outputs": [
    {
     "data": {
      "text/plain": [
       "Document(metadata={'source': 'data/OutdoorClothingCatalog_1000.csv', 'row': 0}, page_content=\": 0\\nname: Women's Campside Oxfords\\ndescription: This ultracomfortable lace-to-toe Oxford boasts a super-soft canvas, thick cushioning, and quality construction for a broken-in feel from the first time you put them on. \\n\\nSize & Fit: Order regular shoe size. For half sizes not offered, order up to next whole size. \\n\\nSpecs: Approx. weight: 1 lb.1 oz. per pair. \\n\\nConstruction: Soft canvas material for a broken-in feel and look. Comfortable EVA innersole with Cleansport NXT® antimicrobial odor control. Vintage hunt, fish and camping motif on innersole. Moderate arch contour of innersole. EVA foam midsole for cushioning and support. Chain-tread-inspired molded rubber outsole with modified chain-tread pattern. Imported. \\n\\nQuestions? Please contact us for any inquiries.\")"
      ]
     },
     "execution_count": 21,
     "metadata": {},
     "output_type": "execute_result"
    }
   ],
   "source": [
    "data[0]"
   ]
  },
  {
   "cell_type": "code",
   "execution_count": 22,
   "id": "75edbc06-21f4-4e91-92d8-70f820a1d8ed",
   "metadata": {},
   "outputs": [
    {
     "data": {
      "text/plain": [
       "Document(metadata={'source': 'data/OutdoorClothingCatalog_1000.csv', 'row': 0}, page_content=\": 0\\nname: Women's Campside Oxfords\\ndescription: This ultracomfortable lace-to-toe Oxford boasts a super-soft canvas, thick cushioning, and quality construction for a broken-in feel from the first time you put them on. \\n\\nSize & Fit: Order regular shoe size. For half sizes not offered, order up to next whole size. \\n\\nSpecs: Approx. weight: 1 lb.1 oz. per pair. \\n\\nConstruction: Soft canvas material for a broken-in feel and look. Comfortable EVA innersole with Cleansport NXT® antimicrobial odor control. Vintage hunt, fish and camping motif on innersole. Moderate arch contour of innersole. EVA foam midsole for cushioning and support. Chain-tread-inspired molded rubber outsole with modified chain-tread pattern. Imported. \\n\\nQuestions? Please contact us for any inquiries.\")"
      ]
     },
     "execution_count": 22,
     "metadata": {},
     "output_type": "execute_result"
    }
   ],
   "source": [
    "data[0]"
   ]
  },
  {
   "cell_type": "code",
   "execution_count": 23,
   "id": "a6d291e1-30da-4f6a-b32b-ffc183b6e630",
   "metadata": {},
   "outputs": [],
   "source": [
    "examples += new_examples"
   ]
  },
  {
   "cell_type": "code",
   "execution_count": 24,
   "id": "50846ecb-9fa3-4c2e-a85d-a54db76c05f1",
   "metadata": {},
   "outputs": [
    {
     "name": "stderr",
     "output_type": "stream",
     "text": [
      "/tmp/ipykernel_14129/1223946598.py:1: LangChainDeprecationWarning: The method `Chain.run` was deprecated in langchain 0.1.0 and will be removed in 1.0. Use :meth:`~invoke` instead.\n",
      "  qa.run(examples[0][\"query\"])\n"
     ]
    },
    {
     "name": "stdout",
     "output_type": "stream",
     "text": [
      "\n",
      "\n",
      "\u001b[1m> Entering new RetrievalQA chain...\u001b[0m\n",
      "\n",
      "\u001b[1m> Finished chain.\u001b[0m\n"
     ]
    },
    {
     "data": {
      "text/plain": [
       "'Yes, the Cozy Comfort Pullover Set has side pockets in the pull-on pants.'"
      ]
     },
     "execution_count": 24,
     "metadata": {},
     "output_type": "execute_result"
    }
   ],
   "source": [
    "qa.run(examples[0][\"query\"])"
   ]
  },
  {
   "cell_type": "markdown",
   "id": "7470f2a3-e355-4adb-a6c5-864bef16f984",
   "metadata": {},
   "source": [
    "# For further analysis we enable debuge"
   ]
  },
  {
   "cell_type": "code",
   "execution_count": 25,
   "id": "486a7702-ec7c-4421-b40f-0d67a2fb3d21",
   "metadata": {},
   "outputs": [],
   "source": [
    "import langchain\n",
    "langchain.debug = True"
   ]
  },
  {
   "cell_type": "code",
   "execution_count": 27,
   "id": "318cbaba-67aa-4c79-9821-742b156aca65",
   "metadata": {},
   "outputs": [
    {
     "name": "stdout",
     "output_type": "stream",
     "text": [
      "\u001b[32;1m\u001b[1;3m[chain/start]\u001b[0m \u001b[1m[chain:RetrievalQA] Entering Chain run with input:\n",
      "\u001b[0m{\n",
      "  \"query\": \"Do the Cozy Comfort Pullover Set        have side pockets?\"\n",
      "}\n",
      "\u001b[32;1m\u001b[1;3m[chain/start]\u001b[0m \u001b[1m[chain:RetrievalQA > chain:StuffDocumentsChain] Entering Chain run with input:\n",
      "\u001b[0m[inputs]\n",
      "\u001b[32;1m\u001b[1;3m[chain/start]\u001b[0m \u001b[1m[chain:RetrievalQA > chain:StuffDocumentsChain > chain:LLMChain] Entering Chain run with input:\n",
      "\u001b[0m{\n",
      "  \"question\": \"Do the Cozy Comfort Pullover Set        have side pockets?\",\n",
      "  \"context\": \": 10\\nname: Cozy Comfort Pullover Set, Stripe\\ndescription: Perfect for lounging, this striped knit set lives up to its name. We used ultrasoft fabric and an easy design that's as comfortable at bedtime as it is when we have to make a quick run out.\\n\\nSize & Fit\\n- Pants are Favorite Fit: Sits lower on the waist.\\n- Relaxed Fit: Our most generous fit sits farthest from the body.\\n\\nFabric & Care\\n- In the softest blend of 63% polyester, 35% rayon and 2% spandex.\\n\\nAdditional Features\\n- Relaxed fit top with raglan sleeves and rounded hem.\\n- Pull-on pants have a wide elastic waistband and drawstring, side pockets and a modern slim leg.\\n\\nImported.<<<<>>>>>: 73\\nname: Cozy Cuddles Knit Pullover Set\\ndescription: Perfect for lounging, this knit set lives up to its name. We used ultrasoft fabric and an easy design that's as comfortable at bedtime as it is when we have to make a quick run out. \\n\\nSize & Fit \\nPants are Favorite Fit: Sits lower on the waist. \\nRelaxed Fit: Our most generous fit sits farthest from the body. \\n\\nFabric & Care \\nIn the softest blend of 63% polyester, 35% rayon and 2% spandex.\\n\\nAdditional Features \\nRelaxed fit top with raglan sleeves and rounded hem. \\nPull-on pants have a wide elastic waistband and drawstring, side pockets and a modern slim leg. \\nImported.<<<<>>>>>: 151\\nname: Cozy Quilted Sweatshirt\\ndescription: Our sweatshirt is an instant classic with its great quilted texture and versatile weight that easily transitions between seasons. With a traditional fit that is relaxed through the chest, sleeve, and waist, this pullover is lightweight enough to be worn most months of the year. The cotton blend fabric is super soft and comfortable, making it the perfect casual layer. To make dressing easy, this sweatshirt also features a snap placket and a heritage-inspired Mt. Katahdin logo patch. For care, machine wash and dry. Imported.<<<<>>>>>: 854\\nname: Urban Striped Quarter-Zip Terry Pullover\\ndescription: Our all-cotton french terry quarter-zip is designed with appealing texture, a versatile season-spanning weight and nautical-inspired stripes. Size & Fit: Slim Fit - cut slim through the chest, sleeve and waist. Why We Love It: We've turned the typical sweatshirt inside out. Our pullover features the reverse side of our french terry fabric on the outside for outstanding texture, while the inside is nice and smooth. It has the undeniable comfort of cotton, with a neater look than most sweatshirts and a modern, slimmer fit. Our striped pullover is the perfect weekend layer, especially between seasons - and we love the side pockets! Fabric & Care: 100% cotton in a French terry knit. Machine wash and dry. Additional Features: Sturdy metal zipper adds to its rugged appeal. On-seam side pockets. Ribbed cuffs keep their shape. Side vents at hem. Imported.\"\n",
      "}\n",
      "\u001b[32;1m\u001b[1;3m[llm/start]\u001b[0m \u001b[1m[chain:RetrievalQA > chain:StuffDocumentsChain > chain:LLMChain > llm:ChatOllama] Entering LLM run with input:\n",
      "\u001b[0m{\n",
      "  \"prompts\": [\n",
      "    \"System: Use the following pieces of context to answer the user's question. \\nIf you don't know the answer, just say that you don't know, don't try to make up an answer.\\n----------------\\n: 10\\nname: Cozy Comfort Pullover Set, Stripe\\ndescription: Perfect for lounging, this striped knit set lives up to its name. We used ultrasoft fabric and an easy design that's as comfortable at bedtime as it is when we have to make a quick run out.\\n\\nSize & Fit\\n- Pants are Favorite Fit: Sits lower on the waist.\\n- Relaxed Fit: Our most generous fit sits farthest from the body.\\n\\nFabric & Care\\n- In the softest blend of 63% polyester, 35% rayon and 2% spandex.\\n\\nAdditional Features\\n- Relaxed fit top with raglan sleeves and rounded hem.\\n- Pull-on pants have a wide elastic waistband and drawstring, side pockets and a modern slim leg.\\n\\nImported.<<<<>>>>>: 73\\nname: Cozy Cuddles Knit Pullover Set\\ndescription: Perfect for lounging, this knit set lives up to its name. We used ultrasoft fabric and an easy design that's as comfortable at bedtime as it is when we have to make a quick run out. \\n\\nSize & Fit \\nPants are Favorite Fit: Sits lower on the waist. \\nRelaxed Fit: Our most generous fit sits farthest from the body. \\n\\nFabric & Care \\nIn the softest blend of 63% polyester, 35% rayon and 2% spandex.\\n\\nAdditional Features \\nRelaxed fit top with raglan sleeves and rounded hem. \\nPull-on pants have a wide elastic waistband and drawstring, side pockets and a modern slim leg. \\nImported.<<<<>>>>>: 151\\nname: Cozy Quilted Sweatshirt\\ndescription: Our sweatshirt is an instant classic with its great quilted texture and versatile weight that easily transitions between seasons. With a traditional fit that is relaxed through the chest, sleeve, and waist, this pullover is lightweight enough to be worn most months of the year. The cotton blend fabric is super soft and comfortable, making it the perfect casual layer. To make dressing easy, this sweatshirt also features a snap placket and a heritage-inspired Mt. Katahdin logo patch. For care, machine wash and dry. Imported.<<<<>>>>>: 854\\nname: Urban Striped Quarter-Zip Terry Pullover\\ndescription: Our all-cotton french terry quarter-zip is designed with appealing texture, a versatile season-spanning weight and nautical-inspired stripes. Size & Fit: Slim Fit - cut slim through the chest, sleeve and waist. Why We Love It: We've turned the typical sweatshirt inside out. Our pullover features the reverse side of our french terry fabric on the outside for outstanding texture, while the inside is nice and smooth. It has the undeniable comfort of cotton, with a neater look than most sweatshirts and a modern, slimmer fit. Our striped pullover is the perfect weekend layer, especially between seasons - and we love the side pockets! Fabric & Care: 100% cotton in a French terry knit. Machine wash and dry. Additional Features: Sturdy metal zipper adds to its rugged appeal. On-seam side pockets. Ribbed cuffs keep their shape. Side vents at hem. Imported.\\nHuman: Do the Cozy Comfort Pullover Set        have side pockets?\"\n",
      "  ]\n",
      "}\n",
      "\u001b[36;1m\u001b[1;3m[llm/end]\u001b[0m \u001b[1m[chain:RetrievalQA > chain:StuffDocumentsChain > chain:LLMChain > llm:ChatOllama] [11.76s] Exiting LLM run with output:\n",
      "\u001b[0m{\n",
      "  \"generations\": [\n",
      "    [\n",
      "      {\n",
      "        \"generation_info\": {\n",
      "          \"model\": \"llama3.1\",\n",
      "          \"created_at\": \"2025-06-04T06:46:52.215211033Z\",\n",
      "          \"done\": true,\n",
      "          \"done_reason\": \"stop\",\n",
      "          \"total_duration\": 11758987695,\n",
      "          \"load_duration\": 6806826729,\n",
      "          \"prompt_eval_count\": 731,\n",
      "          \"prompt_eval_duration\": 1984868548,\n",
      "          \"eval_count\": 19,\n",
      "          \"eval_duration\": 2965612149,\n",
      "          \"model_name\": \"llama3.1\"\n",
      "        },\n",
      "        \"type\": \"ChatGeneration\",\n",
      "        \"message\": {\n",
      "          \"lc\": 1,\n",
      "          \"type\": \"constructor\",\n",
      "          \"id\": [\n",
      "            \"langchain\",\n",
      "            \"schema\",\n",
      "            \"messages\",\n",
      "            \"AIMessage\"\n",
      "          ],\n",
      "          \"kwargs\": {\n",
      "            \"content\": \"Yes, the Cozy Comfort Pullover Set has side pockets in the pull-on pants.\",\n",
      "            \"response_metadata\": {\n",
      "              \"model\": \"llama3.1\",\n",
      "              \"created_at\": \"2025-06-04T06:46:52.215211033Z\",\n",
      "              \"done\": true,\n",
      "              \"done_reason\": \"stop\",\n",
      "              \"total_duration\": 11758987695,\n",
      "              \"load_duration\": 6806826729,\n",
      "              \"prompt_eval_count\": 731,\n",
      "              \"prompt_eval_duration\": 1984868548,\n",
      "              \"eval_count\": 19,\n",
      "              \"eval_duration\": 2965612149,\n",
      "              \"model_name\": \"llama3.1\"\n",
      "            },\n",
      "            \"type\": \"ai\",\n",
      "            \"id\": \"run--2b93618f-a53c-49d6-9f6c-4fe7e1772534-0\",\n",
      "            \"usage_metadata\": {\n",
      "              \"input_tokens\": 731,\n",
      "              \"output_tokens\": 19,\n",
      "              \"total_tokens\": 750\n",
      "            },\n",
      "            \"tool_calls\": [],\n",
      "            \"invalid_tool_calls\": []\n",
      "          }\n",
      "        },\n",
      "        \"text\": \"Yes, the Cozy Comfort Pullover Set has side pockets in the pull-on pants.\"\n",
      "      }\n",
      "    ]\n",
      "  ],\n",
      "  \"llm_output\": null,\n",
      "  \"run\": null,\n",
      "  \"type\": \"LLMResult\"\n",
      "}\n",
      "\u001b[36;1m\u001b[1;3m[chain/end]\u001b[0m \u001b[1m[chain:RetrievalQA > chain:StuffDocumentsChain > chain:LLMChain] [11.76s] Exiting Chain run with output:\n",
      "\u001b[0m{\n",
      "  \"text\": \"Yes, the Cozy Comfort Pullover Set has side pockets in the pull-on pants.\"\n",
      "}\n",
      "\u001b[36;1m\u001b[1;3m[chain/end]\u001b[0m \u001b[1m[chain:RetrievalQA > chain:StuffDocumentsChain] [11.76s] Exiting Chain run with output:\n",
      "\u001b[0m{\n",
      "  \"output_text\": \"Yes, the Cozy Comfort Pullover Set has side pockets in the pull-on pants.\"\n",
      "}\n",
      "\u001b[36;1m\u001b[1;3m[chain/end]\u001b[0m \u001b[1m[chain:RetrievalQA] [13.04s] Exiting Chain run with output:\n",
      "\u001b[0m{\n",
      "  \"result\": \"Yes, the Cozy Comfort Pullover Set has side pockets in the pull-on pants.\"\n",
      "}\n"
     ]
    },
    {
     "data": {
      "text/plain": [
       "'Yes, the Cozy Comfort Pullover Set has side pockets in the pull-on pants.'"
      ]
     },
     "execution_count": 27,
     "metadata": {},
     "output_type": "execute_result"
    }
   ],
   "source": [
    "qa.run(examples[0][\"query\"])"
   ]
  },
  {
   "cell_type": "markdown",
   "id": "8e0157f3-1691-4f39-83f4-d6d85efff795",
   "metadata": {},
   "source": [
    "# Lets check this will all examples with LLM"
   ]
  },
  {
   "cell_type": "code",
   "execution_count": 35,
   "id": "d07f2519-a838-4b52-ab93-0976586446cd",
   "metadata": {},
   "outputs": [],
   "source": [
    "langchain.debug = False"
   ]
  },
  {
   "cell_type": "code",
   "execution_count": 37,
   "id": "f84eb12b-982b-4a31-ac6c-8da6a95e2c76",
   "metadata": {},
   "outputs": [
    {
     "name": "stdout",
     "output_type": "stream",
     "text": [
      "{'query': 'Do the Cozy Comfort Pullover Set        have side pockets?', 'answer': 'Yes'}\n",
      "{'query': 'What collection is the Ultra-Lofty         850 Stretch Down Hooded Jacket from?', 'answer': 'The DownTek collection'}\n",
      "{'qa_pairs': {'query': 'What is the recommended method for ordering shoes if you have a half size that is not offered?', 'answer': 'Order up to the next whole size.'}}\n",
      "{'qa_pairs': {'query': 'Where is the Recycled Waterhog Dog Mat, Chevron Weave manufactured?', 'answer': 'Made in the USA.'}}\n",
      "{'qa_pairs': {'query': \"What type of fabric does this toddler's two-piece swimsuit have, which keeps its shape and resists snags?\", 'answer': 'Four-way-stretch and chlorine-resistant fabric.'}}\n",
      "{'qa_pairs': {'query': 'What is the primary material used in the body of the swimtop, aside from Lycra spandex?', 'answer': 'Recycled nylon (82%)'}}\n",
      "{'qa_pairs': {'query': 'What percentage of nylon is used in the construction of the EcoFlex 3L Storm Pants, excluding trim?', 'answer': '100%'}}\n"
     ]
    }
   ],
   "source": [
    "for e in examples:\n",
    "    print(e)\n"
   ]
  },
  {
   "cell_type": "code",
   "execution_count": 46,
   "id": "a26daf17-ddc7-4c0a-8a17-b1c94d8dddfa",
   "metadata": {},
   "outputs": [],
   "source": [
    "flattened_examples = []\n",
    "\n",
    "for item in examples:\n",
    "    if 'query' in item:\n",
    "        flattened_examples.append({'query': item['query'], 'answer': item.get('answer', '')})\n",
    "    elif 'qa_pairs' in item and 'query' in item['qa_pairs']:\n",
    "        flattened_examples.append({'query': item['qa_pairs']['query'], 'answer': item['qa_pairs'].get('answer', '')})"
   ]
  },
  {
   "cell_type": "code",
   "execution_count": 48,
   "id": "cd5756de-4de4-4c61-824e-971cff11a119",
   "metadata": {},
   "outputs": [
    {
     "name": "stdout",
     "output_type": "stream",
     "text": [
      "{'query': 'Do the Cozy Comfort Pullover Set        have side pockets?', 'answer': 'Yes'}\n",
      "{'query': 'What collection is the Ultra-Lofty         850 Stretch Down Hooded Jacket from?', 'answer': 'The DownTek collection'}\n",
      "{'query': 'What is the recommended method for ordering shoes if you have a half size that is not offered?', 'answer': 'Order up to the next whole size.'}\n",
      "{'query': 'Where is the Recycled Waterhog Dog Mat, Chevron Weave manufactured?', 'answer': 'Made in the USA.'}\n",
      "{'query': \"What type of fabric does this toddler's two-piece swimsuit have, which keeps its shape and resists snags?\", 'answer': 'Four-way-stretch and chlorine-resistant fabric.'}\n",
      "{'query': 'What is the primary material used in the body of the swimtop, aside from Lycra spandex?', 'answer': 'Recycled nylon (82%)'}\n",
      "{'query': 'What percentage of nylon is used in the construction of the EcoFlex 3L Storm Pants, excluding trim?', 'answer': '100%'}\n"
     ]
    }
   ],
   "source": [
    "for e in flattened_examples:\n",
    "    print(e)"
   ]
  },
  {
   "cell_type": "code",
   "execution_count": 49,
   "id": "752640d8-9709-497c-ae03-64966343db42",
   "metadata": {},
   "outputs": [
    {
     "name": "stdout",
     "output_type": "stream",
     "text": [
      "\n",
      "\n",
      "\u001b[1m> Entering new RetrievalQA chain...\u001b[0m\n",
      "\n",
      "\u001b[1m> Finished chain.\u001b[0m\n",
      "\n",
      "\n",
      "\u001b[1m> Entering new RetrievalQA chain...\u001b[0m\n",
      "\n",
      "\u001b[1m> Finished chain.\u001b[0m\n",
      "\n",
      "\n",
      "\u001b[1m> Entering new RetrievalQA chain...\u001b[0m\n",
      "\n",
      "\u001b[1m> Finished chain.\u001b[0m\n",
      "\n",
      "\n",
      "\u001b[1m> Entering new RetrievalQA chain...\u001b[0m\n",
      "\n",
      "\u001b[1m> Finished chain.\u001b[0m\n",
      "\n",
      "\n",
      "\u001b[1m> Entering new RetrievalQA chain...\u001b[0m\n",
      "\n",
      "\u001b[1m> Finished chain.\u001b[0m\n",
      "\n",
      "\n",
      "\u001b[1m> Entering new RetrievalQA chain...\u001b[0m\n",
      "\n",
      "\u001b[1m> Finished chain.\u001b[0m\n",
      "\n",
      "\n",
      "\u001b[1m> Entering new RetrievalQA chain...\u001b[0m\n",
      "\n",
      "\u001b[1m> Finished chain.\u001b[0m\n"
     ]
    }
   ],
   "source": [
    "predictions = qa.apply(flattened_examples)"
   ]
  },
  {
   "cell_type": "code",
   "execution_count": 50,
   "id": "477c765d-b1f2-4c9b-b010-56a01afd622b",
   "metadata": {},
   "outputs": [],
   "source": [
    "from langchain.evaluation.qa import QAEvalChain"
   ]
  },
  {
   "cell_type": "code",
   "execution_count": 51,
   "id": "6637aa2b-f8b8-4ebc-8057-132db034e17f",
   "metadata": {},
   "outputs": [],
   "source": [
    "llm = ChatOllama(temperature=0, model = \"llama3.1\")\n",
    "eval_chain = QAEvalChain.from_llm(llm)"
   ]
  },
  {
   "cell_type": "code",
   "execution_count": 52,
   "id": "c80115c9-3b4d-4c0c-953e-0f342ff2f4cf",
   "metadata": {},
   "outputs": [],
   "source": [
    "graded_outputs = eval_chain.evaluate(flattened_examples, predictions)\n"
   ]
  },
  {
   "cell_type": "code",
   "execution_count": 55,
   "id": "f03a079d-a7ef-448d-b9e8-0b68208b77b0",
   "metadata": {},
   "outputs": [
    {
     "name": "stdout",
     "output_type": "stream",
     "text": [
      "[{'results': 'GRADE: CORRECT'}, {'results': 'GRADE: CORRECT'}, {'results': 'GRADE: INCORRECT'}, {'results': 'GRADE: CORRECT'}, {'results': 'GRADE: CORRECT'}, {'results': 'GRADE: CORRECT'}, {'results': 'GRADE: CORRECT'}]\n"
     ]
    }
   ],
   "source": [
    "print(graded_outputs)"
   ]
  },
  {
   "cell_type": "code",
   "execution_count": 58,
   "id": "6b55b829-d5bc-458d-b179-a61324b8552a",
   "metadata": {},
   "outputs": [
    {
     "name": "stdout",
     "output_type": "stream",
     "text": [
      "Examples (0):\n",
      "Question: Do the Cozy Comfort Pullover Set        have side pockets?\n",
      "Real Answer: Yes\n",
      "Predicted Answer: Yes, the Cozy Comfort Pullover Set has side pockets in the pull-on pants.\n",
      "Predicted Grade: GRADE: CORRECT\n",
      "\n",
      "Examples (1):\n",
      "Question: What collection is the Ultra-Lofty         850 Stretch Down Hooded Jacket from?\n",
      "Real Answer: The DownTek collection\n",
      "Predicted Answer: The Ultra-Lofty 850 Stretch Down Hooded Jacket is from our DownTek collection.\n",
      "Predicted Grade: GRADE: CORRECT\n",
      "\n",
      "Examples (2):\n",
      "Question: What is the recommended method for ordering shoes if you have a half size that is not offered?\n",
      "Real Answer: Order up to the next whole size.\n",
      "Predicted Answer: According to the context, for the Men's Leather Lace-Ups by L.L.Bean, it is recommended to \"order 1½ sizes down\" when ordering half sizes. This is stated in the Size & Fit section of the description.\n",
      "\n",
      "However, I don't see this information provided for the Women's Katahdin Hiking Sneakers, Nubuck Mesh.\n",
      "Predicted Grade: GRADE: INCORRECT\n",
      "\n",
      "Examples (3):\n",
      "Question: Where is the Recycled Waterhog Dog Mat, Chevron Weave manufactured?\n",
      "Real Answer: Made in the USA.\n",
      "Predicted Answer: The Recycled Waterhog Dog Mat, Chevron Weave is made in the USA.\n",
      "Predicted Grade: GRADE: CORRECT\n",
      "\n",
      "Examples (4):\n",
      "Question: What type of fabric does this toddler's two-piece swimsuit have, which keeps its shape and resists snags?\n",
      "Real Answer: Four-way-stretch and chlorine-resistant fabric.\n",
      "Predicted Answer: The toddler's two-piece swimsuit has a four-way-stretch and chlorine-resistant fabric that keeps its shape and resists snags.\n",
      "Predicted Grade: GRADE: CORRECT\n",
      "\n",
      "Examples (5):\n",
      "Question: What is the primary material used in the body of the swimtop, aside from Lycra spandex?\n",
      "Real Answer: Recycled nylon (82%)\n",
      "Predicted Answer: According to the descriptions:\n",
      "\n",
      "* For ReVamp Swimwear, V-Neck Bikini Top Print: The body is made with 82% recycled nylon.\n",
      "* For SplashSport Watercolor Tankini Top: The fabric is an 80% nylon blend.\n",
      "* For Refresh Swimwear, V-Neck Tankini Contrasts: The body is made with 82% recycled nylon.\n",
      "* For AquaFlex® Swimwear, Tanksuit: The primary material used in the body of the swimtop (aside from Lycra spandex) is 80% nylon.\n",
      "\n",
      "So, aside from Lycra spandex, the primary material used in the body of the swimtop varies between 80% nylon and 82% recycled nylon.\n",
      "Predicted Grade: GRADE: CORRECT\n",
      "\n",
      "Examples (6):\n",
      "Question: What percentage of nylon is used in the construction of the EcoFlex 3L Storm Pants, excluding trim?\n",
      "Real Answer: 100%\n",
      "Predicted Answer: 100%\n",
      "Predicted Grade: GRADE: CORRECT\n",
      "\n"
     ]
    }
   ],
   "source": [
    "for i, eg in enumerate(flattened_examples):\n",
    "    print(f\"Examples ({i}):\")\n",
    "    print(f\"Question: \" + predictions[i]['query'])\n",
    "    print(f\"Real Answer: \" + predictions[i]['answer'])\n",
    "    print(f\"Predicted Answer: \" + predictions[i]['result'])\n",
    "    print(f\"Predicted Grade: \" + graded_outputs[i]['results'])\n",
    "    print()"
   ]
  }
 ],
 "metadata": {
  "kernelspec": {
   "display_name": "Python 3 (ipykernel)",
   "language": "python",
   "name": "python3"
  },
  "language_info": {
   "codemirror_mode": {
    "name": "ipython",
    "version": 3
   },
   "file_extension": ".py",
   "mimetype": "text/x-python",
   "name": "python",
   "nbconvert_exporter": "python",
   "pygments_lexer": "ipython3",
   "version": "3.12.3"
  }
 },
 "nbformat": 4,
 "nbformat_minor": 5
}
